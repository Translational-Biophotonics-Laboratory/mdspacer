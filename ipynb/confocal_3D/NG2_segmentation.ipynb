{
 "cells": [
  {
   "cell_type": "code",
   "execution_count": 1,
   "metadata": {},
   "outputs": [
    {
     "name": "stdout",
     "output_type": "stream",
     "text": [
      "Using OpenCL device NVIDIA RTX A5000\n"
     ]
    }
   ],
   "source": [
    "%matplotlib inline\n",
    "\n",
    "import matplotlib\n",
    "import matplotlib.pyplot as plt\n",
    "import pyclesperanto_prototype as cle\n",
    "cle.select_device('RTX')\n",
    "print(\"Using OpenCL device \" + cle.get_device().name)\n",
    "\n",
    "from scipy import ndimage as ndi\n",
    "import napari\n",
    "import numpy as np\n",
    "import cv2\n",
    "import tifffile\n",
    "\n",
    "from oiffile import OifFile\n",
    "from confocal_3D.OifImageViewer import OifImageViewer"
   ]
  },
  {
   "cell_type": "code",
   "execution_count": null,
   "metadata": {},
   "outputs": [],
   "source": [
    "path = \"/home/dkermany/data/Bone_Project/oibs/FV10__20190620_111343.oib\"\n",
    "\n",
    "with OifFile(path) as oif:\n",
    "    viewer = OifImageViewer(oif)"
   ]
  },
  {
   "cell_type": "code",
   "execution_count": null,
   "metadata": {},
   "outputs": [],
   "source": [
    "original_image = cle.push(viewer._arr[1])\n",
    "\n",
    "plt.figure(figsize=(15,10))\n",
    "cle.imshow(original_image[40])"
   ]
  },
  {
   "cell_type": "code",
   "execution_count": null,
   "metadata": {},
   "outputs": [],
   "source": [
    "img_gaussian = cle.gaussian_blur(original_image, sigma_x=2, sigma_y=2, sigma_z=2)\n",
    "plt.figure(figsize=(15,10))\n",
    "cle.imshow(img_gaussian[40])"
   ]
  },
  {
   "cell_type": "code",
   "execution_count": null,
   "metadata": {},
   "outputs": [],
   "source": []
  },
  {
   "cell_type": "code",
   "execution_count": null,
   "metadata": {},
   "outputs": [],
   "source": [
    "backgrund_subtracted = cle.top_hat_box(img_gaussian, radius_x=10, radius_y=10, radius_z=5)\n",
    "\n",
    "plt.figure(figsize=(15,10))\n",
    "cle.imshow(backgrund_subtracted[40])"
   ]
  },
  {
   "cell_type": "code",
   "execution_count": null,
   "metadata": {},
   "outputs": [],
   "source": [
    "# thicker_membranes = cle.maximum_sphere(backgrund_subtracted, radius_x=3, radius_y=3, radius_z=3)\n",
    "\n",
    "# plt.figure(figsize=(15,10))\n",
    "# cle.imshow(thicker_membranes[40])"
   ]
  },
  {
   "cell_type": "code",
   "execution_count": null,
   "metadata": {},
   "outputs": [],
   "source": [
    "# thresh1 = cle.threshold_otsu(thicker_membranes)\n",
    "\n",
    "# plt.figure(figsize=(15,10))\n",
    "# cle.imshow(thresh1[40])"
   ]
  },
  {
   "cell_type": "code",
   "execution_count": null,
   "metadata": {},
   "outputs": [],
   "source": [
    "thresh2 = cle.threshold_otsu(backgrund_subtracted)\n",
    "\n",
    "plt.figure(figsize=(15,10))\n",
    "cle.imshow(thresh2[40])"
   ]
  },
  {
   "cell_type": "code",
   "execution_count": null,
   "metadata": {},
   "outputs": [],
   "source": [
    "# Morphological openning\n",
    "kernel = np.ones((5,5), np.uint8)\n",
    "erosion = cle.erode_box(thresh2)\n",
    "dilation = cle.dilate_box(erosion)\n",
    "\n",
    "plt.figure(figsize=(15,10))\n",
    "cle.imshow(dilation[40])"
   ]
  },
  {
   "cell_type": "code",
   "execution_count": null,
   "metadata": {},
   "outputs": [],
   "source": [
    "\n",
    "dilation.shape"
   ]
  },
  {
   "cell_type": "code",
   "execution_count": null,
   "metadata": {},
   "outputs": [],
   "source": []
  },
  {
   "cell_type": "code",
   "execution_count": null,
   "metadata": {},
   "outputs": [],
   "source": []
  },
  {
   "cell_type": "code",
   "execution_count": null,
   "metadata": {},
   "outputs": [],
   "source": []
  },
  {
   "cell_type": "code",
   "execution_count": null,
   "metadata": {},
   "outputs": [],
   "source": [
    "del erosion, backgrund_subtracted, img_gaussian, original_image"
   ]
  },
  {
   "cell_type": "code",
   "execution_count": null,
   "metadata": {
    "scrolled": false
   },
   "outputs": [],
   "source": [
    "labels = cle.connected_components_labeling_box(dilation)\n",
    "print(labels.shape)\n",
    "plt.figure(figsize=(15,10))\n",
    "cle.imshow(labels[40], labels=True)\n"
   ]
  },
  {
   "cell_type": "code",
   "execution_count": null,
   "metadata": {},
   "outputs": [],
   "source": [
    "cle.statistics_of_background_and_labelled_pixels(dilation, labels)"
   ]
  },
  {
   "cell_type": "code",
   "execution_count": null,
   "metadata": {
    "scrolled": false
   },
   "outputs": [],
   "source": [
    "labels = cle.erode_labels(labels, relabel_islands=True)\n",
    "labels = cle.erode_labels(labels, relabel_islands=True)\n",
    "plt.figure(figsize=(15,10))\n",
    "cle.imshow(labels[40], labels=True)"
   ]
  },
  {
   "cell_type": "code",
   "execution_count": null,
   "metadata": {},
   "outputs": [],
   "source": [
    "dil3d = cle.dilate_labels(labels)\n",
    "plt.figure(figsize=(15,10))\n",
    "cle.imshow(dil3d[40], labels=True)"
   ]
  },
  {
   "cell_type": "code",
   "execution_count": null,
   "metadata": {
    "scrolled": false
   },
   "outputs": [],
   "source": [
    "del dilation, labels\n",
    "smalls_filtered_out = cle.exclude_labels_outside_size_range(dil3d, None, 240, 6580)\n",
    "plt.figure(figsize=(15,10))\n",
    "cle.imshow(smalls_filtered_out[40], labels=True)"
   ]
  },
  {
   "cell_type": "code",
   "execution_count": null,
   "metadata": {},
   "outputs": [],
   "source": [
    "D = cle.euclidean_distance_from_label_centroid_map(smalls_filtered_out)\n",
    "plt.figure(figsize=(15,10))\n",
    "cle.imshow(D[40], labels=False)"
   ]
  },
  {
   "cell_type": "code",
   "execution_count": null,
   "metadata": {},
   "outputs": [],
   "source": [
    "max_peaks = cle.detect_maxima_box(D)\n",
    "plt.figure(figsize=(15,10))\n",
    "cle.imshow(max_peaks[40], labels=False)"
   ]
  },
  {
   "cell_type": "code",
   "execution_count": null,
   "metadata": {},
   "outputs": [],
   "source": [
    "binarized = 3000 * (smalls_filtered_out > 0)"
   ]
  },
  {
   "cell_type": "code",
   "execution_count": null,
   "metadata": {},
   "outputs": [],
   "source": [
    "plt.figure(figsize=(15,10))\n",
    "cle.imshow(binarized[40], labels=True)"
   ]
  },
  {
   "cell_type": "code",
   "execution_count": null,
   "metadata": {},
   "outputs": [],
   "source": [
    "image_with_segmentation = np.concatenate((viewer.arr, np.expand_dims(cle.pull(binarized), axis=0)), axis=0)\n",
    "image_with_segmentation.shape"
   ]
  },
  {
   "cell_type": "code",
   "execution_count": null,
   "metadata": {},
   "outputs": [],
   "source": [
    "viewer.save_as_tif_sequence(image_with_segmentation, \"/home/dkermany/data/Bone_Project/tif_sequences/FV10__20190620_111343/NG2_segmentation/FV10__20190620_111343_NG2segmented\")"
   ]
  },
  {
   "cell_type": "code",
   "execution_count": null,
   "metadata": {},
   "outputs": [],
   "source": [
    "np.unique(cle.pull(binarized))"
   ]
  },
  {
   "cell_type": "code",
   "execution_count": null,
   "metadata": {},
   "outputs": [],
   "source": [
    "image_with_segmentation.dtype"
   ]
  },
  {
   "cell_type": "code",
   "execution_count": null,
   "metadata": {},
   "outputs": [],
   "source": []
  }
 ],
 "metadata": {
  "kernelspec": {
   "display_name": "BoneSegmentationEnv",
   "language": "python",
   "name": "bonesegmentationenv"
  },
  "language_info": {
   "codemirror_mode": {
    "name": "ipython",
    "version": 3
   },
   "file_extension": ".py",
   "mimetype": "text/x-python",
   "name": "python",
   "nbconvert_exporter": "python",
   "pygments_lexer": "ipython3",
   "version": "3.9.13"
  }
 },
 "nbformat": 4,
 "nbformat_minor": 4
}
