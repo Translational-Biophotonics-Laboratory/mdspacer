{
 "cells": [
  {
   "cell_type": "code",
   "execution_count": 5,
   "metadata": {},
   "outputs": [
    {
     "name": "stdout",
     "output_type": "stream",
     "text": [
      "The line_profiler extension is already loaded. To reload it, use:\n",
      "  %reload_ext line_profiler\n"
     ]
    }
   ],
   "source": [
    "%matplotlib widget\n",
    "# %matplotlib inline\n",
    "%load_ext line_profiler\n",
    "import numpy as np\n",
    "import time\n",
    "import seaborn as sns\n",
    "import pandas as pd\n",
    "from scipy import spatial, stats\n",
    "from functools import reduce\n",
    "from tqdm import tqdm\n",
    "import matplotlib.pyplot as plt\n",
    "import nrrd\n",
    "import multiprocessing as mp\n",
    "import raster_geometry as rg\n",
    "import sys\n",
    "import os\n",
    "sys.path.append(\"C:\\\\Users\\\\danie\\\\BoneSegmentation\")\n",
    "\n",
    "from oiffile import OifFile\n",
    "from src.OifImageViewer import OifImageViewer"
   ]
  },
  {
   "cell_type": "code",
   "execution_count": null,
   "metadata": {},
   "outputs": [],
   "source": []
  },
  {
   "cell_type": "markdown",
   "metadata": {},
   "source": [
    "Inputs:\n",
    "    Image: \n",
    "    Mask: Shape should match image and point data (i.e. 3D mask for 3D image/points)\n",
    "    Points_1: Points in list of shape (N, Z, Y, X) for 3D and (N, Y, X) for 2D\n",
    "    Points_2: ...\n",
    "    ...\n",
    "\n",
    "[[  75. 1417. 2404.]\n",
    " [  75. 1413. 2395.]\n",
    " [  75. 1380. 2377.]\n",
    " [  75. 1352. 2479.]\n",
    " [  75. 1080. 2266.]\n",
    " [  75.  989.  730.]]"
   ]
  },
  {
   "cell_type": "code",
   "execution_count": 6,
   "metadata": {},
   "outputs": [],
   "source": [
    "def load_OIB(path):\n",
    "    filename = os.path.splitext(os.path.basename(path))[0]\n",
    "    with OifFile(path) as oif:\n",
    "        viewer = OifImageViewer(oif)\n",
    "        x_step, y_step, z_step = map(float, (viewer.md[\"x_step\"], viewer.md[\"y_step\"], viewer.md[\"z_step\"]))\n",
    "        if viewer.md[\"z_unit\"] == \"nm\":\n",
    "            z_step /= 1000.\n",
    "    return filename, viewer, (x_step, y_step, z_step)"
   ]
  },
  {
   "cell_type": "code",
   "execution_count": 7,
   "metadata": {},
   "outputs": [
    {
     "name": "stdout",
     "output_type": "stream",
     "text": [
      "Image shape: (3, 76, 2404, 3376)\n",
      "Axes: CZYX\n",
      "Dtype: uint16\n",
      "Intervals: X (1.242um) Y (1.242um) Z (2660.0nm)\n",
      "\n"
     ]
    }
   ],
   "source": [
    "### Loading Confocal Image (.OIB)\n",
    "\n",
    "# path = \"/home/dkermany/data/Bone_Project/weijie_selected/main_folder/FV10__oibs/FV10__20190619_111005.oib\"\n",
    "path = \"/data/dkermany_data/Bone_Project/weijie_selected/main_folder/FV10__oibs/FV10__20190620_111343.oib\"\n",
    "# path = \"D:\\\\Datasets\\\\Bone_Mets\\\\FV10__oibs\\\\FV10__20190620_111343.oib\"\n",
    "\n",
    "filename, viewer, steps = load_OIB(path)\n"
   ]
  },
  {
   "cell_type": "code",
   "execution_count": 8,
   "metadata": {},
   "outputs": [],
   "source": [
    "def load_mask(path):\n",
    "    # Load mask from NRRD\n",
    "    mask, header = nrrd.read(path)\n",
    "    mask = mask.T\n",
    "    #mask = mask[:mask.shape[0]//3, :, :] # for FV10__20190620_111343.seg.nrrd\n",
    "    \n",
    "    print(mask.shape)\n",
    "    print(mask.dtype)\n",
    "    print(\"Axes: ZYX\")\n",
    "\n",
    "    return mask"
   ]
  },
  {
   "cell_type": "code",
   "execution_count": 10,
   "metadata": {},
   "outputs": [
    {
     "name": "stdout",
     "output_type": "stream",
     "text": [
      "(228, 2404, 3376)\n",
      "uint8\n",
      "Axes: ZYX\n"
     ]
    }
   ],
   "source": [
    "### Loading 3D Binary Mask (.SEG.NRRD)\n",
    "\n",
    "mask_path = f\"/data/dkermany_data/Bone_Project/masks/{filename}.seg.nrrd\"\n",
    "\n",
    "mask = load_mask(mask_path)\n"
   ]
  },
  {
   "cell_type": "code",
   "execution_count": 11,
   "metadata": {
    "jupyter": {
     "source_hidden": true
    }
   },
   "outputs": [],
   "source": [
    "def load_tumor_locations(path, filename, steps):\n",
    "    \"\"\"\n",
    "    Load tumor locations from a CSV file, filter rows with missing values, and convert them to a 3D numpy array.\n",
    "\n",
    "    Parameters:\n",
    "    path (str): The file path to the CSV file containing tumor data.\n",
    "    filename (str): The name of the file to filter tumor data by.\n",
    "    steps (tuple): A tuple containing three values (x_step, y_step, z_step) for converting tumor locations from micrometers to steps.\n",
    "\n",
    "    Returns:\n",
    "    numpy.ndarray: A 3D numpy array containing the tumor locations in steps.\n",
    "    \n",
    "    This function reads a CSV file at the specified path, drops rows with missing values, and filters the data by the given filename.\n",
    "    It then converts the x, y, and z coordinates from micrometers to steps using the provided steps tuple and stores them in a 3D numpy array.\n",
    "    The resulting numpy array contains the tumor locations in steps and is returned as the output of the function.\n",
    "    \"\"\"\n",
    "    # Load CSV data and drop rows with missing values (N/A's)\n",
    "    tumor_csv = pd.read_csv(path).dropna()\n",
    "    \n",
    "    # Filter rows in the CSV where the 'Filename' column matches the given 'filename'\n",
    "    # Reset the index of the filtered DataFrame\n",
    "    tumor_csv = tumor_csv[tumor_csv.Filename == filename].reset_index(drop=True)\n",
    "    \n",
    "    # Extract individual step values for x, y, and z\n",
    "    x_step, y_step, z_step = steps\n",
    "\n",
    "    # Convert the filtered CSV data into a dictionary where each row is an entry\n",
    "    tumor_dict = tumor_csv.to_dict(\"index\")\n",
    "    \n",
    "    # Initialize an empty list to store tumor location points\n",
    "    tumor_points = []\n",
    "    \n",
    "    # Iterate through the tumor information entries in the dictionary\n",
    "    for idx, tumor_info in tumor_dict.items():\n",
    "        # Extract x (um), y (um), and z (slice) values and convert them to integers\n",
    "        x_um, y_um, z_slice = map(int, (tumor_info[\"x (um)\"], tumor_info[\"y (um)\"], tumor_info[\"z (slice)\"]))\n",
    "        \n",
    "        # Calculate the corresponding x, y, and z coordinates based on step values\n",
    "        x, y, z = map(int, (x_um / x_step, y_um / y_step, z_slice - 1))\n",
    "        \n",
    "        # Append the calculated coordinates as a list to the tumor_points list\n",
    "        # in (Z, Y, X) format\n",
    "        tumor_points.append([z, y, x])\n",
    "    \n",
    "    # Convert the list of tumor location points to a NumPy array with dtype float64\n",
    "    tumor_points = np.array(tumor_points, dtype=np.float64)\n",
    "\n",
    "    # Return the NumPy array containing tumor location points\n",
    "    return tumor_points"
   ]
  },
  {
   "cell_type": "code",
   "execution_count": 14,
   "metadata": {},
   "outputs": [],
   "source": [
    "### Loading Tumor Cell Locations (.CSV)\n",
    "tumor_csv_path = \"/data/dkermany_data/Bone_Project/tumor_locations_02_08_2023.csv\"\n",
    "\n",
    "tumor_points = load_tumor_locations(tumor_csv_path, filename, steps)\n",
    "\n",
    "# tumor_csv"
   ]
  },
  {
   "cell_type": "code",
   "execution_count": 15,
   "metadata": {},
   "outputs": [
    {
     "name": "stdout",
     "output_type": "stream",
     "text": [
      "[[  75. 1417. 2404.]\n",
      " [  75. 1413. 2395.]\n",
      " [  75. 1380. 2377.]\n",
      " [  75. 1352. 2479.]\n",
      " [  75. 1080. 2266.]\n",
      " [  75.  989.  730.]\n",
      " [  75.  704. 2427.]\n",
      " [  75.  693. 2432.]\n",
      " [  75.  732. 2459.]\n",
      " [  75.  840. 2633.]\n",
      " [  75.  600. 2675.]\n",
      " [  75.  595. 2771.]\n",
      " [  66. 1432. 2315.]\n",
      " [  64.  710. 2384.]\n",
      " [  62.  721. 2351.]\n",
      " [  61.  747. 2518.]\n",
      " [  59. 1119. 2344.]\n",
      " [  58. 1399. 2301.]\n",
      " [  53.  647. 1892.]\n",
      " [  53.  647. 1892.]\n",
      " [  51. 1417. 2336.]\n",
      " [  51. 1423. 2351.]\n",
      " [  48.  592. 2799.]\n",
      " [  43. 1393. 2367.]\n",
      " [  42.  685. 1942.]\n",
      " [  36. 1130. 2411.]\n",
      " [  35.  668. 1928.]\n",
      " [  26. 1294. 2030.]\n",
      " [  26. 1243. 1731.]\n",
      " [  13.  752.  823.]\n",
      " [   4. 1226. 1690.]\n",
      " [   0. 1351. 2243.]\n",
      " [   0. 1356. 2159.]\n",
      " [   0. 1338. 2159.]\n",
      " [   0. 1475. 2531.]]\n",
      "(35, 3)\n"
     ]
    }
   ],
   "source": [
    "print(tumor_points)\n",
    "print(tumor_points.shape)"
   ]
  },
  {
   "cell_type": "code",
   "execution_count": 16,
   "metadata": {
    "jupyter": {
     "source_hidden": true
    }
   },
   "outputs": [
    {
     "name": "stdout",
     "output_type": "stream",
     "text": [
      "17.320508075688775\n"
     ]
    }
   ],
   "source": [
    "def euclidean_distance(point1, point2):\n",
    "    \"\"\"\n",
    "    Calculate the Euclidean distance between two points.\n",
    "\n",
    "    Args:\n",
    "    point1 (array-like): An array-like object representing the first point.\n",
    "    point2 (array-like): An array-like object representing the second point.\n",
    "\n",
    "    Returns:\n",
    "    float: The Euclidean distance between the two points.\n",
    "    \"\"\"\n",
    "    # Use NumPy's linalg.norm function to calculate the Euclidean distance\n",
    "    return np.linalg.norm(point1-point2)\n",
    "\n",
    "def micron_to_pixel(micron, scale_factor):\n",
    "    pass\n",
    "\n",
    "# Test distance function\n",
    "print(euclidean_distance(np.array((10,10,10)),np.array((0,0,0))))"
   ]
  },
  {
   "cell_type": "code",
   "execution_count": 17,
   "metadata": {
    "jupyter": {
     "source_hidden": true
    }
   },
   "outputs": [],
   "source": [
    "def set_aspect_ratio_equal(ax) -> None:\n",
    "    xlim = ax.get_xlim3d()\n",
    "    ylim = ax.get_ylim3d()\n",
    "    zlim = ax.get_zlim3d()\n",
    "    ax.set_box_aspect((xlim[1]-xlim[0], ylim[1]-ylim[0], zlim[1]-zlim[0]))"
   ]
  },
  {
   "cell_type": "markdown",
   "metadata": {},
   "source": [
    "Draw sphere in a given volume\n",
    "<a id='draw_sphere_in_volume'></a><br>\n",
    "[Go to tumor function call](#tumor_ripley)"
   ]
  },
  {
   "cell_type": "code",
   "execution_count": 18,
   "metadata": {
    "jupyter": {
     "source_hidden": true
    }
   },
   "outputs": [],
   "source": [
    "def get_sphere_mask_intersection(mask: np.ndarray, radius: int, position: tuple) -> None:\n",
    "    \"\"\"\n",
    "    Draw a sphere in a given 3D NumPy array at a specified position.\n",
    "\n",
    "    Args:\n",
    "    mask (numpy.ndarray): The 3D NumPy array in which the sphere will be drawn.\n",
    "    radius (int): The radius of the sphere.\n",
    "    position (tuple): A 3-tuple containing the z, y, x coordinates of the position in the array where the sphere will be drawn.\n",
    "\n",
    "    Returns:\n",
    "    None\n",
    "    \"\"\"\n",
    "    \n",
    "    # Create an empty 3D NumPy array with dimensions equal to twice the radius plus one\n",
    "    size = 2 * (radius + 1)\n",
    "\n",
    "    # Calculate the midpoint of the sphere unit array\n",
    "    midpoint = [size / 2] * 3\n",
    "\n",
    "    # Generate a unit sphere using the rg library's superellipsoid function\n",
    "    sphere = rg.nd_superellipsoid(size, radius, position=midpoint,\n",
    "                                  rel_sizes=False, rel_position=False).astype(np.int_)\n",
    "\n",
    "    # Extract the z, y, x coordinates of the position where the sphere will be drawn\n",
    "    z, y, x = map(round, position)\n",
    "\n",
    "    # Calculate the delta change needed to center the sphere at the specified position\n",
    "    d = (size//2)\n",
    "\n",
    "    # Calculate the minimum and maximum indices for the z, y, x axes of the mask array\n",
    "    # print(position, radius, x-d, x+d, max(x - d, 0), min(x + d, mask.shape[2]))\n",
    "    zmin, zmax = max(z - d, 0), min(z + d, mask.shape[0])\n",
    "    ymin, ymax = max(y - d, 0), min(y + d, mask.shape[1])\n",
    "    xmin, xmax = max(x - d, 0), min(x + d, mask.shape[2])\n",
    "\n",
    "    # Calculate the minimum indices for the z, y, x axes of the sphere array\n",
    "    szmin = abs(z - d) if z - d < 0 else 0\n",
    "    symin = abs(y - d) if y - d < 0 else 0\n",
    "    sxmin = abs(x - d) if x - d < 0 else 0\n",
    "\n",
    "    # Calculate the amount to cut off of the ends of the z, y, x axes of the sphere array\n",
    "    szmax = abs(mask.shape[0] - (z + d)) if z + d > mask.shape[0] else 0\n",
    "    symax = abs(mask.shape[1] - (y + d)) if y + d > mask.shape[1] else 0\n",
    "    sxmax = abs(mask.shape[2] - (x + d)) if x + d > mask.shape[2] else 0\n",
    "    # assert x+d < mask.shape[2]\n",
    "    \n",
    "    # Trim the sphere array to fit within the trimmed mask array\n",
    "    sphere = sphere[szmin:sphere.shape[0]-szmax, symin:sphere.shape[1]-symax, sxmin:sphere.shape[2]-sxmax]\n",
    "    # Place the sphere within the larger mask array at the specified position\n",
    "\n",
    "    # Return intersection between mask subset and sphere\n",
    "    return mask[zmin:zmax, ymin:ymax, xmin:xmax] & sphere"
   ]
  },
  {
   "cell_type": "code",
   "execution_count": 19,
   "metadata": {
    "jupyter": {
     "source_hidden": true
    }
   },
   "outputs": [],
   "source": [
    "# # Test speed\n",
    "# %time rg.nd_superellipsoid(2*80+1, 80, position=[40,40,40], rel_sizes=False, rel_position=False).astype(np.int_)\n",
    "# %time i = cle.draw_sphere(test_vol, 320, 640, 20, 80, 80, 80, 1)\n",
    "# %lprun -f draw_sphere_in_volume draw_sphere_in_volume(test_vol, 50, position=[50,50,50])\n",
    "# %timeit draw_sphere_in_volume(mask, 50, position=[50,50,50])\n",
    "# plt.figure()\n",
    "# cle.imshow(i)"
   ]
  },
  {
   "cell_type": "code",
   "execution_count": 20,
   "metadata": {
    "jupyter": {
     "source_hidden": true
    }
   },
   "outputs": [],
   "source": [
    "# ### Test draw sphere function\n",
    "# import pyclesperanto_prototype as cle\n",
    "\n",
    "# test_vol = np.zeros(mask.shape, dtype=np.uint8)\n",
    "# draw_sphere_in_volume(test_vol, 80, (20, 640, 320))\n",
    "# print(test_vol.dtype, mask.dtype)\n",
    "\n",
    "# plt.figure()\n",
    "# cle.imshow(test_vol)\n",
    "# plt.figure()\n",
    "# cle.imshow(mask)\n",
    "# plt.figure()\n",
    "# cle.imshow(test_vol & mask)\n"
   ]
  },
  {
   "cell_type": "markdown",
   "metadata": {},
   "source": [
    "<!-- Ripley's K Estimators\n",
    "\n",
    "![RipleyK](/img/ripleyK.png)\n",
    "\n",
    "![RipleyL](/img/ripleyL.png)\n",
    "\n",
    "![RipleyH](/img/ripleyH.png) -->"
   ]
  },
  {
   "cell_type": "markdown",
   "metadata": {},
   "source": [
    "![equation](http://www.sciweavers.org/tex2img.php?eq=%5Cwidehat%7BK%7D%28r%29%3D%20%5Cfrac%7BV%7D%7BN%28N-1%29%7D%20%5Csum_i%5EN%20%5Csum_%7Bj%20%5Cneq%20i%7D%5EN%20%20%5Cfrac%7BI%28d_%7Bi%2Cj%7D%3Cr%29%7D%7B%5Comega_%7Bi%2Cj%7D%7D%20%20%20%20%20&bc=White&fc=Black&im=jpg&fs=18&ff=arev&edit=0)\n",
    "\n",
    "![link](http://www.sciweavers.org/tex2img.php?eq=%5Cwidehat%7BL%7D%28r%29%3D%20%20%20%5Csqrt%5B3%5D%7B%5Cfrac%7B3%20%20%5Cwidehat%7BK%7D%28r%29%7D%7B4%5Cpi%7D%7D&bc=White&fc=Black&im=jpg&fs=18&ff=arev&edit=0)\n",
    "\n",
    "![link](http://www.sciweavers.org/tex2img.php?eq=%5Cwidehat%7BH%7D%28r%29%3D%5Cwidehat%7BL%7D%28r%29-r&bc=White&fc=Black&im=jpg&fs=12&ff=arev&edit=0)"
   ]
  },
  {
   "cell_type": "code",
   "execution_count": 21,
   "metadata": {},
   "outputs": [],
   "source": [
    "cache = mp.Manager().dict()"
   ]
  },
  {
   "cell_type": "code",
   "execution_count": 22,
   "metadata": {
    "jupyter": {
     "source_hidden": true
    }
   },
   "outputs": [],
   "source": [
    "### Ripley Class \n",
    "\n",
    "class Ripley():\n",
    "\n",
    "    def __init__(\n",
    "            self,\n",
    "            points: np.ndarray,\n",
    "            radii: list,\n",
    "            mask: np.ndarray,\n",
    "            boundary_correction: bool = True\n",
    "    ):\n",
    "        self.points = points\n",
    "        self.radii = radii\n",
    "        self.mask = mask.astype(np.uint8)\n",
    "        self.volume_shape = self.mask.shape\n",
    "        self.boundary_correction = boundary_correction\n",
    "        self._validate_inputs()\n",
    "\n",
    "        self.tree = spatial.cKDTree(self.points)\n",
    "        self.study_volume = reduce(lambda x, y: x * y, self.volume_shape)\n",
    "\n",
    "    def run(self, processes=32):\n",
    "        with mp.Manager() as m:\n",
    "            self.results = {\"K\": m.list(), \"L\": m.list(), \"H\": m.list()}\n",
    "            with mp.Pool(processes) as pool:\n",
    "                # Change tqdm disable to True to show progress on Ripley calculation\n",
    "                list(tqdm(pool.imap(self._calc_ripley, self.radii), total=len(self.radii), disable=True))\n",
    "            return list(self.results[\"K\"]), list(self.results[\"L\"]), list(self.results[\"H\"])\n",
    "\n",
    "    def _calc_ripley(self, radius):\n",
    "        # For each radius, loop through each point and count points\n",
    "        # within the radius\n",
    "        print(\"???\")\n",
    "        nb_count = 0\n",
    "        for z, y, x in self.points:\n",
    "            if self.boundary_correction:\n",
    "                weight = self.calculate_weight(radius, (z, y, x))\n",
    "                # If weight is zero (i.e. target sphere not in mask), move on\n",
    "                if weight == 0:\n",
    "                    continue\n",
    "            else:\n",
    "                weight = 1.0\n",
    "\n",
    "            # query_ball_point() includes the index of the current point as well\n",
    "            # so 1 is subtracted from the count \n",
    "            nb_count += (len(self.tree.query_ball_point([z, y, x], radius)) - 1) / weight\n",
    "\n",
    "            # global pbar\n",
    "            # pbar.update()\n",
    "\n",
    "\n",
    "         # calculating 3D Ripley's functions (K, L, H)\n",
    "        N = self.points.shape[0]\n",
    "        K = nb_count * self.study_volume / (N * (N - 1))\n",
    "        L = ((3. / 4) * (K / np.pi)) ** (1. / 3)\n",
    "        H = L - radius\n",
    "        \n",
    "        # Verify K/L values positive\n",
    "        if K < 0 or L < 0:\n",
    "            raise ValueError(f\"K/L values should not be negative. nb_count: {nb_count}, volume: {self.volume_shape}, N: {N}\")\n",
    "\n",
    "        self.results[\"K\"].append((radius, K))\n",
    "        self.results[\"L\"].append((radius, L))\n",
    "        self.results[\"H\"].append((radius, H))\n",
    "\n",
    "    def calculate_weight(self, radius, center):\n",
    "        \"\"\"\n",
    "        Calculate the proportion of a sphere within a study volume.\n",
    "\n",
    "        Args:\n",
    "        radius (int): The radius of the sphere.\n",
    "        center (tuple): A 3-tuple containing the z, y, x coordinates of the center of the sphere.\n",
    "\n",
    "        Returns:\n",
    "        float: The proportion of the sphere within the study volume.\n",
    "        \"\"\"\n",
    "        # Ensure that the radius is greater than zero\n",
    "        assert radius > 0\n",
    "\n",
    "        # Check if cached weight for this coordinate exists\n",
    "        key = center + (radius,)\n",
    "        if key in cache:\n",
    "            return cache[key]\n",
    "        \n",
    "        # Draw the target sphere in a 3D NumPy array at the specified position\n",
    "        # target = np.zeros(self.volume_shape, dtype=np.uint8)\n",
    "        # draw_sphere_in_volume(target, radius, center)\n",
    "\n",
    "        # Bitwise and operation between the sphere and mask to calculate intersection\n",
    "        # target = target & self.mask\n",
    "        intersection = get_sphere_mask_intersection(self.mask, radius, center)\n",
    "\n",
    "        # Calculate the sum (volume) of the target and reference sphere arrays\n",
    "        intersection_vol = intersection.sum()\n",
    "\n",
    "        # Reference is calculated instead of simulated for speed increase\n",
    "        reference = (4 / 3) * np.pi * (radius ** 3)\n",
    "\n",
    "        # Ensure that the reference sphere has a non-zero volume\n",
    "        assert reference > 0\n",
    "\n",
    "        # Return the proportion of the sphere within the study volume\n",
    "        # Since target volume is estimated whereas reference volume is calculated,\n",
    "        # there is a small but noticable margin of error when radius < 10, there\n",
    "        # we set maxiumum value of 1.0\n",
    "        weight = min(intersection_vol / reference, 1.0)\n",
    "\n",
    "        # Save weight to cache\n",
    "        cache[key] = weight\n",
    "        \n",
    "        return weight\n",
    "\n",
    "    def _validate_inputs(self):\n",
    "        # Check if self.points is a list or numpy array\n",
    "        if not isinstance(self.points, (list, np.ndarray)):\n",
    "            e = f\"Expected {np.ndarray}, received {type(self.points)}\"\n",
    "            raise ValueError(e)\n",
    "\n",
    "        # Convert self.points to numpy array if it is a list\n",
    "        if not isinstance(self.points, np.ndarray):\n",
    "            self.points = np.array(self.points)\n",
    "\n",
    "        # Check if self.points array has two dimensions\n",
    "        if len(self.points.shape) != 2:\n",
    "            e = f\"Expected self.points array to have 2 dimensions, but got array with shape {self.points.shape}\"\n",
    "            raise ValueError(e)\n",
    "\n",
    "        # Check if the self.points array second dimension length is 3 (x, y, z)\n",
    "        if self.points.shape[1] != 3:\n",
    "            e = f\"Expected self.points array to have shape (None, 3), but got array with shape {self.points.shape}\"\n",
    "            raise ValueError(e)\n",
    "\n",
    "        # Check if the self.points array has at least 3 points\n",
    "        if self.points.shape[0] < 3:\n",
    "            e = f\"Expected self.points array to have at least 3 points\"\n",
    "            raise ValueError(e)\n",
    "\n",
    "        # Check if radii is list-like or number-like\n",
    "        if not isinstance(self.radii, (np.ndarray, list, int, float)):\n",
    "            e = f\"Expected {(np.ndarray, list, int, float)}, received {type(self.radii)}\"\n",
    "            raise ValueError(e)\n",
    "\n",
    "        # if only one radius given as int, convert to list\n",
    "        if not isinstance(self.radii, (np.ndarray, list)):\n",
    "            self.radii = [self.radii]"
   ]
  },
  {
   "cell_type": "code",
   "execution_count": 23,
   "metadata": {
    "jupyter": {
     "source_hidden": true
    }
   },
   "outputs": [],
   "source": [
    "### Multivariate Ripley Class\n",
    "\n",
    "class CrossRipley(Ripley):\n",
    "\n",
    "\n",
    "    def __init__(\n",
    "            self,\n",
    "            points_i: np.ndarray,\n",
    "            points_j: np.ndarray,\n",
    "            radii: list,\n",
    "            mask: np.ndarray,\n",
    "            boundary_correction: bool = True\n",
    "    ):\n",
    "        self.points_i = points_i\n",
    "        self.points_j = points_j\n",
    "        self.radii = radii\n",
    "        self.mask = mask.astype(np.uint8)\n",
    "        self.volume_shape = self.mask.shape\n",
    "        self.boundary_correction = boundary_correction\n",
    "        self._validate_inputs()\n",
    "\n",
    "        self.i_tree = spatial.cKDTree(self.points_i)\n",
    "        self.j_tree = spatial.cKDTree(self.points_j)\n",
    "        self.study_volume = reduce(lambda x, y: x * y, self.volume_shape)\n",
    "\n",
    "\n",
    "    def test_ripley(self):\n",
    "        self.results = {\"K\": [], \"L\": [], \"H\": []}\n",
    "        for r in tqdm(self.radii):\n",
    "            self._calc_ripley(r)\n",
    "        return list(self.results[\"K\"]), list(self.results[\"L\"]), list(self.results[\"H\"])\n",
    "\n",
    "    # TODO: Rewrite univariate _calc_ripley function for multivariate case\n",
    "    def _calc_ripley(self, radius):\n",
    "        \"\"\"\n",
    "        Calculate 3D multivariate Ripley's functions (K_ij, L_ij, H_ij) for a given radius and\n",
    "        and apply weight coefficient.\n",
    "\n",
    "        For each radius, loop through each point_i and count number of point_j within the radius.\n",
    "        If boundary_correction is True, calculate the weight coefficient based on the volume of\n",
    "        the search sphere within the study volume.\n",
    "\n",
    "        Args:\n",
    "\n",
    "            radius (float): the radius for which to calculate Ripley's functions.\n",
    "\n",
    "        Raises:\n",
    "            ValueError: if K/L values are negative.\n",
    "\n",
    "        Returns:\n",
    "            None. Results are stored in self.results.\n",
    "\n",
    "        \"\"\"\n",
    "        # For each radius, loop through each point and count points\n",
    "        # within the radius\n",
    "        nb_count = 0\n",
    "        for z, y, x in self.points_i:\n",
    "            # print(f\"{i}/{len(self.points_i)}\", end=\"\\r\")\n",
    "            if self.boundary_correction:\n",
    "                weight = self.calculate_weight(radius, (z, y, x))\n",
    "                # If weight is zero (i.e. target sphere not in mask), move on\n",
    "                if weight == 0:\n",
    "                    continue\n",
    "            else:\n",
    "                weight = 1.0\n",
    "\n",
    "            # Since the i point is not included within the j_tree, we do not subtract 1\n",
    "            # as done in the univariate implementation\n",
    "            \n",
    "            nb_count += (len(self.j_tree.query_ball_point([z, y, x], radius, workers=-1))) / weight\n",
    "\n",
    "            # global pbar\n",
    "            # pbar.update()\n",
    "\n",
    "        # calculating 3D Ripley's functions (K_ij, L_ij, H_ij)\n",
    "        N_i = self.points_i.shape[0]\n",
    "        N_j = self.points_j.shape[0]\n",
    "        K_ij = nb_count * self.study_volume / (N_i * N_j)\n",
    "        L_ij = ((3. / 4) * (K_ij / np.pi)) ** (1. / 3)\n",
    "        H_ij = L_ij - radius\n",
    "        \n",
    "        # Verify K/L values positive\n",
    "        if K_ij < 0 or L_ij < 0:\n",
    "            raise ValueError(f\"K/L values should not be negative. nb_count: {nb_count}, volume: {self.volume_shape}, N_i: {N_i}, N_j: {N_j}\")\n",
    "\n",
    "        self.results[\"K\"].append((radius, K_ij))\n",
    "        self.results[\"L\"].append((radius, L_ij))\n",
    "        self.results[\"H\"].append((radius, H_ij))\n",
    "\n",
    "    def _validate_inputs(self):\n",
    "        # Check if self.points_i is a list or numpy array\n",
    "        if not isinstance(self.points_i, (list, np.ndarray)):\n",
    "            e = f\"Expected {np.ndarray}, received {type(self.points_i)}\"\n",
    "            raise ValueError(e)\n",
    "\n",
    "        # Check if self.points_j is a list or numpy array\n",
    "        if not isinstance(self.points_j, (list, np.ndarray)):\n",
    "            e = f\"Expected {np.ndarray}, received {type(self.points_j)}\"\n",
    "            raise ValueError(e)\n",
    "\n",
    "        # Convert self.points_i to numpy array if it is a list\n",
    "        if not isinstance(self.points_i, np.ndarray):\n",
    "            self.points_i = np.array(self.points_i)\n",
    "            \n",
    "        # Convert self.points_j to numpy array if it is a list\n",
    "        if not isinstance(self.points_j, np.ndarray):\n",
    "            self.points_j = np.array(self.points_j)\n",
    "\n",
    "        # Check if self.points_i array has two dimensions\n",
    "        if len(self.points_i.shape) != 2:\n",
    "            e = f\"Expected self.points_i array to have 2 dimensions, but got array with shape {self.points_i.shape}\"\n",
    "            raise ValueError(e)\n",
    "\n",
    "        # Check if self.points_j array has two dimensions\n",
    "        if len(self.points_j.shape) != 2:\n",
    "            e = f\"Expected self.points_j array to have 2 dimensions, but got array with shape {self.points_j.shape}\"\n",
    "            raise ValueError(e)\n",
    "\n",
    "        # Check if the self.points_i array second dimension length is 3 (x, y, z)\n",
    "        if self.points_i.shape[1] != 3:\n",
    "            e = f\"Expected self.points_i array to have shape (None, 3), but got array with shape {self.points_i.shape}\"\n",
    "            raise ValueError(e)\n",
    "\n",
    "        # Check if the self.points_j array second dimension length is 3 (x, y, z)\n",
    "        if self.points_j.shape[1] != 3:\n",
    "            e = f\"Expected self.points_j array to have shape (None, 3), but got array with shape {self.points_j.shape}\"\n",
    "            raise ValueError(e)\n",
    "\n",
    "        # Check if the self.points_i array has at least 3 points\n",
    "        if self.points_i.shape[0] < 3:\n",
    "            e = f\"Expected self.points_i array to have at least 3 points\"\n",
    "            raise ValueError(e)\n",
    "\n",
    "        # Check if the self.points_j array has at least 3 points\n",
    "        if self.points_j.shape[0] < 3:\n",
    "            e = f\"Expected self.points_j array to have at least 3 points\"\n",
    "            raise ValueError(e)\n",
    "\n",
    "        # Check if radii is list-like or number-like\n",
    "        if not isinstance(self.radii, (np.ndarray, list, int, float)):\n",
    "            e = f\"Expected {(np.ndarray, list, int, float)}, received {type(self.radii)}\"\n",
    "            raise ValueError(e)\n",
    "\n",
    "        # if only one radius given as int, convert to list\n",
    "        if not isinstance(self.radii, (np.ndarray, list)):\n",
    "            self.radii = [self.radii]\n",
    "\n",
    "        # if points are not within volume, raise error\n",
    "        for p in [self.points_i, self.points_j]:\n",
    "            assert all(x < self.volume_shape[2] for x in p[:, 2])\n",
    "            assert all(y < self.volume_shape[1] for y in p[:, 1])\n",
    "            assert all(z < self.volume_shape[0] for z in p[:, 0])"
   ]
  },
  {
   "cell_type": "code",
   "execution_count": 24,
   "metadata": {
    "jupyter": {
     "source_hidden": true
    }
   },
   "outputs": [],
   "source": [
    "### Test sphere drawing\n",
    "\n",
    "# def draw_sphere(shape, radius, center) -> np.ndarray:\n",
    "#     sphere = rg.nd_superellipsoid(shape, radius, position=center, rel_sizes=False, rel_position=False)\n",
    "#     return sphere.astype(np.int_)\n",
    "\n",
    "# container_shape = (100, 100, 100)\n",
    "# radius = 7\n",
    "# center = (2, 2, 2)\n",
    "\n",
    "# # print(calculate_weight(container_shape, radius, center))\n",
    "# test_sphere = draw_sphere(container_shape, radius, center)\n",
    "\n",
    "# from mpl_toolkits.mplot3d import Axes3D\n",
    "# z,x,y = test_sphere.nonzero()\n",
    "# fig = plt.figure()\n",
    "# ax = fig.add_subplot(111, projection='3d')\n",
    "# set_aspect_ratio_equal(ax)\n",
    "# ax.axes.set_xlim3d(left=0, right=container_shape[1]) \n",
    "# ax.axes.set_ylim3d(bottom=0, top=container_shape[2]) \n",
    "# ax.axes.set_zlim3d(bottom=0, top=container_shape[0]) \n",
    "# ax.scatter(x, y, z, zdir='z', c= 'red')\n",
    "# plt.show()"
   ]
  },
  {
   "cell_type": "code",
   "execution_count": 25,
   "metadata": {
    "jupyter": {
     "source_hidden": true
    }
   },
   "outputs": [],
   "source": [
    "# def sample_clustered_points(points):\n",
    "#     from random import randrange\n",
    "#     \"\"\"\n",
    "#     Given a set of points, returns a second set of points that are spatially\n",
    "#     related\n",
    "#     \"\"\"\n",
    "#     new_points = [[z+randrange(0,11)-5, y+randrange(0,11)-5, x+randrange(0,11)-5] for z, y, x in points]\n",
    "#     return np.array(new_points)"
   ]
  },
  {
   "cell_type": "code",
   "execution_count": 26,
   "metadata": {
    "jupyter": {
     "source_hidden": true
    }
   },
   "outputs": [],
   "source": [
    "# ### Visualize Multivariate Points Within Sphere\n",
    "# random_DTC = stats.uniform.rvs(loc=0, scale=100, size=(350,3))\n",
    "# random_NG2 = sample_clustered_points(random_DTC)\n",
    "# random_NG2 = stats.uniform.rvs(loc=0, scale=100, size=(1000,3))\n",
    "# # random_NG2 = stats.skewnorm.rvs(a=4, loc=50, scale=25, size=(100,3))\n",
    "\n",
    "# DTC_tree = spatial.cKDTree(random_DTC)\n",
    "# NG2_tree = spatial.cKDTree(random_NG2)\n",
    "\n",
    "# DTC_idx_in = DTC_tree.query_ball_point((50,50,50), 20)\n",
    "# NG2_idx_in = NG2_tree.query_ball_point((50,50,50), 20)"
   ]
  },
  {
   "cell_type": "code",
   "execution_count": 27,
   "metadata": {
    "jupyter": {
     "source_hidden": true
    }
   },
   "outputs": [],
   "source": [
    "# DTC_idx_out = np.ones(len(random_DTC), bool); DTC_idx_out[DTC_idx_in] = 0\n",
    "# NG2_idx_out = np.ones(len(random_NG2), bool); NG2_idx_out[NG2_idx_in] = 0\n",
    "\n",
    "# DTC_inside, DTC_outside = random_DTC[DTC_idx_in], random_DTC[DTC_idx_out]\n",
    "# NG2_inside, NG2_outside = random_NG2[NG2_idx_in], random_NG2[NG2_idx_out]\n",
    "\n",
    "# DTC_ix, DTC_ox = DTC_inside[:, 0], DTC_outside[:, 0]\n",
    "# DTC_iy, DTC_oy = DTC_inside[:, 1], DTC_outside[:, 1]\n",
    "# DTC_iz, DTC_oz = DTC_inside[:, 2], DTC_outside[:, 2]\n",
    "\n",
    "# NG2_ix, NG2_ox = NG2_inside[:, 0], NG2_outside[:, 0]\n",
    "# NG2_iy, NG2_oy = NG2_inside[:, 1], NG2_outside[:, 1]\n",
    "# NG2_iz, NG2_oz = NG2_inside[:, 2], NG2_outside[:, 2]\n",
    "\n",
    "# fig = plt.figure()\n",
    "# ax = fig.add_subplot(projection='3d')\n",
    "# set_aspect_ratio_equal(ax)\n",
    "# ax.scatter(DTC_ix,DTC_iy,DTC_iz, color=\"g\",marker=\"o\", depthshade=0)\n",
    "# ax.scatter(DTC_ox,DTC_oy,DTC_oz,color=\"y\",marker=\"o\", depthshade=1)\n",
    "# ax.scatter(NG2_ix,NG2_iy,NG2_iz, color=\"r\",marker=\"o\", depthshade=0)\n",
    "# ax.scatter(NG2_ox,NG2_oy,NG2_oz,color=\"m\",marker=\"o\", depthshade=1)\n",
    "\n",
    "# scale = 20\n",
    "# # draw sphere\n",
    "# u, v = np.mgrid[0:2*np.pi:20j, 0:np.pi:10j]\n",
    "# cx = scale*np.cos(u)*np.sin(v)+50\n",
    "# cy = scale*np.sin(u)*np.sin(v)+50\n",
    "# cz = scale*np.cos(v)+50\n",
    "# ax.plot_wireframe(cx, cy, cz, color=\"gray\", alpha=0.3)"
   ]
  },
  {
   "cell_type": "code",
   "execution_count": 28,
   "metadata": {
    "jupyter": {
     "source_hidden": true
    }
   },
   "outputs": [],
   "source": [
    "# For this rectangular test case, volume_mask is just an array of ones\n",
    "volume_mask = np.ones((100, 310, 310))\n",
    "# volume = volume_mask.sum()\n",
    "# volume_shape = volume_mask.shape"
   ]
  },
  {
   "cell_type": "code",
   "execution_count": 29,
   "metadata": {
    "jupyter": {
     "source_hidden": true
    }
   },
   "outputs": [],
   "source": [
    "# ### Run Multivariate (Cross) Ripley on Random Points data\n",
    "# crossripley_data = []\n",
    "# crossripley_data_w = []\n",
    "\n",
    "# radii = np.arange(2, 67) \n",
    "# crossripley = CrossRipley(random_DTC, random_NG2, radii, volume_mask, boundary_correction=False)\n",
    "# crossripley_w = CrossRipley(random_DTC, random_NG2, radii, volume_mask, boundary_correction=True)\n",
    "\n",
    "# K, L, H = map(sorted, crossripley.runy(1))\n",
    "# K_w, L_w, H_w = map(sorted, crossripley_w.run(16))\n",
    "# %lprun -f crossripley_w.calculate_weight map(sorted, crossripley_w.run(1))\n",
    "# %timeit map(sorted, crossripley_w.run(1))\n",
    "\n",
    "# Organize into list of [Radius, K, L, H, Type, Line] \n",
    "# crossripley_data += [(k[0], k[1], l[1], h[1], \"CSR\") for k, l, h in zip(K, L, H)]\n",
    "# crossripley_data_w += [(k[0], k[1], l[1], h[1], \"CSR\") for k, l, h in zip(K_w, L_w, H_w)]\n",
    "\n",
    "# rstats = pd.DataFrame(crossripley_data, columns=[\"Radius (r)\", \"K(r)\", \"L(r)\", \"H(r)\", \"Type\"])\n",
    "# rstats_w = pd.DataFrame(crossripley_data_w, columns=[\"Radius (r)\", \"K(r)\", \"L(r)\", \"H(r)\", \"Type\"])"
   ]
  },
  {
   "cell_type": "code",
   "execution_count": 30,
   "metadata": {
    "jupyter": {
     "source_hidden": true
    }
   },
   "outputs": [],
   "source": [
    "# Plot Random Points Results\n",
    "# plt.rcParams['figure.figsize'] = [16, 9]\n",
    "# f, axes = plt.subplots(2, 3)\n",
    "# tumor_data_w = []\n",
    "\n",
    "# # Max ripley search sphere size. Typically 1/3 or 1/2 of smallest dimension\n",
    "# # max_search_radius = min(mask.shape) // 3\n",
    "# ripley = Ripley(tumor_points, tumor_radii, mask, boundary_correction=False)\n",
    "# ripley_w = Ripley(tumor_points, tumor_radii, mask, boundary_correction=True)\n",
    "\n",
    "# # Sort by radii\n",
    "# K, L, H = map(sorted, ripley.run(2))\n",
    "# K_w, L_w, H_w = map(sorted, ripley_w.run(63))\n",
    "\n",
    "# # Organize into list of [Radius, K, L, H, Type, Line] \n",
    "# tumor_data += [(k[0], k[1], l[1], h[1], \"Tumor\") for k, l, h in zip(K, L, H)]\n",
    "# tumor_data_w += [(k[0], k[1], l[1], h[1], \"Tumor\") for k, l, h in zip(K_w, L_w, H_w)]\n",
    "    \n",
    "# tumor_rstats = pd.DataFrame(tumor_data, columns=[\"Radius (r)\", \"K(r)\", \"L(r)\", \"H(r)\", \"Type\"])\n",
    "# tumor_rstats_w \n",
    "# axes[0, 1].plot([0, 50], [0, 50], linewidth=1, linestyle=\"dotted\", color=\"#aaa\") # Expected line\n",
    "# # H\n",
    "# sns.lineplot(data=rstats, x=\"Radius (r)\", y=\"H(r)\", ax=axes[0, 2])\n",
    "# axes[0, 2].plot([0, 50], [0, 0], linewidth=1, linestyle=\"dotted\", color=\"#aaa\") # Expected line\n",
    "\n",
    "# ## Bottom Row\n",
    "# # K\n",
    "# sns.lineplot(data=rstats_w, x=\"Radius (r)\", y=\"K(r)\", ax=axes[1, 0], alpha=1)\n",
    "# # L\n",
    "# sns.lineplot(data=rstats_w, x=\"Radius (r)\", y=\"L(r)\", ax=axes[1, 1], alpha=1)\n",
    "# axes[1, 1].plot([0, 50], [0, 50], linewidth=1, linestyle=\"dotted\", color=\"#aaa\") # Expected line\n",
    "# # H\n",
    "# sns.lineplot(data=rstats_w, x=\"Radius (r)\", y=\"H(r)\", ax=axes[1, 2], alpha=1)\n",
    "# axes[1, 2].plot([0, 50], [0, 0], linewidth=1, linestyle=\"dotted\", color=\"#aaa\") # Expected line\n",
    "\n",
    "# plt.show()"
   ]
  },
  {
   "cell_type": "code",
   "execution_count": 31,
   "metadata": {
    "jupyter": {
     "source_hidden": true
    }
   },
   "outputs": [],
   "source": [
    "### Visualize Univariate Points Within Sphere\n",
    "\n",
    "# test_random_points = stats.uniform.rvs(0, 100, (100,3))\n",
    "# test_tree = spatial.cKDTree(test_random_points)\n",
    "# idx_in = test_tree.query_ball_point((50,50,50),20)\n",
    "\n",
    "# idx_out = np.ones(len(test_random_points), bool)\n",
    "# idx_out[idx_in] = 0\n",
    "\n",
    "# pts_inside_radius = test_random_points[idx_in]\n",
    "# pts_outside_radius = test_random_points[idx_out]\n",
    "\n",
    "# print(len(test_random_points), len(pts_inside_radius), len(pts_outside_radius))\n",
    "\n",
    "# ix, ox = pts_inside_radius[:, 0], pts_outside_radius[:, 0]\n",
    "# iy, oy = pts_inside_radius[:, 1], pts_outside_radius[:, 1]\n",
    "# iz, oz = pts_inside_radius[:, 2], pts_outside_radius[:, 2]\n",
    "\n",
    "# fig = plt.figure()\n",
    "# ax = fig.add_subplot(projection='3d')\n",
    "# set_aspect_ratio_equal(ax)\n",
    "# ax.scatter(ix,iy,iz, color=\"b\",marker=\"o\", depthshade=0)\n",
    "# ax.scatter(ox,oy,oz,color=\"r\",marker=\"o\", depthshade=1)\n",
    "\n",
    "\n",
    "# scale = 20\n",
    "# # draw sphere\n",
    "# u, v = np.mgrid[0:2*np.pi:20j, 0:np.pi:10j]\n",
    "# cx = scale*np.cos(u)*np.sin(v)+50\n",
    "# cy = scale*np.sin(u)*np.sin(v)+50\n",
    "# cz = scale*np.cos(v)+50\n",
    "# ax.plot_wireframe(cx, cy, cz, color=\"gray\", alpha=0.3)"
   ]
  },
  {
   "cell_type": "markdown",
   "metadata": {},
   "source": [
    "### Complete Spatial Randomness (CSR) Representations"
   ]
  },
  {
   "cell_type": "code",
   "execution_count": 32,
   "metadata": {
    "jupyter": {
     "source_hidden": true
    }
   },
   "outputs": [],
   "source": [
    "# CSR_data = []\n",
    "# CSR_data_w = []\n",
    "# # Starting at 2 because radius of 1 causes errors at the boundaries\n",
    "# # where sometimes the entire circle falls outside of study area\n",
    "# # resulting in a weight of 0.0\n",
    "# radii=np.arange(2, 67) \n",
    "# n_samples = 5\n",
    "# for n in range(n_samples):\n",
    "#     print(f\"{n}/{n_samples}\")\n",
    "#     CSR_points = stats.uniform.rvs(0, 100, (100,3))\n",
    "#     # pbar = tqdm(total=len(CSR_points))\n",
    "#     ripley = Ripley(CSR_points, radii, volume_mask, boundary_correction=False)\n",
    "#     ripley_w = Ripley(CSR_points, radii, volume_mask, boundary_correction=True)\n",
    "\n",
    "#     # Sort by radii\n",
    "#     K, L, H = map(sorted, ripley.run(1))\n",
    "#     print(\"done\")\n",
    "#     K_w, L_w, H_w = map(sorted, ripley_w.run(8))\n",
    "\n",
    "#     # Organize into list of [Radius, K, L, H, Type, Line] \n",
    "#     CSR_data += [(k[0], k[1], l[1], h[1], \"CSR\", n) for k, l, h in zip(K, L, H)]\n",
    "#     CSR_data_w += [(k[0], k[1], l[1], h[1], \"CSR\", n) for k, l, h in zip(K_w, L_w, H_w)]\n",
    "    \n",
    "# rstats = pd.DataFrame(CSR_data, columns=[\"Radius (r)\", \"K(r)\", \"L(r)\", \"H(r)\", \"Type\", \"Line\"])\n",
    "# rstats_w = pd.DataFrame(CSR_data_w, columns=[\"Radius (r)\", \"K(r)\", \"L(r)\", \"H(r)\", \"Type\", \"Line\"])\n",
    "# rstats_w"
   ]
  },
  {
   "cell_type": "code",
   "execution_count": 33,
   "metadata": {
    "jupyter": {
     "source_hidden": true
    }
   },
   "outputs": [],
   "source": [
    "# plt.rcParams['figure.figsize'] = [16, 9]\n",
    "# f, axes = plt.subplots(2, 3)\n",
    "\n",
    "# ## Top Row\n",
    "# # K\n",
    "# sns.lineplot(data=rstats, x=\"Radius (r)\", y=\"K(r)\", ax=axes[0, 0], hue=\"Line\")\n",
    "# # L\n",
    "# sns.lineplot(data=rstats, x=\"Radius (r)\", y=\"L(r)\", ax=axes[0, 1], hue=\"Line\")\n",
    "# axes[0, 1].plot([0, 50], [0, 50], linewidth=1, linestyle=\"dotted\", color=\"#aaa\") # Expected line\n",
    "# # H\n",
    "# sns.lineplot(data=rstats, x=\"Radius (r)\", y=\"H(r)\", ax=axes[0, 2], hue=\"Line\")\n",
    "# axes[0, 2].plot([0, 50], [0, 0], linewidth=1, linestyle=\"dotted\", color=\"#aaa\") # Expected line\n",
    "\n",
    "# ## Bottom Row\n",
    "# # K\n",
    "# sns.lineplot(data=rstats, x=\"Radius (r)\", y=\"K(r)\", ax=axes[1, 0], alpha=0, errorbar=(\"pi\", 95))\n",
    "# # L\n",
    "# sns.lineplot(data=rstats, x=\"Radius (r)\", y=\"L(r)\", ax=axes[1, 1], alpha=0, errorbar=(\"pi\", 95))\n",
    "# axes[1, 1].plot([0, 50], [0, 50], linewidth=1, linestyle=\"dotted\", color=\"#aaa\") # Expected line\n",
    "# # H\n",
    "# sns.lineplot(data=rstats, x=\"Radius (r)\", y=\"H(r)\", ax=axes[1, 2], alpha=0, errorbar=(\"ci\", 95))\n",
    "# axes[1, 2].plot([0, 50], [0, 0], linewidth=1, linestyle=\"dotted\", color=\"#aaa\") # Expected line\n",
    "\n",
    "# plt.show()\n",
    "\n"
   ]
  },
  {
   "cell_type": "code",
   "execution_count": 34,
   "metadata": {
    "jupyter": {
     "source_hidden": true
    }
   },
   "outputs": [],
   "source": [
    "# f, axes = plt.subplots(2, 3,)\n",
    "\n",
    "# ## Top Row\n",
    "# # K\n",
    "# sns.lineplot(data=rstats_w, x=\"Radius (r)\", y=\"K(r)\", ax=axes[0, 0], hue=\"Line\")\n",
    "# # L\n",
    "# sns.lineplot(data=rstats_w, x=\"Radius (r)\", y=\"L(r)\", ax=axes[0, 1], hue=\"Line\")\n",
    "# axes[0, 1].plot([0, 50], [0, 50], linewidth=1, linestyle=\"dotted\", color=\"#aaa\") # Expected line\n",
    "# # H\n",
    "# sns.lineplot(data=rstats_w, x=\"Radius (r)\", y=\"H(r)\", ax=axes[0, 2], hue=\"Line\")\n",
    "# axes[0, 2].plot([0, 50], [0, 0], linewidth=1, linestyle=\"dotted\", color=\"#aaa\") # Expected line\n",
    "\n",
    "# ## Bottom Row\n",
    "# # K\n",
    "# sns.lineplot(data=rstats_w, x=\"Radius (r)\", y=\"K(r)\", ax=axes[1, 0], alpha=0, errorbar=(\"pi\", 95))\n",
    "# # L\n",
    "# sns.lineplot(data=rstats_w, x=\"Radius (r)\", y=\"L(r)\", ax=axes[1, 1], alpha=0, errorbar=(\"pi\", 95))\n",
    "# axes[1, 1].plot([0, 50], [0, 50], linewidth=1, linestyle=\"dotted\", color=\"#aaa\") # Expected line\n",
    "# # H\n",
    "# sns.lineplot(data=rstats_w, x=\"Radius (r)\", y=\"H(r)\", ax=axes[1, 2], alpha=0, errorbar=(\"pi\", 95))\n",
    "# axes[1, 2].plot([0, 50], [0, 0], linewidth=1, linestyle=\"dotted\", color=\"#aaa\") # Expected line\n",
    "\n",
    "# plt.show()"
   ]
  },
  {
   "cell_type": "code",
   "execution_count": 35,
   "metadata": {
    "jupyter": {
     "source_hidden": true
    }
   },
   "outputs": [],
   "source": [
    "# import ipytest\n",
    "# ipytest.autoconfig(raise_on_error=True)\n",
    "# %%ipytest -qq\n",
    "\n",
    "# # Tests\n",
    "\n",
    "# def test_valid_input():\n",
    "#     valid_points = [\n",
    "#         np.array([[38.4002419, 38.62931512, 41.6131775], [38, 38, 41], [1, 6, 8]]),\n",
    "#         np.array([[38, 38, 41], [1, 2, 3], [20, 20, 20]]),\n",
    "#         [[38.4002419, 38.62931512, 41.6131775], [3.4002419, 8.62931512, 1.6131775], [8.4002419, 3.62931512, 4.6131775]],\n",
    "#         [[38, 38, 41], [1, 2, 3], [4, 5, 6]],\n",
    "#     ]\n",
    "#     for p in valid_points:\n",
    "#         ripley(p, radii=1, volume_shape=(100,100,100))\n",
    "\n",
    "# def test_invalid_input():\n",
    "#     invalid_points = [\n",
    "#         np.array([[38.4002419, 38.62931512, 41.6131775]]),\n",
    "#         np.array([[38, 38, 41], [1, 2, 3]]),\n",
    "#         [[38.4002419, 38.62931512, 41.6131775]],\n",
    "#         [[38, 38, 41], [1, 2, 3]],\n",
    "#         \"38.4002419, 38.62931512, 41.6131775\",\n",
    "#         np.array([38.4002419, 38.62931512, 41.6131775]),\n",
    "#         np.array([[[38.4002419, 38.62931512, 41.6131775]]]),\n",
    "#         np.array([[38.4002419, 38.62931512]]),\n",
    "#         5,\n",
    "#         7.8,\n",
    "#         [6],\n",
    "#     ]\n",
    "#     for p in invalid_points:\n",
    "#         with pytest.raises(ValueError):\n",
    "#             ripley(p, radii=1, volume_shape=(100,100,100))\n"
   ]
  },
  {
   "cell_type": "code",
   "execution_count": 36,
   "metadata": {},
   "outputs": [],
   "source": [
    "def run_ripley(points_1, points_2, mask, radii, boundary_correction=True, n_processes=1, n_line=None):\n",
    "    \"\"\"\n",
    "    Execute the Ripley's K-function analysis for two sets of points within a specified mask.\n",
    "\n",
    "    This function computes Ripley's cross K-function, L-function, and H-function for two sets \n",
    "    of points. The analysis is based on a range of specified radii and can include boundary \n",
    "    correction. The results are sorted by radii and organized in a structured format.\n",
    "\n",
    "    Parameters:\n",
    "    points_1 (list of tuples): The first set of points (e.g., (x, y) coordinates) for analysis.\n",
    "    points_2 (list of tuples): The second set of points for the cross K-function analysis.\n",
    "    mask (array-like): A mask or region within which the analysis is conducted.\n",
    "    radii (list): A list of radii values for which the K-function is computed.\n",
    "    boundary_correction (bool, optional): Whether to apply boundary correction. Defaults to True.\n",
    "    n_processes (int, optional): The number of processes to use for computation. Defaults to 1.\n",
    "    n_line (optional): An additional parameter to include in the results, if provided.\n",
    "\n",
    "    Returns:\n",
    "    list of tuples: Each tuple contains the radius, K-function value, L-function value, \n",
    "                    H-function value, and optionally the n_line value, sorted by radii.\n",
    "    \"\"\"\n",
    "    # Initialize the CrossRipley object with the provided points, radii, mask, and boundary correction setting.\n",
    "    # This object will be used to run Ripley's K-function analysis.\n",
    "    ripley = CrossRipley(\n",
    "        points_1,\n",
    "        points_2,\n",
    "        radii,\n",
    "        mask,\n",
    "        boundary_correction\n",
    "    )\n",
    "    \n",
    "    # Run the analysis using the specified number of processes and sort the results (K, L, H functions) by radii.\n",
    "    # The map function applies the sorted function to each element (K, L, H) returned by ripley.run.\n",
    "    K_w, L_w, H_w = map(sorted, ripley.run(n_processes))\n",
    "\n",
    "    # Organize the results into a structured format for easy interpretation.\n",
    "    # If n_line is specified, it is included in each tuple; otherwise, only K, L, and H values are included.\n",
    "    # The comprehension iterates over zipped K, L, H tuples and constructs a result tuple for each set of values.\n",
    "    results = [\n",
    "        (k[0], k[1], l[1], h[1], n_line) if n_line else (k[0], k[1], l[1], h[1]) \n",
    "        for k, l, h in zip(K_w, L_w, H_w)\n",
    "    ]\n",
    "\n",
    "    # Return the organized list of tuples as the function's result.\n",
    "    return results"
   ]
  },
  {
   "cell_type": "code",
   "execution_count": 37,
   "metadata": {
    "jupyter": {
     "source_hidden": true
    }
   },
   "outputs": [],
   "source": [
    "def monte_carlo(\n",
    "        points_1,\n",
    "        mask,\n",
    "        points_2=None,\n",
    "        n_samples=5,\n",
    "        max_radius=100,\n",
    "        radius_step=1,\n",
    "        boundary_correction=True,\n",
    "        n_processes=1\n",
    "):\n",
    "    \"\"\"\n",
    "    Conducts a Monte Carlo simulation using the Ripley's K-function for spatial data analysis.\n",
    "\n",
    "    This function can perform either univariate or bivariate spatial analysis based on the input points.\n",
    "    It generates random points within a specified mask for univariate analysis or shuffles the\n",
    "    labels of two point sets for bivariate analysis. The Ripley's K-function is computed over \n",
    "    a range of radii for these points.\n",
    "\n",
    "    Parameters:\n",
    "    - points_1 (array-like): The first set of points for the analysis.\n",
    "    - mask (array-like): A binary mask defining the study area, where 1 indicates valid area.\n",
    "    - points_2 (array-like, optional): The second set of points for bivariate analysis.\n",
    "    - n_samples (int): The number of Monte Carlo samples to draw.\n",
    "    - max_radius (int): The maximum radius to consider for Ripley's K-function.\n",
    "    - radius_step (int): The step size for the radii used in Ripley's K-function.\n",
    "    - boundary_correction (bool): Whether to apply boundary correction.\n",
    "    - n_processes (int): Number of processes to use for parallel computation.\n",
    "\n",
    "    Returns:\n",
    "    - pd.DataFrame: A DataFrame containing the results of the Monte Carlo simulation.\n",
    "    \"\"\"\n",
    "    \n",
    "    def generate_random_points(points, mask):\n",
    "        \"\"\"\n",
    "        Generate random points within the mask for univariate comparisons.\n",
    "\n",
    "        This function creates a set of points that are randomly distributed within the valid\n",
    "        areas defined by the mask. Each generated point must fall within the mask.\n",
    "\n",
    "        Parameters:\n",
    "        - points (array-like): The original set of points.\n",
    "        - mask (array-like): The binary mask defining valid areas.\n",
    "\n",
    "        Returns:\n",
    "        - array-like: An array of randomly generated points within the mask.\n",
    "        \"\"\"\n",
    "        CSR_points = np.empty((points.shape[0], 3), dtype=np.uint16)\n",
    "        for i in range(points.shape[0]):\n",
    "            while True:\n",
    "                # Generate random point\n",
    "                z, y, x = map(int, [stats.uniform.rvs(0, mask.shape[j]) for j in range(3)])\n",
    "                if mask[z, y, x] == 1:\n",
    "                    CSR_points[i] = np.array([z, y, x])\n",
    "                    break\n",
    "        return CSR_points\n",
    "\n",
    "    def shuffle_labels(points_1, points_2):\n",
    "        \"\"\"\n",
    "        Shuffles the identity of points for multivariate comparisons.\n",
    "\n",
    "        This function combines two sets of points and randomly shuffles their order. This is\n",
    "        used in bivariate analysis to test the null hypothesis of no spatial interaction\n",
    "        between the two point sets.\n",
    "\n",
    "        Parameters:\n",
    "        - points_1 (array-like): The first set of points.\n",
    "        - points_2 (array-like): The second set of points.\n",
    "\n",
    "        Returns:\n",
    "        - tuple of array-like: Two arrays of shuffled points.\n",
    "        \"\"\"\n",
    "        combined_arr = np.concatenate((points_1, points_2), axis=0)\n",
    "        np.random.shuffle(combined_arr)  # inplace shuffle\n",
    "        return np.split(combined_arr, [points_1.shape[0]])\n",
    "    \n",
    "    # Initialize an empty list to store results\n",
    "    CSR_results = []\n",
    "    # Define the range of radii to be used\n",
    "    radii = np.arange(2, max_radius, radius_step)\n",
    "    for n_line in tqdm(range(n_samples)):\n",
    "        # print(f\"Simulation: {n}/{n_samples}\")\n",
    "\n",
    "        # Univariate\n",
    "        if not points_2:\n",
    "            CSR_points = generate_random_points(points_1, mask)\n",
    "            results = run_ripley(CSR_points, CSR_points, mask, radii, boundary_correction, n_line=n_line)\n",
    "        # Multivariate\n",
    "        else:\n",
    "            shuffled_1, shuffled_2 = shuffle_labels(points_1, points_2)\n",
    "            results = run_ripley(shuffled_1, shuffled_2, mask, radii, boundary_correction, n_line=n_line)\n",
    "        \n",
    "        # Organize results into a structured format\n",
    "        CSR_results += results\n",
    "        \n",
    "    # Create a DataFrame from the results\n",
    "    CSR_rstats = pd.DataFrame(CSR_results, columns=[\"Radius (r)\", \"K(r)\", \"L(r)\", \"H(r)\", \"Line\"])\n",
    "    return CSR_rstats"
   ]
  },
  {
   "cell_type": "markdown",
   "metadata": {},
   "source": [
    "Tumor Ripley Call\n",
    "<a id=\"tumor_ripley\"></a><br>\n",
    "[Draw Sphere Function](#draw_sphere_in_volume)\n"
   ]
  },
  {
   "cell_type": "markdown",
   "metadata": {},
   "source": [
    "### Loading point sets for comparison"
   ]
  },
  {
   "cell_type": "code",
   "execution_count": 40,
   "metadata": {},
   "outputs": [],
   "source": [
    "branch_points_path = f\"/data/dkermany_data/Bone_Project/branch_points/{filename}_branch_points.npy\"\n",
    "ng2_points_path = f\"/data/dkermany_data/Bone_Project/NG2_Centroids/{filename}_NG2_centroids.npy\"\n",
    "tvc_points_path = f\"/data/dkermany_data/Bone_Project/tortuous_segment_centroids/{filename}_tortuous_segment_centroid.npy\"\n"
   ]
  },
  {
   "cell_type": "code",
   "execution_count": 41,
   "metadata": {},
   "outputs": [],
   "source": [
    "\n",
    "ng2_points = np.flip(np.load(ng2_points_path).T, axis=1) # put points into Z,Y,X format (N, 3)\n",
    "branch_points = np.load(branch_points_path).T # branch points do not need to be flipped to be formatted correctly\n",
    "tvc_points = np.rint(np.flip(np.load(tvc_points_path).T, axis=1)).astype(int) # put points into Z,Y,X format (N, 3)"
   ]
  },
  {
   "cell_type": "markdown",
   "metadata": {},
   "source": [
    "### Run all univariate and multivariate comparisons"
   ]
  },
  {
   "cell_type": "code",
   "execution_count": 42,
   "metadata": {},
   "outputs": [
    {
     "name": "stdout",
     "output_type": "stream",
     "text": [
      "Running univariate analyses on: tumor points\n"
     ]
    },
    {
     "name": "stderr",
     "output_type": "stream",
     "text": [
      "  3%|███▏                                                                                             | 1/30 [04:20<2:05:57, 260.60s/it]"
     ]
    }
   ],
   "source": [
    "all_points = {\n",
    "    \"tumor\": tumor_points,\n",
    "    \"ng2\": ng2_points,\n",
    "    \"branch\": branch_points,\n",
    "    \"tvc\": tvc_points\n",
    "}\n",
    "\n",
    "output_dir = \"/home/dkermany/ripley_results/\"\n",
    "radii = np.arange(2, 101) \n",
    "\n",
    "# Run univariate comparisons\n",
    "for name, points in all_points.items():\n",
    "    print(f\"Running univariate analyses on: {name} points\")\n",
    "    CSR_rstats = monte_carlo(points, mask, n_samples=30, n_processes=60)\n",
    "    univariate_rstats = run_ripley(points, points, mask, radii, n_processes=60)\n",
    "\n",
    "    # Uncomment to save rstats to csv\n",
    "    CSR_rstats.to_csv(f\"/home/dkermany/ripley_results/{filename}_random_univariate_{name}_rstats.csv\")\n",
    "    univariate_rstats.to_csv(os.path.join(output_dir, f\"{filename}_univariate_{name}_rstats.csv\"))"
   ]
  },
  {
   "cell_type": "code",
   "execution_count": null,
   "metadata": {},
   "outputs": [],
   "source": [
    "# Run multivariate comparisons with tumor\n",
    "for name, points in all_points.items():\n",
    "    if name != \"tumor\":\n",
    "        print(f\"Running multivariate analyses between tumor and {name} points\")\n",
    "        CSR_rstats = monte_carlo(tumor_points, mask, points, n_processes=60)\n",
    "        multivariate_rstats = run_ripley(tumor_points, points, mask, radii, n_processes=60)\n",
    "\n",
    "        # Uncomment to save rstats to csv\n",
    "        CSR_rstats.to_csv(f\"/home/dkermany/ripley_results/{filename}_random_multivariate_{name}_rstats.csv\")\n",
    "        multivariate_rstats.to_csv(os.path.join(output_dir, f\"{filename}_multivariate_{name}_rstats.csv\"))"
   ]
  }
 ],
 "metadata": {
  "kernelspec": {
   "display_name": "BoneSegEnv",
   "language": "python",
   "name": "bonesegenv"
  },
  "language_info": {
   "codemirror_mode": {
    "name": "ipython",
    "version": 3
   },
   "file_extension": ".py",
   "mimetype": "text/x-python",
   "name": "python",
   "nbconvert_exporter": "python",
   "pygments_lexer": "ipython3",
   "version": "3.9.13"
  },
  "vscode": {
   "interpreter": {
    "hash": "16b8ebbebbd8eef9429a70fe83ccde4952691352fef003457d81796bc4b46f60"
   }
  }
 },
 "nbformat": 4,
 "nbformat_minor": 4
}
