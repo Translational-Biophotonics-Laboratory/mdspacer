{
 "cells": [
  {
   "cell_type": "code",
   "execution_count": 44,
   "metadata": {},
   "outputs": [
    {
     "name": "stdout",
     "output_type": "stream",
     "text": [
      "The line_profiler extension is already loaded. To reload it, use:\n",
      "  %reload_ext line_profiler\n"
     ]
    }
   ],
   "source": [
    "%matplotlib widget\n",
    "# %matplotlib inline\n",
    "%load_ext line_profiler\n",
    "import numpy as np\n",
    "import time\n",
    "import seaborn as sns\n",
    "import pandas as pd\n",
    "from scipy import spatial, stats\n",
    "from functools import reduce\n",
    "from tqdm import tqdm\n",
    "import matplotlib.pyplot as plt\n",
    "import nrrd\n",
    "import multiprocessing as mp\n",
    "import raster_geometry as rg\n",
    "import sys\n",
    "import os\n",
    "sys.path.append(\"C:\\\\Users\\\\danie\\\\BoneSegmentation\")\n",
    "\n",
    "from oiffile import OifFile\n",
    "from src.OifImageViewer import OifImageViewer"
   ]
  },
  {
   "cell_type": "code",
   "execution_count": null,
   "metadata": {},
   "outputs": [],
   "source": []
  },
  {
   "cell_type": "code",
   "execution_count": null,
   "metadata": {},
   "outputs": [],
   "source": []
  },
  {
   "cell_type": "code",
   "execution_count": 45,
   "metadata": {},
   "outputs": [
    {
     "name": "stdout",
     "output_type": "stream",
     "text": [
      "Image shape: (3, 77, 1969, 7127)\n",
      "Axes: CZYX\n",
      "Dtype: uint16\n",
      "Intervals: X (1.242um) Y (1.242um) Z (2660nm)\n",
      "\n"
     ]
    }
   ],
   "source": [
    "### Loading Confocal Image (.OIB)\n",
    "\n",
    "path = \"/home/dkermany/data/Bone_Project/weijie_selected/main_folder/FV10__oibs/FV10__20181106_172421.oib\"\n",
    "# path = \"D:\\\\Datasets\\\\Bone_Mets\\\\FV10__oibs\\\\FV10__20190620_111343.oib\"\n",
    "filename = os.path.splitext(os.path.basename(path))[0]\n",
    "\n",
    "with OifFile(path) as oif:\n",
    "    viewer = OifImageViewer(oif)\n",
    "    x_step, y_step, z_step = map(float, (viewer.md[\"x_step\"], viewer.md[\"y_step\"], viewer.md[\"z_step\"]))\n",
    "    if viewer.md[\"z_unit\"] == \"nm\":\n",
    "        z_step /= 1000."
   ]
  },
  {
   "cell_type": "code",
   "execution_count": 46,
   "metadata": {},
   "outputs": [
    {
     "name": "stdout",
     "output_type": "stream",
     "text": [
      "(77, 1969, 7127)\n",
      "uint8\n",
      "Axes: ZYX\n"
     ]
    }
   ],
   "source": [
    "### Loading 3D Binary Mask (.SEG.NRRD)\n",
    "\n",
    "# mask_path = \"D:\\\\Datasets\\\\Bone_Mets\\\\masks\\\\FV10__20190620_111343.seg.nrrd\"\n",
    "# mask_path = \"/home/dkermany/data/Bone_Project/masks/FV10__20190620_111343.seg.nrrd\"\n",
    "mask_path = f\"/home/dkermany/data/Bone_Project/masks/{filename}.seg.nrrd\"\n",
    "\n",
    "# Load mask from NRRD\n",
    "mask, header = nrrd.read(mask_path)\n",
    "mask = mask.T\n",
    "#mask = mask[:mask.shape[0]//3, :, :] # for FV10__20190620_111343.seg.nrrd\n",
    "\n",
    "print(mask.shape)\n",
    "print(mask.dtype)\n",
    "print(\"Axes: ZYX\")"
   ]
  },
  {
   "cell_type": "code",
   "execution_count": 47,
   "metadata": {},
   "outputs": [],
   "source": [
    "### Loading Tumor Cell Locations (.CSV)\n",
    "\n",
    "# tumor_csv_path = \"D:\\\\Datasets\\\\Bone_Mets\\\\tumor_locations.csv\"\n",
    "tumor_csv_path = \"/home/dkermany/data/Bone_Project/tumor_locations_02_08_2023.csv\"\n",
    "# Load csv and drop rows with N/A's\n",
    "tumor_csv = pd.read_csv(tumor_csv_path).dropna()\n",
    "tumor_csv = tumor_csv[tumor_csv.Filename == filename].reset_index(drop=True)\n",
    "# tumor_csv"
   ]
  },
  {
   "cell_type": "code",
   "execution_count": 48,
   "metadata": {},
   "outputs": [
    {
     "name": "stdout",
     "output_type": "stream",
     "text": [
      "17.320508075688775\n"
     ]
    }
   ],
   "source": [
    "def euclidean_distance(point1, point2):\n",
    "    \"\"\"\n",
    "    Calculate the Euclidean distance between two points.\n",
    "\n",
    "    Args:\n",
    "    point1 (array-like): An array-like object representing the first point.\n",
    "    point2 (array-like): An array-like object representing the second point.\n",
    "\n",
    "    Returns:\n",
    "    float: The Euclidean distance between the two points.\n",
    "    \"\"\"\n",
    "    # Use NumPy's linalg.norm function to calculate the Euclidean distance\n",
    "    return np.linalg.norm(point1-point2)\n",
    "\n",
    "def micron_to_pixel(micron, scale_factor):\n",
    "    pass\n",
    "\n",
    "# Test distance function\n",
    "print(euclidean_distance(np.array((10,10,10)),np.array((0,0,0))))"
   ]
  },
  {
   "cell_type": "code",
   "execution_count": 49,
   "metadata": {
    "scrolled": true
   },
   "outputs": [],
   "source": [
    "def set_aspect_ratio_equal(ax) -> None:\n",
    "    xlim = ax.get_xlim3d()\n",
    "    ylim = ax.get_ylim3d()\n",
    "    zlim = ax.get_zlim3d()\n",
    "    ax.set_box_aspect((xlim[1]-xlim[0], ylim[1]-ylim[0], zlim[1]-zlim[0]))"
   ]
  },
  {
   "cell_type": "code",
   "execution_count": 50,
   "metadata": {},
   "outputs": [],
   "source": [
    "# @njit()\n",
    "# def sphere_func(center, radius, shape):\n",
    "#     arr = np.zeros(shape)\n",
    "#     for i in range(shape[0]):\n",
    "#         for j in range(shape[1]):\n",
    "#             for k in range(shape[2]):\n",
    "#                 x, y, z = i - center[0], j - center[1], k - center[2]\n",
    "#                 dist = np.sqrt(x**2 + y**2 + z**2)\n",
    "#                 if dist <= radius:\n",
    "#                     arr[i,j,k] = 1\n",
    "#     return arr"
   ]
  },
  {
   "attachments": {},
   "cell_type": "markdown",
   "metadata": {},
   "source": [
    "Draw sphere in a given volume\n",
    "<a id='draw_sphere_in_volume'></a><br>\n",
    "[Go to tumor function call](#tumor_ripley)"
   ]
  },
  {
   "cell_type": "code",
   "execution_count": 51,
   "metadata": {},
   "outputs": [],
   "source": [
    "def draw_sphere_in_volume(volume: np.ndarray, radius: int, position: tuple) -> None:\n",
    "    \"\"\"\n",
    "    Draw a sphere in a given 3D NumPy array at a specified position.\n",
    "\n",
    "    Args:\n",
    "    volume (numpy.ndarray): The 3D NumPy array in which the sphere will be drawn.\n",
    "    radius (int): The radius of the sphere.\n",
    "    position (tuple): A 3-tuple containing the z, y, x coordinates of the position in the array where the sphere will be drawn.\n",
    "\n",
    "    Returns:\n",
    "    None\n",
    "    \"\"\"\n",
    "    \n",
    "    # Create an empty 3D NumPy array with dimensions equal to twice the radius plus one\n",
    "    size = 2 * (radius + 1)\n",
    "\n",
    "    # Calculate the midpoint of the sphere unit array\n",
    "    midpoint = [size / 2] * 3\n",
    "\n",
    "    # Generate a unit sphere using the rg library's superellipsoid function\n",
    "    sphere = rg.nd_superellipsoid(size, radius, position=midpoint,\n",
    "                                  rel_sizes=False, rel_position=False).astype(np.int_)\n",
    "\n",
    "    # Extract the z, y, x coordinates of the position where the sphere will be drawn\n",
    "    z, y, x = map(round, position)\n",
    "\n",
    "    # Calculate the delta change needed to center the sphere at the specified position\n",
    "    d = (size//2)\n",
    "\n",
    "    # Calculate the minimum and maximum indices for the z, y, x axes of the volume array\n",
    "    # print(position, radius, x-d, x+d, max(x - d, 0), min(x + d, volume.shape[2]))\n",
    "    zmin, zmax = max(z - d, 0), min(z + d, volume.shape[0])\n",
    "    ymin, ymax = max(y - d, 0), min(y + d, volume.shape[1])\n",
    "    xmin, xmax = max(x - d, 0), min(x + d, volume.shape[2])\n",
    "\n",
    "    # Calculate the minimum indices for the z, y, x axes of the sphere array\n",
    "    szmin = abs(z - d) if z - d < 0 else 0\n",
    "    symin = abs(y - d) if y - d < 0 else 0\n",
    "    sxmin = abs(x - d) if x - d < 0 else 0\n",
    "\n",
    "    # Calculate the amount to cut off of the ends of the z, y, x axes of the sphere array\n",
    "    szmax = abs(volume.shape[0] - (z + d)) if z + d > volume.shape[0] else 0\n",
    "    symax = abs(volume.shape[1] - (y + d)) if y + d > volume.shape[1] else 0\n",
    "    sxmax = abs(volume.shape[2] - (x + d)) if x + d > volume.shape[2] else 0\n",
    "    # assert x+d < volume.shape[2]\n",
    "    \n",
    "    # Trim the sphere array to fit within the trimmed volume array\n",
    "    sphere = sphere[szmin:sphere.shape[0]-szmax, symin:sphere.shape[1]-symax, sxmin:sphere.shape[2]-sxmax]\n",
    "    # Place the sphere within the larger volume array at the specified position\n",
    "\n",
    "    # print(z, y, x, d, \"|\", zmin,zmax,\"|\",ymin,ymax,\"|\",xmin,xmax, \"|\",sphere.shape, \"|\", sxmin, sxmax)\n",
    "    volume[zmin:zmax, ymin:ymax, xmin:xmax] = sphere"
   ]
  },
  {
   "cell_type": "code",
   "execution_count": 52,
   "metadata": {},
   "outputs": [],
   "source": [
    "# # Test speed\n",
    "# %time rg.nd_superellipsoid(2*80+1, 80, position=[40,40,40], rel_sizes=False, rel_position=False).astype(np.int_)\n",
    "# test_vol = np.zeros(mask.shape, dtype=np.uint8)\n",
    "# %time i = cle.draw_sphere(test_vol, 320, 640, 20, 80, 80, 80, 1)\n",
    "# plt.figure()\n",
    "# cle.imshow(i)"
   ]
  },
  {
   "cell_type": "code",
   "execution_count": 53,
   "metadata": {},
   "outputs": [],
   "source": [
    "# ### Test draw sphere function\n",
    "# import pyclesperanto_prototype as cle\n",
    "\n",
    "# test_vol = np.zeros(mask.shape, dtype=np.uint8)\n",
    "# draw_sphere_in_volume(test_vol, 80, (20, 640, 320))\n",
    "# print(test_vol.dtype, mask.dtype)\n",
    "\n",
    "# plt.figure()\n",
    "# cle.imshow(test_vol)\n",
    "# plt.figure()\n",
    "# cle.imshow(mask)\n",
    "# plt.figure()\n",
    "# cle.imshow(test_vol & mask)\n"
   ]
  },
  {
   "attachments": {},
   "cell_type": "markdown",
   "metadata": {},
   "source": [
    "<!-- Ripley's K Estimators\n",
    "\n",
    "![RipleyK](/img/ripleyK.png)\n",
    "\n",
    "![RipleyL](/img/ripleyL.png)\n",
    "\n",
    "![RipleyH](/img/ripleyH.png) -->"
   ]
  },
  {
   "attachments": {},
   "cell_type": "markdown",
   "metadata": {},
   "source": [
    "![equation](http://www.sciweavers.org/tex2img.php?eq=%5Cwidehat%7BK%7D%28r%29%3D%20%5Cfrac%7BV%7D%7BN%28N-1%29%7D%20%5Csum_i%5EN%20%5Csum_%7Bj%20%5Cneq%20i%7D%5EN%20%20%5Cfrac%7BI%28d_%7Bi%2Cj%7D%3Cr%29%7D%7B%5Comega_%7Bi%2Cj%7D%7D%20%20%20%20%20&bc=White&fc=Black&im=jpg&fs=18&ff=arev&edit=0)\n",
    "\n",
    "![link](http://www.sciweavers.org/tex2img.php?eq=%5Cwidehat%7BL%7D%28r%29%3D%20%20%20%5Csqrt%5B3%5D%7B%5Cfrac%7B3%20%20%5Cwidehat%7BK%7D%28r%29%7D%7B4%5Cpi%7D%7D&bc=White&fc=Black&im=jpg&fs=18&ff=arev&edit=0)\n",
    "\n",
    "![link](http://www.sciweavers.org/tex2img.php?eq=%5Cwidehat%7BH%7D%28r%29%3D%5Cwidehat%7BL%7D%28r%29-r&bc=White&fc=Black&im=jpg&fs=12&ff=arev&edit=0)"
   ]
  },
  {
   "cell_type": "code",
   "execution_count": 54,
   "metadata": {},
   "outputs": [],
   "source": [
    "cache = mp.Manager().dict()"
   ]
  },
  {
   "cell_type": "code",
   "execution_count": 55,
   "metadata": {},
   "outputs": [],
   "source": [
    "### Ripley Class \n",
    "\n",
    "class Ripley():\n",
    "\n",
    "    def __init__(\n",
    "        self,\n",
    "        points: np.ndarray,\n",
    "        radii: list,\n",
    "        mask: np.ndarray,\n",
    "        boundary_correction: bool = True\n",
    "    ):\n",
    "        self.points = points\n",
    "        self.radii = radii\n",
    "        self.mask = mask.astype(np.uint8)\n",
    "        self.volume_shape = self.mask.shape\n",
    "        self.boundary_correction = boundary_correction\n",
    "        self._validate_inputs()\n",
    "\n",
    "        self.tree = spatial.cKDTree(self.points)\n",
    "        self.study_volume = reduce(lambda x, y: x * y, self.volume_shape)\n",
    "\n",
    "    def run_ripley(self, processes=32):\n",
    "        with mp.Manager() as m:\n",
    "            self.results = {\"K\": m.list(), \"L\": m.list(), \"H\": m.list()}\n",
    "            with mp.Pool(processes) as pool:\n",
    "                # pool.map(self._calc_ripley, self.radii)\n",
    "                list(tqdm(pool.imap(self._calc_ripley, self.radii), total=len(self.radii)))\n",
    "            return list(self.results[\"K\"]), list(self.results[\"L\"]), list(self.results[\"H\"])\n",
    "\n",
    "    def _calc_ripley(self, radius):\n",
    "        # For each radius, loop through each point and count points\n",
    "        # within the radius\n",
    "        print(\"???\")\n",
    "        nb_count = 0\n",
    "        for z, y, x in self.points:\n",
    "            if self.boundary_correction:\n",
    "                weight = self.calculate_weight(radius, (z, y, x))\n",
    "                # If weight is zero (i.e. target sphere not in mask), move on\n",
    "                if weight == 0:\n",
    "                    continue\n",
    "            else:\n",
    "                weight = 1.0\n",
    "\n",
    "            # query_ball_point() includes the index of the current point as well\n",
    "            # so 1 is subtracted from the count \n",
    "            nb_count += (len(self.tree.query_ball_point([z, y, x], radius)) - 1) / weight\n",
    "\n",
    "            # global pbar\n",
    "            # pbar.update()\n",
    "\n",
    "\n",
    "         # calculating 3D Ripley's functions (K, L, H)\n",
    "        N = self.points.shape[0]\n",
    "        K = nb_count * self.study_volume / (N * (N - 1))\n",
    "        L = ((3. / 4) * (K / np.pi)) ** (1. / 3)\n",
    "        H = L - radius\n",
    "        \n",
    "        # Verify K/L values positive\n",
    "        if K < 0 or L < 0:\n",
    "            raise ValueError(f\"K/L values should not be negative. nb_count: {nb_count}, volume: {self.volume_shape}, N: {N}\")\n",
    "\n",
    "        self.results[\"K\"].append((radius, K))\n",
    "        self.results[\"L\"].append((radius, L))\n",
    "        self.results[\"H\"].append((radius, H))\n",
    "\n",
    "    def calculate_weight(self, radius, center):\n",
    "        \"\"\"\n",
    "        Calculate the proportion of a sphere within a study volume.\n",
    "\n",
    "        Args:\n",
    "        radius (int): The radius of the sphere.\n",
    "        center (tuple): A 3-tuple containing the z, y, x coordinates of the center of the sphere.\n",
    "\n",
    "        Returns:\n",
    "        float: The proportion of the sphere within the study volume.\n",
    "        \"\"\"\n",
    "        # Ensure that the radius is greater than zero\n",
    "        assert radius > 0\n",
    "\n",
    "        # Check if cached weight for this coordinate exists\n",
    "        key = center + (radius,)\n",
    "        if key in cache:\n",
    "            return cache[key]\n",
    "        \n",
    "        # Draw the target sphere in a 3D NumPy array at the specified position\n",
    "        target = np.zeros(self.volume_shape, dtype=np.uint8)\n",
    "        draw_sphere_in_volume(target, radius, center)\n",
    "\n",
    "        # Bitwise and operation between the sphere and mask to calculate intersection\n",
    "        target = target & self.mask\n",
    "\n",
    "        # Calculate the sum (volume) of the target and reference sphere arrays\n",
    "        target = target.sum()\n",
    "\n",
    "        # Reference is calculated instead of simulated for speed increase\n",
    "        reference = (4 / 3) * np.pi * (radius ** 3)\n",
    "\n",
    "        # Ensure that the reference sphere has a non-zero volume\n",
    "        assert reference > 0\n",
    "\n",
    "        # Return the proportion of the sphere within the study volume\n",
    "        # Since target volume is estimated whereas reference volume is calculated,\n",
    "        # there is a small but noticable margin of error when radius < 10, there\n",
    "        # we set maxiumum value of 1.0\n",
    "        weight = min(target / reference, 1.0)\n",
    "\n",
    "        # Save weight to cache\n",
    "        cache[key] = weight\n",
    "        \n",
    "        return weight\n",
    "\n",
    "    def _validate_inputs(self):\n",
    "        # Check if self.points is a list or numpy array\n",
    "        if not isinstance(self.points, (list, np.ndarray)):\n",
    "            e = f\"Expected {np.ndarray}, received {type(self.points)}\"\n",
    "            raise ValueError(e)\n",
    "\n",
    "        # Convert self.points to numpy array if it is a list\n",
    "        if not isinstance(self.points, np.ndarray):\n",
    "            self.points = np.array(self.points)\n",
    "\n",
    "        # Check if self.points array has two dimensions\n",
    "        if len(self.points.shape) != 2:\n",
    "            e = f\"Expected self.points array to have 2 dimensions, but got array with shape {self.points.shape}\"\n",
    "            raise ValueError(e)\n",
    "\n",
    "        # Check if the self.points array second dimension length is 3 (x, y, z)\n",
    "        if self.points.shape[1] != 3:\n",
    "            e = f\"Expected self.points array to have shape (None, 3), but got array with shape {self.points.shape}\"\n",
    "            raise ValueError(e)\n",
    "\n",
    "        # Check if the self.points array has at least 3 points\n",
    "        if self.points.shape[0] < 3:\n",
    "            e = f\"Expected self.points array to have at least 3 points\"\n",
    "            raise ValueError(e)\n",
    "\n",
    "        # Check if radii is list-like or number-like\n",
    "        if not isinstance(self.radii, (np.ndarray, list, int, float)):\n",
    "            e = f\"Expected {(np.ndarray, list, int, float)}, received {type(self.radii)}\"\n",
    "            raise ValueError(e)\n",
    "\n",
    "        # if only one radius given as int, convert to list\n",
    "        if not isinstance(self.radii, (np.ndarray, list)):\n",
    "            self.radii = [self.radii]"
   ]
  },
  {
   "cell_type": "code",
   "execution_count": 56,
   "metadata": {},
   "outputs": [],
   "source": [
    "### Multivariate Ripley Class\n",
    "\n",
    "class CrossRipley(Ripley):\n",
    "\n",
    "\n",
    "    def __init__(\n",
    "        self,\n",
    "        points_i: np.ndarray,\n",
    "        points_j: np.ndarray,\n",
    "        radii: list,\n",
    "        mask: np.ndarray,\n",
    "        boundary_correction: bool = False\n",
    "    ):\n",
    "        self.points_i = points_i\n",
    "        self.points_j = points_j\n",
    "        self.radii = radii\n",
    "        self.mask = mask.astype(np.uint8)\n",
    "        self.volume_shape = self.mask.shape\n",
    "        self.boundary_correction = boundary_correction\n",
    "        self._validate_inputs()\n",
    "\n",
    "        self.i_tree = spatial.cKDTree(self.points_i)\n",
    "        self.j_tree = spatial.cKDTree(self.points_j)\n",
    "        self.study_volume = reduce(lambda x, y: x * y, self.volume_shape)\n",
    "\n",
    "\n",
    "    def test_ripley(self):\n",
    "        self.results = {\"K\": [], \"L\": [], \"H\": []}\n",
    "        for r in tqdm(self.radii):\n",
    "            self._calc_ripley(r)\n",
    "        return list(self.results[\"K\"]), list(self.results[\"L\"]), list(self.results[\"H\"])\n",
    "\n",
    "    # TODO: Rewrite univariate _calc_ripley function for multivariate case\n",
    "    def _calc_ripley(self, radius):\n",
    "        \"\"\"\n",
    "        Calculate 3D multivariate Ripley's functions (K_ij, L_ij, H_ij) for a given radius and\n",
    "        and apply weight coefficient.\n",
    "\n",
    "        For each radius, loop through each point_i and count number of point_j within the radius.\n",
    "        If boundary_correction is True, calculate the weight coefficient based on the volume of\n",
    "        the search sphere within the study volume.\n",
    "\n",
    "        Args:\n",
    "\n",
    "            radius (float): the radius for which to calculate Ripley's functions.\n",
    "\n",
    "        Raises:\n",
    "            ValueError: if K/L values are negative.\n",
    "\n",
    "        Returns:\n",
    "            None. Results are stored in self.results.\n",
    "\n",
    "        \"\"\"\n",
    "        # For each radius, loop through each point and count points\n",
    "        # within the radius\n",
    "        nb_count = 0\n",
    "        for z, y, x in self.points_i:\n",
    "            # print(f\"{i}/{len(self.points_i)}\", end=\"\\r\")\n",
    "            if self.boundary_correction:\n",
    "                weight = self.calculate_weight(radius, (z, y, x))\n",
    "                # If weight is zero (i.e. target sphere not in mask), move on\n",
    "                if weight == 0:\n",
    "                    continue\n",
    "            else:\n",
    "                weight = 1.0\n",
    "\n",
    "            # Since the i point is not included within the j_tree, we do not subtract 1\n",
    "            # as done in the univariate implementation\n",
    "            \n",
    "            nb_count += (len(self.j_tree.query_ball_point([z, y, x], radius, workers=-1))) / weight\n",
    "\n",
    "            # global pbar\n",
    "            # pbar.update()\n",
    "\n",
    "        # calculating 3D Ripley's functions (K_ij, L_ij, H_ij)\n",
    "        N_i = self.points_i.shape[0]\n",
    "        N_j = self.points_j.shape[0]\n",
    "        K_ij = nb_count * self.study_volume / (N_i * N_j)\n",
    "        L_ij = ((3. / 4) * (K_ij / np.pi)) ** (1. / 3)\n",
    "        H_ij = L_ij - radius\n",
    "        \n",
    "        # Verify K/L values positive\n",
    "        if K_ij < 0 or L_ij < 0:\n",
    "            raise ValueError(f\"K/L values should not be negative. nb_count: {nb_count}, volume: {self.volume_shape}, N_i: {N_i}, N_j: {N_j}\")\n",
    "\n",
    "        self.results[\"K\"].append((radius, K_ij))\n",
    "        self.results[\"L\"].append((radius, L_ij))\n",
    "        self.results[\"H\"].append((radius, H_ij))\n",
    "\n",
    "    def _validate_inputs(self):\n",
    "        # Check if self.points_i is a list or numpy array\n",
    "        if not isinstance(self.points_i, (list, np.ndarray)):\n",
    "            e = f\"Expected {np.ndarray}, received {type(self.points_i)}\"\n",
    "            raise ValueError(e)\n",
    "\n",
    "        # Check if self.points_j is a list or numpy array\n",
    "        if not isinstance(self.points_j, (list, np.ndarray)):\n",
    "            e = f\"Expected {np.ndarray}, received {type(self.points_j)}\"\n",
    "            raise ValueError(e)\n",
    "\n",
    "        # Convert self.points_i to numpy array if it is a list\n",
    "        if not isinstance(self.points_i, np.ndarray):\n",
    "            self.points_i = np.array(self.points_i)\n",
    "            \n",
    "        # Convert self.points_j to numpy array if it is a list\n",
    "        if not isinstance(self.points_j, np.ndarray):\n",
    "            self.points_j = np.array(self.points_j)\n",
    "\n",
    "        # Check if self.points_i array has two dimensions\n",
    "        if len(self.points_i.shape) != 2:\n",
    "            e = f\"Expected self.points_i array to have 2 dimensions, but got array with shape {self.points_i.shape}\"\n",
    "            raise ValueError(e)\n",
    "\n",
    "        # Check if self.points_j array has two dimensions\n",
    "        if len(self.points_j.shape) != 2:\n",
    "            e = f\"Expected self.points_j array to have 2 dimensions, but got array with shape {self.points_j.shape}\"\n",
    "            raise ValueError(e)\n",
    "\n",
    "        # Check if the self.points_i array second dimension length is 3 (x, y, z)\n",
    "        if self.points_i.shape[1] != 3:\n",
    "            e = f\"Expected self.points_i array to have shape (None, 3), but got array with shape {self.points_i.shape}\"\n",
    "            raise ValueError(e)\n",
    "\n",
    "        # Check if the self.points_j array second dimension length is 3 (x, y, z)\n",
    "        if self.points_j.shape[1] != 3:\n",
    "            e = f\"Expected self.points_j array to have shape (None, 3), but got array with shape {self.points_j.shape}\"\n",
    "            raise ValueError(e)\n",
    "\n",
    "        # Check if the self.points_i array has at least 3 points\n",
    "        if self.points_i.shape[0] < 3:\n",
    "            e = f\"Expected self.points_i array to have at least 3 points\"\n",
    "            raise ValueError(e)\n",
    "\n",
    "        # Check if the self.points_j array has at least 3 points\n",
    "        if self.points_j.shape[0] < 3:\n",
    "            e = f\"Expected self.points_j array to have at least 3 points\"\n",
    "            raise ValueError(e)\n",
    "\n",
    "        # Check if radii is list-like or number-like\n",
    "        if not isinstance(self.radii, (np.ndarray, list, int, float)):\n",
    "            e = f\"Expected {(np.ndarray, list, int, float)}, received {type(self.radii)}\"\n",
    "            raise ValueError(e)\n",
    "\n",
    "        # if only one radius given as int, convert to list\n",
    "        if not isinstance(self.radii, (np.ndarray, list)):\n",
    "            self.radii = [self.radii]\n",
    "\n",
    "        # if points are not within volume, raise error\n",
    "        for p in [self.points_i, self.points_j]:\n",
    "            assert all(x < self.volume_shape[2] for x in p[:, 2])\n",
    "            assert all(y < self.volume_shape[1] for y in p[:, 1])\n",
    "            assert all(z < self.volume_shape[0] for z in p[:, 0])"
   ]
  },
  {
   "cell_type": "code",
   "execution_count": 57,
   "metadata": {},
   "outputs": [],
   "source": [
    "### Test sphere drawing\n",
    "\n",
    "# def draw_sphere(shape, radius, center) -> np.ndarray:\n",
    "#     sphere = rg.nd_superellipsoid(shape, radius, position=center, rel_sizes=False, rel_position=False)\n",
    "#     return sphere.astype(np.int_)\n",
    "\n",
    "# container_shape = (100, 100, 100)\n",
    "# radius = 7\n",
    "# center = (2, 2, 2)\n",
    "\n",
    "# # print(calculate_weight(container_shape, radius, center))\n",
    "# test_sphere = draw_sphere(container_shape, radius, center)\n",
    "\n",
    "# from mpl_toolkits.mplot3d import Axes3D\n",
    "# z,x,y = test_sphere.nonzero()\n",
    "# fig = plt.figure()\n",
    "# ax = fig.add_subplot(111, projection='3d')\n",
    "# set_aspect_ratio_equal(ax)\n",
    "# ax.axes.set_xlim3d(left=0, right=container_shape[1]) \n",
    "# ax.axes.set_ylim3d(bottom=0, top=container_shape[2]) \n",
    "# ax.axes.set_zlim3d(bottom=0, top=container_shape[0]) \n",
    "# ax.scatter(x, y, z, zdir='z', c= 'red')\n",
    "# plt.show()"
   ]
  },
  {
   "cell_type": "code",
   "execution_count": 58,
   "metadata": {},
   "outputs": [],
   "source": [
    "# def sample_clustered_points(points):\n",
    "#     from random import randrange\n",
    "#     \"\"\"\n",
    "#     Given a set of points, returns a second set of points that are spatially\n",
    "#     related\n",
    "#     \"\"\"\n",
    "#     new_points = [[z+randrange(0,11)-5, y+randrange(0,11)-5, x+randrange(0,11)-5] for z, y, x in points]\n",
    "#     return np.array(new_points)"
   ]
  },
  {
   "cell_type": "code",
   "execution_count": 59,
   "metadata": {},
   "outputs": [],
   "source": [
    "# ### Visualize Multivariate Points Within Sphere\n",
    "# random_DTC = stats.uniform.rvs(loc=0, scale=100, size=(100,3))\n",
    "# random_NG2 = sample_clustered_points(random_DTC)\n",
    "# # random_NG2 = stats.uniform.rvs(loc=0, scale=100, size=(100,3))\n",
    "# # random_NG2 = stats.skewnorm.rvs(a=4, loc=50, scale=25, size=(100,3))\n",
    "\n",
    "# DTC_tree = spatial.cKDTree(random_DTC)\n",
    "# NG2_tree = spatial.cKDTree(random_NG2)\n",
    "\n",
    "# DTC_idx_in = DTC_tree.query_ball_point((50,50,50), 20)\n",
    "# NG2_idx_in = NG2_tree.query_ball_point((50,50,50), 20)"
   ]
  },
  {
   "cell_type": "code",
   "execution_count": 60,
   "metadata": {},
   "outputs": [],
   "source": [
    "# DTC_idx_out = np.ones(len(random_DTC), bool); DTC_idx_out[DTC_idx_in] = 0\n",
    "# NG2_idx_out = np.ones(len(random_NG2), bool); NG2_idx_out[NG2_idx_in] = 0\n",
    "\n",
    "# DTC_inside, DTC_outside = random_DTC[DTC_idx_in], random_DTC[DTC_idx_out]\n",
    "# NG2_inside, NG2_outside = random_NG2[NG2_idx_in], random_NG2[NG2_idx_out]\n",
    "\n",
    "# DTC_ix, DTC_ox = DTC_inside[:, 0], DTC_outside[:, 0]\n",
    "# DTC_iy, DTC_oy = DTC_inside[:, 1], DTC_outside[:, 1]\n",
    "# DTC_iz, DTC_oz = DTC_inside[:, 2], DTC_outside[:, 2]\n",
    "\n",
    "# NG2_ix, NG2_ox = NG2_inside[:, 0], NG2_outside[:, 0]\n",
    "# NG2_iy, NG2_oy = NG2_inside[:, 1], NG2_outside[:, 1]\n",
    "# NG2_iz, NG2_oz = NG2_inside[:, 2], NG2_outside[:, 2]\n",
    "\n",
    "# fig = plt.figure()\n",
    "# ax = fig.add_subplot(projection='3d')\n",
    "# set_aspect_ratio_equal(ax)\n",
    "# ax.scatter(DTC_ix,DTC_iy,DTC_iz, color=\"g\",marker=\"o\", depthshade=0)\n",
    "# ax.scatter(DTC_ox,DTC_oy,DTC_oz,color=\"y\",marker=\"o\", depthshade=1)\n",
    "# ax.scatter(NG2_ix,NG2_iy,NG2_iz, color=\"r\",marker=\"o\", depthshade=0)\n",
    "# ax.scatter(NG2_ox,NG2_oy,NG2_oz,color=\"m\",marker=\"o\", depthshade=1)\n",
    "\n",
    "# scale = 20\n",
    "# # draw sphere\n",
    "# u, v = np.mgrid[0:2*np.pi:20j, 0:np.pi:10j]\n",
    "# cx = scale*np.cos(u)*np.sin(v)+50\n",
    "# cy = scale*np.sin(u)*np.sin(v)+50\n",
    "# cz = scale*np.cos(v)+50\n",
    "# ax.plot_wireframe(cx, cy, cz, color=\"gray\", alpha=0.3)"
   ]
  },
  {
   "cell_type": "code",
   "execution_count": 61,
   "metadata": {},
   "outputs": [],
   "source": [
    "# For this rectangular test case, volume_mask is just an array of ones\n",
    "# volume_mask = np.ones((100, 100, 100))\n",
    "# volume = volume_mask.sum()\n",
    "# volume_shape = volume_mask.shape"
   ]
  },
  {
   "cell_type": "code",
   "execution_count": 62,
   "metadata": {},
   "outputs": [],
   "source": [
    "# ### Run Multivariate (Cross) Ripley on Random Points data\n",
    "# crossripley_data = []\n",
    "# crossripley_data_w = []\n",
    "\n",
    "# radii = np.arange(2, 67) \n",
    "# crossripley = CrossRipley(random_DTC, random_NG2, radii, volume_mask, boundary_correction=False)\n",
    "# crossripley_w = CrossRipley(random_DTC, random_NG2, radii, volume_mask, boundary_correction=True)\n",
    "\n",
    "# K, L, H = map(sorted, crossripley.run_ripley(1))\n",
    "# K_w, L_w, H_w = map(sorted, crossripley_w.run_ripley(16))\n",
    "\n",
    "# # Organize into list of [Radius, K, L, H, Type, Line] \n",
    "# crossripley_data += [(k[0], k[1], l[1], h[1], \"CSR\") for k, l, h in zip(K, L, H)]\n",
    "# crossripley_data_w += [(k[0], k[1], l[1], h[1], \"CSR\") for k, l, h in zip(K_w, L_w, H_w)]\n",
    "\n",
    "# rstats = pd.DataFrame(crossripley_data, columns=[\"Radius (r)\", \"K(r)\", \"L(r)\", \"H(r)\", \"Type\"])\n",
    "# rstats_w = pd.DataFrame(crossripley_data_w, columns=[\"Radius (r)\", \"K(r)\", \"L(r)\", \"H(r)\", \"Type\"])"
   ]
  },
  {
   "cell_type": "code",
   "execution_count": 63,
   "metadata": {},
   "outputs": [],
   "source": [
    "# plt.rcParams['figure.figsize'] = [16, 9]\n",
    "# f, axes = plt.subplots(2, 3)\n",
    "# tumor_data_w = []\n",
    "\n",
    "# # Max ripley search sphere size. Typically 1/3 or 1/2 of smallest dimension\n",
    "# # max_search_radius = min(mask.shape) // 3\n",
    "# ripley = Ripley(tumor_points, tumor_radii, mask, boundary_correction=False)\n",
    "# ripley_w = Ripley(tumor_points, tumor_radii, mask, boundary_correction=True)\n",
    "\n",
    "# # Sort by radii\n",
    "# K, L, H = map(sorted, ripley.run_ripley(2))\n",
    "# K_w, L_w, H_w = map(sorted, ripley_w.run_ripley(63))\n",
    "\n",
    "# # Organize into list of [Radius, K, L, H, Type, Line] \n",
    "# tumor_data += [(k[0], k[1], l[1], h[1], \"Tumor\") for k, l, h in zip(K, L, H)]\n",
    "# tumor_data_w += [(k[0], k[1], l[1], h[1], \"Tumor\") for k, l, h in zip(K_w, L_w, H_w)]\n",
    "    \n",
    "# tumor_rstats = pd.DataFrame(tumor_data, columns=[\"Radius (r)\", \"K(r)\", \"L(r)\", \"H(r)\", \"Type\"])\n",
    "# tumor_rstats_w \n",
    "# axes[0, 1].plot([0, 50], [0, 50], linewidth=1, linestyle=\"dotted\", color=\"#aaa\") # Expected line\n",
    "# # H\n",
    "# sns.lineplot(data=rstats, x=\"Radius (r)\", y=\"H(r)\", ax=axes[0, 2])\n",
    "# axes[0, 2].plot([0, 50], [0, 0], linewidth=1, linestyle=\"dotted\", color=\"#aaa\") # Expected line\n",
    "\n",
    "# ## Bottom Row\n",
    "# # K\n",
    "# sns.lineplot(data=rstats_w, x=\"Radius (r)\", y=\"K(r)\", ax=axes[1, 0], alpha=1)\n",
    "# # L\n",
    "# sns.lineplot(data=rstats_w, x=\"Radius (r)\", y=\"L(r)\", ax=axes[1, 1], alpha=1)\n",
    "# axes[1, 1].plot([0, 50], [0, 50], linewidth=1, linestyle=\"dotted\", color=\"#aaa\") # Expected line\n",
    "# # H\n",
    "# sns.lineplot(data=rstats_w, x=\"Radius (r)\", y=\"H(r)\", ax=axes[1, 2], alpha=1)\n",
    "# axes[1, 2].plot([0, 50], [0, 0], linewidth=1, linestyle=\"dotted\", color=\"#aaa\") # Expected line\n",
    "\n",
    "# plt.show()"
   ]
  },
  {
   "cell_type": "code",
   "execution_count": 64,
   "metadata": {},
   "outputs": [],
   "source": [
    "### Visualize Univariate Points Within Sphere\n",
    "\n",
    "# test_random_points = stats.uniform.rvs(0, 100, (100,3))\n",
    "# test_tree = spatial.cKDTree(test_random_points)\n",
    "# idx_in = test_tree.query_ball_point((50,50,50),20)\n",
    "\n",
    "# idx_out = np.ones(len(test_random_points), bool)\n",
    "# idx_out[idx_in] = 0\n",
    "\n",
    "# pts_inside_radius = test_random_points[idx_in]\n",
    "# pts_outside_radius = test_random_points[idx_out]\n",
    "\n",
    "# print(len(test_random_points), len(pts_inside_radius), len(pts_outside_radius))\n",
    "\n",
    "# ix, ox = pts_inside_radius[:, 0], pts_outside_radius[:, 0]\n",
    "# iy, oy = pts_inside_radius[:, 1], pts_outside_radius[:, 1]\n",
    "# iz, oz = pts_inside_radius[:, 2], pts_outside_radius[:, 2]\n",
    "\n",
    "# fig = plt.figure()\n",
    "# ax = fig.add_subplot(projection='3d')\n",
    "# set_aspect_ratio_equal(ax)\n",
    "# ax.scatter(ix,iy,iz, color=\"b\",marker=\"o\", depthshade=0)\n",
    "# ax.scatter(ox,oy,oz,color=\"r\",marker=\"o\", depthshade=1)\n",
    "\n",
    "\n",
    "# scale = 20\n",
    "# # draw sphere\n",
    "# u, v = np.mgrid[0:2*np.pi:20j, 0:np.pi:10j]\n",
    "# cx = scale*np.cos(u)*np.sin(v)+50\n",
    "# cy = scale*np.sin(u)*np.sin(v)+50\n",
    "# cz = scale*np.cos(v)+50\n",
    "# ax.plot_wireframe(cx, cy, cz, color=\"gray\", alpha=0.3)"
   ]
  },
  {
   "cell_type": "markdown",
   "metadata": {},
   "source": [
    "### Complete Spatial Randomness (CSR) Representations"
   ]
  },
  {
   "cell_type": "code",
   "execution_count": 65,
   "metadata": {},
   "outputs": [],
   "source": [
    "# CSR_data = []\n",
    "# CSR_data_w = []\n",
    "# # Starting at 2 because radius of 1 causes errors at the boundaries\n",
    "# # where sometimes the entire circle falls outside of study area\n",
    "# # resulting in a weight of 0.0\n",
    "# radii=np.arange(2, 67) \n",
    "# n_samples = 5\n",
    "# for n in range(n_samples):\n",
    "#     print(f\"{n}/{n_samples}\")\n",
    "#     CSR_points = stats.uniform.rvs(0, 100, (100,3))\n",
    "#     # pbar = tqdm(total=len(CSR_points))\n",
    "#     ripley = Ripley(CSR_points, radii, volume_mask, boundary_correction=False)\n",
    "#     ripley_w = Ripley(CSR_points, radii, volume_mask, boundary_correction=True)\n",
    "\n",
    "#     # Sort by radii\n",
    "#     K, L, H = map(sorted, ripley.run_ripley(1))\n",
    "#     print(\"done\")\n",
    "#     K_w, L_w, H_w = map(sorted, ripley_w.run_ripley(8))\n",
    "\n",
    "#     # Organize into list of [Radius, K, L, H, Type, Line] \n",
    "#     CSR_data += [(k[0], k[1], l[1], h[1], \"CSR\", n) for k, l, h in zip(K, L, H)]\n",
    "#     CSR_data_w += [(k[0], k[1], l[1], h[1], \"CSR\", n) for k, l, h in zip(K_w, L_w, H_w)]\n",
    "    \n",
    "# rstats = pd.DataFrame(CSR_data, columns=[\"Radius (r)\", \"K(r)\", \"L(r)\", \"H(r)\", \"Type\", \"Line\"])\n",
    "# rstats_w = pd.DataFrame(CSR_data_w, columns=[\"Radius (r)\", \"K(r)\", \"L(r)\", \"H(r)\", \"Type\", \"Line\"])\n",
    "# rstats_w"
   ]
  },
  {
   "cell_type": "code",
   "execution_count": 66,
   "metadata": {},
   "outputs": [],
   "source": [
    "# plt.rcParams['figure.figsize'] = [16, 9]\n",
    "# f, axes = plt.subplots(2, 3)\n",
    "\n",
    "# ## Top Row\n",
    "# # K\n",
    "# sns.lineplot(data=rstats, x=\"Radius (r)\", y=\"K(r)\", ax=axes[0, 0], hue=\"Line\")\n",
    "# # L\n",
    "# sns.lineplot(data=rstats, x=\"Radius (r)\", y=\"L(r)\", ax=axes[0, 1], hue=\"Line\")\n",
    "# axes[0, 1].plot([0, 50], [0, 50], linewidth=1, linestyle=\"dotted\", color=\"#aaa\") # Expected line\n",
    "# # H\n",
    "# sns.lineplot(data=rstats, x=\"Radius (r)\", y=\"H(r)\", ax=axes[0, 2], hue=\"Line\")\n",
    "# axes[0, 2].plot([0, 50], [0, 0], linewidth=1, linestyle=\"dotted\", color=\"#aaa\") # Expected line\n",
    "\n",
    "# ## Bottom Row\n",
    "# # K\n",
    "# sns.lineplot(data=rstats, x=\"Radius (r)\", y=\"K(r)\", ax=axes[1, 0], alpha=0, errorbar=(\"pi\", 95))\n",
    "# # L\n",
    "# sns.lineplot(data=rstats, x=\"Radius (r)\", y=\"L(r)\", ax=axes[1, 1], alpha=0, errorbar=(\"pi\", 95))\n",
    "# axes[1, 1].plot([0, 50], [0, 50], linewidth=1, linestyle=\"dotted\", color=\"#aaa\") # Expected line\n",
    "# # H\n",
    "# sns.lineplot(data=rstats, x=\"Radius (r)\", y=\"H(r)\", ax=axes[1, 2], alpha=0, errorbar=(\"ci\", 95))\n",
    "# axes[1, 2].plot([0, 50], [0, 0], linewidth=1, linestyle=\"dotted\", color=\"#aaa\") # Expected line\n",
    "\n",
    "# plt.show()\n",
    "\n"
   ]
  },
  {
   "cell_type": "code",
   "execution_count": 67,
   "metadata": {},
   "outputs": [],
   "source": [
    "# f, axes = plt.subplots(2, 3,)\n",
    "\n",
    "# ## Top Row\n",
    "# # K\n",
    "# sns.lineplot(data=rstats_w, x=\"Radius (r)\", y=\"K(r)\", ax=axes[0, 0], hue=\"Line\")\n",
    "# # L\n",
    "# sns.lineplot(data=rstats_w, x=\"Radius (r)\", y=\"L(r)\", ax=axes[0, 1], hue=\"Line\")\n",
    "# axes[0, 1].plot([0, 50], [0, 50], linewidth=1, linestyle=\"dotted\", color=\"#aaa\") # Expected line\n",
    "# # H\n",
    "# sns.lineplot(data=rstats_w, x=\"Radius (r)\", y=\"H(r)\", ax=axes[0, 2], hue=\"Line\")\n",
    "# axes[0, 2].plot([0, 50], [0, 0], linewidth=1, linestyle=\"dotted\", color=\"#aaa\") # Expected line\n",
    "\n",
    "# ## Bottom Row\n",
    "# # K\n",
    "# sns.lineplot(data=rstats_w, x=\"Radius (r)\", y=\"K(r)\", ax=axes[1, 0], alpha=0, errorbar=(\"pi\", 95))\n",
    "# # L\n",
    "# sns.lineplot(data=rstats_w, x=\"Radius (r)\", y=\"L(r)\", ax=axes[1, 1], alpha=0, errorbar=(\"pi\", 95))\n",
    "# axes[1, 1].plot([0, 50], [0, 50], linewidth=1, linestyle=\"dotted\", color=\"#aaa\") # Expected line\n",
    "# # H\n",
    "# sns.lineplot(data=rstats_w, x=\"Radius (r)\", y=\"H(r)\", ax=axes[1, 2], alpha=0, errorbar=(\"pi\", 95))\n",
    "# axes[1, 2].plot([0, 50], [0, 0], linewidth=1, linestyle=\"dotted\", color=\"#aaa\") # Expected line\n",
    "\n",
    "# plt.show()"
   ]
  },
  {
   "cell_type": "code",
   "execution_count": 68,
   "metadata": {},
   "outputs": [],
   "source": [
    "# import ipytest\n",
    "# ipytest.autoconfig(raise_on_error=True)\n",
    "# %%ipytest -qq\n",
    "\n",
    "# # Tests\n",
    "\n",
    "# def test_valid_input():\n",
    "#     valid_points = [\n",
    "#         np.array([[38.4002419, 38.62931512, 41.6131775], [38, 38, 41], [1, 6, 8]]),\n",
    "#         np.array([[38, 38, 41], [1, 2, 3], [20, 20, 20]]),\n",
    "#         [[38.4002419, 38.62931512, 41.6131775], [3.4002419, 8.62931512, 1.6131775], [8.4002419, 3.62931512, 4.6131775]],\n",
    "#         [[38, 38, 41], [1, 2, 3], [4, 5, 6]],\n",
    "#     ]\n",
    "#     for p in valid_points:\n",
    "#         ripley(p, radii=1, volume_shape=(100,100,100))\n",
    "\n",
    "# def test_invalid_input():\n",
    "#     invalid_points = [\n",
    "#         np.array([[38.4002419, 38.62931512, 41.6131775]]),\n",
    "#         np.array([[38, 38, 41], [1, 2, 3]]),\n",
    "#         [[38.4002419, 38.62931512, 41.6131775]],\n",
    "#         [[38, 38, 41], [1, 2, 3]],\n",
    "#         \"38.4002419, 38.62931512, 41.6131775\",\n",
    "#         np.array([38.4002419, 38.62931512, 41.6131775]),\n",
    "#         np.array([[[38.4002419, 38.62931512, 41.6131775]]]),\n",
    "#         np.array([[38.4002419, 38.62931512]]),\n",
    "#         5,\n",
    "#         7.8,\n",
    "#         [6],\n",
    "#     ]\n",
    "#     for p in invalid_points:\n",
    "#         with pytest.raises(ValueError):\n",
    "#             ripley(p, radii=1, volume_shape=(100,100,100))\n"
   ]
  },
  {
   "cell_type": "code",
   "execution_count": 69,
   "metadata": {},
   "outputs": [],
   "source": [
    "tumor_dict = tumor_csv.to_dict(\"index\")\n",
    "# tumor_dict"
   ]
  },
  {
   "cell_type": "code",
   "execution_count": 70,
   "metadata": {},
   "outputs": [],
   "source": [
    "tumor_points = []\n",
    "for idx, tumor_info in tumor_dict.items():\n",
    "    x_um, y_um, z_slice = map(int, (tumor_info[\"x (um)\"], tumor_info[\"y (um)\"], tumor_info[\"z (slice)\"]))\n",
    "    x, y, z = map(int, (x_um / x_step, y_um / y_step, z_slice-1))\n",
    "    tumor_points.append([z, y, x])\n",
    "\n",
    "tumor_points = np.array(tumor_points, dtype=np.float64)\n",
    "n_tumor_points = tumor_points.shape[0]"
   ]
  },
  {
   "cell_type": "code",
   "execution_count": 71,
   "metadata": {},
   "outputs": [
    {
     "data": {
      "text/plain": [
       "85.11735628182328"
      ]
     },
     "execution_count": 71,
     "metadata": {},
     "output_type": "execute_result"
    }
   ],
   "source": [
    "stats.uniform.rvs(0, 100)"
   ]
  },
  {
   "cell_type": "code",
   "execution_count": 72,
   "metadata": {},
   "outputs": [],
   "source": [
    "\n",
    "# CSR_tumor_data = []\n",
    "# CSR_tumor_data_w = []\n",
    "\n",
    "# n_samples = 20\n",
    "# tumor_radii = np.arange(2, 400)\n",
    "# for n in range(n_samples):\n",
    "\n",
    "#     ## Generate random (CSR) points within the mask\n",
    "#     CSR_tumor_points = np.empty((n_tumor_points, 3), dtype=np.uint16)\n",
    "#     for i in range(n_tumor_points):\n",
    "#         # if generated point outside of mask, repeat, else break\n",
    "#         while(True):\n",
    "#             z, y, x = map(int, [stats.uniform.rvs(0, mask.shape[j]) for j in range(3)])\n",
    "#             if mask[z, y, x] == 1:\n",
    "#                 CSR_tumor_points[i] = np.array([z, y, x])\n",
    "#                 break\n",
    "            \n",
    "#     ripley = Ripley(CSR_tumor_points, tumor_radii, mask, boundary_correction=False)\n",
    "#     ripley_w = Ripley(CSR_tumor_points, tumor_radii, mask, boundary_correction=True)\n",
    "\n",
    "#     # Sort by radii\n",
    "#     K, L, H = map(sorted, ripley.run_ripley(1))\n",
    "#     K_w, L_w, H_w = map(sorted, ripley_w.run_ripley(63))\n",
    "\n",
    "#     # Organize into list of [Radius, K, L, H, Type, Line] \n",
    "#     CSR_tumor_data += [(k[0], k[1], l[1], h[1], \"Tumor_CSR\", n) for k, l, h in zip(K, L, H)]\n",
    "#     CSR_tumor_data_w += [(k[0], k[1], l[1], h[1], \"Tumor_CSR\", n) for k, l, h in zip(K_w, L_w, H_w)]\n",
    "    \n",
    "# CSR_tumor_rstats = pd.DataFrame(CSR_tumor_data, columns=[\"Radius (r)\", \"K(r)\", \"L(r)\", \"H(r)\", \"Type\", \"Line\"])\n",
    "# CSR_tumor_rstats_w = pd.DataFrame(CSR_tumor_data_w, columns=[\"Radius (r)\", \"K(r)\", \"L(r)\", \"H(r)\", \"Type\", \"Line\"])"
   ]
  },
  {
   "cell_type": "code",
   "execution_count": 73,
   "metadata": {},
   "outputs": [],
   "source": [
    "# CSR_tumor_rstats.to_csv(\"/home/dkermany/test.csv\")"
   ]
  },
  {
   "attachments": {},
   "cell_type": "markdown",
   "metadata": {},
   "source": [
    "Tumor Ripley Call\n",
    "<a id=\"tumor_ripley\"></a><br>\n",
    "[Draw Sphere Function](#draw_sphere_in_volume)\n"
   ]
  },
  {
   "cell_type": "code",
   "execution_count": 74,
   "metadata": {},
   "outputs": [],
   "source": [
    "# tumor_data = []\n",
    "# tumor_data_w = []\n",
    "\n",
    "# # Max ripley search sphere size. Typically 1/3 or 1/2 of smallest dimension\n",
    "# # max_search_radius = min(mask.shape) // 3\n",
    "# ripley = Ripley(tumor_points, tumor_radii, mask, boundary_correction=False)\n",
    "# ripley_w = Ripley(tumor_points, tumor_radii, mask, boundary_correction=True)\n",
    "\n",
    "# # Sort by radii\n",
    "# K, L, H = map(sorted, ripley.run_ripley(2))\n",
    "# K_w, L_w, H_w = map(sorted, ripley_w.run_ripley(63))\n",
    "\n",
    "# # Organize into list of [Radius, K, L, H, Type, Line] \n",
    "# tumor_data += [(k[0], k[1], l[1], h[1], \"Tumor\") for k, l, h in zip(K, L, H)]\n",
    "# tumor_data_w += [(k[0], k[1], l[1], h[1], \"Tumor\") for k, l, h in zip(K_w, L_w, H_w)]\n",
    "    \n",
    "# tumor_rstats = pd.DataFrame(tumor_data, columns=[\"Radius (r)\", \"K(r)\", \"L(r)\", \"H(r)\", \"Type\"])\n",
    "# tumor_rstats_w = pd.DataFrame(tumor_data_w, columns=[\"Radius (r)\", \"K(r)\", \"L(r)\", \"H(r)\", \"Type\"])\n",
    "\n"
   ]
  },
  {
   "cell_type": "code",
   "execution_count": 75,
   "metadata": {},
   "outputs": [],
   "source": [
    "# f, axes = plt.subplots(2, 3,)\n",
    "\n",
    "# ## Top Row\n",
    "# # K\n",
    "# sns.lineplot(data=tumor_rstats, x=\"Radius (r)\", y=\"K(r)\", ax=axes[0, 0])\n",
    "# sns.lineplot(data=CSR_tumor_rstats, x=\"Radius (r)\", y=\"K(r)\", ax=axes[0, 0], alpha=0, errorbar=(\"pi\", 95))\n",
    "# # L\n",
    "# sns.lineplot(data=tumor_rstats, x=\"Radius (r)\", y=\"L(r)\", ax=axes[0, 1])\n",
    "# sns.lineplot(data=CSR_tumor_rstats, x=\"Radius (r)\", y=\"L(r)\", ax=axes[0, 1], alpha=0, errorbar=(\"pi\", 95))\n",
    "# axes[0, 1].plot([0, 400], [0, 400], linewidth=1, linestyle=\"dotted\", color=\"#aaa\") # Expected line\n",
    "# # H\n",
    "# sns.lineplot(data=tumor_rstats, x=\"Radius (r)\", y=\"H(r)\", ax=axes[0, 2])\n",
    "# sns.lineplot(data=CSR_tumor_rstats, x=\"Radius (r)\", y=\"H(r)\", ax=axes[0, 2], alpha=0, errorbar=(\"pi\", 95))\n",
    "# axes[0, 2].plot([0, 400], [0, 0], linewidth=1, linestyle=\"dotted\", color=\"#aaa\") # Expected line\n",
    "\n",
    "# ## Bottom Row - Boundary Corrected\n",
    "# # K\n",
    "# sns.lineplot(data=tumor_rstats_w, x=\"Radius (r)\", y=\"K(r)\", ax=axes[1, 0])\n",
    "# sns.lineplot(data=CSR_tumor_rstats_w, x=\"Radius (r)\", y=\"K(r)\", ax=axes[1, 0], alpha=0, errorbar=(\"pi\", 95))\n",
    "# # L\n",
    "# sns.lineplot(data=tumor_rstats_w, x=\"Radius (r)\", y=\"L(r)\", ax=axes[1, 1])\n",
    "# sns.lineplot(data=CSR_tumor_rstats_w, x=\"Radius (r)\", y=\"L(r)\", ax=axes[1, 1], alpha=0, errorbar=(\"pi\", 95))\n",
    "# axes[1, 1].plot([0, 400], [0, 400], linewidth=1, linestyle=\"dotted\", color=\"#aaa\") # Expected line\n",
    "# # H\n",
    "# sns.lineplot(data=tumor_rstats_w, x=\"Radius (r)\", y=\"H(r)\", ax=axes[1, 2])\n",
    "# sns.lineplot(data=CSR_tumor_rstats_w, x=\"Radius (r)\", y=\"H(r)\", ax=axes[1, 2], alpha=0, errorbar=(\"pi\", 95))\n",
    "# axes[1, 2].plot([0, 400], [0, 0], linewidth=1, linestyle=\"dotted\", color=\"#aaa\") # Expected line\n",
    "\n",
    "# plt.show()"
   ]
  },
  {
   "cell_type": "code",
   "execution_count": 76,
   "metadata": {},
   "outputs": [],
   "source": [
    "# f, axes = plt.subplots(2, 3,)\n",
    "\n",
    "# ## Top Row\n",
    "# # K\n",
    "# sns.lineplot(data=CSR_tumor_rstats, x=\"Radius (r)\", y=\"K(r)\", ax=axes[-1, 0], alpha=0, errorbar=(\"pi\", 95))\n",
    "# # L\n",
    "# sns.lineplot(data=CSR_tumor_rstats, x=\"Radius (r)\", y=\"L(r)\", ax=axes[0, 1], alpha=0, errorbar=(\"pi\", 95))\n",
    "# axes[0, 1].plot([0, 400], [0, 400], linewidth=1, linestyle=\"dotted\", color=\"#aaa\") # Expected line\n",
    "# # H\n",
    "# sns.lineplot(data=CSR_tumor_rstats, x=\"Radius (r)\", y=\"H(r)\", ax=axes[0, 2], alpha=0, errorbar=(\"pi\", 95))\n",
    "# axes[0, 2].plot([0, 400], [0, 0], linewidth=1, linestyle=\"dotted\", color=\"#aaa\") # Expected line\n",
    "\n",
    "# ## Bottom Row\n",
    "# # K\n",
    "# sns.lineplot(data=CSR_tumor_rstats_w, x=\"Radius (r)\", y=\"K(r)\", ax=axes[1, 0], alpha=0, errorbar=(\"pi\", 95))\n",
    "# # L\n",
    "# sns.lineplot(data=CSR_tumor_rstats_w, x=\"Radius (r)\", y=\"L(r)\", ax=axes[1, 1], alpha=0, errorbar=(\"pi\", 95))\n",
    "# axes[1, 1].plot([0, 400], [0, 400], linewidth=1, linestyle=\"dotted\", color=\"#aaa\") # Expected line\n",
    "# # H\n",
    "# sns.lineplot(data=CSR_tumor_rstats_w, x=\"Radius (r)\", y=\"H(r)\", ax=axes[1, 2], alpha=0, errorbar=(\"pi\", 95))\n",
    "# axes[1, 2].plot([0, 400], [0, 0], linewidth=1, linestyle=\"dotted\", color=\"#aaa\") # Expected line\n",
    "\n",
    "# plt.show()\n",
    "\n"
   ]
  },
  {
   "cell_type": "code",
   "execution_count": 77,
   "metadata": {},
   "outputs": [],
   "source": [
    "ng2_points_path = f\"/home/dkermany/data/Bone_Project/NG2_Centroids/{filename}_NG2_centroids.npy\"\n",
    "ng2_points = np.flip(np.load(ng2_points_path).T, axis=1) # put points into Z,Y,X format (N, 3)\n",
    "cross_tumor_radii = np.arange(2, 100)"
   ]
  },
  {
   "cell_type": "code",
   "execution_count": 78,
   "metadata": {},
   "outputs": [
    {
     "name": "stdout",
     "output_type": "stream",
     "text": [
      "Tumor points: (23, 3)\n",
      "NG2 points: (538, 3)\n"
     ]
    }
   ],
   "source": [
    "print(f\"Tumor points: {tumor_points.shape}\")\n",
    "print(f\"NG2 points: {ng2_points.shape}\")"
   ]
  },
  {
   "cell_type": "code",
   "execution_count": 79,
   "metadata": {},
   "outputs": [
    {
     "name": "stderr",
     "output_type": "stream",
     "text": [
      "100%|███████████████████████████████████████████| 98/98 [02:40<00:00,  1.64s/it]\n"
     ]
    }
   ],
   "source": [
    "\n",
    "# cross_tumor_data = []\n",
    "cross_tumor_data_w = []\n",
    "\n",
    "# Max ripley search sphere size. Typically 1/3 or 1/2 of smallest dimension\n",
    "# max_search_radius = min(mask.shape) // 3\n",
    "# ripley = CrossRipley(tumor_points, ng2_points, cross_tumor_radii, mask, boundary_correction=False)\n",
    "ripley_w = CrossRipley(tumor_points, ng2_points, cross_tumor_radii, mask, boundary_correction=True)\n",
    "\n",
    "# Sort by radii\n",
    "# K, L, H = map(sorted, ripley.run_ripley(1))\n",
    "K_w, L_w, H_w = map(sorted, ripley_w.run_ripley(63))\n",
    "\n",
    "# # Organize into list of [Radius, K, L, H, Type] \n",
    "# cross_tumor_data += [(k[0], k[1], l[1], h[1], \"Tumor\") for k, l, h in zip(K, L, H)]\n",
    "cross_tumor_data_w += [(k[0], k[1], l[1], h[1], \"Tumor\") for k, l, h in zip(K_w, L_w, H_w)]\n",
    "    \n",
    "# cross_tumor_rstats = pd.DataFrame(cross_tumor_data, columns=[\"Radius (r)\", \"K(r)\", \"L(r)\", \"H(r)\", \"Type\"])\n",
    "cross_tumor_rstats_w = pd.DataFrame(cross_tumor_data_w, columns=[\"Radius (r)\", \"K(r)\", \"L(r)\", \"H(r)\", \"Type\"])\n",
    "\n",
    "# cross_tumor_rstats.to_csv(f\"/home/dkermany/ripley_results/{filename}_rstats.csv\")\n",
    "cross_tumor_rstats_w.to_csv(f\"/home/dkermany/ripley_results/{filename}_rstats_w.csv\")\n"
   ]
  },
  {
   "cell_type": "code",
   "execution_count": 80,
   "metadata": {},
   "outputs": [
    {
     "data": {
      "application/vnd.jupyter.widget-view+json": {
       "model_id": "8b7dccc602544be2bedba4f1114802ac",
       "version_major": 2,
       "version_minor": 0
      },
      "image/png": "[encoded data removed]",
      "text/html": [
       "\n",
       "            <div style=\"display: inline-block;\">\n",
       "                <div class=\"jupyter-widgets widget-label\" style=\"text-align: center;\">\n",
       "                    Figure\n",
       "                </div>\n",
       "                <img src='data:image/png;base64,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' width=640.0/>\n",
       "            </div>\n",
       "        "
      ],
      "text/plain": [
       "Canvas(toolbar=Toolbar(toolitems=[('Home', 'Reset original view', 'home', 'home'), ('Back', 'Back to previous …"
      ]
     },
     "metadata": {},
     "output_type": "display_data"
    }
   ],
   "source": [
    "\n",
    "f, axes = plt.subplots(2, 3,)\n",
    "\n",
    "## Top Row\n",
    "# K\n",
    "# sns.lineplot(data=cross_tumor_rstats, x=\"Radius (r)\", y=\"K(r)\", ax=axes[0, 0])\n",
    "# L\n",
    "# sns.lineplot(data=cross_tumor_rstats, x=\"Radius (r)\", y=\"L(r)\", ax=axes[0, 1])\n",
    "axes[0, 1].plot([0, 400], [0, 400], linewidth=1, linestyle=\"dotted\", color=\"#aaa\") # Expected line\n",
    "# H\n",
    "# sns.lineplot(data=cross_tumor_rstats, x=\"Radius (r)\", y=\"H(r)\", ax=axes[0, 2])\n",
    "axes[0, 2].plot([0, 400], [0, 0], linewidth=1, linestyle=\"dotted\", color=\"#aaa\") # Expected line\n",
    "\n",
    "## Bottom Row\n",
    "# K\n",
    "sns.lineplot(data=cross_tumor_rstats_w, x=\"Radius (r)\", y=\"K(r)\", ax=axes[1, 0])\n",
    "# L\n",
    "sns.lineplot(data=cross_tumor_rstats_w, x=\"Radius (r)\", y=\"L(r)\", ax=axes[1, 1])\n",
    "axes[1, 1].plot([0, 100], [0, 100], linewidth=1, linestyle=\"dotted\", color=\"#aaa\") # Expected line\n",
    "# H\n",
    "sns.lineplot(data=cross_tumor_rstats_w, x=\"Radius (r)\", y=\"H(r)\", ax=axes[1, 2])\n",
    "axes[1, 2].plot([0, 100], [0, 0], linewidth=1, linestyle=\"dotted\", color=\"#aaa\") # Expected line\n",
    "\n",
    "plt.show()\n"
   ]
  },
  {
   "cell_type": "code",
   "execution_count": 81,
   "metadata": {},
   "outputs": [],
   "source": [
    "# tumor_data = []\n",
    "# tumor_data_w = []\n",
    "\n",
    "# # Max ripley search sphere size. Typically 1/3 or 1/2 of smallest dimension\n",
    "# # max_search_radius = min(mask.shape) // 3\n",
    "# ripley = Ripley(tumor_points, tumor_radii, mask, boundary_correction=False)\n",
    "# ripley_w = Ripley(tumor_points, tumor_radii, mask, boundary_correction=True)\n",
    "\n",
    "# # Sort by radii\n",
    "# K, L, H = map(sorted, ripley.run_ripley(2))\n",
    "# K_w, L_w, H_w = map(sorted, ripley_w.run_ripley(63))\n",
    "\n",
    "# # Organize into list of [Radius, K, L, H, Type, Line] \n",
    "# tumor_data += [(k[0], k[1], l[1], h[1], \"Tumor\") for k, l, h in zip(K, L, H)]\n",
    "# tumor_data_w += [(k[0], k[1], l[1], h[1], \"Tumor\") for k, l, h in zip(K_w, L_w, H_w)]\n",
    "    \n",
    "# tumor_rstats = pd.DataFrame(tumor_data, columns=[\"Radius (r)\", \"K(r)\", \"L(r)\", \"H(r)\", \"Type\"])\n",
    "# tumor_rstats_w = pd.DataFrame(tumor_data_w, columns=[\"Radius (r)\", \"K(r)\", \"L(r)\", \"H(r)\", \"Type\"])"
   ]
  },
  {
   "cell_type": "code",
   "execution_count": 82,
   "metadata": {},
   "outputs": [],
   "source": [
    "def get_shuffled_labels(points1, points2):\n",
    "    combined_arr = np.concatenate((points1, points2), axis=0)\n",
    "    np.random.shuffle(combined_arr) # inplace shuffle\n",
    "    return np.split(combined_arr, [points1.shape[0]])"
   ]
  },
  {
   "cell_type": "code",
   "execution_count": null,
   "metadata": {},
   "outputs": [],
   "source": []
  },
  {
   "cell_type": "code",
   "execution_count": 83,
   "metadata": {},
   "outputs": [
    {
     "name": "stdout",
     "output_type": "stream",
     "text": [
      "Source image: FV10__20181106_172421\n",
      "\n",
      "Running Monte-Carlo Simulation 0/20\n",
      "\n"
     ]
    },
    {
     "name": "stderr",
     "output_type": "stream",
     "text": [
      "100%|███████████████████████████████████████████| 98/98 [02:43<00:00,  1.67s/it]\n"
     ]
    },
    {
     "name": "stdout",
     "output_type": "stream",
     "text": [
      "\n",
      "Running Monte-Carlo Simulation 1/20\n",
      "\n"
     ]
    },
    {
     "name": "stderr",
     "output_type": "stream",
     "text": [
      "100%|███████████████████████████████████████████| 98/98 [02:38<00:00,  1.62s/it]\n"
     ]
    },
    {
     "name": "stdout",
     "output_type": "stream",
     "text": [
      "\n",
      "Running Monte-Carlo Simulation 2/20\n",
      "\n"
     ]
    },
    {
     "name": "stderr",
     "output_type": "stream",
     "text": [
      "100%|███████████████████████████████████████████| 98/98 [02:36<00:00,  1.60s/it]\n"
     ]
    },
    {
     "name": "stdout",
     "output_type": "stream",
     "text": [
      "\n",
      "Running Monte-Carlo Simulation 3/20\n",
      "\n"
     ]
    },
    {
     "name": "stderr",
     "output_type": "stream",
     "text": [
      "100%|███████████████████████████████████████████| 98/98 [02:35<00:00,  1.59s/it]\n"
     ]
    },
    {
     "name": "stdout",
     "output_type": "stream",
     "text": [
      "\n",
      "Running Monte-Carlo Simulation 4/20\n",
      "\n"
     ]
    },
    {
     "name": "stderr",
     "output_type": "stream",
     "text": [
      "100%|███████████████████████████████████████████| 98/98 [02:34<00:00,  1.58s/it]\n"
     ]
    },
    {
     "name": "stdout",
     "output_type": "stream",
     "text": [
      "\n",
      "Running Monte-Carlo Simulation 5/20\n",
      "\n"
     ]
    },
    {
     "name": "stderr",
     "output_type": "stream",
     "text": [
      "100%|███████████████████████████████████████████| 98/98 [02:31<00:00,  1.55s/it]\n"
     ]
    },
    {
     "name": "stdout",
     "output_type": "stream",
     "text": [
      "\n",
      "Running Monte-Carlo Simulation 6/20\n",
      "\n"
     ]
    },
    {
     "name": "stderr",
     "output_type": "stream",
     "text": [
      "100%|███████████████████████████████████████████| 98/98 [02:35<00:00,  1.58s/it]\n"
     ]
    },
    {
     "name": "stdout",
     "output_type": "stream",
     "text": [
      "\n",
      "Running Monte-Carlo Simulation 7/20\n",
      "\n"
     ]
    },
    {
     "name": "stderr",
     "output_type": "stream",
     "text": [
      " 60%|█████████████████████████▉                 | 59/98 [01:33<00:56,  1.46s/it]"
     ]
    }
   ],
   "source": [
    "# random_cross_tumor_data = []\n",
    "random_cross_tumor_data_w = []\n",
    "\n",
    "n_samples = 20\n",
    "tumor_radii = np.arange(2, 100)\n",
    "print(f\"Source image: {filename}\")\n",
    "for n in range(n_samples):\n",
    "    print(f\"\\nRunning Monte-Carlo Simulation {n}/{n_samples}\\n\")\n",
    "    random_tumor_points, random_ng2_points = get_shuffled_labels(tumor_points, ng2_points)\n",
    "\n",
    "    # ripley = CrossRipley(random_tumor_points, random_ng2_points, cross_tumor_radii, mask, boundary_correction=False)\n",
    "    ripley_w = CrossRipley(random_tumor_points, random_ng2_points, cross_tumor_radii, mask, boundary_correction=True)\n",
    "\n",
    "    # Sort by radii\n",
    "    # K, L, H = map(sorted, ripley.run_ripley(1))\n",
    "    K_w, L_w, H_w = map(sorted, ripley_w.run_ripley(63))\n",
    "\n",
    "    # # Organize into list of [Radius, K, L, H, Type] \n",
    "    # random_cross_tumor_data += [(k[0], k[1], l[1], h[1], \"Tumor\", n) for k, l, h in zip(K, L, H)]\n",
    "    random_cross_tumor_data_w += [(k[0], k[1], l[1], h[1], \"Tumor\", n) for k, l, h in zip(K_w, L_w, H_w)]\n",
    "\n",
    "# random_cross_tumor_rstats = pd.DataFrame(random_cross_tumor_data, columns=[\"Radius (r)\", \"K(r)\", \"L(r)\", \"H(r)\", \"Type\", \"Line\"])\n",
    "random_cross_tumor_rstats_w = pd.DataFrame(random_cross_tumor_data_w, columns=[\"Radius (r)\", \"K(r)\", \"L(r)\", \"H(r)\", \"Type\", \"Line\"])\n",
    "\n",
    "# random_cross_tumor_rstats.to_csv(f\"/home/dkermany/ripley_results/{filename}_random_rstats.csv\")\n",
    "random_cross_tumor_rstats_w.to_csv(f\"/home/dkermany/ripley_results/{filename}_random_rstats_w.csv\")"
   ]
  },
  {
   "cell_type": "code",
   "execution_count": null,
   "metadata": {},
   "outputs": [
    {
     "data": {
      "application/vnd.jupyter.widget-view+json": {
       "model_id": "2e76f001d2df4bfa96339f1fd2b13ec1",
       "version_major": 2,
       "version_minor": 0
      },
      "image/png": "[encoded data removed]",
      "text/html": [
       "\n",
       "            <div style=\"display: inline-block;\">\n",
       "                <div class=\"jupyter-widgets widget-label\" style=\"text-align: center;\">\n",
       "                    Figure\n",
       "                </div>\n",
       "                <img src='data:image/png;base64,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' width=640.0/>\n",
       "            </div>\n",
       "        "
      ],
      "text/plain": [
       "Canvas(toolbar=Toolbar(toolitems=[('Home', 'Reset original view', 'home', 'home'), ('Back', 'Back to previous …"
      ]
     },
     "metadata": {},
     "output_type": "display_data"
    }
   ],
   "source": [
    "f, axes = plt.subplots(2, 3,)\n",
    "\n",
    "## Top Row\n",
    "# K\n",
    "# sns.lineplot(data=cross_tumor_rstats, x=\"Radius (r)\", y=\"K(r)\", ax=axes[0, 0])\n",
    "# sns.lineplot(data=random_cross_tumor_rstats, x=\"Radius (r)\", y=\"K(r)\", ax=axes[0, 0], alpha=0, errorbar=(\"pi\", 95))\n",
    "# L\n",
    "# sns.lineplot(data=cross_tumor_rstats, x=\"Radius (r)\", y=\"L(r)\", ax=axes[0, 1])\n",
    "# sns.lineplot(data=random_cross_tumor_rstats, x=\"Radius (r)\", y=\"L(r)\", ax=axes[0, 1], alpha=0, errorbar=(\"pi\", 95))\n",
    "axes[0, 1].plot([0, 100], [0, 100], linewidth=1, linestyle=\"dotted\", color=\"#aaa\") # Expected line\n",
    "# H\n",
    "# sns.lineplot(data=cross_tumor_rstats, x=\"Radius (r)\", y=\"H(r)\", ax=axes[0, 2])\n",
    "# sns.lineplot(data=random_cross_tumor_rstats, x=\"Radius (r)\", y=\"H(r)\", ax=axes[0, 2], alpha=0, errorbar=(\"pi\", 95))\n",
    "axes[0, 2].plot([0, 100], [0, 0], linewidth=1, linestyle=\"dotted\", color=\"#aaa\") # Expected line\n",
    "\n",
    "## Bottom Row - Boundary Corrected\n",
    "# K\n",
    "sns.lineplot(data=cross_tumor_rstats_w, x=\"Radius (r)\", y=\"K(r)\", ax=axes[1, 0])\n",
    "sns.lineplot(data=random_cross_tumor_rstats_w, x=\"Radius (r)\", y=\"K(r)\", ax=axes[1, 0], alpha=0, errorbar=(\"pi\", 95))\n",
    "# L\n",
    "sns.lineplot(data=cross_tumor_rstats_w, x=\"Radius (r)\", y=\"L(r)\", ax=axes[1, 1])\n",
    "sns.lineplot(data=random_cross_tumor_rstats_w, x=\"Radius (r)\", y=\"L(r)\", ax=axes[1, 1], alpha=0, errorbar=(\"pi\", 95))\n",
    "axes[1, 1].plot([0, 100], [0, 100], linewidth=1, linestyle=\"dotted\", color=\"#aaa\") # Expected line\n",
    "# H\n",
    "sns.lineplot(data=cross_tumor_rstats_w, x=\"Radius (r)\", y=\"H(r)\", ax=axes[1, 2])\n",
    "sns.lineplot(data=random_cross_tumor_rstats_w, x=\"Radius (r)\", y=\"H(r)\", ax=axes[1, 2], alpha=0, errorbar=(\"pi\", 95))\n",
    "axes[1, 2].plot([0, 100], [0, 0], linewidth=1, linestyle=\"dotted\", color=\"#aaa\") # Expected line\n",
    "\n",
    "plt.show()"
   ]
  }
 ],
 "metadata": {
  "kernelspec": {
   "display_name": "BoneSegEnv",
   "language": "python",
   "name": "bonesegenv"
  },
  "language_info": {
   "codemirror_mode": {
    "name": "ipython",
    "version": 3
   },
   "file_extension": ".py",
   "mimetype": "text/x-python",
   "name": "python",
   "nbconvert_exporter": "python",
   "pygments_lexer": "ipython3",
   "version": "3.9.13"
  },
  "vscode": {
   "interpreter": {
    "hash": "16b8ebbebbd8eef9429a70fe83ccde4952691352fef003457d81796bc4b46f60"
   }
  }
 },
 "nbformat": 4,
 "nbformat_minor": 4
}
