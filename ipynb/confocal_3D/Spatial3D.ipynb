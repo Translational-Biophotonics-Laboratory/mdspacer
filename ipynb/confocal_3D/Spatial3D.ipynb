{
 "cells": [
  {
   "cell_type": "code",
   "execution_count": 79,
   "metadata": {},
   "outputs": [
    {
     "name": "stdout",
     "output_type": "stream",
     "text": [
      "The line_profiler extension is already loaded. To reload it, use:\n",
      "  %reload_ext line_profiler\n"
     ]
    }
   ],
   "source": [
    "%matplotlib widget\n",
    "# %matplotlib inline\n",
    "%load_ext line_profiler\n",
    "import numpy as np\n",
    "import time\n",
    "import seaborn as sns\n",
    "import pandas as pd\n",
    "from scipy import spatial, stats\n",
    "from functools import reduce\n",
    "from tqdm import tqdm\n",
    "from collections import defaultdict\n",
    "from numba import njit\n",
    "import matplotlib.pyplot as plt\n",
    "import nrrd\n",
    "import pytest\n",
    "import multiprocessing as mp\n",
    "import raster_geometry as rg\n",
    "import sys\n",
    "import os\n",
    "import cv2\n",
    "sys.path.append(\"C:\\\\Users\\\\danie\\\\BoneSegmentation\")\n",
    "\n",
    "from oiffile import OifFile\n",
    "from src.OifImageViewer import OifImageViewer"
   ]
  },
  {
   "cell_type": "code",
   "execution_count": null,
   "metadata": {},
   "outputs": [],
   "source": []
  },
  {
   "cell_type": "code",
   "execution_count": null,
   "metadata": {},
   "outputs": [],
   "source": []
  },
  {
   "cell_type": "code",
   "execution_count": 80,
   "metadata": {},
   "outputs": [
    {
     "name": "stdout",
     "output_type": "stream",
     "text": [
      "Image shape: (3, 75, 2051, 8578)\n",
      "Axes: CZYX\n",
      "Dtype: uint16\n",
      "Intervals: X (1.242um) Y (1.242um) Z (2660nm)\n",
      "\n"
     ]
    }
   ],
   "source": [
    "### Loading Confocal Image (.OIB)\n",
    "\n",
    "path = \"/home/dkermany/data/Bone_Project/weijie_selected/main_folder/FV10__oibs/FV10__20181009_103052.oib\"\n",
    "# path = \"D:\\\\Datasets\\\\Bone_Mets\\\\FV10__oibs\\\\FV10__20190620_111343.oib\"\n",
    "filename = os.path.splitext(os.path.basename(path))[0]\n",
    "\n",
    "with OifFile(path) as oif:\n",
    "    viewer = OifImageViewer(oif)\n",
    "    x_step, y_step, z_step = map(float, (viewer.md[\"x_step\"], viewer.md[\"y_step\"], viewer.md[\"z_step\"]))\n",
    "    if viewer.md[\"z_unit\"] == \"nm\":\n",
    "        z_step /= 1000."
   ]
  },
  {
   "cell_type": "code",
   "execution_count": 81,
   "metadata": {},
   "outputs": [
    {
     "name": "stdout",
     "output_type": "stream",
     "text": [
      "(75, 2051, 8578)\n",
      "uint8\n",
      "Axes: ZYX\n"
     ]
    }
   ],
   "source": [
    "### Loading 3D Binary Mask (.SEG.NRRD)\n",
    "\n",
    "# mask_path = \"D:\\\\Datasets\\\\Bone_Mets\\\\masks\\\\FV10__20190620_111343.seg.nrrd\"\n",
    "# mask_path = \"/home/dkermany/data/Bone_Project/masks/FV10__20190620_111343.seg.nrrd\"\n",
    "mask_path = f\"/home/dkermany/data/Bone_Project/masks/{filename}.seg.nrrd\"\n",
    "\n",
    "# Load mask from NRRD\n",
    "mask, header = nrrd.read(mask_path)\n",
    "mask = mask.T\n",
    "#mask = mask[:mask.shape[0]//3, :, :] # for FV10__20190620_111343.seg.nrrd\n",
    "\n",
    "print(mask.shape)\n",
    "print(mask.dtype)\n",
    "print(\"Axes: ZYX\")"
   ]
  },
  {
   "cell_type": "code",
   "execution_count": 82,
   "metadata": {},
   "outputs": [],
   "source": [
    "### Loading Tumor Cell Locations (.CSV)\n",
    "\n",
    "# tumor_csv_path = \"D:\\\\Datasets\\\\Bone_Mets\\\\tumor_locations.csv\"\n",
    "tumor_csv_path = \"/home/dkermany/data/Bone_Project/tumor_locations_02_08_2023.csv\"\n",
    "# Load csv and drop rows with N/A's\n",
    "tumor_csv = pd.read_csv(tumor_csv_path).dropna()\n",
    "tumor_csv = tumor_csv[tumor_csv.Filename == filename].reset_index(drop=True)\n",
    "# tumor_csv"
   ]
  },
  {
   "cell_type": "code",
   "execution_count": 83,
   "metadata": {},
   "outputs": [
    {
     "name": "stdout",
     "output_type": "stream",
     "text": [
      "17.320508075688775\n"
     ]
    }
   ],
   "source": [
    "def euclidean_distance(point1, point2):\n",
    "    \"\"\"\n",
    "    Calculate the Euclidean distance between two points.\n",
    "\n",
    "    Args:\n",
    "    point1 (array-like): An array-like object representing the first point.\n",
    "    point2 (array-like): An array-like object representing the second point.\n",
    "\n",
    "    Returns:\n",
    "    float: The Euclidean distance between the two points.\n",
    "    \"\"\"\n",
    "    # Use NumPy's linalg.norm function to calculate the Euclidean distance\n",
    "    return np.linalg.norm(point1-point2)\n",
    "\n",
    "def micron_to_pixel(micron, scale_factor):\n",
    "    pass\n",
    "\n",
    "# Test distance function\n",
    "print(euclidean_distance(np.array((10,10,10)),np.array((0,0,0))))"
   ]
  },
  {
   "cell_type": "code",
   "execution_count": 84,
   "metadata": {
    "scrolled": true
   },
   "outputs": [],
   "source": [
    "def set_aspect_ratio_equal(ax) -> None:\n",
    "    xlim = ax.get_xlim3d()\n",
    "    ylim = ax.get_ylim3d()\n",
    "    zlim = ax.get_zlim3d()\n",
    "    ax.set_box_aspect((xlim[1]-xlim[0], ylim[1]-ylim[0], zlim[1]-zlim[0]))"
   ]
  },
  {
   "cell_type": "code",
   "execution_count": 85,
   "metadata": {},
   "outputs": [],
   "source": [
    "# @njit()\n",
    "# def sphere_func(center, radius, shape):\n",
    "#     arr = np.zeros(shape)\n",
    "#     for i in range(shape[0]):\n",
    "#         for j in range(shape[1]):\n",
    "#             for k in range(shape[2]):\n",
    "#                 x, y, z = i - center[0], j - center[1], k - center[2]\n",
    "#                 dist = np.sqrt(x**2 + y**2 + z**2)\n",
    "#                 if dist <= radius:\n",
    "#                     arr[i,j,k] = 1\n",
    "#     return arr"
   ]
  },
  {
   "attachments": {},
   "cell_type": "markdown",
   "metadata": {},
   "source": [
    "Draw sphere in a given volume\n",
    "<a id='draw_sphere_in_volume'></a><br>\n",
    "[Go to tumor function call](#tumor_ripley)"
   ]
  },
  {
   "cell_type": "code",
   "execution_count": 86,
   "metadata": {},
   "outputs": [],
   "source": [
    "def draw_sphere_in_volume(volume: np.ndarray, radius: int, position: tuple) -> None:\n",
    "    \"\"\"\n",
    "    Draw a sphere in a given 3D NumPy array at a specified position.\n",
    "\n",
    "    Args:\n",
    "    volume (numpy.ndarray): The 3D NumPy array in which the sphere will be drawn.\n",
    "    radius (int): The radius of the sphere.\n",
    "    position (tuple): A 3-tuple containing the z, y, x coordinates of the position in the array where the sphere will be drawn.\n",
    "\n",
    "    Returns:\n",
    "    None\n",
    "    \"\"\"\n",
    "    \n",
    "    # Create an empty 3D NumPy array with dimensions equal to twice the radius plus one\n",
    "    size = 2 * (radius + 1)\n",
    "\n",
    "    # Calculate the midpoint of the sphere unit array\n",
    "    midpoint = [size / 2] * 3\n",
    "\n",
    "    # Generate a unit sphere using the rg library's superellipsoid function\n",
    "    sphere = rg.nd_superellipsoid(size, radius, position=midpoint,\n",
    "                                  rel_sizes=False, rel_position=False).astype(np.int_)\n",
    "\n",
    "    # Extract the z, y, x coordinates of the position where the sphere will be drawn\n",
    "    z, y, x = map(round, position)\n",
    "\n",
    "    # Calculate the delta change needed to center the sphere at the specified position\n",
    "    d = (size//2)\n",
    "\n",
    "    # Calculate the minimum and maximum indices for the z, y, x axes of the volume array\n",
    "    # print(position, radius, x-d, x+d, max(x - d, 0), min(x + d, volume.shape[2]))\n",
    "    zmin, zmax = max(z - d, 0), min(z + d, volume.shape[0])\n",
    "    ymin, ymax = max(y - d, 0), min(y + d, volume.shape[1])\n",
    "    xmin, xmax = max(x - d, 0), min(x + d, volume.shape[2])\n",
    "\n",
    "    # Calculate the minimum indices for the z, y, x axes of the sphere array\n",
    "    szmin = abs(z - d) if z - d < 0 else 0\n",
    "    symin = abs(y - d) if y - d < 0 else 0\n",
    "    sxmin = abs(x - d) if x - d < 0 else 0\n",
    "\n",
    "    # Calculate the amount to cut off of the ends of the z, y, x axes of the sphere array\n",
    "    szmax = abs(volume.shape[0] - (z + d)) if z + d > volume.shape[0] else 0\n",
    "    symax = abs(volume.shape[1] - (y + d)) if y + d > volume.shape[1] else 0\n",
    "    sxmax = abs(volume.shape[2] - (x + d)) if x + d > volume.shape[2] else 0\n",
    "    # assert x+d < volume.shape[2]\n",
    "    \n",
    "    # Trim the sphere array to fit within the trimmed volume array\n",
    "    sphere = sphere[szmin:sphere.shape[0]-szmax, symin:sphere.shape[1]-symax, sxmin:sphere.shape[2]-sxmax]\n",
    "    # Place the sphere within the larger volume array at the specified position\n",
    "\n",
    "    # print(z, y, x, d, \"|\", zmin,zmax,\"|\",ymin,ymax,\"|\",xmin,xmax, \"|\",sphere.shape, \"|\", sxmin, sxmax)\n",
    "    volume[zmin:zmax, ymin:ymax, xmin:xmax] = sphere"
   ]
  },
  {
   "cell_type": "code",
   "execution_count": 87,
   "metadata": {},
   "outputs": [],
   "source": [
    "# # Test speed\n",
    "# %time rg.nd_superellipsoid(2*80+1, 80, position=[40,40,40], rel_sizes=False, rel_position=False).astype(np.int_)\n",
    "# test_vol = np.zeros(mask.shape, dtype=np.uint8)\n",
    "# %time i = cle.draw_sphere(test_vol, 320, 640, 20, 80, 80, 80, 1)\n",
    "# plt.figure()\n",
    "# cle.imshow(i)"
   ]
  },
  {
   "cell_type": "code",
   "execution_count": 88,
   "metadata": {},
   "outputs": [],
   "source": [
    "# ### Test draw sphere function\n",
    "# import pyclesperanto_prototype as cle\n",
    "\n",
    "# test_vol = np.zeros(mask.shape, dtype=np.uint8)\n",
    "# draw_sphere_in_volume(test_vol, 80, (20, 640, 320))\n",
    "# print(test_vol.dtype, mask.dtype)\n",
    "\n",
    "# plt.figure()\n",
    "# cle.imshow(test_vol)\n",
    "# plt.figure()\n",
    "# cle.imshow(mask)\n",
    "# plt.figure()\n",
    "# cle.imshow(test_vol & mask)\n"
   ]
  },
  {
   "attachments": {},
   "cell_type": "markdown",
   "metadata": {},
   "source": [
    "<!-- Ripley's K Estimators\n",
    "\n",
    "![RipleyK](/img/ripleyK.png)\n",
    "\n",
    "![RipleyL](/img/ripleyL.png)\n",
    "\n",
    "![RipleyH](/img/ripleyH.png) -->"
   ]
  },
  {
   "attachments": {},
   "cell_type": "markdown",
   "metadata": {},
   "source": [
    "![equation](http://www.sciweavers.org/tex2img.php?eq=%5Cwidehat%7BK%7D%28r%29%3D%20%5Cfrac%7BV%7D%7BN%28N-1%29%7D%20%5Csum_i%5EN%20%5Csum_%7Bj%20%5Cneq%20i%7D%5EN%20%20%5Cfrac%7BI%28d_%7Bi%2Cj%7D%3Cr%29%7D%7B%5Comega_%7Bi%2Cj%7D%7D%20%20%20%20%20&bc=White&fc=Black&im=jpg&fs=18&ff=arev&edit=0)\n",
    "\n",
    "![link](http://www.sciweavers.org/tex2img.php?eq=%5Cwidehat%7BL%7D%28r%29%3D%20%20%20%5Csqrt%5B3%5D%7B%5Cfrac%7B3%20%20%5Cwidehat%7BK%7D%28r%29%7D%7B4%5Cpi%7D%7D&bc=White&fc=Black&im=jpg&fs=18&ff=arev&edit=0)\n",
    "\n",
    "![link](http://www.sciweavers.org/tex2img.php?eq=%5Cwidehat%7BH%7D%28r%29%3D%5Cwidehat%7BL%7D%28r%29-r&bc=White&fc=Black&im=jpg&fs=12&ff=arev&edit=0)"
   ]
  },
  {
   "cell_type": "code",
   "execution_count": 89,
   "metadata": {},
   "outputs": [],
   "source": [
    "cache = mp.Manager().dict()"
   ]
  },
  {
   "cell_type": "code",
   "execution_count": 90,
   "metadata": {},
   "outputs": [],
   "source": [
    "### Ripley Class \n",
    "\n",
    "class Ripley():\n",
    "\n",
    "    def __init__(\n",
    "        self,\n",
    "        points: np.ndarray,\n",
    "        radii: list,\n",
    "        mask: np.ndarray,\n",
    "        boundary_correction: bool = True\n",
    "    ):\n",
    "        self.points = points\n",
    "        self.radii = radii\n",
    "        self.mask = mask.astype(np.uint8)\n",
    "        self.volume_shape = self.mask.shape\n",
    "        self.boundary_correction = boundary_correction\n",
    "        self._validate_inputs()\n",
    "\n",
    "        self.tree = spatial.cKDTree(self.points)\n",
    "        self.study_volume = reduce(lambda x, y: x * y, self.volume_shape)\n",
    "\n",
    "    def run_ripley(self, processes=32):\n",
    "        with mp.Manager() as m:\n",
    "            self.results = {\"K\": m.list(), \"L\": m.list(), \"H\": m.list()}\n",
    "            with mp.Pool(processes) as pool:\n",
    "                # pool.map(self._calc_ripley, self.radii)\n",
    "                list(tqdm(pool.imap(self._calc_ripley, self.radii), total=len(self.radii)))\n",
    "            return list(self.results[\"K\"]), list(self.results[\"L\"]), list(self.results[\"H\"])\n",
    "\n",
    "    def _calc_ripley(self, radius):\n",
    "        # For each radius, loop through each point and count points\n",
    "        # within the radius\n",
    "        print(\"???\")\n",
    "        nb_count = 0\n",
    "        for z, y, x in self.points:\n",
    "            if self.boundary_correction:\n",
    "                weight = self.calculate_weight(radius, (z, y, x))\n",
    "                # If weight is zero (i.e. target sphere not in mask), move on\n",
    "                if weight == 0:\n",
    "                    continue\n",
    "            else:\n",
    "                weight = 1.0\n",
    "\n",
    "            # query_ball_point() includes the index of the current point as well\n",
    "            # so 1 is subtracted from the count \n",
    "            nb_count += (len(self.tree.query_ball_point([z, y, x], radius)) - 1) / weight\n",
    "\n",
    "            # global pbar\n",
    "            # pbar.update()\n",
    "\n",
    "\n",
    "         # calculating 3D Ripley's functions (K, L, H)\n",
    "        N = self.points.shape[0]\n",
    "        K = nb_count * self.study_volume / (N * (N - 1))\n",
    "        L = ((3. / 4) * (K / np.pi)) ** (1. / 3)\n",
    "        H = L - radius\n",
    "        \n",
    "        # Verify K/L values positive\n",
    "        if K < 0 or L < 0:\n",
    "            raise ValueError(f\"K/L values should not be negative. nb_count: {nb_count}, volume: {self.volume_shape}, N: {N}\")\n",
    "\n",
    "        self.results[\"K\"].append((radius, K))\n",
    "        self.results[\"L\"].append((radius, L))\n",
    "        self.results[\"H\"].append((radius, H))\n",
    "\n",
    "    def calculate_weight(self, radius, center):\n",
    "        \"\"\"\n",
    "        Calculate the proportion of a sphere within a study volume.\n",
    "\n",
    "        Args:\n",
    "        radius (int): The radius of the sphere.\n",
    "        center (tuple): A 3-tuple containing the z, y, x coordinates of the center of the sphere.\n",
    "\n",
    "        Returns:\n",
    "        float: The proportion of the sphere within the study volume.\n",
    "        \"\"\"\n",
    "        # Ensure that the radius is greater than zero\n",
    "        assert radius > 0\n",
    "\n",
    "        # Check if cached weight for this coordinate exists\n",
    "        key = center + (radius,)\n",
    "        if key in cache:\n",
    "            return cache[key]\n",
    "        \n",
    "        # Draw the target sphere in a 3D NumPy array at the specified position\n",
    "        target = np.zeros(self.volume_shape, dtype=np.uint8)\n",
    "        draw_sphere_in_volume(target, radius, center)\n",
    "\n",
    "        # Bitwise and operation between the sphere and mask to calculate intersection\n",
    "        target = target & self.mask\n",
    "\n",
    "        # Calculate the sum (volume) of the target and reference sphere arrays\n",
    "        target = target.sum()\n",
    "\n",
    "        # Reference is calculated instead of simulated for speed increase\n",
    "        reference = (4 / 3) * np.pi * (radius ** 3)\n",
    "\n",
    "        # Ensure that the reference sphere has a non-zero volume\n",
    "        assert reference > 0\n",
    "\n",
    "        # Return the proportion of the sphere within the study volume\n",
    "        # Since target volume is estimated whereas reference volume is calculated,\n",
    "        # there is a small but noticable margin of error when radius < 10, there\n",
    "        # we set maxiumum value of 1.0\n",
    "        weight = min(target / reference, 1.0)\n",
    "\n",
    "        # Save weight to cache\n",
    "        cache[key] = weight\n",
    "        \n",
    "        return weight\n",
    "\n",
    "    def _validate_inputs(self):\n",
    "        # Check if self.points is a list or numpy array\n",
    "        if not isinstance(self.points, (list, np.ndarray)):\n",
    "            e = f\"Expected {np.ndarray}, received {type(self.points)}\"\n",
    "            raise ValueError(e)\n",
    "\n",
    "        # Convert self.points to numpy array if it is a list\n",
    "        if not isinstance(self.points, np.ndarray):\n",
    "            self.points = np.array(self.points)\n",
    "\n",
    "        # Check if self.points array has two dimensions\n",
    "        if len(self.points.shape) != 2:\n",
    "            e = f\"Expected self.points array to have 2 dimensions, but got array with shape {self.points.shape}\"\n",
    "            raise ValueError(e)\n",
    "\n",
    "        # Check if the self.points array second dimension length is 3 (x, y, z)\n",
    "        if self.points.shape[1] != 3:\n",
    "            e = f\"Expected self.points array to have shape (None, 3), but got array with shape {self.points.shape}\"\n",
    "            raise ValueError(e)\n",
    "\n",
    "        # Check if the self.points array has at least 3 points\n",
    "        if self.points.shape[0] < 3:\n",
    "            e = f\"Expected self.points array to have at least 3 points\"\n",
    "            raise ValueError(e)\n",
    "\n",
    "        # Check if radii is list-like or number-like\n",
    "        if not isinstance(self.radii, (np.ndarray, list, int, float)):\n",
    "            e = f\"Expected {(np.ndarray, list, int, float)}, received {type(self.radii)}\"\n",
    "            raise ValueError(e)\n",
    "\n",
    "        # if only one radius given as int, convert to list\n",
    "        if not isinstance(self.radii, (np.ndarray, list)):\n",
    "            self.radii = [self.radii]"
   ]
  },
  {
   "cell_type": "code",
   "execution_count": 91,
   "metadata": {},
   "outputs": [],
   "source": [
    "### Multivariate Ripley Class\n",
    "\n",
    "class CrossRipley(Ripley):\n",
    "\n",
    "\n",
    "    def __init__(\n",
    "        self,\n",
    "        points_i: np.ndarray,\n",
    "        points_j: np.ndarray,\n",
    "        radii: list,\n",
    "        mask: np.ndarray,\n",
    "        boundary_correction: bool = False\n",
    "    ):\n",
    "        self.points_i = points_i\n",
    "        self.points_j = points_j\n",
    "        self.radii = radii\n",
    "        self.mask = mask.astype(np.uint8)\n",
    "        self.volume_shape = self.mask.shape\n",
    "        self.boundary_correction = boundary_correction\n",
    "        self._validate_inputs()\n",
    "\n",
    "        self.i_tree = spatial.cKDTree(self.points_i)\n",
    "        self.j_tree = spatial.cKDTree(self.points_j)\n",
    "        self.study_volume = reduce(lambda x, y: x * y, self.volume_shape)\n",
    "\n",
    "\n",
    "    def test_ripley(self):\n",
    "        self.results = {\"K\": [], \"L\": [], \"H\": []}\n",
    "        for r in tqdm(self.radii):\n",
    "            self._calc_ripley(r)\n",
    "        return list(self.results[\"K\"]), list(self.results[\"L\"]), list(self.results[\"H\"])\n",
    "\n",
    "    # TODO: Rewrite univariate _calc_ripley function for multivariate case\n",
    "    def _calc_ripley(self, radius):\n",
    "        \"\"\"\n",
    "        Calculate 3D multivariate Ripley's functions (K_ij, L_ij, H_ij) for a given radius and\n",
    "        and apply weight coefficient.\n",
    "\n",
    "        For each radius, loop through each point_i and count number of point_j within the radius.\n",
    "        If boundary_correction is True, calculate the weight coefficient based on the volume of\n",
    "        the search sphere within the study volume.\n",
    "\n",
    "        Args:\n",
    "\n",
    "            radius (float): the radius for which to calculate Ripley's functions.\n",
    "\n",
    "        Raises:\n",
    "            ValueError: if K/L values are negative.\n",
    "\n",
    "        Returns:\n",
    "            None. Results are stored in self.results.\n",
    "\n",
    "        \"\"\"\n",
    "        # For each radius, loop through each point and count points\n",
    "        # within the radius\n",
    "        nb_count = 0\n",
    "        for z, y, x in self.points_i:\n",
    "            # print(f\"{i}/{len(self.points_i)}\", end=\"\\r\")\n",
    "            if self.boundary_correction:\n",
    "                weight = self.calculate_weight(radius, (z, y, x))\n",
    "                # If weight is zero (i.e. target sphere not in mask), move on\n",
    "                if weight == 0:\n",
    "                    continue\n",
    "            else:\n",
    "                weight = 1.0\n",
    "\n",
    "            # Since the i point is not included within the j_tree, we do not subtract 1\n",
    "            # as done in the univariate implementation\n",
    "            \n",
    "            nb_count += (len(self.j_tree.query_ball_point([z, y, x], radius, workers=-1))) / weight\n",
    "\n",
    "            # global pbar\n",
    "            # pbar.update()\n",
    "\n",
    "        # calculating 3D Ripley's functions (K_ij, L_ij, H_ij)\n",
    "        N_i = self.points_i.shape[0]\n",
    "        N_j = self.points_j.shape[0]\n",
    "        K_ij = nb_count * self.study_volume / (N_i * N_j)\n",
    "        L_ij = ((3. / 4) * (K_ij / np.pi)) ** (1. / 3)\n",
    "        H_ij = L_ij - radius\n",
    "        \n",
    "        # Verify K/L values positive\n",
    "        if K_ij < 0 or L_ij < 0:\n",
    "            raise ValueError(f\"K/L values should not be negative. nb_count: {nb_count}, volume: {self.volume_shape}, N_i: {N_i}, N_j: {N_j}\")\n",
    "\n",
    "        self.results[\"K\"].append((radius, K_ij))\n",
    "        self.results[\"L\"].append((radius, L_ij))\n",
    "        self.results[\"H\"].append((radius, H_ij))\n",
    "\n",
    "    def _validate_inputs(self):\n",
    "        # Check if self.points_i is a list or numpy array\n",
    "        if not isinstance(self.points_i, (list, np.ndarray)):\n",
    "            e = f\"Expected {np.ndarray}, received {type(self.points_i)}\"\n",
    "            raise ValueError(e)\n",
    "\n",
    "        # Check if self.points_j is a list or numpy array\n",
    "        if not isinstance(self.points_j, (list, np.ndarray)):\n",
    "            e = f\"Expected {np.ndarray}, received {type(self.points_j)}\"\n",
    "            raise ValueError(e)\n",
    "\n",
    "        # Convert self.points_i to numpy array if it is a list\n",
    "        if not isinstance(self.points_i, np.ndarray):\n",
    "            self.points_i = np.array(self.points_i)\n",
    "            \n",
    "        # Convert self.points_j to numpy array if it is a list\n",
    "        if not isinstance(self.points_j, np.ndarray):\n",
    "            self.points_j = np.array(self.points_j)\n",
    "\n",
    "        # Check if self.points_i array has two dimensions\n",
    "        if len(self.points_i.shape) != 2:\n",
    "            e = f\"Expected self.points_i array to have 2 dimensions, but got array with shape {self.points_i.shape}\"\n",
    "            raise ValueError(e)\n",
    "\n",
    "        # Check if self.points_j array has two dimensions\n",
    "        if len(self.points_j.shape) != 2:\n",
    "            e = f\"Expected self.points_j array to have 2 dimensions, but got array with shape {self.points_j.shape}\"\n",
    "            raise ValueError(e)\n",
    "\n",
    "        # Check if the self.points_i array second dimension length is 3 (x, y, z)\n",
    "        if self.points_i.shape[1] != 3:\n",
    "            e = f\"Expected self.points_i array to have shape (None, 3), but got array with shape {self.points_i.shape}\"\n",
    "            raise ValueError(e)\n",
    "\n",
    "        # Check if the self.points_j array second dimension length is 3 (x, y, z)\n",
    "        if self.points_j.shape[1] != 3:\n",
    "            e = f\"Expected self.points_j array to have shape (None, 3), but got array with shape {self.points_j.shape}\"\n",
    "            raise ValueError(e)\n",
    "\n",
    "        # Check if the self.points_i array has at least 3 points\n",
    "        if self.points_i.shape[0] < 3:\n",
    "            e = f\"Expected self.points_i array to have at least 3 points\"\n",
    "            raise ValueError(e)\n",
    "\n",
    "        # Check if the self.points_j array has at least 3 points\n",
    "        if self.points_j.shape[0] < 3:\n",
    "            e = f\"Expected self.points_j array to have at least 3 points\"\n",
    "            raise ValueError(e)\n",
    "\n",
    "        # Check if radii is list-like or number-like\n",
    "        if not isinstance(self.radii, (np.ndarray, list, int, float)):\n",
    "            e = f\"Expected {(np.ndarray, list, int, float)}, received {type(self.radii)}\"\n",
    "            raise ValueError(e)\n",
    "\n",
    "        # if only one radius given as int, convert to list\n",
    "        if not isinstance(self.radii, (np.ndarray, list)):\n",
    "            self.radii = [self.radii]\n",
    "\n",
    "        # if points are not within volume, raise error\n",
    "        for p in [self.points_i, self.points_j]:\n",
    "            assert all(x < self.volume_shape[2] for x in p[:, 2])\n",
    "            assert all(y < self.volume_shape[1] for y in p[:, 1])\n",
    "            assert all(z < self.volume_shape[0] for z in p[:, 0])"
   ]
  },
  {
   "cell_type": "code",
   "execution_count": 92,
   "metadata": {},
   "outputs": [],
   "source": [
    "### Test sphere drawing\n",
    "\n",
    "# def draw_sphere(shape, radius, center) -> np.ndarray:\n",
    "#     sphere = rg.nd_superellipsoid(shape, radius, position=center, rel_sizes=False, rel_position=False)\n",
    "#     return sphere.astype(np.int_)\n",
    "\n",
    "# container_shape = (100, 100, 100)\n",
    "# radius = 7\n",
    "# center = (2, 2, 2)\n",
    "\n",
    "# # print(calculate_weight(container_shape, radius, center))\n",
    "# test_sphere = draw_sphere(container_shape, radius, center)\n",
    "\n",
    "# from mpl_toolkits.mplot3d import Axes3D\n",
    "# z,x,y = test_sphere.nonzero()\n",
    "# fig = plt.figure()\n",
    "# ax = fig.add_subplot(111, projection='3d')\n",
    "# set_aspect_ratio_equal(ax)\n",
    "# ax.axes.set_xlim3d(left=0, right=container_shape[1]) \n",
    "# ax.axes.set_ylim3d(bottom=0, top=container_shape[2]) \n",
    "# ax.axes.set_zlim3d(bottom=0, top=container_shape[0]) \n",
    "# ax.scatter(x, y, z, zdir='z', c= 'red')\n",
    "# plt.show()"
   ]
  },
  {
   "cell_type": "code",
   "execution_count": 93,
   "metadata": {},
   "outputs": [],
   "source": [
    "# def sample_clustered_points(points):\n",
    "#     from random import randrange\n",
    "#     \"\"\"\n",
    "#     Given a set of points, returns a second set of points that are spatially\n",
    "#     related\n",
    "#     \"\"\"\n",
    "#     new_points = [[z+randrange(0,11)-5, y+randrange(0,11)-5, x+randrange(0,11)-5] for z, y, x in points]\n",
    "#     return np.array(new_points)"
   ]
  },
  {
   "cell_type": "code",
   "execution_count": 94,
   "metadata": {},
   "outputs": [],
   "source": [
    "# ### Visualize Multivariate Points Within Sphere\n",
    "# random_DTC = stats.uniform.rvs(loc=0, scale=100, size=(100,3))\n",
    "# random_NG2 = sample_clustered_points(random_DTC)\n",
    "# # random_NG2 = stats.uniform.rvs(loc=0, scale=100, size=(100,3))\n",
    "# # random_NG2 = stats.skewnorm.rvs(a=4, loc=50, scale=25, size=(100,3))\n",
    "\n",
    "# DTC_tree = spatial.cKDTree(random_DTC)\n",
    "# NG2_tree = spatial.cKDTree(random_NG2)\n",
    "\n",
    "# DTC_idx_in = DTC_tree.query_ball_point((50,50,50), 20)\n",
    "# NG2_idx_in = NG2_tree.query_ball_point((50,50,50), 20)"
   ]
  },
  {
   "cell_type": "code",
   "execution_count": 95,
   "metadata": {},
   "outputs": [],
   "source": [
    "# DTC_idx_out = np.ones(len(random_DTC), bool); DTC_idx_out[DTC_idx_in] = 0\n",
    "# NG2_idx_out = np.ones(len(random_NG2), bool); NG2_idx_out[NG2_idx_in] = 0\n",
    "\n",
    "# DTC_inside, DTC_outside = random_DTC[DTC_idx_in], random_DTC[DTC_idx_out]\n",
    "# NG2_inside, NG2_outside = random_NG2[NG2_idx_in], random_NG2[NG2_idx_out]\n",
    "\n",
    "# DTC_ix, DTC_ox = DTC_inside[:, 0], DTC_outside[:, 0]\n",
    "# DTC_iy, DTC_oy = DTC_inside[:, 1], DTC_outside[:, 1]\n",
    "# DTC_iz, DTC_oz = DTC_inside[:, 2], DTC_outside[:, 2]\n",
    "\n",
    "# NG2_ix, NG2_ox = NG2_inside[:, 0], NG2_outside[:, 0]\n",
    "# NG2_iy, NG2_oy = NG2_inside[:, 1], NG2_outside[:, 1]\n",
    "# NG2_iz, NG2_oz = NG2_inside[:, 2], NG2_outside[:, 2]\n",
    "\n",
    "# fig = plt.figure()\n",
    "# ax = fig.add_subplot(projection='3d')\n",
    "# set_aspect_ratio_equal(ax)\n",
    "# ax.scatter(DTC_ix,DTC_iy,DTC_iz, color=\"g\",marker=\"o\", depthshade=0)\n",
    "# ax.scatter(DTC_ox,DTC_oy,DTC_oz,color=\"y\",marker=\"o\", depthshade=1)\n",
    "# ax.scatter(NG2_ix,NG2_iy,NG2_iz, color=\"r\",marker=\"o\", depthshade=0)\n",
    "# ax.scatter(NG2_ox,NG2_oy,NG2_oz,color=\"m\",marker=\"o\", depthshade=1)\n",
    "\n",
    "# scale = 20\n",
    "# # draw sphere\n",
    "# u, v = np.mgrid[0:2*np.pi:20j, 0:np.pi:10j]\n",
    "# cx = scale*np.cos(u)*np.sin(v)+50\n",
    "# cy = scale*np.sin(u)*np.sin(v)+50\n",
    "# cz = scale*np.cos(v)+50\n",
    "# ax.plot_wireframe(cx, cy, cz, color=\"gray\", alpha=0.3)"
   ]
  },
  {
   "cell_type": "code",
   "execution_count": 96,
   "metadata": {},
   "outputs": [],
   "source": [
    "# For this rectangular test case, volume_mask is just an array of ones\n",
    "# volume_mask = np.ones((100, 100, 100))\n",
    "# volume = volume_mask.sum()\n",
    "# volume_shape = volume_mask.shape"
   ]
  },
  {
   "cell_type": "code",
   "execution_count": 97,
   "metadata": {},
   "outputs": [],
   "source": [
    "# ### Run Multivariate (Cross) Ripley on Random Points data\n",
    "# crossripley_data = []\n",
    "# crossripley_data_w = []\n",
    "\n",
    "# radii = np.arange(2, 67) \n",
    "# crossripley = CrossRipley(random_DTC, random_NG2, radii, volume_mask, boundary_correction=False)\n",
    "# crossripley_w = CrossRipley(random_DTC, random_NG2, radii, volume_mask, boundary_correction=True)\n",
    "\n",
    "# K, L, H = map(sorted, crossripley.run_ripley(1))\n",
    "# K_w, L_w, H_w = map(sorted, crossripley_w.run_ripley(16))\n",
    "\n",
    "# # Organize into list of [Radius, K, L, H, Type, Line] \n",
    "# crossripley_data += [(k[0], k[1], l[1], h[1], \"CSR\") for k, l, h in zip(K, L, H)]\n",
    "# crossripley_data_w += [(k[0], k[1], l[1], h[1], \"CSR\") for k, l, h in zip(K_w, L_w, H_w)]\n",
    "\n",
    "# rstats = pd.DataFrame(crossripley_data, columns=[\"Radius (r)\", \"K(r)\", \"L(r)\", \"H(r)\", \"Type\"])\n",
    "# rstats_w = pd.DataFrame(crossripley_data_w, columns=[\"Radius (r)\", \"K(r)\", \"L(r)\", \"H(r)\", \"Type\"])"
   ]
  },
  {
   "cell_type": "code",
   "execution_count": 98,
   "metadata": {},
   "outputs": [],
   "source": [
    "# plt.rcParams['figure.figsize'] = [16, 9]\n",
    "# f, axes = plt.subplots(2, 3)\n",
    "# tumor_data_w = []\n",
    "\n",
    "# # Max ripley search sphere size. Typically 1/3 or 1/2 of smallest dimension\n",
    "# # max_search_radius = min(mask.shape) // 3\n",
    "# ripley = Ripley(tumor_points, tumor_radii, mask, boundary_correction=False)\n",
    "# ripley_w = Ripley(tumor_points, tumor_radii, mask, boundary_correction=True)\n",
    "\n",
    "# # Sort by radii\n",
    "# K, L, H = map(sorted, ripley.run_ripley(2))\n",
    "# K_w, L_w, H_w = map(sorted, ripley_w.run_ripley(63))\n",
    "\n",
    "# # Organize into list of [Radius, K, L, H, Type, Line] \n",
    "# tumor_data += [(k[0], k[1], l[1], h[1], \"Tumor\") for k, l, h in zip(K, L, H)]\n",
    "# tumor_data_w += [(k[0], k[1], l[1], h[1], \"Tumor\") for k, l, h in zip(K_w, L_w, H_w)]\n",
    "    \n",
    "# tumor_rstats = pd.DataFrame(tumor_data, columns=[\"Radius (r)\", \"K(r)\", \"L(r)\", \"H(r)\", \"Type\"])\n",
    "# tumor_rstats_w \n",
    "# axes[0, 1].plot([0, 50], [0, 50], linewidth=1, linestyle=\"dotted\", color=\"#aaa\") # Expected line\n",
    "# # H\n",
    "# sns.lineplot(data=rstats, x=\"Radius (r)\", y=\"H(r)\", ax=axes[0, 2])\n",
    "# axes[0, 2].plot([0, 50], [0, 0], linewidth=1, linestyle=\"dotted\", color=\"#aaa\") # Expected line\n",
    "\n",
    "# ## Bottom Row\n",
    "# # K\n",
    "# sns.lineplot(data=rstats_w, x=\"Radius (r)\", y=\"K(r)\", ax=axes[1, 0], alpha=1)\n",
    "# # L\n",
    "# sns.lineplot(data=rstats_w, x=\"Radius (r)\", y=\"L(r)\", ax=axes[1, 1], alpha=1)\n",
    "# axes[1, 1].plot([0, 50], [0, 50], linewidth=1, linestyle=\"dotted\", color=\"#aaa\") # Expected line\n",
    "# # H\n",
    "# sns.lineplot(data=rstats_w, x=\"Radius (r)\", y=\"H(r)\", ax=axes[1, 2], alpha=1)\n",
    "# axes[1, 2].plot([0, 50], [0, 0], linewidth=1, linestyle=\"dotted\", color=\"#aaa\") # Expected line\n",
    "\n",
    "# plt.show()"
   ]
  },
  {
   "cell_type": "code",
   "execution_count": 99,
   "metadata": {},
   "outputs": [],
   "source": [
    "### Visualize Univariate Points Within Sphere\n",
    "\n",
    "# test_random_points = stats.uniform.rvs(0, 100, (100,3))\n",
    "# test_tree = spatial.cKDTree(test_random_points)\n",
    "# idx_in = test_tree.query_ball_point((50,50,50),20)\n",
    "\n",
    "# idx_out = np.ones(len(test_random_points), bool)\n",
    "# idx_out[idx_in] = 0\n",
    "\n",
    "# pts_inside_radius = test_random_points[idx_in]\n",
    "# pts_outside_radius = test_random_points[idx_out]\n",
    "\n",
    "# print(len(test_random_points), len(pts_inside_radius), len(pts_outside_radius))\n",
    "\n",
    "# ix, ox = pts_inside_radius[:, 0], pts_outside_radius[:, 0]\n",
    "# iy, oy = pts_inside_radius[:, 1], pts_outside_radius[:, 1]\n",
    "# iz, oz = pts_inside_radius[:, 2], pts_outside_radius[:, 2]\n",
    "\n",
    "# fig = plt.figure()\n",
    "# ax = fig.add_subplot(projection='3d')\n",
    "# set_aspect_ratio_equal(ax)\n",
    "# ax.scatter(ix,iy,iz, color=\"b\",marker=\"o\", depthshade=0)\n",
    "# ax.scatter(ox,oy,oz,color=\"r\",marker=\"o\", depthshade=1)\n",
    "\n",
    "\n",
    "# scale = 20\n",
    "# # draw sphere\n",
    "# u, v = np.mgrid[0:2*np.pi:20j, 0:np.pi:10j]\n",
    "# cx = scale*np.cos(u)*np.sin(v)+50\n",
    "# cy = scale*np.sin(u)*np.sin(v)+50\n",
    "# cz = scale*np.cos(v)+50\n",
    "# ax.plot_wireframe(cx, cy, cz, color=\"gray\", alpha=0.3)"
   ]
  },
  {
   "cell_type": "markdown",
   "metadata": {},
   "source": [
    "### Complete Spatial Randomness (CSR) Representations"
   ]
  },
  {
   "cell_type": "code",
   "execution_count": 100,
   "metadata": {},
   "outputs": [],
   "source": [
    "# CSR_data = []\n",
    "# CSR_data_w = []\n",
    "# # Starting at 2 because radius of 1 causes errors at the boundaries\n",
    "# # where sometimes the entire circle falls outside of study area\n",
    "# # resulting in a weight of 0.0\n",
    "# radii=np.arange(2, 67) \n",
    "# n_samples = 5\n",
    "# for n in range(n_samples):\n",
    "#     print(f\"{n}/{n_samples}\")\n",
    "#     CSR_points = stats.uniform.rvs(0, 100, (100,3))\n",
    "#     # pbar = tqdm(total=len(CSR_points))\n",
    "#     ripley = Ripley(CSR_points, radii, volume_mask, boundary_correction=False)\n",
    "#     ripley_w = Ripley(CSR_points, radii, volume_mask, boundary_correction=True)\n",
    "\n",
    "#     # Sort by radii\n",
    "#     K, L, H = map(sorted, ripley.run_ripley(1))\n",
    "#     print(\"done\")\n",
    "#     K_w, L_w, H_w = map(sorted, ripley_w.run_ripley(8))\n",
    "\n",
    "#     # Organize into list of [Radius, K, L, H, Type, Line] \n",
    "#     CSR_data += [(k[0], k[1], l[1], h[1], \"CSR\", n) for k, l, h in zip(K, L, H)]\n",
    "#     CSR_data_w += [(k[0], k[1], l[1], h[1], \"CSR\", n) for k, l, h in zip(K_w, L_w, H_w)]\n",
    "    \n",
    "# rstats = pd.DataFrame(CSR_data, columns=[\"Radius (r)\", \"K(r)\", \"L(r)\", \"H(r)\", \"Type\", \"Line\"])\n",
    "# rstats_w = pd.DataFrame(CSR_data_w, columns=[\"Radius (r)\", \"K(r)\", \"L(r)\", \"H(r)\", \"Type\", \"Line\"])\n",
    "# rstats_w"
   ]
  },
  {
   "cell_type": "code",
   "execution_count": 101,
   "metadata": {},
   "outputs": [],
   "source": [
    "# plt.rcParams['figure.figsize'] = [16, 9]\n",
    "# f, axes = plt.subplots(2, 3)\n",
    "\n",
    "# ## Top Row\n",
    "# # K\n",
    "# sns.lineplot(data=rstats, x=\"Radius (r)\", y=\"K(r)\", ax=axes[0, 0], hue=\"Line\")\n",
    "# # L\n",
    "# sns.lineplot(data=rstats, x=\"Radius (r)\", y=\"L(r)\", ax=axes[0, 1], hue=\"Line\")\n",
    "# axes[0, 1].plot([0, 50], [0, 50], linewidth=1, linestyle=\"dotted\", color=\"#aaa\") # Expected line\n",
    "# # H\n",
    "# sns.lineplot(data=rstats, x=\"Radius (r)\", y=\"H(r)\", ax=axes[0, 2], hue=\"Line\")\n",
    "# axes[0, 2].plot([0, 50], [0, 0], linewidth=1, linestyle=\"dotted\", color=\"#aaa\") # Expected line\n",
    "\n",
    "# ## Bottom Row\n",
    "# # K\n",
    "# sns.lineplot(data=rstats, x=\"Radius (r)\", y=\"K(r)\", ax=axes[1, 0], alpha=0, errorbar=(\"pi\", 95))\n",
    "# # L\n",
    "# sns.lineplot(data=rstats, x=\"Radius (r)\", y=\"L(r)\", ax=axes[1, 1], alpha=0, errorbar=(\"pi\", 95))\n",
    "# axes[1, 1].plot([0, 50], [0, 50], linewidth=1, linestyle=\"dotted\", color=\"#aaa\") # Expected line\n",
    "# # H\n",
    "# sns.lineplot(data=rstats, x=\"Radius (r)\", y=\"H(r)\", ax=axes[1, 2], alpha=0, errorbar=(\"ci\", 95))\n",
    "# axes[1, 2].plot([0, 50], [0, 0], linewidth=1, linestyle=\"dotted\", color=\"#aaa\") # Expected line\n",
    "\n",
    "# plt.show()\n",
    "\n"
   ]
  },
  {
   "cell_type": "code",
   "execution_count": 102,
   "metadata": {},
   "outputs": [],
   "source": [
    "# f, axes = plt.subplots(2, 3,)\n",
    "\n",
    "# ## Top Row\n",
    "# # K\n",
    "# sns.lineplot(data=rstats_w, x=\"Radius (r)\", y=\"K(r)\", ax=axes[0, 0], hue=\"Line\")\n",
    "# # L\n",
    "# sns.lineplot(data=rstats_w, x=\"Radius (r)\", y=\"L(r)\", ax=axes[0, 1], hue=\"Line\")\n",
    "# axes[0, 1].plot([0, 50], [0, 50], linewidth=1, linestyle=\"dotted\", color=\"#aaa\") # Expected line\n",
    "# # H\n",
    "# sns.lineplot(data=rstats_w, x=\"Radius (r)\", y=\"H(r)\", ax=axes[0, 2], hue=\"Line\")\n",
    "# axes[0, 2].plot([0, 50], [0, 0], linewidth=1, linestyle=\"dotted\", color=\"#aaa\") # Expected line\n",
    "\n",
    "# ## Bottom Row\n",
    "# # K\n",
    "# sns.lineplot(data=rstats_w, x=\"Radius (r)\", y=\"K(r)\", ax=axes[1, 0], alpha=0, errorbar=(\"pi\", 95))\n",
    "# # L\n",
    "# sns.lineplot(data=rstats_w, x=\"Radius (r)\", y=\"L(r)\", ax=axes[1, 1], alpha=0, errorbar=(\"pi\", 95))\n",
    "# axes[1, 1].plot([0, 50], [0, 50], linewidth=1, linestyle=\"dotted\", color=\"#aaa\") # Expected line\n",
    "# # H\n",
    "# sns.lineplot(data=rstats_w, x=\"Radius (r)\", y=\"H(r)\", ax=axes[1, 2], alpha=0, errorbar=(\"pi\", 95))\n",
    "# axes[1, 2].plot([0, 50], [0, 0], linewidth=1, linestyle=\"dotted\", color=\"#aaa\") # Expected line\n",
    "\n",
    "# plt.show()"
   ]
  },
  {
   "cell_type": "code",
   "execution_count": 103,
   "metadata": {},
   "outputs": [],
   "source": [
    "# import ipytest\n",
    "# ipytest.autoconfig(raise_on_error=True)\n",
    "# %%ipytest -qq\n",
    "\n",
    "# # Tests\n",
    "\n",
    "# def test_valid_input():\n",
    "#     valid_points = [\n",
    "#         np.array([[38.4002419, 38.62931512, 41.6131775], [38, 38, 41], [1, 6, 8]]),\n",
    "#         np.array([[38, 38, 41], [1, 2, 3], [20, 20, 20]]),\n",
    "#         [[38.4002419, 38.62931512, 41.6131775], [3.4002419, 8.62931512, 1.6131775], [8.4002419, 3.62931512, 4.6131775]],\n",
    "#         [[38, 38, 41], [1, 2, 3], [4, 5, 6]],\n",
    "#     ]\n",
    "#     for p in valid_points:\n",
    "#         ripley(p, radii=1, volume_shape=(100,100,100))\n",
    "\n",
    "# def test_invalid_input():\n",
    "#     invalid_points = [\n",
    "#         np.array([[38.4002419, 38.62931512, 41.6131775]]),\n",
    "#         np.array([[38, 38, 41], [1, 2, 3]]),\n",
    "#         [[38.4002419, 38.62931512, 41.6131775]],\n",
    "#         [[38, 38, 41], [1, 2, 3]],\n",
    "#         \"38.4002419, 38.62931512, 41.6131775\",\n",
    "#         np.array([38.4002419, 38.62931512, 41.6131775]),\n",
    "#         np.array([[[38.4002419, 38.62931512, 41.6131775]]]),\n",
    "#         np.array([[38.4002419, 38.62931512]]),\n",
    "#         5,\n",
    "#         7.8,\n",
    "#         [6],\n",
    "#     ]\n",
    "#     for p in invalid_points:\n",
    "#         with pytest.raises(ValueError):\n",
    "#             ripley(p, radii=1, volume_shape=(100,100,100))\n"
   ]
  },
  {
   "cell_type": "code",
   "execution_count": 104,
   "metadata": {},
   "outputs": [],
   "source": [
    "tumor_dict = tumor_csv.to_dict(\"index\")\n",
    "# tumor_dict"
   ]
  },
  {
   "cell_type": "code",
   "execution_count": 105,
   "metadata": {},
   "outputs": [],
   "source": [
    "tumor_points = []\n",
    "for idx, tumor_info in tumor_dict.items():\n",
    "    x_um, y_um, z_slice = map(int, (tumor_info[\"x (um)\"], tumor_info[\"y (um)\"], tumor_info[\"z (slice)\"]))\n",
    "    x, y, z = map(int, (x_um / x_step, y_um / y_step, z_slice-1))\n",
    "    tumor_points.append([z, y, x])\n",
    "\n",
    "tumor_points = np.array(tumor_points, dtype=np.float64)\n",
    "n_tumor_points = tumor_points.shape[0]"
   ]
  },
  {
   "cell_type": "code",
   "execution_count": 106,
   "metadata": {},
   "outputs": [
    {
     "data": {
      "text/plain": [
       "92.10418438616504"
      ]
     },
     "execution_count": 106,
     "metadata": {},
     "output_type": "execute_result"
    }
   ],
   "source": [
    "stats.uniform.rvs(0, 100)"
   ]
  },
  {
   "cell_type": "code",
   "execution_count": 107,
   "metadata": {},
   "outputs": [],
   "source": [
    "\n",
    "# CSR_tumor_data = []\n",
    "# CSR_tumor_data_w = []\n",
    "\n",
    "# n_samples = 20\n",
    "# tumor_radii = np.arange(2, 400)\n",
    "# for n in range(n_samples):\n",
    "\n",
    "#     ## Generate random (CSR) points within the mask\n",
    "#     CSR_tumor_points = np.empty((n_tumor_points, 3), dtype=np.uint16)\n",
    "#     for i in range(n_tumor_points):\n",
    "#         # if generated point outside of mask, repeat, else break\n",
    "#         while(True):\n",
    "#             z, y, x = map(int, [stats.uniform.rvs(0, mask.shape[j]) for j in range(3)])\n",
    "#             if mask[z, y, x] == 1:\n",
    "#                 CSR_tumor_points[i] = np.array([z, y, x])\n",
    "#                 break\n",
    "            \n",
    "#     ripley = Ripley(CSR_tumor_points, tumor_radii, mask, boundary_correction=False)\n",
    "#     ripley_w = Ripley(CSR_tumor_points, tumor_radii, mask, boundary_correction=True)\n",
    "\n",
    "#     # Sort by radii\n",
    "#     K, L, H = map(sorted, ripley.run_ripley(1))\n",
    "#     K_w, L_w, H_w = map(sorted, ripley_w.run_ripley(63))\n",
    "\n",
    "#     # Organize into list of [Radius, K, L, H, Type, Line] \n",
    "#     CSR_tumor_data += [(k[0], k[1], l[1], h[1], \"Tumor_CSR\", n) for k, l, h in zip(K, L, H)]\n",
    "#     CSR_tumor_data_w += [(k[0], k[1], l[1], h[1], \"Tumor_CSR\", n) for k, l, h in zip(K_w, L_w, H_w)]\n",
    "    \n",
    "# CSR_tumor_rstats = pd.DataFrame(CSR_tumor_data, columns=[\"Radius (r)\", \"K(r)\", \"L(r)\", \"H(r)\", \"Type\", \"Line\"])\n",
    "# CSR_tumor_rstats_w = pd.DataFrame(CSR_tumor_data_w, columns=[\"Radius (r)\", \"K(r)\", \"L(r)\", \"H(r)\", \"Type\", \"Line\"])"
   ]
  },
  {
   "cell_type": "code",
   "execution_count": 108,
   "metadata": {},
   "outputs": [],
   "source": [
    "# CSR_tumor_rstats.to_csv(\"/home/dkermany/test.csv\")"
   ]
  },
  {
   "attachments": {},
   "cell_type": "markdown",
   "metadata": {},
   "source": [
    "Tumor Ripley Call\n",
    "<a id=\"tumor_ripley\"></a><br>\n",
    "[Draw Sphere Function](#draw_sphere_in_volume)\n"
   ]
  },
  {
   "cell_type": "code",
   "execution_count": 109,
   "metadata": {},
   "outputs": [],
   "source": [
    "# tumor_data = []\n",
    "# tumor_data_w = []\n",
    "\n",
    "# # Max ripley search sphere size. Typically 1/3 or 1/2 of smallest dimension\n",
    "# # max_search_radius = min(mask.shape) // 3\n",
    "# ripley = Ripley(tumor_points, tumor_radii, mask, boundary_correction=False)\n",
    "# ripley_w = Ripley(tumor_points, tumor_radii, mask, boundary_correction=True)\n",
    "\n",
    "# # Sort by radii\n",
    "# K, L, H = map(sorted, ripley.run_ripley(2))\n",
    "# K_w, L_w, H_w = map(sorted, ripley_w.run_ripley(63))\n",
    "\n",
    "# # Organize into list of [Radius, K, L, H, Type, Line] \n",
    "# tumor_data += [(k[0], k[1], l[1], h[1], \"Tumor\") for k, l, h in zip(K, L, H)]\n",
    "# tumor_data_w += [(k[0], k[1], l[1], h[1], \"Tumor\") for k, l, h in zip(K_w, L_w, H_w)]\n",
    "    \n",
    "# tumor_rstats = pd.DataFrame(tumor_data, columns=[\"Radius (r)\", \"K(r)\", \"L(r)\", \"H(r)\", \"Type\"])\n",
    "# tumor_rstats_w = pd.DataFrame(tumor_data_w, columns=[\"Radius (r)\", \"K(r)\", \"L(r)\", \"H(r)\", \"Type\"])\n",
    "\n"
   ]
  },
  {
   "cell_type": "code",
   "execution_count": 110,
   "metadata": {},
   "outputs": [],
   "source": [
    "# f, axes = plt.subplots(2, 3,)\n",
    "\n",
    "# ## Top Row\n",
    "# # K\n",
    "# sns.lineplot(data=tumor_rstats, x=\"Radius (r)\", y=\"K(r)\", ax=axes[0, 0])\n",
    "# sns.lineplot(data=CSR_tumor_rstats, x=\"Radius (r)\", y=\"K(r)\", ax=axes[0, 0], alpha=0, errorbar=(\"pi\", 95))\n",
    "# # L\n",
    "# sns.lineplot(data=tumor_rstats, x=\"Radius (r)\", y=\"L(r)\", ax=axes[0, 1])\n",
    "# sns.lineplot(data=CSR_tumor_rstats, x=\"Radius (r)\", y=\"L(r)\", ax=axes[0, 1], alpha=0, errorbar=(\"pi\", 95))\n",
    "# axes[0, 1].plot([0, 400], [0, 400], linewidth=1, linestyle=\"dotted\", color=\"#aaa\") # Expected line\n",
    "# # H\n",
    "# sns.lineplot(data=tumor_rstats, x=\"Radius (r)\", y=\"H(r)\", ax=axes[0, 2])\n",
    "# sns.lineplot(data=CSR_tumor_rstats, x=\"Radius (r)\", y=\"H(r)\", ax=axes[0, 2], alpha=0, errorbar=(\"pi\", 95))\n",
    "# axes[0, 2].plot([0, 400], [0, 0], linewidth=1, linestyle=\"dotted\", color=\"#aaa\") # Expected line\n",
    "\n",
    "# ## Bottom Row - Boundary Corrected\n",
    "# # K\n",
    "# sns.lineplot(data=tumor_rstats_w, x=\"Radius (r)\", y=\"K(r)\", ax=axes[1, 0])\n",
    "# sns.lineplot(data=CSR_tumor_rstats_w, x=\"Radius (r)\", y=\"K(r)\", ax=axes[1, 0], alpha=0, errorbar=(\"pi\", 95))\n",
    "# # L\n",
    "# sns.lineplot(data=tumor_rstats_w, x=\"Radius (r)\", y=\"L(r)\", ax=axes[1, 1])\n",
    "# sns.lineplot(data=CSR_tumor_rstats_w, x=\"Radius (r)\", y=\"L(r)\", ax=axes[1, 1], alpha=0, errorbar=(\"pi\", 95))\n",
    "# axes[1, 1].plot([0, 400], [0, 400], linewidth=1, linestyle=\"dotted\", color=\"#aaa\") # Expected line\n",
    "# # H\n",
    "# sns.lineplot(data=tumor_rstats_w, x=\"Radius (r)\", y=\"H(r)\", ax=axes[1, 2])\n",
    "# sns.lineplot(data=CSR_tumor_rstats_w, x=\"Radius (r)\", y=\"H(r)\", ax=axes[1, 2], alpha=0, errorbar=(\"pi\", 95))\n",
    "# axes[1, 2].plot([0, 400], [0, 0], linewidth=1, linestyle=\"dotted\", color=\"#aaa\") # Expected line\n",
    "\n",
    "# plt.show()"
   ]
  },
  {
   "cell_type": "code",
   "execution_count": 111,
   "metadata": {},
   "outputs": [],
   "source": [
    "# f, axes = plt.subplots(2, 3,)\n",
    "\n",
    "# ## Top Row\n",
    "# # K\n",
    "# sns.lineplot(data=CSR_tumor_rstats, x=\"Radius (r)\", y=\"K(r)\", ax=axes[-1, 0], alpha=0, errorbar=(\"pi\", 95))\n",
    "# # L\n",
    "# sns.lineplot(data=CSR_tumor_rstats, x=\"Radius (r)\", y=\"L(r)\", ax=axes[0, 1], alpha=0, errorbar=(\"pi\", 95))\n",
    "# axes[0, 1].plot([0, 400], [0, 400], linewidth=1, linestyle=\"dotted\", color=\"#aaa\") # Expected line\n",
    "# # H\n",
    "# sns.lineplot(data=CSR_tumor_rstats, x=\"Radius (r)\", y=\"H(r)\", ax=axes[0, 2], alpha=0, errorbar=(\"pi\", 95))\n",
    "# axes[0, 2].plot([0, 400], [0, 0], linewidth=1, linestyle=\"dotted\", color=\"#aaa\") # Expected line\n",
    "\n",
    "# ## Bottom Row\n",
    "# # K\n",
    "# sns.lineplot(data=CSR_tumor_rstats_w, x=\"Radius (r)\", y=\"K(r)\", ax=axes[1, 0], alpha=0, errorbar=(\"pi\", 95))\n",
    "# # L\n",
    "# sns.lineplot(data=CSR_tumor_rstats_w, x=\"Radius (r)\", y=\"L(r)\", ax=axes[1, 1], alpha=0, errorbar=(\"pi\", 95))\n",
    "# axes[1, 1].plot([0, 400], [0, 400], linewidth=1, linestyle=\"dotted\", color=\"#aaa\") # Expected line\n",
    "# # H\n",
    "# sns.lineplot(data=CSR_tumor_rstats_w, x=\"Radius (r)\", y=\"H(r)\", ax=axes[1, 2], alpha=0, errorbar=(\"pi\", 95))\n",
    "# axes[1, 2].plot([0, 400], [0, 0], linewidth=1, linestyle=\"dotted\", color=\"#aaa\") # Expected line\n",
    "\n",
    "# plt.show()\n",
    "\n"
   ]
  },
  {
   "cell_type": "code",
   "execution_count": 112,
   "metadata": {},
   "outputs": [],
   "source": [
    "ng2_points_path = f\"/home/dkermany/data/Bone_Project/NG2_Centroids/{filename}_NG2_centroids.npy\"\n",
    "ng2_points = np.flip(np.load(ng2_points_path).T, axis=1) # put points into Z,Y,X format (N, 3)\n",
    "cross_tumor_radii = np.arange(2, 300)"
   ]
  },
  {
   "cell_type": "code",
   "execution_count": 113,
   "metadata": {},
   "outputs": [
    {
     "name": "stdout",
     "output_type": "stream",
     "text": [
      "Tumor points: (27, 3)\n",
      "NG2 points: (1193, 3)\n"
     ]
    }
   ],
   "source": [
    "print(f\"Tumor points: {tumor_points.shape}\")\n",
    "print(f\"NG2 points: {ng2_points.shape}\")"
   ]
  },
  {
   "cell_type": "code",
   "execution_count": 114,
   "metadata": {},
   "outputs": [
    {
     "name": "stderr",
     "output_type": "stream",
     "text": [
      "100%|█████████████████████████████████████████| 298/298 [13:35<00:00,  2.74s/it]\n"
     ]
    }
   ],
   "source": [
    "\n",
    "# cross_tumor_data = []\n",
    "cross_tumor_data_w = []\n",
    "\n",
    "# Max ripley search sphere size. Typically 1/3 or 1/2 of smallest dimension\n",
    "# max_search_radius = min(mask.shape) // 3\n",
    "# ripley = CrossRipley(tumor_points, ng2_points, cross_tumor_radii, mask, boundary_correction=False)\n",
    "ripley_w = CrossRipley(tumor_points, ng2_points, cross_tumor_radii, mask, boundary_correction=True)\n",
    "\n",
    "# Sort by radii\n",
    "# K, L, H = map(sorted, ripley.run_ripley(1))\n",
    "K_w, L_w, H_w = map(sorted, ripley_w.run_ripley(63))\n",
    "\n",
    "# # Organize into list of [Radius, K, L, H, Type] \n",
    "# cross_tumor_data += [(k[0], k[1], l[1], h[1], \"Tumor\") for k, l, h in zip(K, L, H)]\n",
    "cross_tumor_data_w += [(k[0], k[1], l[1], h[1], \"Tumor\") for k, l, h in zip(K_w, L_w, H_w)]\n",
    "    \n",
    "# cross_tumor_rstats = pd.DataFrame(cross_tumor_data, columns=[\"Radius (r)\", \"K(r)\", \"L(r)\", \"H(r)\", \"Type\"])\n",
    "cross_tumor_rstats_w = pd.DataFrame(cross_tumor_data_w, columns=[\"Radius (r)\", \"K(r)\", \"L(r)\", \"H(r)\", \"Type\"])\n",
    "\n",
    "# cross_tumor_rstats.to_csv(f\"/home/dkermany/ripley_results/{filename}_rstats.csv\")\n",
    "cross_tumor_rstats_w.to_csv(f\"/home/dkermany/ripley_results/{filename}_rstats_w.csv\")\n"
   ]
  },
  {
   "cell_type": "code",
   "execution_count": 115,
   "metadata": {},
   "outputs": [
    {
     "data": {
      "application/vnd.jupyter.widget-view+json": {
       "model_id": "4d61f1914faf492ea761d0c11f11d38f",
       "version_major": 2,
       "version_minor": 0
      },
      "image/png": "[encoded data removed]",
      "text/html": [
       "\n",
       "            <div style=\"display: inline-block;\">\n",
       "                <div class=\"jupyter-widgets widget-label\" style=\"text-align: center;\">\n",
       "                    Figure\n",
       "                </div>\n",
       "                <img src='data:image/png;base64,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' width=640.0/>\n",
       "            </div>\n",
       "        "
      ],
      "text/plain": [
       "Canvas(toolbar=Toolbar(toolitems=[('Home', 'Reset original view', 'home', 'home'), ('Back', 'Back to previous …"
      ]
     },
     "metadata": {},
     "output_type": "display_data"
    }
   ],
   "source": [
    "\n",
    "f, axes = plt.subplots(2, 3,)\n",
    "\n",
    "## Top Row\n",
    "# K\n",
    "# sns.lineplot(data=cross_tumor_rstats, x=\"Radius (r)\", y=\"K(r)\", ax=axes[0, 0])\n",
    "# L\n",
    "# sns.lineplot(data=cross_tumor_rstats, x=\"Radius (r)\", y=\"L(r)\", ax=axes[0, 1])\n",
    "axes[0, 1].plot([0, 400], [0, 400], linewidth=1, linestyle=\"dotted\", color=\"#aaa\") # Expected line\n",
    "# H\n",
    "# sns.lineplot(data=cross_tumor_rstats, x=\"Radius (r)\", y=\"H(r)\", ax=axes[0, 2])\n",
    "axes[0, 2].plot([0, 400], [0, 0], linewidth=1, linestyle=\"dotted\", color=\"#aaa\") # Expected line\n",
    "\n",
    "## Bottom Row\n",
    "# K\n",
    "sns.lineplot(data=cross_tumor_rstats_w, x=\"Radius (r)\", y=\"K(r)\", ax=axes[1, 0])\n",
    "# L\n",
    "sns.lineplot(data=cross_tumor_rstats_w, x=\"Radius (r)\", y=\"L(r)\", ax=axes[1, 1])\n",
    "axes[1, 1].plot([0, 400], [0, 400], linewidth=1, linestyle=\"dotted\", color=\"#aaa\") # Expected line\n",
    "# H\n",
    "sns.lineplot(data=cross_tumor_rstats_w, x=\"Radius (r)\", y=\"H(r)\", ax=axes[1, 2])\n",
    "axes[1, 2].plot([0, 400], [0, 0], linewidth=1, linestyle=\"dotted\", color=\"#aaa\") # Expected line\n",
    "\n",
    "plt.show()\n"
   ]
  },
  {
   "cell_type": "code",
   "execution_count": 116,
   "metadata": {},
   "outputs": [],
   "source": [
    "# tumor_data = []\n",
    "# tumor_data_w = []\n",
    "\n",
    "# # Max ripley search sphere size. Typically 1/3 or 1/2 of smallest dimension\n",
    "# # max_search_radius = min(mask.shape) // 3\n",
    "# ripley = Ripley(tumor_points, tumor_radii, mask, boundary_correction=False)\n",
    "# ripley_w = Ripley(tumor_points, tumor_radii, mask, boundary_correction=True)\n",
    "\n",
    "# # Sort by radii\n",
    "# K, L, H = map(sorted, ripley.run_ripley(2))\n",
    "# K_w, L_w, H_w = map(sorted, ripley_w.run_ripley(63))\n",
    "\n",
    "# # Organize into list of [Radius, K, L, H, Type, Line] \n",
    "# tumor_data += [(k[0], k[1], l[1], h[1], \"Tumor\") for k, l, h in zip(K, L, H)]\n",
    "# tumor_data_w += [(k[0], k[1], l[1], h[1], \"Tumor\") for k, l, h in zip(K_w, L_w, H_w)]\n",
    "    \n",
    "# tumor_rstats = pd.DataFrame(tumor_data, columns=[\"Radius (r)\", \"K(r)\", \"L(r)\", \"H(r)\", \"Type\"])\n",
    "# tumor_rstats_w = pd.DataFrame(tumor_data_w, columns=[\"Radius (r)\", \"K(r)\", \"L(r)\", \"H(r)\", \"Type\"])"
   ]
  },
  {
   "cell_type": "code",
   "execution_count": 117,
   "metadata": {},
   "outputs": [],
   "source": [
    "def get_shuffled_labels(points1, points2):\n",
    "    combined_arr = np.concatenate((points1, points2), axis=0)\n",
    "    np.random.shuffle(combined_arr) # inplace shuffle\n",
    "    return np.split(combined_arr, [points1.shape[0]])"
   ]
  },
  {
   "cell_type": "code",
   "execution_count": null,
   "metadata": {},
   "outputs": [],
   "source": []
  },
  {
   "cell_type": "code",
   "execution_count": 118,
   "metadata": {},
   "outputs": [
    {
     "name": "stdout",
     "output_type": "stream",
     "text": [
      "Source image: FV10__20181009_103052\n",
      "\n",
      "Running Monte-Carlo Simulation 0/20\n",
      "\n"
     ]
    },
    {
     "name": "stderr",
     "output_type": "stream",
     "text": [
      "100%|█████████████████████████████████████████| 298/298 [13:40<00:00,  2.75s/it]\n"
     ]
    },
    {
     "name": "stdout",
     "output_type": "stream",
     "text": [
      "\n",
      "Running Monte-Carlo Simulation 1/20\n",
      "\n"
     ]
    },
    {
     "name": "stderr",
     "output_type": "stream",
     "text": [
      "100%|█████████████████████████████████████████| 298/298 [13:36<00:00,  2.74s/it]\n"
     ]
    },
    {
     "name": "stdout",
     "output_type": "stream",
     "text": [
      "\n",
      "Running Monte-Carlo Simulation 2/20\n",
      "\n"
     ]
    },
    {
     "name": "stderr",
     "output_type": "stream",
     "text": [
      "100%|█████████████████████████████████████████| 298/298 [13:43<00:00,  2.76s/it]\n"
     ]
    },
    {
     "name": "stdout",
     "output_type": "stream",
     "text": [
      "\n",
      "Running Monte-Carlo Simulation 3/20\n",
      "\n"
     ]
    },
    {
     "name": "stderr",
     "output_type": "stream",
     "text": [
      "100%|█████████████████████████████████████████| 298/298 [13:01<00:00,  2.62s/it]\n"
     ]
    },
    {
     "name": "stdout",
     "output_type": "stream",
     "text": [
      "\n",
      "Running Monte-Carlo Simulation 4/20\n",
      "\n"
     ]
    },
    {
     "name": "stderr",
     "output_type": "stream",
     "text": [
      "100%|█████████████████████████████████████████| 298/298 [13:21<00:00,  2.69s/it]\n"
     ]
    },
    {
     "name": "stdout",
     "output_type": "stream",
     "text": [
      "\n",
      "Running Monte-Carlo Simulation 5/20\n",
      "\n"
     ]
    },
    {
     "name": "stderr",
     "output_type": "stream",
     "text": [
      "100%|█████████████████████████████████████████| 298/298 [13:39<00:00,  2.75s/it]\n"
     ]
    },
    {
     "name": "stdout",
     "output_type": "stream",
     "text": [
      "\n",
      "Running Monte-Carlo Simulation 6/20\n",
      "\n"
     ]
    },
    {
     "name": "stderr",
     "output_type": "stream",
     "text": [
      "100%|█████████████████████████████████████████| 298/298 [12:33<00:00,  2.53s/it]\n"
     ]
    },
    {
     "name": "stdout",
     "output_type": "stream",
     "text": [
      "\n",
      "Running Monte-Carlo Simulation 7/20\n",
      "\n"
     ]
    },
    {
     "name": "stderr",
     "output_type": "stream",
     "text": [
      "100%|█████████████████████████████████████████| 298/298 [13:15<00:00,  2.67s/it]\n"
     ]
    },
    {
     "name": "stdout",
     "output_type": "stream",
     "text": [
      "\n",
      "Running Monte-Carlo Simulation 8/20\n",
      "\n"
     ]
    },
    {
     "name": "stderr",
     "output_type": "stream",
     "text": [
      "100%|█████████████████████████████████████████| 298/298 [12:47<00:00,  2.57s/it]\n"
     ]
    },
    {
     "name": "stdout",
     "output_type": "stream",
     "text": [
      "\n",
      "Running Monte-Carlo Simulation 9/20\n",
      "\n"
     ]
    },
    {
     "name": "stderr",
     "output_type": "stream",
     "text": [
      "100%|█████████████████████████████████████████| 298/298 [12:46<00:00,  2.57s/it]\n"
     ]
    },
    {
     "name": "stdout",
     "output_type": "stream",
     "text": [
      "\n",
      "Running Monte-Carlo Simulation 10/20\n",
      "\n"
     ]
    },
    {
     "name": "stderr",
     "output_type": "stream",
     "text": [
      "100%|█████████████████████████████████████████| 298/298 [12:34<00:00,  2.53s/it]\n"
     ]
    },
    {
     "name": "stdout",
     "output_type": "stream",
     "text": [
      "\n",
      "Running Monte-Carlo Simulation 11/20\n",
      "\n"
     ]
    },
    {
     "name": "stderr",
     "output_type": "stream",
     "text": [
      "100%|█████████████████████████████████████████| 298/298 [12:01<00:00,  2.42s/it]\n"
     ]
    },
    {
     "name": "stdout",
     "output_type": "stream",
     "text": [
      "\n",
      "Running Monte-Carlo Simulation 12/20\n",
      "\n"
     ]
    },
    {
     "name": "stderr",
     "output_type": "stream",
     "text": [
      "100%|█████████████████████████████████████████| 298/298 [12:06<00:00,  2.44s/it]\n"
     ]
    },
    {
     "name": "stdout",
     "output_type": "stream",
     "text": [
      "\n",
      "Running Monte-Carlo Simulation 13/20\n",
      "\n"
     ]
    },
    {
     "name": "stderr",
     "output_type": "stream",
     "text": [
      "100%|█████████████████████████████████████████| 298/298 [12:02<00:00,  2.42s/it]\n"
     ]
    },
    {
     "name": "stdout",
     "output_type": "stream",
     "text": [
      "\n",
      "Running Monte-Carlo Simulation 14/20\n",
      "\n"
     ]
    },
    {
     "name": "stderr",
     "output_type": "stream",
     "text": [
      "100%|█████████████████████████████████████████| 298/298 [12:05<00:00,  2.44s/it]\n"
     ]
    },
    {
     "name": "stdout",
     "output_type": "stream",
     "text": [
      "\n",
      "Running Monte-Carlo Simulation 15/20\n",
      "\n"
     ]
    },
    {
     "name": "stderr",
     "output_type": "stream",
     "text": [
      "100%|█████████████████████████████████████████| 298/298 [11:33<00:00,  2.33s/it]\n"
     ]
    },
    {
     "name": "stdout",
     "output_type": "stream",
     "text": [
      "\n",
      "Running Monte-Carlo Simulation 16/20\n",
      "\n"
     ]
    },
    {
     "name": "stderr",
     "output_type": "stream",
     "text": [
      "100%|█████████████████████████████████████████| 298/298 [12:16<00:00,  2.47s/it]\n"
     ]
    },
    {
     "name": "stdout",
     "output_type": "stream",
     "text": [
      "\n",
      "Running Monte-Carlo Simulation 17/20\n",
      "\n"
     ]
    },
    {
     "name": "stderr",
     "output_type": "stream",
     "text": [
      "100%|█████████████████████████████████████████| 298/298 [10:48<00:00,  2.18s/it]\n"
     ]
    },
    {
     "name": "stdout",
     "output_type": "stream",
     "text": [
      "\n",
      "Running Monte-Carlo Simulation 18/20\n",
      "\n"
     ]
    },
    {
     "name": "stderr",
     "output_type": "stream",
     "text": [
      "100%|█████████████████████████████████████████| 298/298 [11:24<00:00,  2.30s/it]\n"
     ]
    },
    {
     "name": "stdout",
     "output_type": "stream",
     "text": [
      "\n",
      "Running Monte-Carlo Simulation 19/20\n",
      "\n"
     ]
    },
    {
     "name": "stderr",
     "output_type": "stream",
     "text": [
      "100%|█████████████████████████████████████████| 298/298 [11:08<00:00,  2.24s/it]\n"
     ]
    }
   ],
   "source": [
    "# random_cross_tumor_data = []\n",
    "random_cross_tumor_data_w = []\n",
    "\n",
    "n_samples = 20\n",
    "tumor_radii = np.arange(2, 100)\n",
    "print(f\"Source image: {filename}\")\n",
    "for n in range(n_samples):\n",
    "    print(f\"\\nRunning Monte-Carlo Simulation {n}/{n_samples}\\n\")\n",
    "    random_tumor_points, random_ng2_points = get_shuffled_labels(tumor_points, ng2_points)\n",
    "\n",
    "    # ripley = CrossRipley(random_tumor_points, random_ng2_points, cross_tumor_radii, mask, boundary_correction=False)\n",
    "    ripley_w = CrossRipley(random_tumor_points, random_ng2_points, cross_tumor_radii, mask, boundary_correction=True)\n",
    "\n",
    "    # Sort by radii\n",
    "    # K, L, H = map(sorted, ripley.run_ripley(1))\n",
    "    K_w, L_w, H_w = map(sorted, ripley_w.run_ripley(63))\n",
    "\n",
    "    # # Organize into list of [Radius, K, L, H, Type] \n",
    "    # random_cross_tumor_data += [(k[0], k[1], l[1], h[1], \"Tumor\", n) for k, l, h in zip(K, L, H)]\n",
    "    random_cross_tumor_data_w += [(k[0], k[1], l[1], h[1], \"Tumor\", n) for k, l, h in zip(K_w, L_w, H_w)]\n",
    "\n",
    "# random_cross_tumor_rstats = pd.DataFrame(random_cross_tumor_data, columns=[\"Radius (r)\", \"K(r)\", \"L(r)\", \"H(r)\", \"Type\", \"Line\"])\n",
    "random_cross_tumor_rstats_w = pd.DataFrame(random_cross_tumor_data_w, columns=[\"Radius (r)\", \"K(r)\", \"L(r)\", \"H(r)\", \"Type\", \"Line\"])\n",
    "\n",
    "# random_cross_tumor_rstats.to_csv(f\"/home/dkermany/ripley_results/{filename}_random_rstats.csv\")\n",
    "random_cross_tumor_rstats_w.to_csv(f\"/home/dkermany/ripley_results/{filename}_random_rstats_w.csv\")"
   ]
  },
  {
   "cell_type": "code",
   "execution_count": 119,
   "metadata": {},
   "outputs": [
    {
     "data": {
      "application/vnd.jupyter.widget-view+json": {
       "model_id": "744dda4ae7fb43179c33bd7dde4b4386",
       "version_major": 2,
       "version_minor": 0
      },
      "image/png": "[encoded data removed]",
      "text/html": [
       "\n",
       "            <div style=\"display: inline-block;\">\n",
       "                <div class=\"jupyter-widgets widget-label\" style=\"text-align: center;\">\n",
       "                    Figure\n",
       "                </div>\n",
       "                <img src='data:image/png;base64,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' width=640.0/>\n",
       "            </div>\n",
       "        "
      ],
      "text/plain": [
       "Canvas(toolbar=Toolbar(toolitems=[('Home', 'Reset original view', 'home', 'home'), ('Back', 'Back to previous …"
      ]
     },
     "metadata": {},
     "output_type": "display_data"
    }
   ],
   "source": [
    "f, axes = plt.subplots(2, 3,)\n",
    "\n",
    "## Top Row\n",
    "# K\n",
    "# sns.lineplot(data=cross_tumor_rstats, x=\"Radius (r)\", y=\"K(r)\", ax=axes[0, 0])\n",
    "# sns.lineplot(data=random_cross_tumor_rstats, x=\"Radius (r)\", y=\"K(r)\", ax=axes[0, 0], alpha=0, errorbar=(\"pi\", 95))\n",
    "# L\n",
    "# sns.lineplot(data=cross_tumor_rstats, x=\"Radius (r)\", y=\"L(r)\", ax=axes[0, 1])\n",
    "# sns.lineplot(data=random_cross_tumor_rstats, x=\"Radius (r)\", y=\"L(r)\", ax=axes[0, 1], alpha=0, errorbar=(\"pi\", 95))\n",
    "axes[0, 1].plot([0, 400], [0, 400], linewidth=1, linestyle=\"dotted\", color=\"#aaa\") # Expected line\n",
    "# H\n",
    "# sns.lineplot(data=cross_tumor_rstats, x=\"Radius (r)\", y=\"H(r)\", ax=axes[0, 2])\n",
    "# sns.lineplot(data=random_cross_tumor_rstats, x=\"Radius (r)\", y=\"H(r)\", ax=axes[0, 2], alpha=0, errorbar=(\"pi\", 95))\n",
    "axes[0, 2].plot([0, 400], [0, 0], linewidth=1, linestyle=\"dotted\", color=\"#aaa\") # Expected line\n",
    "\n",
    "## Bottom Row - Boundary Corrected\n",
    "# K\n",
    "sns.lineplot(data=cross_tumor_rstats_w, x=\"Radius (r)\", y=\"K(r)\", ax=axes[1, 0])\n",
    "sns.lineplot(data=random_cross_tumor_rstats_w, x=\"Radius (r)\", y=\"K(r)\", ax=axes[1, 0], alpha=0, errorbar=(\"pi\", 95))\n",
    "# L\n",
    "sns.lineplot(data=cross_tumor_rstats_w, x=\"Radius (r)\", y=\"L(r)\", ax=axes[1, 1])\n",
    "sns.lineplot(data=random_cross_tumor_rstats_w, x=\"Radius (r)\", y=\"L(r)\", ax=axes[1, 1], alpha=0, errorbar=(\"pi\", 95))\n",
    "axes[1, 1].plot([0, 400], [0, 400], linewidth=1, linestyle=\"dotted\", color=\"#aaa\") # Expected line\n",
    "# H\n",
    "sns.lineplot(data=cross_tumor_rstats_w, x=\"Radius (r)\", y=\"H(r)\", ax=axes[1, 2])\n",
    "sns.lineplot(data=random_cross_tumor_rstats_w, x=\"Radius (r)\", y=\"H(r)\", ax=axes[1, 2], alpha=0, errorbar=(\"pi\", 95))\n",
    "axes[1, 2].plot([0, 400], [0, 0], linewidth=1, linestyle=\"dotted\", color=\"#aaa\") # Expected line\n",
    "\n",
    "plt.show()"
   ]
  }
 ],
 "metadata": {
  "kernelspec": {
   "display_name": "BoneSegEnv",
   "language": "python",
   "name": "bonesegenv"
  },
  "vscode": {
   "interpreter": {
    "hash": "16b8ebbebbd8eef9429a70fe83ccde4952691352fef003457d81796bc4b46f60"
   }
  }
 },
 "nbformat": 4,
 "nbformat_minor": 4
}
