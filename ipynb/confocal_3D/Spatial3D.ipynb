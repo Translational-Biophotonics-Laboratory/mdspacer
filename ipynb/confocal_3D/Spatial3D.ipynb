{
 "cells": [
  {
   "cell_type": "code",
   "execution_count": 1,
   "metadata": {},
   "outputs": [],
   "source": [
    "%matplotlib widget\n",
    "# %matplotlib inline\n",
    "%load_ext line_profiler\n",
    "import numpy as np\n",
    "import time\n",
    "import seaborn as sns\n",
    "import pandas as pd\n",
    "from scipy import spatial, stats\n",
    "from functools import reduce\n",
    "from tqdm import tqdm\n",
    "import matplotlib.pyplot as plt\n",
    "import nrrd\n",
    "import multiprocessing as mp\n",
    "import raster_geometry as rg\n",
    "import sys\n",
    "import os\n",
    "sys.path.append(\"C:\\\\Users\\\\danie\\\\BoneSegmentation\")\n",
    "\n",
    "from oiffile import OifFile\n",
    "from src.OifImageViewer import OifImageViewer"
   ]
  },
  {
   "cell_type": "code",
   "execution_count": null,
   "metadata": {},
   "outputs": [],
   "source": []
  },
  {
   "cell_type": "code",
   "execution_count": null,
   "metadata": {},
   "outputs": [],
   "source": []
  },
  {
   "cell_type": "code",
   "execution_count": 2,
   "metadata": {},
   "outputs": [
    {
     "name": "stdout",
     "output_type": "stream",
     "text": [
      "Image shape: (3, 76, 2404, 3376)\n",
      "Axes: CZYX\n",
      "Dtype: uint16\n",
      "Intervals: X (1.242um) Y (1.242um) Z (2660.0nm)\n",
      "\n"
     ]
    }
   ],
   "source": [
    "### Loading Confocal Image (.OIB)\n",
    "\n",
    "# path = \"/home/dkermany/data/Bone_Project/weijie_selected/main_folder/FV10__oibs/FV10__20190619_111005.oib\"\n",
    "path = \"/home/dkermany/data/Bone_Project/weijie_selected/main_folder/FV10__oibs/FV10__20190620_111343.oib\"\n",
    "# path = \"D:\\\\Datasets\\\\Bone_Mets\\\\FV10__oibs\\\\FV10__20190620_111343.oib\"\n",
    "filename = os.path.splitext(os.path.basename(path))[0]\n",
    "\n",
    "with OifFile(path) as oif:\n",
    "    viewer = OifImageViewer(oif)\n",
    "    x_step, y_step, z_step = map(float, (viewer.md[\"x_step\"], viewer.md[\"y_step\"], viewer.md[\"z_step\"]))\n",
    "    if viewer.md[\"z_unit\"] == \"nm\":\n",
    "        z_step /= 1000."
   ]
  },
  {
   "cell_type": "code",
   "execution_count": 3,
   "metadata": {},
   "outputs": [
    {
     "name": "stdout",
     "output_type": "stream",
     "text": [
      "(228, 2404, 3376)\n",
      "uint8\n",
      "Axes: ZYX\n"
     ]
    }
   ],
   "source": [
    "### Loading 3D Binary Mask (.SEG.NRRD)\n",
    "\n",
    "mask_path = f\"/home/dkermany/data/Bone_Project/masks/{filename}.seg.nrrd\"\n",
    "\n",
    "# Load mask from NRRD\n",
    "mask, header = nrrd.read(mask_path)\n",
    "mask = mask.T\n",
    "#mask = mask[:mask.shape[0]//3, :, :] # for FV10__20190620_111343.seg.nrrd\n",
    "\n",
    "print(mask.shape)\n",
    "print(mask.dtype)\n",
    "print(\"Axes: ZYX\")"
   ]
  },
  {
   "cell_type": "code",
   "execution_count": 4,
   "metadata": {},
   "outputs": [],
   "source": [
    "### Loading Tumor Cell Locations (.CSV)\n",
    "\n",
    "# tumor_csv_path = \"D:\\\\Datasets\\\\Bone_Mets\\\\tumor_locations.csv\"\n",
    "tumor_csv_path = \"/home/dkermany/data/Bone_Project/tumor_locations_02_08_2023.csv\"\n",
    "# Load csv and drop rows with N/A's\n",
    "tumor_csv = pd.read_csv(tumor_csv_path).dropna()\n",
    "tumor_csv = tumor_csv[tumor_csv.Filename == filename].reset_index(drop=True)\n",
    "# tumor_csv"
   ]
  },
  {
   "cell_type": "code",
   "execution_count": 5,
   "metadata": {},
   "outputs": [
    {
     "name": "stdout",
     "output_type": "stream",
     "text": [
      "17.320508075688775\n"
     ]
    }
   ],
   "source": [
    "def euclidean_distance(point1, point2):\n",
    "    \"\"\"\n",
    "    Calculate the Euclidean distance between two points.\n",
    "\n",
    "    Args:\n",
    "    point1 (array-like): An array-like object representing the first point.\n",
    "    point2 (array-like): An array-like object representing the second point.\n",
    "\n",
    "    Returns:\n",
    "    float: The Euclidean distance between the two points.\n",
    "    \"\"\"\n",
    "    # Use NumPy's linalg.norm function to calculate the Euclidean distance\n",
    "    return np.linalg.norm(point1-point2)\n",
    "\n",
    "def micron_to_pixel(micron, scale_factor):\n",
    "    pass\n",
    "\n",
    "# Test distance function\n",
    "print(euclidean_distance(np.array((10,10,10)),np.array((0,0,0))))"
   ]
  },
  {
   "cell_type": "code",
   "execution_count": 6,
   "metadata": {
    "scrolled": true
   },
   "outputs": [],
   "source": [
    "def set_aspect_ratio_equal(ax) -> None:\n",
    "    xlim = ax.get_xlim3d()\n",
    "    ylim = ax.get_ylim3d()\n",
    "    zlim = ax.get_zlim3d()\n",
    "    ax.set_box_aspect((xlim[1]-xlim[0], ylim[1]-ylim[0], zlim[1]-zlim[0]))"
   ]
  },
  {
   "cell_type": "code",
   "execution_count": 7,
   "metadata": {},
   "outputs": [],
   "source": [
    "# @njit()\n",
    "# def sphere_func(center, radius, shape):\n",
    "#     arr = np.zeros(shape)\n",
    "#     for i in range(shape[0]):\n",
    "#         for j in range(shape[1]):\n",
    "#             for k in range(shape[2]):\n",
    "#                 x, y, z = i - center[0], j - center[1], k - center[2]\n",
    "#                 dist = np.sqrt(x**2 + y**2 + z**2)\n",
    "#                 if dist <= radius:\n",
    "#                     arr[i,j,k] = 1\n",
    "#     return arr"
   ]
  },
  {
   "cell_type": "markdown",
   "metadata": {},
   "source": [
    "Draw sphere in a given volume\n",
    "<a id='draw_sphere_in_volume'></a><br>\n",
    "[Go to tumor function call](#tumor_ripley)"
   ]
  },
  {
   "cell_type": "code",
   "execution_count": 8,
   "metadata": {},
   "outputs": [],
   "source": [
    "def get_sphere_mask_intersection(mask: np.ndarray, radius: int, position: tuple) -> None:\n",
    "    \"\"\"\n",
    "    Draw a sphere in a given 3D NumPy array at a specified position.\n",
    "\n",
    "    Args:\n",
    "    mask (numpy.ndarray): The 3D NumPy array in which the sphere will be drawn.\n",
    "    radius (int): The radius of the sphere.\n",
    "    position (tuple): A 3-tuple containing the z, y, x coordinates of the position in the array where the sphere will be drawn.\n",
    "\n",
    "    Returns:\n",
    "    None\n",
    "    \"\"\"\n",
    "    \n",
    "    # Create an empty 3D NumPy array with dimensions equal to twice the radius plus one\n",
    "    size = 2 * (radius + 1)\n",
    "\n",
    "    # Calculate the midpoint of the sphere unit array\n",
    "    midpoint = [size / 2] * 3\n",
    "\n",
    "    # Generate a unit sphere using the rg library's superellipsoid function\n",
    "    sphere = rg.nd_superellipsoid(size, radius, position=midpoint,\n",
    "                                  rel_sizes=False, rel_position=False).astype(np.int_)\n",
    "\n",
    "    # Extract the z, y, x coordinates of the position where the sphere will be drawn\n",
    "    z, y, x = map(round, position)\n",
    "\n",
    "    # Calculate the delta change needed to center the sphere at the specified position\n",
    "    d = (size//2)\n",
    "\n",
    "    # Calculate the minimum and maximum indices for the z, y, x axes of the mask array\n",
    "    # print(position, radius, x-d, x+d, max(x - d, 0), min(x + d, mask.shape[2]))\n",
    "    zmin, zmax = max(z - d, 0), min(z + d, mask.shape[0])\n",
    "    ymin, ymax = max(y - d, 0), min(y + d, mask.shape[1])\n",
    "    xmin, xmax = max(x - d, 0), min(x + d, mask.shape[2])\n",
    "\n",
    "    # Calculate the minimum indices for the z, y, x axes of the sphere array\n",
    "    szmin = abs(z - d) if z - d < 0 else 0\n",
    "    symin = abs(y - d) if y - d < 0 else 0\n",
    "    sxmin = abs(x - d) if x - d < 0 else 0\n",
    "\n",
    "    # Calculate the amount to cut off of the ends of the z, y, x axes of the sphere array\n",
    "    szmax = abs(mask.shape[0] - (z + d)) if z + d > mask.shape[0] else 0\n",
    "    symax = abs(mask.shape[1] - (y + d)) if y + d > mask.shape[1] else 0\n",
    "    sxmax = abs(mask.shape[2] - (x + d)) if x + d > mask.shape[2] else 0\n",
    "    # assert x+d < mask.shape[2]\n",
    "    \n",
    "    # Trim the sphere array to fit within the trimmed mask array\n",
    "    sphere = sphere[szmin:sphere.shape[0]-szmax, symin:sphere.shape[1]-symax, sxmin:sphere.shape[2]-sxmax]\n",
    "    # Place the sphere within the larger mask array at the specified position\n",
    "\n",
    "    # Return intersection between mask subset and sphere\n",
    "    return mask[zmin:zmax, ymin:ymax, xmin:xmax] & sphere"
   ]
  },
  {
   "cell_type": "code",
   "execution_count": 9,
   "metadata": {},
   "outputs": [],
   "source": [
    "# # Test speed\n",
    "# %time rg.nd_superellipsoid(2*80+1, 80, position=[40,40,40], rel_sizes=False, rel_position=False).astype(np.int_)\n",
    "# %time i = cle.draw_sphere(test_vol, 320, 640, 20, 80, 80, 80, 1)\n",
    "# %lprun -f draw_sphere_in_volume draw_sphere_in_volume(test_vol, 50, position=[50,50,50])\n",
    "# %timeit draw_sphere_in_volume(mask, 50, position=[50,50,50])\n",
    "# plt.figure()\n",
    "# cle.imshow(i)"
   ]
  },
  {
   "cell_type": "code",
   "execution_count": 10,
   "metadata": {},
   "outputs": [],
   "source": [
    "# ### Test draw sphere function\n",
    "# import pyclesperanto_prototype as cle\n",
    "\n",
    "# test_vol = np.zeros(mask.shape, dtype=np.uint8)\n",
    "# draw_sphere_in_volume(test_vol, 80, (20, 640, 320))\n",
    "# print(test_vol.dtype, mask.dtype)\n",
    "\n",
    "# plt.figure()\n",
    "# cle.imshow(test_vol)\n",
    "# plt.figure()\n",
    "# cle.imshow(mask)\n",
    "# plt.figure()\n",
    "# cle.imshow(test_vol & mask)\n"
   ]
  },
  {
   "cell_type": "markdown",
   "metadata": {},
   "source": [
    "<!-- Ripley's K Estimators\n",
    "\n",
    "![RipleyK](/img/ripleyK.png)\n",
    "\n",
    "![RipleyL](/img/ripleyL.png)\n",
    "\n",
    "![RipleyH](/img/ripleyH.png) -->"
   ]
  },
  {
   "cell_type": "markdown",
   "metadata": {},
   "source": [
    "![equation](http://www.sciweavers.org/tex2img.php?eq=%5Cwidehat%7BK%7D%28r%29%3D%20%5Cfrac%7BV%7D%7BN%28N-1%29%7D%20%5Csum_i%5EN%20%5Csum_%7Bj%20%5Cneq%20i%7D%5EN%20%20%5Cfrac%7BI%28d_%7Bi%2Cj%7D%3Cr%29%7D%7B%5Comega_%7Bi%2Cj%7D%7D%20%20%20%20%20&bc=White&fc=Black&im=jpg&fs=18&ff=arev&edit=0)\n",
    "\n",
    "![link](http://www.sciweavers.org/tex2img.php?eq=%5Cwidehat%7BL%7D%28r%29%3D%20%20%20%5Csqrt%5B3%5D%7B%5Cfrac%7B3%20%20%5Cwidehat%7BK%7D%28r%29%7D%7B4%5Cpi%7D%7D&bc=White&fc=Black&im=jpg&fs=18&ff=arev&edit=0)\n",
    "\n",
    "![link](http://www.sciweavers.org/tex2img.php?eq=%5Cwidehat%7BH%7D%28r%29%3D%5Cwidehat%7BL%7D%28r%29-r&bc=White&fc=Black&im=jpg&fs=12&ff=arev&edit=0)"
   ]
  },
  {
   "cell_type": "code",
   "execution_count": 11,
   "metadata": {},
   "outputs": [],
   "source": [
    "cache = mp.Manager().dict()"
   ]
  },
  {
   "cell_type": "code",
   "execution_count": 12,
   "metadata": {},
   "outputs": [],
   "source": [
    "### Ripley Class \n",
    "\n",
    "class Ripley():\n",
    "\n",
    "    def __init__(\n",
    "        self,\n",
    "        points: np.ndarray,\n",
    "        radii: list,\n",
    "        mask: np.ndarray,\n",
    "        boundary_correction: bool = True\n",
    "    ):\n",
    "        self.points = points\n",
    "        self.radii = radii\n",
    "        self.mask = mask.astype(np.uint8)\n",
    "        self.volume_shape = self.mask.shape\n",
    "        self.boundary_correction = boundary_correction\n",
    "        self._validate_inputs()\n",
    "\n",
    "        self.tree = spatial.cKDTree(self.points)\n",
    "        self.study_volume = reduce(lambda x, y: x * y, self.volume_shape)\n",
    "\n",
    "    def run_ripley(self, processes=32):\n",
    "        with mp.Manager() as m:\n",
    "            self.results = {\"K\": m.list(), \"L\": m.list(), \"H\": m.list()}\n",
    "            with mp.Pool(processes) as pool:\n",
    "                # pool.map(self._calc_ripley, self.radii)\n",
    "                list(tqdm(pool.imap(self._calc_ripley, self.radii), total=len(self.radii)))\n",
    "            return list(self.results[\"K\"]), list(self.results[\"L\"]), list(self.results[\"H\"])\n",
    "\n",
    "    def _calc_ripley(self, radius):\n",
    "        # For each radius, loop through each point and count points\n",
    "        # within the radius\n",
    "        print(\"???\")\n",
    "        nb_count = 0\n",
    "        for z, y, x in self.points:\n",
    "            if self.boundary_correction:\n",
    "                weight = self.calculate_weight(radius, (z, y, x))\n",
    "                # If weight is zero (i.e. target sphere not in mask), move on\n",
    "                if weight == 0:\n",
    "                    continue\n",
    "            else:\n",
    "                weight = 1.0\n",
    "\n",
    "            # query_ball_point() includes the index of the current point as well\n",
    "            # so 1 is subtracted from the count \n",
    "            nb_count += (len(self.tree.query_ball_point([z, y, x], radius)) - 1) / weight\n",
    "\n",
    "            # global pbar\n",
    "            # pbar.update()\n",
    "\n",
    "\n",
    "         # calculating 3D Ripley's functions (K, L, H)\n",
    "        N = self.points.shape[0]\n",
    "        K = nb_count * self.study_volume / (N * (N - 1))\n",
    "        L = ((3. / 4) * (K / np.pi)) ** (1. / 3)\n",
    "        H = L - radius\n",
    "        \n",
    "        # Verify K/L values positive\n",
    "        if K < 0 or L < 0:\n",
    "            raise ValueError(f\"K/L values should not be negative. nb_count: {nb_count}, volume: {self.volume_shape}, N: {N}\")\n",
    "\n",
    "        self.results[\"K\"].append((radius, K))\n",
    "        self.results[\"L\"].append((radius, L))\n",
    "        self.results[\"H\"].append((radius, H))\n",
    "\n",
    "    def calculate_weight(self, radius, center):\n",
    "        \"\"\"\n",
    "        Calculate the proportion of a sphere within a study volume.\n",
    "\n",
    "        Args:\n",
    "        radius (int): The radius of the sphere.\n",
    "        center (tuple): A 3-tuple containing the z, y, x coordinates of the center of the sphere.\n",
    "\n",
    "        Returns:\n",
    "        float: The proportion of the sphere within the study volume.\n",
    "        \"\"\"\n",
    "        # Ensure that the radius is greater than zero\n",
    "        assert radius > 0\n",
    "\n",
    "        # Check if cached weight for this coordinate exists\n",
    "        key = center + (radius,)\n",
    "        if key in cache:\n",
    "            return cache[key]\n",
    "        \n",
    "        # Draw the target sphere in a 3D NumPy array at the specified position\n",
    "        # target = np.zeros(self.volume_shape, dtype=np.uint8)\n",
    "        # draw_sphere_in_volume(target, radius, center)\n",
    "\n",
    "        # Bitwise and operation between the sphere and mask to calculate intersection\n",
    "        # target = target & self.mask\n",
    "        intersection = get_sphere_mask_intersection(self.mask, radius, center)\n",
    "\n",
    "        # Calculate the sum (volume) of the target and reference sphere arrays\n",
    "        intersection_vol = intersection.sum()\n",
    "\n",
    "        # Reference is calculated instead of simulated for speed increase\n",
    "        reference = (4 / 3) * np.pi * (radius ** 3)\n",
    "\n",
    "        # Ensure that the reference sphere has a non-zero volume\n",
    "        assert reference > 0\n",
    "\n",
    "        # Return the proportion of the sphere within the study volume\n",
    "        # Since target volume is estimated whereas reference volume is calculated,\n",
    "        # there is a small but noticable margin of error when radius < 10, there\n",
    "        # we set maxiumum value of 1.0\n",
    "        weight = min(intersection_vol / reference, 1.0)\n",
    "\n",
    "        # Save weight to cache\n",
    "        cache[key] = weight\n",
    "        \n",
    "        return weight\n",
    "\n",
    "    def _validate_inputs(self):\n",
    "        # Check if self.points is a list or numpy array\n",
    "        if not isinstance(self.points, (list, np.ndarray)):\n",
    "            e = f\"Expected {np.ndarray}, received {type(self.points)}\"\n",
    "            raise ValueError(e)\n",
    "\n",
    "        # Convert self.points to numpy array if it is a list\n",
    "        if not isinstance(self.points, np.ndarray):\n",
    "            self.points = np.array(self.points)\n",
    "\n",
    "        # Check if self.points array has two dimensions\n",
    "        if len(self.points.shape) != 2:\n",
    "            e = f\"Expected self.points array to have 2 dimensions, but got array with shape {self.points.shape}\"\n",
    "            raise ValueError(e)\n",
    "\n",
    "        # Check if the self.points array second dimension length is 3 (x, y, z)\n",
    "        if self.points.shape[1] != 3:\n",
    "            e = f\"Expected self.points array to have shape (None, 3), but got array with shape {self.points.shape}\"\n",
    "            raise ValueError(e)\n",
    "\n",
    "        # Check if the self.points array has at least 3 points\n",
    "        if self.points.shape[0] < 3:\n",
    "            e = f\"Expected self.points array to have at least 3 points\"\n",
    "            raise ValueError(e)\n",
    "\n",
    "        # Check if radii is list-like or number-like\n",
    "        if not isinstance(self.radii, (np.ndarray, list, int, float)):\n",
    "            e = f\"Expected {(np.ndarray, list, int, float)}, received {type(self.radii)}\"\n",
    "            raise ValueError(e)\n",
    "\n",
    "        # if only one radius given as int, convert to list\n",
    "        if not isinstance(self.radii, (np.ndarray, list)):\n",
    "            self.radii = [self.radii]"
   ]
  },
  {
   "cell_type": "code",
   "execution_count": 13,
   "metadata": {},
   "outputs": [],
   "source": [
    "### Multivariate Ripley Class\n",
    "\n",
    "class CrossRipley(Ripley):\n",
    "\n",
    "\n",
    "    def __init__(\n",
    "        self,\n",
    "        points_i: np.ndarray,\n",
    "        points_j: np.ndarray,\n",
    "        radii: list,\n",
    "        mask: np.ndarray,\n",
    "        boundary_correction: bool = False\n",
    "    ):\n",
    "        self.points_i = points_i\n",
    "        self.points_j = points_j\n",
    "        self.radii = radii\n",
    "        self.mask = mask.astype(np.uint8)\n",
    "        self.volume_shape = self.mask.shape\n",
    "        self.boundary_correction = boundary_correction\n",
    "        self._validate_inputs()\n",
    "\n",
    "        self.i_tree = spatial.cKDTree(self.points_i)\n",
    "        self.j_tree = spatial.cKDTree(self.points_j)\n",
    "        self.study_volume = reduce(lambda x, y: x * y, self.volume_shape)\n",
    "\n",
    "\n",
    "    def test_ripley(self):\n",
    "        self.results = {\"K\": [], \"L\": [], \"H\": []}\n",
    "        for r in tqdm(self.radii):\n",
    "            self._calc_ripley(r)\n",
    "        return list(self.results[\"K\"]), list(self.results[\"L\"]), list(self.results[\"H\"])\n",
    "\n",
    "    # TODO: Rewrite univariate _calc_ripley function for multivariate case\n",
    "    def _calc_ripley(self, radius):\n",
    "        \"\"\"\n",
    "        Calculate 3D multivariate Ripley's functions (K_ij, L_ij, H_ij) for a given radius and\n",
    "        and apply weight coefficient.\n",
    "\n",
    "        For each radius, loop through each point_i and count number of point_j within the radius.\n",
    "        If boundary_correction is True, calculate the weight coefficient based on the volume of\n",
    "        the search sphere within the study volume.\n",
    "\n",
    "        Args:\n",
    "\n",
    "            radius (float): the radius for which to calculate Ripley's functions.\n",
    "\n",
    "        Raises:\n",
    "            ValueError: if K/L values are negative.\n",
    "\n",
    "        Returns:\n",
    "            None. Results are stored in self.results.\n",
    "\n",
    "        \"\"\"\n",
    "        # For each radius, loop through each point and count points\n",
    "        # within the radius\n",
    "        nb_count = 0\n",
    "        for z, y, x in self.points_i:\n",
    "            # print(f\"{i}/{len(self.points_i)}\", end=\"\\r\")\n",
    "            if self.boundary_correction:\n",
    "                weight = self.calculate_weight(radius, (z, y, x))\n",
    "                # If weight is zero (i.e. target sphere not in mask), move on\n",
    "                if weight == 0:\n",
    "                    continue\n",
    "            else:\n",
    "                weight = 1.0\n",
    "\n",
    "            # Since the i point is not included within the j_tree, we do not subtract 1\n",
    "            # as done in the univariate implementation\n",
    "            \n",
    "            nb_count += (len(self.j_tree.query_ball_point([z, y, x], radius, workers=-1))) / weight\n",
    "\n",
    "            # global pbar\n",
    "            # pbar.update()\n",
    "\n",
    "        # calculating 3D Ripley's functions (K_ij, L_ij, H_ij)\n",
    "        N_i = self.points_i.shape[0]\n",
    "        N_j = self.points_j.shape[0]\n",
    "        K_ij = nb_count * self.study_volume / (N_i * N_j)\n",
    "        L_ij = ((3. / 4) * (K_ij / np.pi)) ** (1. / 3)\n",
    "        H_ij = L_ij - radius\n",
    "        \n",
    "        # Verify K/L values positive\n",
    "        if K_ij < 0 or L_ij < 0:\n",
    "            raise ValueError(f\"K/L values should not be negative. nb_count: {nb_count}, volume: {self.volume_shape}, N_i: {N_i}, N_j: {N_j}\")\n",
    "\n",
    "        self.results[\"K\"].append((radius, K_ij))\n",
    "        self.results[\"L\"].append((radius, L_ij))\n",
    "        self.results[\"H\"].append((radius, H_ij))\n",
    "\n",
    "    def _validate_inputs(self):\n",
    "        # Check if self.points_i is a list or numpy array\n",
    "        if not isinstance(self.points_i, (list, np.ndarray)):\n",
    "            e = f\"Expected {np.ndarray}, received {type(self.points_i)}\"\n",
    "            raise ValueError(e)\n",
    "\n",
    "        # Check if self.points_j is a list or numpy array\n",
    "        if not isinstance(self.points_j, (list, np.ndarray)):\n",
    "            e = f\"Expected {np.ndarray}, received {type(self.points_j)}\"\n",
    "            raise ValueError(e)\n",
    "\n",
    "        # Convert self.points_i to numpy array if it is a list\n",
    "        if not isinstance(self.points_i, np.ndarray):\n",
    "            self.points_i = np.array(self.points_i)\n",
    "            \n",
    "        # Convert self.points_j to numpy array if it is a list\n",
    "        if not isinstance(self.points_j, np.ndarray):\n",
    "            self.points_j = np.array(self.points_j)\n",
    "\n",
    "        # Check if self.points_i array has two dimensions\n",
    "        if len(self.points_i.shape) != 2:\n",
    "            e = f\"Expected self.points_i array to have 2 dimensions, but got array with shape {self.points_i.shape}\"\n",
    "            raise ValueError(e)\n",
    "\n",
    "        # Check if self.points_j array has two dimensions\n",
    "        if len(self.points_j.shape) != 2:\n",
    "            e = f\"Expected self.points_j array to have 2 dimensions, but got array with shape {self.points_j.shape}\"\n",
    "            raise ValueError(e)\n",
    "\n",
    "        # Check if the self.points_i array second dimension length is 3 (x, y, z)\n",
    "        if self.points_i.shape[1] != 3:\n",
    "            e = f\"Expected self.points_i array to have shape (None, 3), but got array with shape {self.points_i.shape}\"\n",
    "            raise ValueError(e)\n",
    "\n",
    "        # Check if the self.points_j array second dimension length is 3 (x, y, z)\n",
    "        if self.points_j.shape[1] != 3:\n",
    "            e = f\"Expected self.points_j array to have shape (None, 3), but got array with shape {self.points_j.shape}\"\n",
    "            raise ValueError(e)\n",
    "\n",
    "        # Check if the self.points_i array has at least 3 points\n",
    "        if self.points_i.shape[0] < 3:\n",
    "            e = f\"Expected self.points_i array to have at least 3 points\"\n",
    "            raise ValueError(e)\n",
    "\n",
    "        # Check if the self.points_j array has at least 3 points\n",
    "        if self.points_j.shape[0] < 3:\n",
    "            e = f\"Expected self.points_j array to have at least 3 points\"\n",
    "            raise ValueError(e)\n",
    "\n",
    "        # Check if radii is list-like or number-like\n",
    "        if not isinstance(self.radii, (np.ndarray, list, int, float)):\n",
    "            e = f\"Expected {(np.ndarray, list, int, float)}, received {type(self.radii)}\"\n",
    "            raise ValueError(e)\n",
    "\n",
    "        # if only one radius given as int, convert to list\n",
    "        if not isinstance(self.radii, (np.ndarray, list)):\n",
    "            self.radii = [self.radii]\n",
    "\n",
    "        # if points are not within volume, raise error\n",
    "        for p in [self.points_i, self.points_j]:\n",
    "            assert all(x < self.volume_shape[2] for x in p[:, 2])\n",
    "            assert all(y < self.volume_shape[1] for y in p[:, 1])\n",
    "            assert all(z < self.volume_shape[0] for z in p[:, 0])"
   ]
  },
  {
   "cell_type": "code",
   "execution_count": 14,
   "metadata": {},
   "outputs": [],
   "source": [
    "### Test sphere drawing\n",
    "\n",
    "# def draw_sphere(shape, radius, center) -> np.ndarray:\n",
    "#     sphere = rg.nd_superellipsoid(shape, radius, position=center, rel_sizes=False, rel_position=False)\n",
    "#     return sphere.astype(np.int_)\n",
    "\n",
    "# container_shape = (100, 100, 100)\n",
    "# radius = 7\n",
    "# center = (2, 2, 2)\n",
    "\n",
    "# # print(calculate_weight(container_shape, radius, center))\n",
    "# test_sphere = draw_sphere(container_shape, radius, center)\n",
    "\n",
    "# from mpl_toolkits.mplot3d import Axes3D\n",
    "# z,x,y = test_sphere.nonzero()\n",
    "# fig = plt.figure()\n",
    "# ax = fig.add_subplot(111, projection='3d')\n",
    "# set_aspect_ratio_equal(ax)\n",
    "# ax.axes.set_xlim3d(left=0, right=container_shape[1]) \n",
    "# ax.axes.set_ylim3d(bottom=0, top=container_shape[2]) \n",
    "# ax.axes.set_zlim3d(bottom=0, top=container_shape[0]) \n",
    "# ax.scatter(x, y, z, zdir='z', c= 'red')\n",
    "# plt.show()"
   ]
  },
  {
   "cell_type": "code",
   "execution_count": 15,
   "metadata": {},
   "outputs": [],
   "source": [
    "# def sample_clustered_points(points):\n",
    "#     from random import randrange\n",
    "#     \"\"\"\n",
    "#     Given a set of points, returns a second set of points that are spatially\n",
    "#     related\n",
    "#     \"\"\"\n",
    "#     new_points = [[z+randrange(0,11)-5, y+randrange(0,11)-5, x+randrange(0,11)-5] for z, y, x in points]\n",
    "#     return np.array(new_points)"
   ]
  },
  {
   "cell_type": "code",
   "execution_count": 16,
   "metadata": {},
   "outputs": [],
   "source": [
    "# ### Visualize Multivariate Points Within Sphere\n",
    "# random_DTC = stats.uniform.rvs(loc=0, scale=100, size=(350,3))\n",
    "# random_NG2 = sample_clustered_points(random_DTC)\n",
    "# random_NG2 = stats.uniform.rvs(loc=0, scale=100, size=(1000,3))\n",
    "# # random_NG2 = stats.skewnorm.rvs(a=4, loc=50, scale=25, size=(100,3))\n",
    "\n",
    "# DTC_tree = spatial.cKDTree(random_DTC)\n",
    "# NG2_tree = spatial.cKDTree(random_NG2)\n",
    "\n",
    "# DTC_idx_in = DTC_tree.query_ball_point((50,50,50), 20)\n",
    "# NG2_idx_in = NG2_tree.query_ball_point((50,50,50), 20)"
   ]
  },
  {
   "cell_type": "code",
   "execution_count": 17,
   "metadata": {},
   "outputs": [],
   "source": [
    "# DTC_idx_out = np.ones(len(random_DTC), bool); DTC_idx_out[DTC_idx_in] = 0\n",
    "# NG2_idx_out = np.ones(len(random_NG2), bool); NG2_idx_out[NG2_idx_in] = 0\n",
    "\n",
    "# DTC_inside, DTC_outside = random_DTC[DTC_idx_in], random_DTC[DTC_idx_out]\n",
    "# NG2_inside, NG2_outside = random_NG2[NG2_idx_in], random_NG2[NG2_idx_out]\n",
    "\n",
    "# DTC_ix, DTC_ox = DTC_inside[:, 0], DTC_outside[:, 0]\n",
    "# DTC_iy, DTC_oy = DTC_inside[:, 1], DTC_outside[:, 1]\n",
    "# DTC_iz, DTC_oz = DTC_inside[:, 2], DTC_outside[:, 2]\n",
    "\n",
    "# NG2_ix, NG2_ox = NG2_inside[:, 0], NG2_outside[:, 0]\n",
    "# NG2_iy, NG2_oy = NG2_inside[:, 1], NG2_outside[:, 1]\n",
    "# NG2_iz, NG2_oz = NG2_inside[:, 2], NG2_outside[:, 2]\n",
    "\n",
    "# fig = plt.figure()\n",
    "# ax = fig.add_subplot(projection='3d')\n",
    "# set_aspect_ratio_equal(ax)\n",
    "# ax.scatter(DTC_ix,DTC_iy,DTC_iz, color=\"g\",marker=\"o\", depthshade=0)\n",
    "# ax.scatter(DTC_ox,DTC_oy,DTC_oz,color=\"y\",marker=\"o\", depthshade=1)\n",
    "# ax.scatter(NG2_ix,NG2_iy,NG2_iz, color=\"r\",marker=\"o\", depthshade=0)\n",
    "# ax.scatter(NG2_ox,NG2_oy,NG2_oz,color=\"m\",marker=\"o\", depthshade=1)\n",
    "\n",
    "# scale = 20\n",
    "# # draw sphere\n",
    "# u, v = np.mgrid[0:2*np.pi:20j, 0:np.pi:10j]\n",
    "# cx = scale*np.cos(u)*np.sin(v)+50\n",
    "# cy = scale*np.sin(u)*np.sin(v)+50\n",
    "# cz = scale*np.cos(v)+50\n",
    "# ax.plot_wireframe(cx, cy, cz, color=\"gray\", alpha=0.3)"
   ]
  },
  {
   "cell_type": "code",
   "execution_count": 18,
   "metadata": {},
   "outputs": [],
   "source": [
    "# For this rectangular test case, volume_mask is just an array of ones\n",
    "volume_mask = np.ones((100, 310, 310))\n",
    "# volume = volume_mask.sum()\n",
    "# volume_shape = volume_mask.shape"
   ]
  },
  {
   "cell_type": "code",
   "execution_count": 19,
   "metadata": {},
   "outputs": [],
   "source": [
    "# ### Run Multivariate (Cross) Ripley on Random Points data\n",
    "# crossripley_data = []\n",
    "# crossripley_data_w = []\n",
    "\n",
    "# radii = np.arange(2, 67) \n",
    "# crossripley = CrossRipley(random_DTC, random_NG2, radii, volume_mask, boundary_correction=False)\n",
    "# crossripley_w = CrossRipley(random_DTC, random_NG2, radii, volume_mask, boundary_correction=True)\n",
    "\n",
    "# K, L, H = map(sorted, crossripley.run_ripley(1))\n",
    "# K_w, L_w, H_w = map(sorted, crossripley_w.run_ripley(16))\n",
    "# %lprun -f crossripley_w.calculate_weight map(sorted, crossripley_w.run_ripley(1))\n",
    "# %timeit map(sorted, crossripley_w.run_ripley(1))\n",
    "\n",
    "# Organize into list of [Radius, K, L, H, Type, Line] \n",
    "# crossripley_data += [(k[0], k[1], l[1], h[1], \"CSR\") for k, l, h in zip(K, L, H)]\n",
    "# crossripley_data_w += [(k[0], k[1], l[1], h[1], \"CSR\") for k, l, h in zip(K_w, L_w, H_w)]\n",
    "\n",
    "# rstats = pd.DataFrame(crossripley_data, columns=[\"Radius (r)\", \"K(r)\", \"L(r)\", \"H(r)\", \"Type\"])\n",
    "# rstats_w = pd.DataFrame(crossripley_data_w, columns=[\"Radius (r)\", \"K(r)\", \"L(r)\", \"H(r)\", \"Type\"])"
   ]
  },
  {
   "cell_type": "markdown",
   "metadata": {},
   "source": []
  },
  {
   "cell_type": "code",
   "execution_count": 20,
   "metadata": {},
   "outputs": [],
   "source": [
    "# plt.rcParams['figure.figsize'] = [16, 9]\n",
    "# f, axes = plt.subplots(2, 3)\n",
    "# tumor_data_w = []\n",
    "\n",
    "# # Max ripley search sphere size. Typically 1/3 or 1/2 of smallest dimension\n",
    "# # max_search_radius = min(mask.shape) // 3\n",
    "# ripley = Ripley(tumor_points, tumor_radii, mask, boundary_correction=False)\n",
    "# ripley_w = Ripley(tumor_points, tumor_radii, mask, boundary_correction=True)\n",
    "\n",
    "# # Sort by radii\n",
    "# K, L, H = map(sorted, ripley.run_ripley(2))\n",
    "# K_w, L_w, H_w = map(sorted, ripley_w.run_ripley(63))\n",
    "\n",
    "# # Organize into list of [Radius, K, L, H, Type, Line] \n",
    "# tumor_data += [(k[0], k[1], l[1], h[1], \"Tumor\") for k, l, h in zip(K, L, H)]\n",
    "# tumor_data_w += [(k[0], k[1], l[1], h[1], \"Tumor\") for k, l, h in zip(K_w, L_w, H_w)]\n",
    "    \n",
    "# tumor_rstats = pd.DataFrame(tumor_data, columns=[\"Radius (r)\", \"K(r)\", \"L(r)\", \"H(r)\", \"Type\"])\n",
    "# tumor_rstats_w \n",
    "# axes[0, 1].plot([0, 50], [0, 50], linewidth=1, linestyle=\"dotted\", color=\"#aaa\") # Expected line\n",
    "# # H\n",
    "# sns.lineplot(data=rstats, x=\"Radius (r)\", y=\"H(r)\", ax=axes[0, 2])\n",
    "# axes[0, 2].plot([0, 50], [0, 0], linewidth=1, linestyle=\"dotted\", color=\"#aaa\") # Expected line\n",
    "\n",
    "# ## Bottom Row\n",
    "# # K\n",
    "# sns.lineplot(data=rstats_w, x=\"Radius (r)\", y=\"K(r)\", ax=axes[1, 0], alpha=1)\n",
    "# # L\n",
    "# sns.lineplot(data=rstats_w, x=\"Radius (r)\", y=\"L(r)\", ax=axes[1, 1], alpha=1)\n",
    "# axes[1, 1].plot([0, 50], [0, 50], linewidth=1, linestyle=\"dotted\", color=\"#aaa\") # Expected line\n",
    "# # H\n",
    "# sns.lineplot(data=rstats_w, x=\"Radius (r)\", y=\"H(r)\", ax=axes[1, 2], alpha=1)\n",
    "# axes[1, 2].plot([0, 50], [0, 0], linewidth=1, linestyle=\"dotted\", color=\"#aaa\") # Expected line\n",
    "\n",
    "# plt.show()"
   ]
  },
  {
   "cell_type": "code",
   "execution_count": 21,
   "metadata": {},
   "outputs": [],
   "source": [
    "### Visualize Univariate Points Within Sphere\n",
    "\n",
    "# test_random_points = stats.uniform.rvs(0, 100, (100,3))\n",
    "# test_tree = spatial.cKDTree(test_random_points)\n",
    "# idx_in = test_tree.query_ball_point((50,50,50),20)\n",
    "\n",
    "# idx_out = np.ones(len(test_random_points), bool)\n",
    "# idx_out[idx_in] = 0\n",
    "\n",
    "# pts_inside_radius = test_random_points[idx_in]\n",
    "# pts_outside_radius = test_random_points[idx_out]\n",
    "\n",
    "# print(len(test_random_points), len(pts_inside_radius), len(pts_outside_radius))\n",
    "\n",
    "# ix, ox = pts_inside_radius[:, 0], pts_outside_radius[:, 0]\n",
    "# iy, oy = pts_inside_radius[:, 1], pts_outside_radius[:, 1]\n",
    "# iz, oz = pts_inside_radius[:, 2], pts_outside_radius[:, 2]\n",
    "\n",
    "# fig = plt.figure()\n",
    "# ax = fig.add_subplot(projection='3d')\n",
    "# set_aspect_ratio_equal(ax)\n",
    "# ax.scatter(ix,iy,iz, color=\"b\",marker=\"o\", depthshade=0)\n",
    "# ax.scatter(ox,oy,oz,color=\"r\",marker=\"o\", depthshade=1)\n",
    "\n",
    "\n",
    "# scale = 20\n",
    "# # draw sphere\n",
    "# u, v = np.mgrid[0:2*np.pi:20j, 0:np.pi:10j]\n",
    "# cx = scale*np.cos(u)*np.sin(v)+50\n",
    "# cy = scale*np.sin(u)*np.sin(v)+50\n",
    "# cz = scale*np.cos(v)+50\n",
    "# ax.plot_wireframe(cx, cy, cz, color=\"gray\", alpha=0.3)"
   ]
  },
  {
   "cell_type": "markdown",
   "metadata": {},
   "source": [
    "### Complete Spatial Randomness (CSR) Representations"
   ]
  },
  {
   "cell_type": "code",
   "execution_count": 22,
   "metadata": {},
   "outputs": [],
   "source": [
    "# CSR_data = []\n",
    "# CSR_data_w = []\n",
    "# # Starting at 2 because radius of 1 causes errors at the boundaries\n",
    "# # where sometimes the entire circle falls outside of study area\n",
    "# # resulting in a weight of 0.0\n",
    "# radii=np.arange(2, 67) \n",
    "# n_samples = 5\n",
    "# for n in range(n_samples):\n",
    "#     print(f\"{n}/{n_samples}\")\n",
    "#     CSR_points = stats.uniform.rvs(0, 100, (100,3))\n",
    "#     # pbar = tqdm(total=len(CSR_points))\n",
    "#     ripley = Ripley(CSR_points, radii, volume_mask, boundary_correction=False)\n",
    "#     ripley_w = Ripley(CSR_points, radii, volume_mask, boundary_correction=True)\n",
    "\n",
    "#     # Sort by radii\n",
    "#     K, L, H = map(sorted, ripley.run_ripley(1))\n",
    "#     print(\"done\")\n",
    "#     K_w, L_w, H_w = map(sorted, ripley_w.run_ripley(8))\n",
    "\n",
    "#     # Organize into list of [Radius, K, L, H, Type, Line] \n",
    "#     CSR_data += [(k[0], k[1], l[1], h[1], \"CSR\", n) for k, l, h in zip(K, L, H)]\n",
    "#     CSR_data_w += [(k[0], k[1], l[1], h[1], \"CSR\", n) for k, l, h in zip(K_w, L_w, H_w)]\n",
    "    \n",
    "# rstats = pd.DataFrame(CSR_data, columns=[\"Radius (r)\", \"K(r)\", \"L(r)\", \"H(r)\", \"Type\", \"Line\"])\n",
    "# rstats_w = pd.DataFrame(CSR_data_w, columns=[\"Radius (r)\", \"K(r)\", \"L(r)\", \"H(r)\", \"Type\", \"Line\"])\n",
    "# rstats_w"
   ]
  },
  {
   "cell_type": "code",
   "execution_count": 23,
   "metadata": {},
   "outputs": [],
   "source": [
    "# plt.rcParams['figure.figsize'] = [16, 9]\n",
    "# f, axes = plt.subplots(2, 3)\n",
    "\n",
    "# ## Top Row\n",
    "# # K\n",
    "# sns.lineplot(data=rstats, x=\"Radius (r)\", y=\"K(r)\", ax=axes[0, 0], hue=\"Line\")\n",
    "# # L\n",
    "# sns.lineplot(data=rstats, x=\"Radius (r)\", y=\"L(r)\", ax=axes[0, 1], hue=\"Line\")\n",
    "# axes[0, 1].plot([0, 50], [0, 50], linewidth=1, linestyle=\"dotted\", color=\"#aaa\") # Expected line\n",
    "# # H\n",
    "# sns.lineplot(data=rstats, x=\"Radius (r)\", y=\"H(r)\", ax=axes[0, 2], hue=\"Line\")\n",
    "# axes[0, 2].plot([0, 50], [0, 0], linewidth=1, linestyle=\"dotted\", color=\"#aaa\") # Expected line\n",
    "\n",
    "# ## Bottom Row\n",
    "# # K\n",
    "# sns.lineplot(data=rstats, x=\"Radius (r)\", y=\"K(r)\", ax=axes[1, 0], alpha=0, errorbar=(\"pi\", 95))\n",
    "# # L\n",
    "# sns.lineplot(data=rstats, x=\"Radius (r)\", y=\"L(r)\", ax=axes[1, 1], alpha=0, errorbar=(\"pi\", 95))\n",
    "# axes[1, 1].plot([0, 50], [0, 50], linewidth=1, linestyle=\"dotted\", color=\"#aaa\") # Expected line\n",
    "# # H\n",
    "# sns.lineplot(data=rstats, x=\"Radius (r)\", y=\"H(r)\", ax=axes[1, 2], alpha=0, errorbar=(\"ci\", 95))\n",
    "# axes[1, 2].plot([0, 50], [0, 0], linewidth=1, linestyle=\"dotted\", color=\"#aaa\") # Expected line\n",
    "\n",
    "# plt.show()\n",
    "\n"
   ]
  },
  {
   "cell_type": "code",
   "execution_count": 24,
   "metadata": {},
   "outputs": [],
   "source": [
    "# f, axes = plt.subplots(2, 3,)\n",
    "\n",
    "# ## Top Row\n",
    "# # K\n",
    "# sns.lineplot(data=rstats_w, x=\"Radius (r)\", y=\"K(r)\", ax=axes[0, 0], hue=\"Line\")\n",
    "# # L\n",
    "# sns.lineplot(data=rstats_w, x=\"Radius (r)\", y=\"L(r)\", ax=axes[0, 1], hue=\"Line\")\n",
    "# axes[0, 1].plot([0, 50], [0, 50], linewidth=1, linestyle=\"dotted\", color=\"#aaa\") # Expected line\n",
    "# # H\n",
    "# sns.lineplot(data=rstats_w, x=\"Radius (r)\", y=\"H(r)\", ax=axes[0, 2], hue=\"Line\")\n",
    "# axes[0, 2].plot([0, 50], [0, 0], linewidth=1, linestyle=\"dotted\", color=\"#aaa\") # Expected line\n",
    "\n",
    "# ## Bottom Row\n",
    "# # K\n",
    "# sns.lineplot(data=rstats_w, x=\"Radius (r)\", y=\"K(r)\", ax=axes[1, 0], alpha=0, errorbar=(\"pi\", 95))\n",
    "# # L\n",
    "# sns.lineplot(data=rstats_w, x=\"Radius (r)\", y=\"L(r)\", ax=axes[1, 1], alpha=0, errorbar=(\"pi\", 95))\n",
    "# axes[1, 1].plot([0, 50], [0, 50], linewidth=1, linestyle=\"dotted\", color=\"#aaa\") # Expected line\n",
    "# # H\n",
    "# sns.lineplot(data=rstats_w, x=\"Radius (r)\", y=\"H(r)\", ax=axes[1, 2], alpha=0, errorbar=(\"pi\", 95))\n",
    "# axes[1, 2].plot([0, 50], [0, 0], linewidth=1, linestyle=\"dotted\", color=\"#aaa\") # Expected line\n",
    "\n",
    "# plt.show()"
   ]
  },
  {
   "cell_type": "code",
   "execution_count": 25,
   "metadata": {},
   "outputs": [],
   "source": [
    "# import ipytest\n",
    "# ipytest.autoconfig(raise_on_error=True)\n",
    "# %%ipytest -qq\n",
    "\n",
    "# # Tests\n",
    "\n",
    "# def test_valid_input():\n",
    "#     valid_points = [\n",
    "#         np.array([[38.4002419, 38.62931512, 41.6131775], [38, 38, 41], [1, 6, 8]]),\n",
    "#         np.array([[38, 38, 41], [1, 2, 3], [20, 20, 20]]),\n",
    "#         [[38.4002419, 38.62931512, 41.6131775], [3.4002419, 8.62931512, 1.6131775], [8.4002419, 3.62931512, 4.6131775]],\n",
    "#         [[38, 38, 41], [1, 2, 3], [4, 5, 6]],\n",
    "#     ]\n",
    "#     for p in valid_points:\n",
    "#         ripley(p, radii=1, volume_shape=(100,100,100))\n",
    "\n",
    "# def test_invalid_input():\n",
    "#     invalid_points = [\n",
    "#         np.array([[38.4002419, 38.62931512, 41.6131775]]),\n",
    "#         np.array([[38, 38, 41], [1, 2, 3]]),\n",
    "#         [[38.4002419, 38.62931512, 41.6131775]],\n",
    "#         [[38, 38, 41], [1, 2, 3]],\n",
    "#         \"38.4002419, 38.62931512, 41.6131775\",\n",
    "#         np.array([38.4002419, 38.62931512, 41.6131775]),\n",
    "#         np.array([[[38.4002419, 38.62931512, 41.6131775]]]),\n",
    "#         np.array([[38.4002419, 38.62931512]]),\n",
    "#         5,\n",
    "#         7.8,\n",
    "#         [6],\n",
    "#     ]\n",
    "#     for p in invalid_points:\n",
    "#         with pytest.raises(ValueError):\n",
    "#             ripley(p, radii=1, volume_shape=(100,100,100))\n"
   ]
  },
  {
   "cell_type": "code",
   "execution_count": 48,
   "metadata": {},
   "outputs": [],
   "source": [
    "tumor_dict = tumor_csv.to_dict(\"index\")\n",
    "# # tumor_dict"
   ]
  },
  {
   "cell_type": "code",
   "execution_count": 49,
   "metadata": {},
   "outputs": [],
   "source": [
    "tumor_points = []\n",
    "for idx, tumor_info in tumor_dict.items():\n",
    "    x_um, y_um, z_slice = map(int, (tumor_info[\"x (um)\"], tumor_info[\"y (um)\"], tumor_info[\"z (slice)\"]))\n",
    "    x, y, z = map(int, (x_um / x_step, y_um / y_step, z_slice-1))\n",
    "    tumor_points.append([z, y, x])\n",
    "\n",
    "tumor_points = np.array(tumor_points, dtype=np.float64)"
   ]
  },
  {
   "cell_type": "code",
   "execution_count": 28,
   "metadata": {},
   "outputs": [],
   "source": [
    "# stats.uniform.rvs(0, 100)"
   ]
  },
  {
   "cell_type": "markdown",
   "metadata": {},
   "source": [
    "### Univariate Ripley Analysis of Disseminated Tumor Cells (DTCs)"
   ]
  },
  {
   "cell_type": "code",
   "execution_count": 29,
   "metadata": {},
   "outputs": [],
   "source": [
    "\n",
    "# # CSR_tumor_data = []\n",
    "# CSR_tumor_data_w = []\n",
    "\n",
    "# n_samples = 20\n",
    "# tumor_radii = np.arange(2, 100)\n",
    "# for n in range(n_samples):\n",
    "\n",
    "#     ## Generate random (CSR) points within the mask\n",
    "#     CSR_tumor_points = np.empty((tumor_points.shape[0], 3), dtype=np.uint16)\n",
    "#     for i in range(tumor_points.shape[0]):\n",
    "#         # if generated point outside of mask, repeat, else break\n",
    "#         while(True):\n",
    "#             z, y, x = map(int, [stats.uniform.rvs(0, mask.shape[j]) for j in range(3)])\n",
    "#             if mask[z, y, x] == 1:\n",
    "#                 CSR_tumor_points[i] = np.array([z, y, x])\n",
    "#                 break\n",
    "            \n",
    "#     # ripley = Ripley(CSR_tumor_points, tumor_radii, mask, boundary_correction=False)\n",
    "#     ripley_w = CrossRipley(CSR_tumor_points, CSR_tumor_points, tumor_radii, mask, boundary_correction=True)\n",
    "\n",
    "#     # Sort by radii\n",
    "#     # K, L, H = map(sorted, ripley.run_ripley(1))\n",
    "#     K_w, L_w, H_w = map(sorted, ripley_w.run_ripley(60))\n",
    "\n",
    "#     # Organize into list of [Radius, K, L, H, Type, Line] \n",
    "#     # CSR_tumor_data += [(k[0], k[1], l[1], h[1], \"Tumor_CSR\", n) for k, l, h in zip(K, L, H)]\n",
    "#     CSR_tumor_data_w += [(k[0], k[1], l[1], h[1], \"Tumor_CSR\", n) for k, l, h in zip(K_w, L_w, H_w)]\n",
    "    \n",
    "# # CSR_tumor_rstats = pd.DataFrame(CSR_tumor_data, columns=[\"Radius (r)\", \"K(r)\", \"L(r)\", \"H(r)\", \"Type\", \"Line\"])\n",
    "# CSR_tumor_rstats_w = pd.DataFrame(CSR_tumor_data_w, columns=[\"Radius (r)\", \"K(r)\", \"L(r)\", \"H(r)\", \"Type\", \"Line\"])\n",
    "\n",
    "# CSR_tumor_rstats_w.to_csv(f\"/home/dkermany/ripley_results/{filename}_random_univariate_rstats_w.csv\")"
   ]
  },
  {
   "cell_type": "code",
   "execution_count": 30,
   "metadata": {},
   "outputs": [],
   "source": [
    "# CSR_tumor_rstats.to_csv(\"/home/dkermany/test.csv\")"
   ]
  },
  {
   "cell_type": "markdown",
   "metadata": {},
   "source": [
    "Tumor Ripley Call\n",
    "<a id=\"tumor_ripley\"></a><br>\n",
    "[Draw Sphere Function](#draw_sphere_in_volume)\n"
   ]
  },
  {
   "cell_type": "code",
   "execution_count": 31,
   "metadata": {},
   "outputs": [],
   "source": [
    "# # tumor_data = []\n",
    "# tumor_data_w = []\n",
    "\n",
    "# tumor_radii = np.arange(2, 100)\n",
    "\n",
    "# # Max ripley search sphere size. Typically 1/3 or 1/2 of smallest dimension\n",
    "# # max_search_radius = min(mask.shape) // 3\n",
    "# # ripley = Ripley(tumor_points, tumor_radii, mask, boundary_correction=False)\n",
    "# ripley_w = CrossRipley(tumor_points, tumor_points, tumor_radii, mask, boundary_correction=True)\n",
    "\n",
    "# # Sort by radii\n",
    "# # K, L, H = map(sorted, ripley.run_ripley(2))\n",
    "# K_w, L_w, H_w = map(sorted, ripley_w.run_ripley(60))\n",
    "\n",
    "# # Organize into list of [Radius, K, L, H, Type, Line] \n",
    "# # tumor_data += [(k[0], k[1], l[1], h[1], \"Tumor\") for k, l, h in zip(K, L, H)]\n",
    "# tumor_data_w += [(k[0], k[1], l[1], h[1], \"Tumor\") for k, l, h in zip(K_w, L_w, H_w)]\n",
    "    \n",
    "# # tumor_rstats = pd.DataFrame(tumor_data, columns=[\"Radius (r)\", \"K(r)\", \"L(r)\", \"H(r)\", \"Type\"])\n",
    "# tumor_rstats_w = pd.DataFrame(tumor_data_w, columns=[\"Radius (r)\", \"K(r)\", \"L(r)\", \"H(r)\", \"Type\"])\n",
    "\n",
    "# tumor_rstats_w.to_csv(f\"/home/dkermany/ripley_results/{filename}_univariate_DTC_rstats_w.csv\")\n",
    "\n"
   ]
  },
  {
   "cell_type": "code",
   "execution_count": 32,
   "metadata": {},
   "outputs": [],
   "source": [
    "# f, axes = plt.subplots(2, 3,)\n",
    "\n",
    "# # ## Top Row\n",
    "# # # K\n",
    "# # sns.lineplot(data=tumor_rstats, x=\"Radius (r)\", y=\"K(r)\", ax=axes[0, 0])\n",
    "# # sns.lineplot(data=CSR_tumor_rstats, x=\"Radius (r)\", y=\"K(r)\", ax=axes[0, 0], alpha=0, errorbar=(\"pi\", 95))\n",
    "# # # L\n",
    "# # sns.lineplot(data=tumor_rstats, x=\"Radius (r)\", y=\"L(r)\", ax=axes[0, 1])\n",
    "# # sns.lineplot(data=CSR_tumor_rstats, x=\"Radius (r)\", y=\"L(r)\", ax=axes[0, 1], alpha=0, errorbar=(\"pi\", 95))\n",
    "# # axes[0, 1].plot([0, 400], [0, 400], linewidth=1, linestyle=\"dotted\", color=\"#aaa\") # Expected line\n",
    "# # # H\n",
    "# # sns.lineplot(data=tumor_rstats, x=\"Radius (r)\", y=\"H(r)\", ax=axes[0, 2])\n",
    "# # sns.lineplot(data=CSR_tumor_rstats, x=\"Radius (r)\", y=\"H(r)\", ax=axes[0, 2], alpha=0, errorbar=(\"pi\", 95))\n",
    "# # axes[0, 2].plot([0, 400], [0, 0], linewidth=1, linestyle=\"dotted\", color=\"#aaa\") # Expected line\n",
    "\n",
    "# # ## Bottom Row - Boundary Corrected\n",
    "# # # K\n",
    "# sns.lineplot(data=tumor_rstats_w, x=\"Radius (r)\", y=\"K(r)\", ax=axes[1, 0])\n",
    "# sns.lineplot(data=CSR_tumor_rstats_w, x=\"Radius (r)\", y=\"K(r)\", ax=axes[1, 0], alpha=0, errorbar=(\"pi\", 95))\n",
    "# # # L\n",
    "# sns.lineplot(data=tumor_rstats_w, x=\"Radius (r)\", y=\"L(r)\", ax=axes[1, 1])\n",
    "# sns.lineplot(data=CSR_tumor_rstats_w, x=\"Radius (r)\", y=\"L(r)\", ax=axes[1, 1], alpha=0, errorbar=(\"pi\", 95))\n",
    "# axes[1, 1].plot([0, 400], [0, 400], linewidth=1, linestyle=\"dotted\", color=\"#aaa\") # Expected line\n",
    "# # # H\n",
    "# sns.lineplot(data=tumor_rstats_w, x=\"Radius (r)\", y=\"H(r)\", ax=axes[1, 2])\n",
    "# sns.lineplot(data=CSR_tumor_rstats_w, x=\"Radius (r)\", y=\"H(r)\", ax=axes[1, 2], alpha=0, errorbar=(\"pi\", 95))\n",
    "# axes[1, 2].plot([0, 400], [0, 0], linewidth=1, linestyle=\"dotted\", color=\"#aaa\") # Expected line\n",
    "\n",
    "# plt.show()"
   ]
  },
  {
   "cell_type": "code",
   "execution_count": null,
   "metadata": {},
   "outputs": [],
   "source": []
  },
  {
   "cell_type": "code",
   "execution_count": 33,
   "metadata": {},
   "outputs": [],
   "source": [
    "ng2_points_path = f\"/home/dkermany/data/Bone_Project/NG2_Centroids/{filename}_NG2_centroids.npy\"\n",
    "ng2_points = np.flip(np.load(ng2_points_path).T, axis=1) # put points into Z,Y,X format (N, 3)\n",
    "cross_tumor_radii = np.arange(2, 100)"
   ]
  },
  {
   "cell_type": "code",
   "execution_count": 34,
   "metadata": {},
   "outputs": [],
   "source": [
    "# print(f\"Tumor points: {tumor_points.shape}\")\n",
    "# print(f\"NG2 points: {ng2_points.shape}\")"
   ]
  },
  {
   "cell_type": "markdown",
   "metadata": {},
   "source": [
    "### UNIVARIATE RIPLEY ON NG2+ CELLS"
   ]
  },
  {
   "cell_type": "code",
   "execution_count": 35,
   "metadata": {},
   "outputs": [],
   "source": [
    "# # CSR_tumor_data = []\n",
    "# CSR_ng2_data_w = []\n",
    "\n",
    "# n_samples = 20\n",
    "# ng2_radii = np.arange(2, 100)\n",
    "# print(ng2_points.shape)\n",
    "# for n in range(n_samples):\n",
    "\n",
    "#     ## Generate random (CSR) points within the mask\n",
    "#     CSR_ng2_points = np.empty((ng2_points.shape[0], 3), dtype=np.uint16)\n",
    "#     for i in range(ng2_points.shape[0]):\n",
    "#         # if generated point outside of mask, repeat, else break\n",
    "#         while(True):\n",
    "#             z, y, x = map(int, [stats.uniform.rvs(0, mask.shape[j]) for j in range(3)])\n",
    "#             if mask[z, y, x] == 1:\n",
    "#                 CSR_ng2_points[i] = np.array([z, y, x])\n",
    "#                 break\n",
    "            \n",
    "#     # ripley = Ripley(CSR_tumor_points, tumor_radii, mask, boundary_correction=False)\n",
    "#     ripley_w = CrossRipley(CSR_ng2_points, CSR_ng2_points, ng2_radii, mask, boundary_correction=True)\n",
    "\n",
    "#     # Sort by radii\n",
    "#     # K, L, H = map(sorted, ripley.run_ripley(1))\n",
    "#     K_w, L_w, H_w = map(sorted, ripley_w.run_ripley(60))\n",
    "\n",
    "#     # Organize into list of [Radius, K, L, H, Type, Line] \n",
    "#     # CSR_tumor_data += [(k[0], k[1], l[1], h[1], \"Tumor_CSR\", n) for k, l, h in zip(K, L, H)]\n",
    "#     CSR_ng2_data_w += [(k[0], k[1], l[1], h[1], \"ng2_CSR\", n) for k, l, h in zip(K_w, L_w, H_w)]\n",
    "    \n",
    "# # CSR_tumor_rstats = pd.DataFrame(CSR_tumor_data, columns=[\"Radius (r)\", \"K(r)\", \"L(r)\", \"H(r)\", \"Type\", \"Line\"])\n",
    "# CSR_ng2_rstats_w = pd.DataFrame(CSR_ng2_data_w, columns=[\"Radius (r)\", \"K(r)\", \"L(r)\", \"H(r)\", \"Type\", \"Line\"])\n",
    "\n",
    "# CSR_ng2_rstats_w.to_csv(f\"/home/dkermany/ripley_results/{filename}_random_univariate_ng2_rstats_w.csv\")"
   ]
  },
  {
   "cell_type": "code",
   "execution_count": 36,
   "metadata": {},
   "outputs": [],
   "source": [
    "\n",
    "# # tumor_data = []\n",
    "# ng2_data_w = []\n",
    "\n",
    "# ng2_radii = np.arange(2, 100)\n",
    "\n",
    "# # Max ripley search sphere size. Typically 1/3 or 1/2 of smallest dimension\n",
    "# # max_search_radius = min(mask.shape) // 3\n",
    "# # ripley = Ripley(tumor_points, tumor_radii, mask, boundary_correction=False)\n",
    "# ripley_w = CrossRipley(ng2_points, ng2_points, ng2_radii, mask, boundary_correction=True)\n",
    "\n",
    "# # Sort by radii\n",
    "# # K, L, H = map(sorted, ripley.run_ripley(2))\n",
    "# K_w, L_w, H_w = map(sorted, ripley_w.run_ripley(60))\n",
    "\n",
    "# # Organize into list of [Radius, K, L, H, Type, Line] \n",
    "# # tumor_data += [(k[0], k[1], l[1], h[1], \"Tumor\") for k, l, h in zip(K, L, H)]\n",
    "# ng2_data_w += [(k[0], k[1], l[1], h[1], \"ng2\") for k, l, h in zip(K_w, L_w, H_w)]\n",
    "    \n",
    "# # tumor_rstats = pd.DataFrame(tumor_data, columns=[\"Radius (r)\", \"K(r)\", \"L(r)\", \"H(r)\", \"Type\"])\n",
    "# ng2_rstats_w = pd.DataFrame(ng2_data_w, columns=[\"Radius (r)\", \"K(r)\", \"L(r)\", \"H(r)\", \"Type\"])\n",
    "\n",
    "# ng2_rstats_w.to_csv(f\"/home/dkermany/ripley_results/{filename}_univariate_ng2_rstats_w.csv\")\n"
   ]
  },
  {
   "cell_type": "markdown",
   "metadata": {},
   "source": [
    "### MULTIVARIATE RIPLEY ON DTCs AND NG2+ CELLS"
   ]
  },
  {
   "cell_type": "code",
   "execution_count": 37,
   "metadata": {},
   "outputs": [],
   "source": [
    "\n",
    "# # cross_tumor_data = []\n",
    "# cross_tumor_data_w = []\n",
    "\n",
    "# # Max ripley search sphere size. Typically 1/3 or 1/2 of smallest dimension\n",
    "# # max_search_radius = min(mask.shape) // 3\n",
    "# # ripley = CrossRipley(tumor_points, ng2_points, cross_tumor_                                                                                                                                                                                                                                                                                                                                                                                                                                                                                                                                                                                                                                                                                                                                                     radii, mask, boundary_correction=False)\n",
    "# ripley_w = CrossRipley(tumor_points, ng2_points, cross_tumor_radii, mask, boundary_correction=True)\n",
    "\n",
    "# # Sort by radii\n",
    "# # K, L, H = map(sorted, ripley.run_ripley(1))\n",
    "# K_w, L_w, H_w = map(sorted, ripley_w.run_ripley(60))\n",
    "\n",
    "# # # Organize into list of [Radius, K, L, H, Type] \n",
    "# # cross_tumor_data += [(k[0], k[1], l[1], h[1], \"Tumor\") for k, l, h in zip(K, L, H)]\n",
    "# cross_tumor_data_w += [(k[0], k[1], l[1], h[1], \"Tumor\") for k, l, h in zip(K_w, L_w, H_w)]\n",
    "    \n",
    "# # cross_tumor_rstats = pd.DataFrame(cross_tumor_data, columns=[\"Radius (r)\", \"K(r)\", \"L(r)\", \"H(r)\", \"Type\"])\n",
    "# cross_tumor_rstats_w = pd.DataFrame(cross_tumor_data_w, columns=[\"Radius (r)\", \"K(r)\", \"L(r)\", \"H(r)\", \"Type\"])\n",
    "\n",
    "# # cross_tumor_rstats.to_csv(f\"/home/dkermany/ripley_results/{filename}_rstats.csv\")\n",
    "# cross_tumor_rstats_w.to_csv(f\"/home/dkermany/ripley_results/{filename}_rstats_w.csv\")\n"
   ]
  },
  {
   "cell_type": "code",
   "execution_count": 38,
   "metadata": {
    "scrolled": true
   },
   "outputs": [],
   "source": [
    "\n",
    "# f, axes = plt.subplots(2, 3,)\n",
    "\n",
    "# ## Top Row\n",
    "# # K\n",
    "# # sns.lineplot(data=cross_tumor_rstats, x=\"Radius (r)\", y=\"K(r)\", ax=axes[0, 0])\n",
    "# # L\n",
    "# # sns.lineplot(data=cross_tumor_rstats, x=\"Radius (r)\", y=\"L(r)\", ax=axes[0, 1])\n",
    "# axes[0, 1].plot([0, 400], [0, 400], linewidth=1, linestyle=\"dotted\", color=\"#aaa\") # Expected line\n",
    "# # H\n",
    "# # sns.lineplot(data=cross_tumor_rstats, x=\"Radius (r)\", y=\"H(r)\", ax=axes[0, 2])\n",
    "# axes[0, 2].plot([0, 400], [0, 0], linewidth=1, linestyle=\"dotted\", color=\"#aaa\") # Expected line\n",
    "\n",
    "# ## Bottom Row\n",
    "# # K\n",
    "# sns.lineplot(data=cross_tumor_rstats_w, x=\"Radius (r)\", y=\"K(r)\", ax=axes[1, 0])\n",
    "# # L\n",
    "# sns.lineplot(data=cross_tumor_rstats_w, x=\"Radius (r)\", y=\"L(r)\", ax=axes[1, 1])\n",
    "# axes[1, 1].plot([0, 100], [0, 100], linewidth=1, linestyle=\"dotted\", color=\"#aaa\") # Expected line\n",
    "# # H\n",
    "# sns.lineplot(data=cross_tumor_rstats_w, x=\"Radius (r)\", y=\"H(r)\", ax=axes[1, 2])\n",
    "# axes[1, 2].plot([0, 100], [0, 0], linewidth=1, linestyle=\"dotted\", color=\"#aaa\") # Expected line\n",
    "\n",
    "# plt.show()\n"
   ]
  },
  {
   "cell_type": "code",
   "execution_count": 39,
   "metadata": {},
   "outputs": [],
   "source": [
    "# tumor_data = []\n",
    "# tumor_data_w = []\n",
    "\n",
    "# # Max ripley search sphere size. Typically 1/3 or 1/2 of smallest dimension\n",
    "# # max_search_radius = min(mask.shape) // 3\n",
    "# ripley = Ripley(tumor_points, tumor_radii, mask, boundary_correction=False)\n",
    "# ripley_w = Ripley(tumor_points, tumor_radii, mask, boundary_correction=True)\n",
    "\n",
    "# # Sort by radii\n",
    "# K, L, H = map(sorted, ripley.run_ripley(2))\n",
    "# K_w, L_w, H_w = map(sorted, ripley_w.run_ripley(63))\n",
    "\n",
    "# # Organize into list of [Radius, K, L, H, Type, Line] \n",
    "# tumor_data += [(k[0], k[1], l[1], h[1], \"Tumor\") for k, l, h in zip(K, L, H)]\n",
    "# tumor_data_w += [(k[0], k[1], l[1], h[1], \"Tumor\") for k, l, h in zip(K_w, L_w, H_w)]\n",
    "    \n",
    "# tumor_rstats = pd.DataFrame(tumor_data, columns=[\"Radius (r)\", \"K(r)\", \"L(r)\", \"H(r)\", \"Type\"])\n",
    "# tumor_rstats_w = pd.DataFrame(tumor_data_w, columns=[\"Radius (r)\", \"K(r)\", \"L(r)\", \"H(r)\", \"Type\"])"
   ]
  },
  {
   "cell_type": "code",
   "execution_count": 40,
   "metadata": {},
   "outputs": [],
   "source": [
    "# def get_shuffled_labels(points1, points2):\n",
    "#     combined_arr = np.concatenate((points1, points2), axis=0)\n",
    "#     np.random.shuffle(combined_arr) # inplace shuffle\n",
    "#     return np.split(combined_arr, [points1.shape[0]])"
   ]
  },
  {
   "cell_type": "code",
   "execution_count": null,
   "metadata": {},
   "outputs": [],
   "source": []
  },
  {
   "cell_type": "code",
   "execution_count": 41,
   "metadata": {},
   "outputs": [],
   "source": [
    "# # random_cross_tumor_data = []\n",
    "# random_cross_tumor_data_w = []\n",
    "\n",
    "# n_samples = 20\n",
    "# tumor_radii = np.arange(2, 100)\n",
    "# print(f\"Source image: {filename}\")\n",
    "# for n in range(n_samples):\n",
    "#     print(f\"\\nRunning Monte-Carlo Simulation {n}/{n_samples}\\n\")\n",
    "#     random_tumor_points, random_ng2_points = get_shuffled_labels(tumor_points, ng2_points)\n",
    "\n",
    "#     # ripley = CrossRipley(random_tumor_points, random_ng2_points, cross_tumor_radii, mask, boundary_correction=False)\n",
    "#     ripley_w = CrossRipley(random_tumor_points, random_ng2_points, cross_tumor_radii, mask, boundary_correction=True)\n",
    "\n",
    "#     # Sort by radii\n",
    "#     # K, L, H = map(sorted, ripley.run_ripley(1))\n",
    "#     K_w, L_w, H_w = map(sorted, ripley_w.run_ripley(60))\n",
    "\n",
    "#     # # Organize into list of [Radius, K, L, H, Type] \n",
    "#     # random_cross_tumor_data += [(k[0], k[1], l[1], h[1], \"Tumor\", n) for k, l, h in zip(K, L, H)]\n",
    "#     random_cross_tumor_data_w += [(k[0], k[1], l[1], h[1], \"Tumor\", n) for k, l, h in zip(K_w, L_w, H_w)]\n",
    "\n",
    "# # random_cross_tumor_rstats = pd.DataFrame(random_cross_tumor_data, columns=[\"Radius (r)\", \"K(r)\", \"L(r)\", \"H(r)\", \"Type\", \"Line\"])\n",
    "# random_cross_tumor_rstats_w = pd.DataFrame(random_cross_tumor_data_w, columns=[\"Radius (r)\", \"K(r)\", \"L(r)\", \"H(r)\", \"Type\", \"Line\"])\n",
    "\n",
    "# # random_cross_tumor_rstats.to_csv(f\"/home/dkermany/ripley_results/{filename}_random_rstats.csv\")\n",
    "# random_cross_tumor_rstats_w.to_csv(f\"/home/dkermany/ripley_results/{filename}_random_rstats_w.csv\")"
   ]
  },
  {
   "cell_type": "code",
   "execution_count": 42,
   "metadata": {
    "scrolled": true
   },
   "outputs": [],
   "source": [
    "# f, axes = plt.subplots(2, 3,)\n",
    "\n",
    "# ## Top Row\n",
    "# # K\n",
    "# # sns.lineplot(data=cross_tumor_rstats, x=\"Radius (r)\", y=\"K(r)\", ax=axes[0, 0])\n",
    "# # sns.lineplot(data=random_cross_tumor_rstats, x=\"Radius (r)\", y=\"K(r)\", ax=axes[0, 0], alpha=0, errorbar=(\"pi\", 95))\n",
    "# # L\n",
    "# # sns.lineplot(data=cross_tumor_rstats, x=\"Radius (r)\", y=\"L(r)\", ax=axes[0, 1])\n",
    "# # sns.lineplot(data=random_cross_tumor_rstats, x=\"Radius (r)\", y=\"L(r)\", ax=axes[0, 1], alpha=0, errorbar=(\"pi\", 95))\n",
    "# axes[0, 1].plot([0, 100], [0, 100], linewidth=1, linestyle=\"dotted\", color=\"#aaa\") # Expected line\n",
    "# # H\n",
    "# # sns.lineplot(data=cross_tumor_rstats, x=\"Radius (r)\", y=\"H(r)\", ax=axes[0, 2])\n",
    "# # sns.lineplot(data=random_cross_tumor_rstats, x=\"Radius (r)\", y=\"H(r)\", ax=axes[0, 2], alpha=0, errorbar=(\"pi\", 95))\n",
    "# axes[0, 2].plot([0, 100], [0, 0], linewidth=1, linestyle=\"dotted\", color=\"#aaa\") # Expected line\n",
    "\n",
    "# ## Bottom Row - Boundary Corrected\n",
    "# # K\n",
    "# sns.lineplot(data=cross_tumor_rstats_w, x=\"Radius (r)\", y=\"K(r)\", ax=axes[1, 0])\n",
    "# sns.lineplot(data=random_cross_tumor_rstats_w, x=\"Radius (r)\", y=\"K(r)\", ax=axes[1, 0], alpha=0, errorbar=(\"pi\", 95))\n",
    "# # L\n",
    "# sns.lineplot(data=cross_tumor_rstats_w, x=\"Radius (r)\", y=\"L(r)\", ax=axes[1, 1])\n",
    "# sns.lineplot(data=random_cross_tumor_rstats_w, x=\"Radius (r)\", y=\"L(r)\", ax=axes[1, 1], alpha=0, errorbar=(\"pi\", 95))\n",
    "# axes[1, 1].plot([0, 100], [0, 100], linewidth=1, linestyle=\"dotted\", color=\"#aaa\") # Expected line\n",
    "# # H\n",
    "# sns.lineplot(data=cross_tumor_rstats_w, x=\"Radius (r)\", y=\"H(r)\", ax=axes[1, 2])\n",
    "# sns.lineplot(data=random_cross_tumor_rstats_w, x=\"Radius (r)\", y=\"H(r)\", ax=axes[1, 2], alpha=0, errorbar=(\"pi\", 95))\n",
    "# axes[1, 2].plot([0, 100], [0, 0], linewidth=1, linestyle=\"dotted\", color=\"#aaa\") # Expected line\n",
    "\n",
    "# plt.show()"
   ]
  },
  {
   "cell_type": "markdown",
   "metadata": {},
   "source": [
    "### MULTIVARIATE RIPLEY ON DTCs AND BRANCH POINTS"
   ]
  },
  {
   "cell_type": "code",
   "execution_count": 51,
   "metadata": {},
   "outputs": [
    {
     "name": "stdout",
     "output_type": "stream",
     "text": [
      "[[   0  415 2328]\n",
      " [   0  539 2655]\n",
      " [   0  618 2707]\n",
      " ...\n",
      " [  74 1596 2864]\n",
      " [  74 1613 3182]\n",
      " [  74 1624 2847]]\n"
     ]
    }
   ],
   "source": [
    "branch_points_path = f\"/home/dkermany/data/Bone_Project/branch_points/{filename}_branch_points.npy\"\n",
    "branch_points = np.load(branch_points_path).T # put points into Z,Y,X format (N, 3)\n",
    "branch_tumor_radii = np.arange(2, 100)\n",
    "print(branch_points)"
   ]
  },
  {
   "cell_type": "code",
   "execution_count": 53,
   "metadata": {},
   "outputs": [
    {
     "name": "stderr",
     "output_type": "stream",
     "text": [
      "100%|███████████████████████████████████████████| 98/98 [03:35<00:00,  2.20s/it]\n"
     ]
    }
   ],
   "source": [
    "branch_tumor_data_w = []\n",
    "\n",
    "ripley_w = CrossRipley(tumor_points, branch_points, branch_tumor_radii, mask, boundary_correction=True)\n",
    "\n",
    "# Sort by radii\n",
    "# K, L, H = map(sorted, ripley.run_ripley(1))\n",
    "K_w, L_w, H_w = map(sorted, ripley_w.run_ripley(60))\n",
    "\n",
    "# # Organize into list of [Radius, K, L, H, Type] \n",
    "branch_tumor_data_w += [(k[0], k[1], l[1], h[1], \"Tumor\") for k, l, h in zip(K_w, L_w, H_w)]\n",
    "    \n",
    "branch_tumor_rstats_w = pd.DataFrame(branch_tumor_data_w, columns=[\"Radius (r)\", \"K(r)\", \"L(r)\", \"H(r)\", \"Type\"])\n",
    "\n",
    "branch_tumor_rstats_w.to_csv(f\"/home/dkermany/ripley_results/{filename}_rstats_w_branch_points.csv\")\n"
   ]
  },
  {
   "cell_type": "code",
   "execution_count": 54,
   "metadata": {
    "scrolled": true
   },
   "outputs": [
    {
     "data": {
      "application/vnd.jupyter.widget-view+json": {
       "model_id": "09a7297e95f6491bacc25e3a53c84e51",
       "version_major": 2,
       "version_minor": 0
      },
      "image/png": "[encoded data removed]",
      "text/html": [
       "\n",
       "            <div style=\"display: inline-block;\">\n",
       "                <div class=\"jupyter-widgets widget-label\" style=\"text-align: center;\">\n",
       "                    Figure\n",
       "                </div>\n",
       "                <img src='data:image/png;base64,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' width=640.0/>\n",
       "            </div>\n",
       "        "
      ],
      "text/plain": [
       "Canvas(toolbar=Toolbar(toolitems=[('Home', 'Reset original view', 'home', 'home'), ('Back', 'Back to previous …"
      ]
     },
     "metadata": {},
     "output_type": "display_data"
    }
   ],
   "source": [
    "f, axes = plt.subplots(2, 3,)\n",
    "\n",
    "## Top Row\n",
    "# K\n",
    "# sns.lineplot(data=cross_tumor_rstats, x=\"Radius (r)\", y=\"K(r)\", ax=axes[0, 0])\n",
    "# L\n",
    "# sns.lineplot(data=cross_tumor_rstats, x=\"Radius (r)\", y=\"L(r)\", ax=axes[0, 1])\n",
    "axes[0, 1].plot([0, 400], [0, 400], linewidth=1, linestyle=\"dotted\", color=\"#aaa\") # Expected line\n",
    "# H\n",
    "# sns.lineplot(data=cross_tumor_rstats, x=\"Radius (r)\", y=\"H(r)\", ax=axes[0, 2])\n",
    "axes[0, 2].plot([0, 400], [0, 0], linewidth=1, linestyle=\"dotted\", color=\"#aaa\") # Expected line\n",
    "\n",
    "## Bottom Row\n",
    "# K\n",
    "sns.lineplot(data=branch_tumor_rstats_w, x=\"Radius (r)\", y=\"K(r)\", ax=axes[1, 0])\n",
    "# L\n",
    "sns.lineplot(data=branch_tumor_rstats_w, x=\"Radius (r)\", y=\"L(r)\", ax=axes[1, 1])\n",
    "axes[1, 1].plot([0, 100], [0, 100], linewidth=1, linestyle=\"dotted\", color=\"#aaa\") # Expected line\n",
    "# H\n",
    "sns.lineplot(data=branch_tumor_rstats_w, x=\"Radius (r)\", y=\"H(r)\", ax=axes[1, 2])\n",
    "axes[1, 2].plot([0, 100], [0, 0], linewidth=1, linestyle=\"dotted\", color=\"#aaa\") # Expected line\n",
    "\n",
    "plt.show()\n"
   ]
  },
  {
   "cell_type": "code",
   "execution_count": 55,
   "metadata": {},
   "outputs": [],
   "source": [
    "def get_shuffled_labels(points1, points2):\n",
    "    combined_arr = np.concatenate((points1, points2), axis=0)\n",
    "    np.random.shuffle(combined_arr) # inplace shuffle\n",
    "    return np.split(combined_arr, [points1.shape[0]])"
   ]
  },
  {
   "cell_type": "code",
   "execution_count": 56,
   "metadata": {},
   "outputs": [
    {
     "name": "stdout",
     "output_type": "stream",
     "text": [
      "Source image: FV10__20190620_111343\n",
      "\n",
      "Running Monte-Carlo Simulation 0/20\n",
      "\n"
     ]
    },
    {
     "name": "stderr",
     "output_type": "stream",
     "text": [
      "100%|███████████████████████████████████████████| 98/98 [03:50<00:00,  2.35s/it]\n"
     ]
    },
    {
     "name": "stdout",
     "output_type": "stream",
     "text": [
      "\n",
      "Running Monte-Carlo Simulation 1/20\n",
      "\n"
     ]
    },
    {
     "name": "stderr",
     "output_type": "stream",
     "text": [
      "100%|███████████████████████████████████████████| 98/98 [03:41<00:00,  2.26s/it]\n"
     ]
    },
    {
     "name": "stdout",
     "output_type": "stream",
     "text": [
      "\n",
      "Running Monte-Carlo Simulation 2/20\n",
      "\n"
     ]
    },
    {
     "name": "stderr",
     "output_type": "stream",
     "text": [
      "100%|███████████████████████████████████████████| 98/98 [03:42<00:00,  2.27s/it]\n"
     ]
    },
    {
     "name": "stdout",
     "output_type": "stream",
     "text": [
      "\n",
      "Running Monte-Carlo Simulation 3/20\n",
      "\n"
     ]
    },
    {
     "name": "stderr",
     "output_type": "stream",
     "text": [
      "100%|███████████████████████████████████████████| 98/98 [03:41<00:00,  2.26s/it]\n"
     ]
    },
    {
     "name": "stdout",
     "output_type": "stream",
     "text": [
      "\n",
      "Running Monte-Carlo Simulation 4/20\n",
      "\n"
     ]
    },
    {
     "name": "stderr",
     "output_type": "stream",
     "text": [
      "100%|███████████████████████████████████████████| 98/98 [03:41<00:00,  2.26s/it]\n"
     ]
    },
    {
     "name": "stdout",
     "output_type": "stream",
     "text": [
      "\n",
      "Running Monte-Carlo Simulation 5/20\n",
      "\n"
     ]
    },
    {
     "name": "stderr",
     "output_type": "stream",
     "text": [
      "100%|███████████████████████████████████████████| 98/98 [03:41<00:00,  2.26s/it]\n"
     ]
    },
    {
     "name": "stdout",
     "output_type": "stream",
     "text": [
      "\n",
      "Running Monte-Carlo Simulation 6/20\n",
      "\n"
     ]
    },
    {
     "name": "stderr",
     "output_type": "stream",
     "text": [
      "100%|███████████████████████████████████████████| 98/98 [03:41<00:00,  2.26s/it]\n"
     ]
    },
    {
     "name": "stdout",
     "output_type": "stream",
     "text": [
      "\n",
      "Running Monte-Carlo Simulation 7/20\n",
      "\n"
     ]
    },
    {
     "name": "stderr",
     "output_type": "stream",
     "text": [
      "100%|███████████████████████████████████████████| 98/98 [03:41<00:00,  2.26s/it]\n"
     ]
    },
    {
     "name": "stdout",
     "output_type": "stream",
     "text": [
      "\n",
      "Running Monte-Carlo Simulation 8/20\n",
      "\n"
     ]
    },
    {
     "name": "stderr",
     "output_type": "stream",
     "text": [
      "100%|███████████████████████████████████████████| 98/98 [03:42<00:00,  2.27s/it]\n"
     ]
    },
    {
     "name": "stdout",
     "output_type": "stream",
     "text": [
      "\n",
      "Running Monte-Carlo Simulation 9/20\n",
      "\n"
     ]
    },
    {
     "name": "stderr",
     "output_type": "stream",
     "text": [
      "100%|███████████████████████████████████████████| 98/98 [03:40<00:00,  2.25s/it]\n"
     ]
    },
    {
     "name": "stdout",
     "output_type": "stream",
     "text": [
      "\n",
      "Running Monte-Carlo Simulation 10/20\n",
      "\n"
     ]
    },
    {
     "name": "stderr",
     "output_type": "stream",
     "text": [
      "100%|███████████████████████████████████████████| 98/98 [03:41<00:00,  2.26s/it]\n"
     ]
    },
    {
     "name": "stdout",
     "output_type": "stream",
     "text": [
      "\n",
      "Running Monte-Carlo Simulation 11/20\n",
      "\n"
     ]
    },
    {
     "name": "stderr",
     "output_type": "stream",
     "text": [
      "100%|███████████████████████████████████████████| 98/98 [03:40<00:00,  2.25s/it]\n"
     ]
    },
    {
     "name": "stdout",
     "output_type": "stream",
     "text": [
      "\n",
      "Running Monte-Carlo Simulation 12/20\n",
      "\n"
     ]
    },
    {
     "name": "stderr",
     "output_type": "stream",
     "text": [
      "100%|███████████████████████████████████████████| 98/98 [03:43<00:00,  2.28s/it]\n"
     ]
    },
    {
     "name": "stdout",
     "output_type": "stream",
     "text": [
      "\n",
      "Running Monte-Carlo Simulation 13/20\n",
      "\n"
     ]
    },
    {
     "name": "stderr",
     "output_type": "stream",
     "text": [
      "100%|███████████████████████████████████████████| 98/98 [03:41<00:00,  2.26s/it]\n"
     ]
    },
    {
     "name": "stdout",
     "output_type": "stream",
     "text": [
      "\n",
      "Running Monte-Carlo Simulation 14/20\n",
      "\n"
     ]
    },
    {
     "name": "stderr",
     "output_type": "stream",
     "text": [
      "100%|███████████████████████████████████████████| 98/98 [03:42<00:00,  2.27s/it]\n"
     ]
    },
    {
     "name": "stdout",
     "output_type": "stream",
     "text": [
      "\n",
      "Running Monte-Carlo Simulation 15/20\n",
      "\n"
     ]
    },
    {
     "name": "stderr",
     "output_type": "stream",
     "text": [
      "100%|███████████████████████████████████████████| 98/98 [03:40<00:00,  2.25s/it]\n"
     ]
    },
    {
     "name": "stdout",
     "output_type": "stream",
     "text": [
      "\n",
      "Running Monte-Carlo Simulation 16/20\n",
      "\n"
     ]
    },
    {
     "name": "stderr",
     "output_type": "stream",
     "text": [
      "100%|███████████████████████████████████████████| 98/98 [03:41<00:00,  2.26s/it]\n"
     ]
    },
    {
     "name": "stdout",
     "output_type": "stream",
     "text": [
      "\n",
      "Running Monte-Carlo Simulation 17/20\n",
      "\n"
     ]
    },
    {
     "name": "stderr",
     "output_type": "stream",
     "text": [
      "100%|███████████████████████████████████████████| 98/98 [03:38<00:00,  2.23s/it]\n"
     ]
    },
    {
     "name": "stdout",
     "output_type": "stream",
     "text": [
      "\n",
      "Running Monte-Carlo Simulation 18/20\n",
      "\n"
     ]
    },
    {
     "name": "stderr",
     "output_type": "stream",
     "text": [
      "100%|███████████████████████████████████████████| 98/98 [03:43<00:00,  2.28s/it]\n"
     ]
    },
    {
     "name": "stdout",
     "output_type": "stream",
     "text": [
      "\n",
      "Running Monte-Carlo Simulation 19/20\n",
      "\n"
     ]
    },
    {
     "name": "stderr",
     "output_type": "stream",
     "text": [
      "100%|███████████████████████████████████████████| 98/98 [03:42<00:00,  2.27s/it]\n"
     ]
    }
   ],
   "source": [
    "random_branch_tumor_data_w = []\n",
    "\n",
    "n_samples = 20\n",
    "tumor_radii = np.arange(2, 100)\n",
    "print(f\"Source image: {filename}\")\n",
    "for n in range(n_samples):\n",
    "    print(f\"\\nRunning Monte-Carlo Simulation {n}/{n_samples}\\n\")\n",
    "    random_tumor_points, random_branch_points = get_shuffled_labels(tumor_points, branch_points)\n",
    "\n",
    "    ripley_w = CrossRipley(random_tumor_points, random_branch_points, branch_tumor_radii, mask, boundary_correction=True)\n",
    "\n",
    "    # Sort by radii\n",
    "    K_w, L_w, H_w = map(sorted, ripley_w.run_ripley(60))\n",
    "\n",
    "    # # Organize into list of [Radius, K, L, H, Type] \n",
    "    random_branch_tumor_data_w += [(k[0], k[1], l[1], h[1], \"Tumor\", n) for k, l, h in zip(K_w, L_w, H_w)]\n",
    "\n",
    "random_branch_tumor_rstats_w = pd.DataFrame(random_branch_tumor_data_w, columns=[\"Radius (r)\", \"K(r)\", \"L(r)\", \"H(r)\", \"Type\", \"Line\"])\n",
    "\n",
    "random_branch_tumor_rstats_w.to_csv(f\"/home/dkermany/ripley_results/{filename}_random_branch_rstats_w.csv\")"
   ]
  },
  {
   "cell_type": "code",
   "execution_count": 57,
   "metadata": {
    "scrolled": true
   },
   "outputs": [
    {
     "data": {
      "application/vnd.jupyter.widget-view+json": {
       "model_id": "e50092ed05f64be1b2e1126cf581a5ab",
       "version_major": 2,
       "version_minor": 0
      },
      "image/png": "[encoded data removed]",
      "text/html": [
       "\n",
       "            <div style=\"display: inline-block;\">\n",
       "                <div class=\"jupyter-widgets widget-label\" style=\"text-align: center;\">\n",
       "                    Figure\n",
       "                </div>\n",
       "                <img src='data:image/png;base64,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' width=640.0/>\n",
       "            </div>\n",
       "        "
      ],
      "text/plain": [
       "Canvas(toolbar=Toolbar(toolitems=[('Home', 'Reset original view', 'home', 'home'), ('Back', 'Back to previous …"
      ]
     },
     "metadata": {},
     "output_type": "display_data"
    }
   ],
   "source": [
    "f, axes = plt.subplots(2, 3,)\n",
    "\n",
    "## Top Row\n",
    "# K\n",
    "# sns.lineplot(data=cross_tumor_rstats, x=\"Radius (r)\", y=\"K(r)\", ax=axes[0, 0])\n",
    "# sns.lineplot(data=random_cross_tumor_rstats, x=\"Radius (r)\", y=\"K(r)\", ax=axes[0, 0], alpha=0, errorbar=(\"pi\", 95))\n",
    "# L\n",
    "# sns.lineplot(data=cross_tumor_rstats, x=\"Radius (r)\", y=\"L(r)\", ax=axes[0, 1])\n",
    "# sns.lineplot(data=random_cross_tumor_rstats, x=\"Radius (r)\", y=\"L(r)\", ax=axes[0, 1], alpha=0, errorbar=(\"pi\", 95))\n",
    "axes[0, 1].plot([0, 100], [0, 100], linewidth=1, linestyle=\"dotted\", color=\"#aaa\") # Expected line\n",
    "# H\n",
    "# sns.lineplot(data=cross_tumor_rstats, x=\"Radius (r)\", y=\"H(r)\", ax=axes[0, 2])\n",
    "# sns.lineplot(data=random_cross_tumor_rstats, x=\"Radius (r)\", y=\"H(r)\", ax=axes[0, 2], alpha=0, errorbar=(\"pi\", 95))\n",
    "axes[0, 2].plot([0, 100], [0, 0], linewidth=1, linestyle=\"dotted\", color=\"#aaa\") # Expected line\n",
    "\n",
    "## Bottom Row - Boundary Corrected\n",
    "# K\n",
    "sns.lineplot(data=branch_tumor_rstats_w, x=\"Radius (r)\", y=\"K(r)\", ax=axes[1, 0])\n",
    "sns.lineplot(data=random_branch_tumor_rstats_w, x=\"Radius (r)\", y=\"K(r)\", ax=axes[1, 0], alpha=0, errorbar=(\"pi\", 95))\n",
    "# L\n",
    "sns.lineplot(data=branch_tumor_rstats_w, x=\"Radius (r)\", y=\"L(r)\", ax=axes[1, 1])\n",
    "sns.lineplot(data=random_branch_tumor_rstats_w, x=\"Radius (r)\", y=\"L(r)\", ax=axes[1, 1], alpha=0, errorbar=(\"pi\", 95))\n",
    "axes[1, 1].plot([0, 100], [0, 100], linewidth=1, linestyle=\"dotted\", color=\"#aaa\") # Expected line\n",
    "# H\n",
    "sns.lineplot(data=branch_tumor_rstats_w, x=\"Radius (r)\", y=\"H(r)\", ax=axes[1, 2])\n",
    "sns.lineplot(data=random_branch_tumor_rstats_w, x=\"Radius (r)\", y=\"H(r)\", ax=axes[1, 2], alpha=0, errorbar=(\"pi\", 95))\n",
    "axes[1, 2].plot([0, 100], [0, 0], linewidth=1, linestyle=\"dotted\", color=\"#aaa\") # Expected line\n",
    "\n",
    "plt.show()"
   ]
  },
  {
   "cell_type": "markdown",
   "metadata": {},
   "source": [
    "### MULTIVARIATE RIPLEY ON DTCs AND TORTUOUS VESSEL SEGMENTS"
   ]
  },
  {
   "cell_type": "code",
   "execution_count": 63,
   "metadata": {},
   "outputs": [
    {
     "name": "stdout",
     "output_type": "stream",
     "text": [
      "[[   1  715  319]\n",
      " [   1  666  363]\n",
      " [  47  938  406]\n",
      " [  16 1122  393]\n",
      " [   1 1106  403]\n",
      " [  43  881  407]\n",
      " [  45  858  419]\n",
      " [   6 1087  431]\n",
      " [   1  764  443]\n",
      " [  38  936  436]\n",
      " [  33  678  454]\n",
      " [  26  912  497]\n",
      " [   3  745  503]\n",
      " [   3  640  519]\n",
      " [  39  796  522]\n",
      " [  11  922  529]\n",
      " [  21  920  592]\n",
      " [  70 1007  613]\n",
      " [   3  912  610]\n",
      " [  41  959  628]\n",
      " [  10  640  627]\n",
      " [  18  854  622]\n",
      " [  66 1163  629]\n",
      " [   8  922  658]\n",
      " [   7  691  659]\n",
      " [   2  727  688]\n",
      " [   2  713  699]\n",
      " [  65  933  737]\n",
      " [  29 1071  746]\n",
      " [  69  917  777]\n",
      " [  55  904  795]\n",
      " [  54  911  812]\n",
      " [   0 1087  813]\n",
      " [  12  793  821]\n",
      " [  19  815  828]\n",
      " [  44  890  829]\n",
      " [  44  774  842]\n",
      " [  12  823  863]\n",
      " [  33 1042  929]\n",
      " [   3  857  996]\n",
      " [  48  990 1051]\n",
      " [  30 1017 1044]\n",
      " [  71  942 1182]\n",
      " [  23 1086 1226]\n",
      " [   1  907 1246]\n",
      " [  17 1100 1253]\n",
      " [   1  737 1281]\n",
      " [  52 1136 1296]\n",
      " [  72 1019 1303]\n",
      " [  68 1135 1314]\n",
      " [  32  992 1351]\n",
      " [  40 1045 1363]\n",
      " [  25  953 1373]\n",
      " [  64  661 1401]\n",
      " [  59  893 1418]\n",
      " [  25  593 1422]\n",
      " [  16 1007 1439]\n",
      " [  71 1132 1501]\n",
      " [   8  791 1517]\n",
      " [   4  744 1511]\n",
      " [  36 1049 1528]\n",
      " [   2 1048 1526]\n",
      " [  71  977 1630]\n",
      " [  53 1028 1637]\n",
      " [  57  825 1639]\n",
      " [   6  900 1661]\n",
      " [  73 1154 1665]\n",
      " [  69  862 1685]\n",
      " [  43  997 1697]\n",
      " [  56 1144 1724]\n",
      " [  53 1164 1733]\n",
      " [   6  562 1742]\n",
      " [  23  950 1763]\n",
      " [   8 1147 1758]\n",
      " [   2  561 1773]\n",
      " [  58 1048 1812]\n",
      " [  49 1150 1841]\n",
      " [  70  871 1852]\n",
      " [  68  591 1856]\n",
      " [   1 1186 1860]\n",
      " [   5  542 1871]\n",
      " [   8  713 1881]\n",
      " [  16  985 1905]\n",
      " [  29 1029 1918]\n",
      " [  68 1288 1935]\n",
      " [   2 1173 1942]\n",
      " [  69 1208 1952]\n",
      " [   4 1122 1992]\n",
      " [  24 1104 2003]\n",
      " [  70 1011 2023]\n",
      " [  74 1124 2026]\n",
      " [   2 1086 2031]\n",
      " [   4  562 2042]\n",
      " [   2 1135 2050]\n",
      " [  16 1259 2055]\n",
      " [  52 1222 2079]\n",
      " [  65  753 2083]\n",
      " [   6  597 2123]\n",
      " [  42  566 2139]\n",
      " [  12  880 2161]\n",
      " [  53 1036 2163]\n",
      " [   1  782 2209]\n",
      " [   2 1343 2222]\n",
      " [  15  580 2222]\n",
      " [  13 1188 2238]\n",
      " [   2  579 2242]\n",
      " [  59  793 2255]\n",
      " [  73 1213 2304]\n",
      " [  46 1438 2342]\n",
      " [   6  516 2346]\n",
      " [   6 1317 2350]\n",
      " [  20  462 2377]\n",
      " [  18 1428 2388]\n",
      " [  19  655 2409]\n",
      " [  55  978 2431]\n",
      " [  23  364 2453]\n",
      " [   3 1515 2437]\n",
      " [  68 1453 2459]\n",
      " [  52  444 2482]\n",
      " [  60  725 2479]\n",
      " [  17  706 2494]\n",
      " [  70  826 2500]\n",
      " [  68 1142 2509]\n",
      " [  45 1499 2510]\n",
      " [  16 1236 2525]\n",
      " [  32 1485 2533]\n",
      " [  56 1258 2548]\n",
      " [   2  810 2565]\n",
      " [  21  664 2580]\n",
      " [   2 1388 2596]\n",
      " [   5 1576 2601]\n",
      " [   2  758 2598]\n",
      " [  57  991 2605]\n",
      " [  48  821 2610]\n",
      " [   4  988 2620]\n",
      " [  15 1266 2626]\n",
      " [  17  544 2658]\n",
      " [  23 1483 2656]\n",
      " [   5  346 2652]\n",
      " [  29  758 2649]\n",
      " [  73 1307 2671]\n",
      " [  16  947 2679]\n",
      " [  55  441 2702]\n",
      " [  56  959 2702]\n",
      " [   2  324 2724]\n",
      " [  49  442 2722]\n",
      " [   1  422 2726]\n",
      " [  26 1078 2735]\n",
      " [  70  521 2754]\n",
      " [  57 1444 2801]\n",
      " [  65 1119 2816]\n",
      " [   1  778 2813]\n",
      " [  71  735 2822]\n",
      " [   0  991 2851]\n",
      " [  11  502 2860]\n",
      " [  62 1792 2884]\n",
      " [  74  637 2885]\n",
      " [  40  494 2914]\n",
      " [   9  923 2914]\n",
      " [  31 1608 2927]\n",
      " [  32 1059 2947]\n",
      " [  50  911 2953]\n",
      " [   8 1473 2973]\n",
      " [  38 1683 3000]\n",
      " [  73 1436 3048]\n",
      " [  44 1405 3056]\n",
      " [  42  736 3064]\n",
      " [  71  771 3063]\n",
      " [  69 1481 3062]\n",
      " [  65 1388 3068]\n",
      " [  63  756 3078]\n",
      " [  57 1502 3079]\n",
      " [  73  994 3099]\n",
      " [  42  578 3115]\n",
      " [  65  825 3134]\n",
      " [  66  616 3138]\n",
      " [  67  970 3141]\n",
      " [  47  753 3165]\n",
      " [  69  734 3166]\n",
      " [  69  685 3165]\n",
      " [  69  558 3234]\n",
      " [  70  638 3266]]\n"
     ]
    }
   ],
   "source": [
    "tvc_points_path = f\"/home/dkermany/data/Bone_Project/tortuous_segment_centroids/{filename}_tortuous_segment_centroid.npy\"\n",
    "tvc_points = np.rint(np.flip(np.load(tvc_points_path).T, axis=1)).astype(int) # put points into Z,Y,X format (N, 3)\n",
    "tvc_tumor_radii = np.arange(2, 100)\n",
    "print(tvc_points)"
   ]
  },
  {
   "cell_type": "code",
   "execution_count": 64,
   "metadata": {},
   "outputs": [
    {
     "name": "stderr",
     "output_type": "stream",
     "text": [
      "100%|███████████████████████████████████████████| 98/98 [03:35<00:00,  2.20s/it]\n"
     ]
    }
   ],
   "source": [
    "tvc_tumor_data_w = []\n",
    "\n",
    "ripley_w = CrossRipley(tumor_points, tvc_points, tvc_tumor_radii, mask, boundary_correction=True)\n",
    "\n",
    "# Sort by radii\n",
    "# K, L, H = map(sorted, ripley.run_ripley(1))\n",
    "K_w, L_w, H_w = map(sorted, ripley_w.run_ripley(60))\n",
    "\n",
    "# # Organize into list of [Radius, K, L, H, Type] \n",
    "tvc_tumor_data_w += [(k[0], k[1], l[1], h[1], \"Tumor\") for k, l, h in zip(K_w, L_w, H_w)]\n",
    "    \n",
    "tvc_tumor_rstats_w = pd.DataFrame(tvc_tumor_data_w, columns=[\"Radius (r)\", \"K(r)\", \"L(r)\", \"H(r)\", \"Type\"])\n",
    "\n",
    "tvc_tumor_rstats_w.to_csv(f\"/home/dkermany/ripley_results/{filename}_rstats_w_tvc.csv\")\n"
   ]
  },
  {
   "cell_type": "code",
   "execution_count": 65,
   "metadata": {
    "scrolled": true
   },
   "outputs": [
    {
     "data": {
      "application/vnd.jupyter.widget-view+json": {
       "model_id": "e9676d4bc9b141ffabe5d70c3a222d16",
       "version_major": 2,
       "version_minor": 0
      },
      "image/png": "[encoded data removed]",
      "text/html": [
       "\n",
       "            <div style=\"display: inline-block;\">\n",
       "                <div class=\"jupyter-widgets widget-label\" style=\"text-align: center;\">\n",
       "                    Figure\n",
       "                </div>\n",
       "                <img src='data:image/png;base64,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' width=640.0/>\n",
       "            </div>\n",
       "        "
      ],
      "text/plain": [
       "Canvas(toolbar=Toolbar(toolitems=[('Home', 'Reset original view', 'home', 'home'), ('Back', 'Back to previous …"
      ]
     },
     "metadata": {},
     "output_type": "display_data"
    }
   ],
   "source": [
    "f, axes = plt.subplots(2, 3,)\n",
    "\n",
    "## Top Row\n",
    "# K\n",
    "# sns.lineplot(data=cross_tumor_rstats, x=\"Radius (r)\", y=\"K(r)\", ax=axes[0, 0])\n",
    "# L\n",
    "# sns.lineplot(data=cross_tumor_rstats, x=\"Radius (r)\", y=\"L(r)\", ax=axes[0, 1])\n",
    "axes[0, 1].plot([0, 400], [0, 400], linewidth=1, linestyle=\"dotted\", color=\"#aaa\") # Expected line\n",
    "# H\n",
    "# sns.lineplot(data=cross_tumor_rstats, x=\"Radius (r)\", y=\"H(r)\", ax=axes[0, 2])\n",
    "axes[0, 2].plot([0, 400], [0, 0], linewidth=1, linestyle=\"dotted\", color=\"#aaa\") # Expected line\n",
    "\n",
    "## Bottom Row\n",
    "# K\n",
    "sns.lineplot(data=tvc_tumor_rstats_w, x=\"Radius (r)\", y=\"K(r)\", ax=axes[1, 0])\n",
    "# L\n",
    "sns.lineplot(data=tvc_tumor_rstats_w, x=\"Radius (r)\", y=\"L(r)\", ax=axes[1, 1])\n",
    "axes[1, 1].plot([0, 100], [0, 100], linewidth=1, linestyle=\"dotted\", color=\"#aaa\") # Expected line\n",
    "# H\n",
    "sns.lineplot(data=tvc_tumor_rstats_w, x=\"Radius (r)\", y=\"H(r)\", ax=axes[1, 2])\n",
    "axes[1, 2].plot([0, 100], [0, 0], linewidth=1, linestyle=\"dotted\", color=\"#aaa\") # Expected line\n",
    "\n",
    "plt.show()\n"
   ]
  },
  {
   "cell_type": "code",
   "execution_count": 66,
   "metadata": {},
   "outputs": [],
   "source": [
    "def get_shuffled_labels(points1, points2):\n",
    "    combined_arr = np.concatenate((points1, points2), axis=0)\n",
    "    np.random.shuffle(combined_arr) # inplace shuffle\n",
    "    return np.split(combined_arr, [points1.shape[0]])"
   ]
  },
  {
   "cell_type": "code",
   "execution_count": 67,
   "metadata": {},
   "outputs": [
    {
     "name": "stdout",
     "output_type": "stream",
     "text": [
      "Source image: FV10__20190620_111343\n",
      "\n",
      "Running Monte-Carlo Simulation 0/20\n",
      "\n"
     ]
    },
    {
     "name": "stderr",
     "output_type": "stream",
     "text": [
      "100%|███████████████████████████████████████████| 98/98 [03:53<00:00,  2.38s/it]\n"
     ]
    },
    {
     "name": "stdout",
     "output_type": "stream",
     "text": [
      "\n",
      "Running Monte-Carlo Simulation 1/20\n",
      "\n"
     ]
    },
    {
     "name": "stderr",
     "output_type": "stream",
     "text": [
      "100%|███████████████████████████████████████████| 98/98 [03:43<00:00,  2.28s/it]\n"
     ]
    },
    {
     "name": "stdout",
     "output_type": "stream",
     "text": [
      "\n",
      "Running Monte-Carlo Simulation 2/20\n",
      "\n"
     ]
    },
    {
     "name": "stderr",
     "output_type": "stream",
     "text": [
      "100%|███████████████████████████████████████████| 98/98 [03:40<00:00,  2.25s/it]\n"
     ]
    },
    {
     "name": "stdout",
     "output_type": "stream",
     "text": [
      "\n",
      "Running Monte-Carlo Simulation 3/20\n",
      "\n"
     ]
    },
    {
     "name": "stderr",
     "output_type": "stream",
     "text": [
      "100%|███████████████████████████████████████████| 98/98 [03:38<00:00,  2.23s/it]\n"
     ]
    },
    {
     "name": "stdout",
     "output_type": "stream",
     "text": [
      "\n",
      "Running Monte-Carlo Simulation 4/20\n",
      "\n"
     ]
    },
    {
     "name": "stderr",
     "output_type": "stream",
     "text": [
      "100%|███████████████████████████████████████████| 98/98 [03:40<00:00,  2.25s/it]\n"
     ]
    },
    {
     "name": "stdout",
     "output_type": "stream",
     "text": [
      "\n",
      "Running Monte-Carlo Simulation 5/20\n",
      "\n"
     ]
    },
    {
     "name": "stderr",
     "output_type": "stream",
     "text": [
      "100%|███████████████████████████████████████████| 98/98 [03:45<00:00,  2.30s/it]\n"
     ]
    },
    {
     "name": "stdout",
     "output_type": "stream",
     "text": [
      "\n",
      "Running Monte-Carlo Simulation 6/20\n",
      "\n"
     ]
    },
    {
     "name": "stderr",
     "output_type": "stream",
     "text": [
      "100%|███████████████████████████████████████████| 98/98 [03:40<00:00,  2.25s/it]\n"
     ]
    },
    {
     "name": "stdout",
     "output_type": "stream",
     "text": [
      "\n",
      "Running Monte-Carlo Simulation 7/20\n",
      "\n"
     ]
    },
    {
     "name": "stderr",
     "output_type": "stream",
     "text": [
      "100%|███████████████████████████████████████████| 98/98 [03:42<00:00,  2.27s/it]\n"
     ]
    },
    {
     "name": "stdout",
     "output_type": "stream",
     "text": [
      "\n",
      "Running Monte-Carlo Simulation 8/20\n",
      "\n"
     ]
    },
    {
     "name": "stderr",
     "output_type": "stream",
     "text": [
      "100%|███████████████████████████████████████████| 98/98 [03:43<00:00,  2.28s/it]\n"
     ]
    },
    {
     "name": "stdout",
     "output_type": "stream",
     "text": [
      "\n",
      "Running Monte-Carlo Simulation 9/20\n",
      "\n"
     ]
    },
    {
     "name": "stderr",
     "output_type": "stream",
     "text": [
      "100%|███████████████████████████████████████████| 98/98 [03:44<00:00,  2.29s/it]\n"
     ]
    },
    {
     "name": "stdout",
     "output_type": "stream",
     "text": [
      "\n",
      "Running Monte-Carlo Simulation 10/20\n",
      "\n"
     ]
    },
    {
     "name": "stderr",
     "output_type": "stream",
     "text": [
      "100%|███████████████████████████████████████████| 98/98 [03:41<00:00,  2.26s/it]\n"
     ]
    },
    {
     "name": "stdout",
     "output_type": "stream",
     "text": [
      "\n",
      "Running Monte-Carlo Simulation 11/20\n",
      "\n"
     ]
    },
    {
     "name": "stderr",
     "output_type": "stream",
     "text": [
      "100%|███████████████████████████████████████████| 98/98 [03:47<00:00,  2.32s/it]\n"
     ]
    },
    {
     "name": "stdout",
     "output_type": "stream",
     "text": [
      "\n",
      "Running Monte-Carlo Simulation 12/20\n",
      "\n"
     ]
    },
    {
     "name": "stderr",
     "output_type": "stream",
     "text": [
      "100%|███████████████████████████████████████████| 98/98 [03:39<00:00,  2.24s/it]\n"
     ]
    },
    {
     "name": "stdout",
     "output_type": "stream",
     "text": [
      "\n",
      "Running Monte-Carlo Simulation 13/20\n",
      "\n"
     ]
    },
    {
     "name": "stderr",
     "output_type": "stream",
     "text": [
      "100%|███████████████████████████████████████████| 98/98 [03:44<00:00,  2.30s/it]\n"
     ]
    },
    {
     "name": "stdout",
     "output_type": "stream",
     "text": [
      "\n",
      "Running Monte-Carlo Simulation 14/20\n",
      "\n"
     ]
    },
    {
     "name": "stderr",
     "output_type": "stream",
     "text": [
      "100%|███████████████████████████████████████████| 98/98 [03:40<00:00,  2.25s/it]\n"
     ]
    },
    {
     "name": "stdout",
     "output_type": "stream",
     "text": [
      "\n",
      "Running Monte-Carlo Simulation 15/20\n",
      "\n"
     ]
    },
    {
     "name": "stderr",
     "output_type": "stream",
     "text": [
      "100%|███████████████████████████████████████████| 98/98 [03:42<00:00,  2.27s/it]\n"
     ]
    },
    {
     "name": "stdout",
     "output_type": "stream",
     "text": [
      "\n",
      "Running Monte-Carlo Simulation 16/20\n",
      "\n"
     ]
    },
    {
     "name": "stderr",
     "output_type": "stream",
     "text": [
      "100%|███████████████████████████████████████████| 98/98 [03:42<00:00,  2.27s/it]\n"
     ]
    },
    {
     "name": "stdout",
     "output_type": "stream",
     "text": [
      "\n",
      "Running Monte-Carlo Simulation 17/20\n",
      "\n"
     ]
    },
    {
     "name": "stderr",
     "output_type": "stream",
     "text": [
      "100%|███████████████████████████████████████████| 98/98 [03:36<00:00,  2.21s/it]\n"
     ]
    },
    {
     "name": "stdout",
     "output_type": "stream",
     "text": [
      "\n",
      "Running Monte-Carlo Simulation 18/20\n",
      "\n"
     ]
    },
    {
     "name": "stderr",
     "output_type": "stream",
     "text": [
      "100%|███████████████████████████████████████████| 98/98 [03:39<00:00,  2.24s/it]\n"
     ]
    },
    {
     "name": "stdout",
     "output_type": "stream",
     "text": [
      "\n",
      "Running Monte-Carlo Simulation 19/20\n",
      "\n"
     ]
    },
    {
     "name": "stderr",
     "output_type": "stream",
     "text": [
      "100%|███████████████████████████████████████████| 98/98 [03:40<00:00,  2.25s/it]\n"
     ]
    }
   ],
   "source": [
    "random_tvc_tumor_data_w = []\n",
    "\n",
    "n_samples = 20\n",
    "tumor_radii = np.arange(2, 100)\n",
    "print(f\"Source image: {filename}\")\n",
    "for n in range(n_samples):\n",
    "    print(f\"\\nRunning Monte-Carlo Simulation {n}/{n_samples}\\n\")\n",
    "    random_tumor_points, random_tvc_points = get_shuffled_labels(tumor_points, tvc_points)\n",
    "\n",
    "    ripley_w = CrossRipley(random_tumor_points, random_tvc_points, tvc_tumor_radii, mask, boundary_correction=True)\n",
    "\n",
    "    # Sort by radii\n",
    "    K_w, L_w, H_w = map(sorted, ripley_w.run_ripley(60))\n",
    "\n",
    "    # # Organize into list of [Radius, K, L, H, Type] \n",
    "    random_tvc_tumor_data_w += [(k[0], k[1], l[1], h[1], \"Tumor\", n) for k, l, h in zip(K_w, L_w, H_w)]\n",
    "\n",
    "random_tvc_tumor_rstats_w = pd.DataFrame(random_tvc_tumor_data_w, columns=[\"Radius (r)\", \"K(r)\", \"L(r)\", \"H(r)\", \"Type\", \"Line\"])\n",
    "\n",
    "random_tvc_tumor_rstats_w.to_csv(f\"/home/dkermany/ripley_results/{filename}_random_tvc_rstats_w.csv\")"
   ]
  },
  {
   "cell_type": "code",
   "execution_count": 68,
   "metadata": {
    "scrolled": true
   },
   "outputs": [
    {
     "data": {
      "application/vnd.jupyter.widget-view+json": {
       "model_id": "6ab98dca8ead4851b5b6ff2e732879d7",
       "version_major": 2,
       "version_minor": 0
      },
      "image/png": "[encoded data removed]",
      "text/html": [
       "\n",
       "            <div style=\"display: inline-block;\">\n",
       "                <div class=\"jupyter-widgets widget-label\" style=\"text-align: center;\">\n",
       "                    Figure\n",
       "                </div>\n",
       "                <img src='data:image/png;base64,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' width=640.0/>\n",
       "            </div>\n",
       "        "
      ],
      "text/plain": [
       "Canvas(toolbar=Toolbar(toolitems=[('Home', 'Reset original view', 'home', 'home'), ('Back', 'Back to previous …"
      ]
     },
     "metadata": {},
     "output_type": "display_data"
    }
   ],
   "source": [
    "f, axes = plt.subplots(2, 3,)\n",
    "\n",
    "## Top Row\n",
    "# K\n",
    "# sns.lineplot(data=cross_tumor_rstats, x=\"Radius (r)\", y=\"K(r)\", ax=axes[0, 0])\n",
    "# sns.lineplot(data=random_cross_tumor_rstats, x=\"Radius (r)\", y=\"K(r)\", ax=axes[0, 0], alpha=0, errorbar=(\"pi\", 95))\n",
    "# L\n",
    "# sns.lineplot(data=cross_tumor_rstats, x=\"Radius (r)\", y=\"L(r)\", ax=axes[0, 1])\n",
    "# sns.lineplot(data=random_cross_tumor_rstats, x=\"Radius (r)\", y=\"L(r)\", ax=axes[0, 1], alpha=0, errorbar=(\"pi\", 95))\n",
    "axes[0, 1].plot([0, 100], [0, 100], linewidth=1, linestyle=\"dotted\", color=\"#aaa\") # Expected line\n",
    "# H\n",
    "# sns.lineplot(data=cross_tumor_rstats, x=\"Radius (r)\", y=\"H(r)\", ax=axes[0, 2])\n",
    "# sns.lineplot(data=random_cross_tumor_rstats, x=\"Radius (r)\", y=\"H(r)\", ax=axes[0, 2], alpha=0, errorbar=(\"pi\", 95))\n",
    "axes[0, 2].plot([0, 100], [0, 0], linewidth=1, linestyle=\"dotted\", color=\"#aaa\") # Expected line\n",
    "\n",
    "## Bottom Row - Boundary Corrected\n",
    "# K\n",
    "sns.lineplot(data=tvc_tumor_rstats_w, x=\"Radius (r)\", y=\"K(r)\", ax=axes[1, 0])\n",
    "sns.lineplot(data=random_tvc_tumor_rstats_w, x=\"Radius (r)\", y=\"K(r)\", ax=axes[1, 0], alpha=0, errorbar=(\"pi\", 95))\n",
    "# L\n",
    "sns.lineplot(data=tvc_tumor_rstats_w, x=\"Radius (r)\", y=\"L(r)\", ax=axes[1, 1])\n",
    "sns.lineplot(data=random_tvc_tumor_rstats_w, x=\"Radius (r)\", y=\"L(r)\", ax=axes[1, 1], alpha=0, errorbar=(\"pi\", 95))\n",
    "axes[1, 1].plot([0, 100], [0, 100], linewidth=1, linestyle=\"dotted\", color=\"#aaa\") # Expected line\n",
    "# H\n",
    "sns.lineplot(data=tvc_tumor_rstats_w, x=\"Radius (r)\", y=\"H(r)\", ax=axes[1, 2])\n",
    "sns.lineplot(data=random_tvc_tumor_rstats_w, x=\"Radius (r)\", y=\"H(r)\", ax=axes[1, 2], alpha=0, errorbar=(\"pi\", 95))\n",
    "axes[1, 2].plot([0, 100], [0, 0], linewidth=1, linestyle=\"dotted\", color=\"#aaa\") # Expected line\n",
    "\n",
    "plt.show()"
   ]
  },
  {
   "cell_type": "code",
   "execution_count": null,
   "metadata": {},
   "outputs": [],
   "source": []
  },
  {
   "cell_type": "code",
   "execution_count": null,
   "metadata": {},
   "outputs": [],
   "source": []
  },
  {
   "cell_type": "code",
   "execution_count": null,
   "metadata": {},
   "outputs": [],
   "source": []
  }
 ],
 "metadata": {
  "kernelspec": {
   "display_name": "BoneSegmentationEnv",
   "language": "python",
   "name": "bonesegmentationenv"
  },
  "language_info": {
   "codemirror_mode": {
    "name": "ipython",
    "version": 3
   },
   "file_extension": ".py",
   "mimetype": "text/x-python",
   "name": "python",
   "nbconvert_exporter": "python",
   "pygments_lexer": "ipython3",
   "version": "3.9.13"
  },
  "vscode": {
   "interpreter": {
    "hash": "16b8ebbebbd8eef9429a70fe83ccde4952691352fef003457d81796bc4b46f60"
   }
  }
 },
 "nbformat": 4,
 "nbformat_minor": 4
}
