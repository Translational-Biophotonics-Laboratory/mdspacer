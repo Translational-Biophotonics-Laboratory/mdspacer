{
 "cells": [
  {
   "cell_type": "code",
   "execution_count": null,
   "metadata": {},
   "outputs": [],
   "source": [
    "%matplotlib widget\n",
    "import numpy as np\n",
    "np.random.seed(69420)\n",
    "import seaborn as sns\n",
    "import pandas as pd\n",
    "from scipy import spatial, stats\n",
    "from functools import reduce\n",
    "import matplotlib.pyplot as plt\n",
    "import nrrd\n",
    "import pytest\n",
    "import ipytest\n",
    "ipytest.autoconfig(raise_on_error=True)\n",
    "import raster_geometry as rg"
   ]
  },
  {
   "cell_type": "code",
   "execution_count": null,
   "metadata": {},
   "outputs": [],
   "source": [
    "def euclidean_distance(point1, point2):\n",
    "    return np.linalg.norm(point1-point2)"
   ]
  },
  {
   "cell_type": "code",
   "execution_count": null,
   "metadata": {},
   "outputs": [],
   "source": [
    "test_random_points = stats.uniform.rvs(0, 100, (100,3))\n",
    "print(test_random_points)\n",
    "# N = random_points.shape[0]\n"
   ]
  },
  {
   "cell_type": "code",
   "execution_count": null,
   "metadata": {},
   "outputs": [],
   "source": [
    "# Test distance function\n",
    "print(euclidean_distance(np.array((10,10,10)),np.array((0,0,0))))"
   ]
  },
  {
   "cell_type": "code",
   "execution_count": null,
   "metadata": {
    "scrolled": true
   },
   "outputs": [],
   "source": [
    "def set_aspect_ratio_equal(ax) -> None:\n",
    "    xlim = ax.get_xlim3d()\n",
    "    ylim = ax.get_ylim3d()\n",
    "    zlim = ax.get_zlim3d()\n",
    "    ax.set_box_aspect((xlim[1]-xlim[0], ylim[1]-ylim[0], zlim[1]-zlim[0]))"
   ]
  },
  {
   "cell_type": "code",
   "execution_count": null,
   "metadata": {},
   "outputs": [],
   "source": [
    "def calculate_weight(shape, radius, midpoint):\n",
    "    ### Calculate proportion of sphere within study volume\n",
    "    # check that radius is smaller than half of the smallest dimension\n",
    "    assert radius <= min(shape) / 2\n",
    "    assert radius > 0\n",
    "\n",
    "    # determine center of study volume\n",
    "    center = (shape[0]//2, shape[1]//2, shape[2]//2)\n",
    "\n",
    "    # draw target sphere in numpy space at specified midpoint and reference sphere at middle of volume\n",
    "    target = rg.nd_superellipsoid(shape, radius, position=midpoint, rel_sizes=False, rel_position=False)\n",
    "    reference = rg.nd_superellipsoid(shape, radius, position=center, rel_sizes=False, rel_position=False)\n",
    "\n",
    "    # calculate proportion of volumes to determine weight\n",
    "    target = target.astype(np.int_).sum()\n",
    "    reference = reference.astype(np.int_).sum()\n",
    "    return target / reference"
   ]
  },
  {
   "cell_type": "code",
   "execution_count": null,
   "metadata": {},
   "outputs": [],
   "source": [
    "%prun calculate_weight((100,100,100), 7, (2,2,2))"
   ]
  },
  {
   "cell_type": "code",
   "execution_count": null,
   "metadata": {},
   "outputs": [],
   "source": [
    "# Test sphere drawing\n",
    "def draw_sphere(shape, radius, center) -> np.ndarray:\n",
    "    sphere = rg.nd_superellipsoid(shape, radius, position=center, rel_sizes=False, rel_position=False)\n",
    "    return sphere.astype(np.int_)\n",
    "\n",
    "container_shape = (100, 100, 100)\n",
    "radius = 7\n",
    "center = (2, 2, 2)\n",
    "\n",
    "# print(calculate_weight(container_shape, radius, center))\n",
    "test_sphere = draw_sphere(container_shape, radius, center)\n",
    "\n",
    "from mpl_toolkits.mplot3d import Axes3D\n",
    "z,x,y = test_sphere.nonzero()\n",
    "fig = plt.figure()\n",
    "ax = fig.add_subplot(111, projection='3d')\n",
    "set_aspect_ratio_equal(ax)\n",
    "ax.axes.set_xlim3d(left=0, right=container_shape[1]) \n",
    "ax.axes.set_ylim3d(bottom=0, top=container_shape[2]) \n",
    "ax.axes.set_zlim3d(bottom=0, top=container_shape[0]) \n",
    "ax.scatter(x, y, z, zdir='z', c= 'red')\n",
    "plt.show()"
   ]
  },
  {
   "cell_type": "code",
   "execution_count": null,
   "metadata": {},
   "outputs": [],
   "source": [
    "x_min = 0; x_max = 100\n",
    "y_min = 0; y_max = 100\n",
    "z_min = 0; z_max = 100\n",
    "total_volume = (x_max - x_min)*(y_max - y_min)*(z_max - z_min)"
   ]
  },
  {
   "cell_type": "code",
   "execution_count": null,
   "metadata": {},
   "outputs": [],
   "source": [
    "# Currently using x_max-x_min as maximum radius, by convention it should be sqrt(x_max-x_min/2)\n",
    "radii = np.linspace(0,x_max-x_min,50).reshape(50,1)"
   ]
  },
  {
   "cell_type": "code",
   "execution_count": null,
   "metadata": {},
   "outputs": [],
   "source": [
    "test_tree = spatial.cKDTree(test_random_points)\n",
    "idx_in = test_tree.query_ball_point((50,50,50),20)\n",
    "\n",
    "idx_out = np.ones(len(test_random_points), bool)\n",
    "idx_out[idx_in] = 0\n",
    "\n",
    "pts_inside_radius = test_random_points[idx_in]\n",
    "pts_outside_radius = test_random_points[idx_out]\n",
    "\n",
    "print(len(test_random_points), len(pts_inside_radius), len(pts_outside_radius))"
   ]
  },
  {
   "cell_type": "code",
   "execution_count": null,
   "metadata": {},
   "outputs": [],
   "source": [
    "ix, ox = pts_inside_radius[:, 0], pts_outside_radius[:, 0]\n",
    "iy, oy = pts_inside_radius[:, 1], pts_outside_radius[:, 1]\n",
    "iz, oz = pts_inside_radius[:, 2], pts_outside_radius[:, 2]\n",
    "\n",
    "fig = plt.figure()\n",
    "ax = fig.add_subplot(projection='3d')\n",
    "set_aspect_ratio_equal(ax)\n",
    "ax.scatter(ix,iy,iz, color=\"b\",marker=\"o\", depthshade=0)\n",
    "ax.scatter(ox,oy,oz,color=\"r\",marker=\"o\", depthshade=1)\n",
    "\n",
    "\n",
    "scale = 20\n",
    "# draw sphere\n",
    "u, v = np.mgrid[0:2*np.pi:20j, 0:np.pi:10j]\n",
    "cx = scale*np.cos(u)*np.sin(v)+50\n",
    "cy = scale*np.sin(u)*np.sin(v)+50\n",
    "cz = scale*np.cos(v)+50\n",
    "ax.plot_wireframe(cx, cy, cz, color=\"gray\", alpha=0.3)\n"
   ]
  },
  {
   "cell_type": "code",
   "execution_count": null,
   "metadata": {},
   "outputs": [],
   "source": [
    "# For this rectangular test case, volume_mask is just an array of ones\n",
    "volume = 100*100*100\n",
    "volume_mask = np.ones((100, 100, 100))\n",
    "volume_shape = volume_mask.shape\n",
    "\n",
    "print(volume)\n",
    "print(volume_mask.sum())"
   ]
  },
  {
   "cell_type": "markdown",
   "metadata": {},
   "source": [
    "Ripley's K Estimators\n",
    "\n",
    "![equation](http://www.sciweavers.org/tex2img.php?eq=%5Cwidehat%7BK%7D%28r%29%3D%20%5Cfrac%7BV%7D%7BN%28N-1%29%7D%20%5Csum_i%5EN%20%5Csum_%7Bj%20%5Cneq%20i%7D%5EN%20%20%5Cfrac%7BI%28d_%7Bi%2Cj%7D%3Cr%29%7D%7B%5Comega_%7Bi%2Cj%7D%7D%20%20%20%20%20&bc=White&fc=Black&im=jpg&fs=18&ff=arev&edit=0)\n",
    "\n",
    "![equation](http://www.sciweavers.org/tex2img.php?eq=%5Cwidehat%7BL%7D%28r%29%3D%20%20%20%5Csqrt%5B3%5D%7B%5Cfrac%7B3%20%20%5Cwidehat%7BK%7D%28r%29%7D%7B4%5Cpi%7D%7D&bc=White&fc=Black&im=jpg&fs=18&ff=arev&edit=0)\n",
    "\n",
    "![equation](http://www.sciweavers.org/tex2img.php?eq=%5Cwidehat%7BH%7D%28r%29%3D%5Cwidehat%7BL%7D%28r%29-r&bc=White&fc=Black&im=jpg&fs=12&ff=arev&edit=0)"
   ]
  },
  {
   "cell_type": "code",
   "execution_count": null,
   "metadata": {},
   "outputs": [],
   "source": [
    "def ripley(points: np.ndarray, radii: list, volume_shape: tuple, boundary_correction: bool = True) -> tuple:\n",
    "    \"\"\"\n",
    "    Calculate RipleyK spatial statistic on 3D point cloud\n",
    "\n",
    "    args:\n",
    "        points (numpy.ndarray): shape (N, 3), where N is the number of points\n",
    "        radii (list[int]): list of radii to compute\n",
    "        volume_shape (tuple[int]): shape of the entire study volume. Example: (100,100,100)\n",
    "\n",
    "    \"\"\"\n",
    "    ### Function starts with input checks\n",
    "\n",
    "    # Check if points is a list or numpy array\n",
    "    if not isinstance(points, (list, np.ndarray)):\n",
    "        e = f\"Expected {np.ndarray}, received {type(points)}\"\n",
    "        raise ValueError(e)\n",
    "\n",
    "    # Convert points to numpy array if it is a list\n",
    "    if not isinstance(points, np.ndarray):\n",
    "        points = np.array(points)\n",
    "\n",
    "    # Check if points array has two dimensions\n",
    "    if len(points.shape) != 2:\n",
    "        e = f\"Expected points array to have 2 dimensions, but got array with shape {points.shape}\"\n",
    "        raise ValueError(e)\n",
    "\n",
    "    # Check if the points array second dimension length is 3 (x, y, z)\n",
    "    if points.shape[1] != 3:\n",
    "        e = f\"Expected points array to have shape (None, 3), but got array with shape {points.shape}\"\n",
    "        raise ValueError(e)\n",
    "\n",
    "    # Check if the points array has at least 3 points\n",
    "    if points.shape[0] < 3:\n",
    "        e = f\"Expected points array to have at least 3 points\"\n",
    "        raise ValueError(e)\n",
    "\n",
    "    # Check if radii is list-like or number-like\n",
    "    if not isinstance(radii, (np.ndarray, list, int, float)):\n",
    "        e = f\"Expected {(np.ndarray, list, int, float)}, received {type(radii)}\"\n",
    "        raise ValueError(e)\n",
    "\n",
    "    # if only one radius given as int, convert to list\n",
    "    if not isinstance(radii, (np.ndarray, list)):\n",
    "        radii = [radii]\n",
    "\n",
    "    ### Compute Ripley's K Statistic \n",
    "    \n",
    "    results = {\"K\": [], \"L\": [], \"H\": []}\n",
    "    tree = spatial.cKDTree(points)\n",
    "    N = points.shape[0]\n",
    "    study_volume = reduce(lambda x, y: x * y, volume_shape)\n",
    "\n",
    "    # Loop through each radius\n",
    "    for radius in radii:\n",
    "        # For each radius, loop through each point and count points\n",
    "        # within the radius\n",
    "        nb_count = 0\n",
    "        for x, y, z in points:\n",
    "            # TODO: doublecheck that the z,x,y ordering is correct and properly aligns with mask\n",
    "            if boundary_correction:\n",
    "                weight = calculate_weight(volume_shape, radius, (z, x, y))\n",
    "            else:\n",
    "                weight = 1.0\n",
    "            # query_ball_point() includes the index of the current point as well\n",
    "            # so 1 is subtracted from the count\n",
    "            nb_count += (len(tree.query_ball_point([x, y, z], radius)) - 1) / weight\n",
    "\n",
    "        # calculating 3D Ripley's functions (K, L, H)\n",
    "        K = nb_count * study_volume / (N * (N - 1))\n",
    "        L = ((3. / 4) * (K / np.pi)) ** (1. / 3)\n",
    "        H = L - radius\n",
    "\n",
    "        # Verify K/L values positive\n",
    "        if K < 0 or L < 0:\n",
    "            raise ValueError(f\"K/L values should not be negative. nb_count: {nb_count}, volume: {volume}, N: {N}\")\n",
    "\n",
    "        results[\"K\"].append(K)\n",
    "        results[\"L\"].append(L)\n",
    "        results[\"H\"].append(H)\n",
    "    \n",
    "    return results[\"K\"], results[\"L\"], results[\"H\"]\n",
    "\n",
    "\n"
   ]
  },
  {
   "cell_type": "code",
   "execution_count": null,
   "metadata": {},
   "outputs": [],
   "source": [
    "a = volume_mask.shape\n",
    "\n",
    "\n"
   ]
  },
  {
   "cell_type": "markdown",
   "metadata": {},
   "source": [
    "### Complete Spatial Randomness (CSR) Representations"
   ]
  },
  {
   "cell_type": "code",
   "execution_count": null,
   "metadata": {},
   "outputs": [],
   "source": [
    "CSR_data = []\n",
    "CSR_data_w = []\n",
    "radii=np.arange(1, 51)\n",
    "for i in range(5):\n",
    "    print(i)\n",
    "    CSR_points = stats.uniform.rvs(0, 100, (100,3))\n",
    "    K, L, H = ripley(CSR_points, radii, volume_shape, boundary_correction=False)\n",
    "    K_w, L_w, H_w = ripley(CSR_points, radii, volume_shape, boundary_correction=True)\n",
    "    CSR_data += zip(radii, K, L, H, [\"CSR\"]*len(radii), [i]*len(radii))\n",
    "    CSR_data_w += zip(radii, K_w, L_w, H_w, [\"CSR\"]*len(radii), [i]*len(radii))\n",
    "rstats = pd.DataFrame(CSR_data, columns=[\"Radius (r)\", \"K(r)\", \"L(r)\", \"H(r)\", \"Type\", \"Line\"])\n",
    "rstats_w = pd.DataFrame(CSR_data_w, columns=[\"Radius (r)\", \"K(r)\", \"L(r)\", \"H(r)\", \"Type\", \"Line\"])\n",
    "\n"
   ]
  },
  {
   "cell_type": "code",
   "execution_count": null,
   "metadata": {},
   "outputs": [],
   "source": [
    "f, axes = plt.subplots(2, 3,)\n",
    "\n",
    "## Top Row\n",
    "# K\n",
    "sns.lineplot(data=rstats, x=\"Radius (r)\", y=\"K(r)\", ax=axes[0, 0], hue=\"Line\")\n",
    "# L\n",
    "sns.lineplot(data=rstats, x=\"Radius (r)\", y=\"L(r)\", ax=axes[0, 1], hue=\"Line\")\n",
    "axes[0, 1].plot([0, 50], [0, 50], linewidth=1, linestyle=\"dotted\", color=\"#aaa\") # Expected line\n",
    "# H\n",
    "sns.lineplot(data=rstats, x=\"Radius (r)\", y=\"H(r)\", ax=axes[0, 2], hue=\"Line\")\n",
    "axes[0, 2].plot([0, 50], [0, 0], linewidth=1, linestyle=\"dotted\", color=\"#aaa\") # Expected line\n",
    "\n",
    "## Bottom Row\n",
    "# K\n",
    "sns.lineplot(data=rstats, x=\"Radius (r)\", y=\"K(r)\", ax=axes[1, 0], alpha=0, errorbar=(\"pi\", 95))\n",
    "# L\n",
    "sns.lineplot(data=rstats, x=\"Radius (r)\", y=\"L(r)\", ax=axes[1, 1], alpha=0, errorbar=(\"pi\", 95))\n",
    "axes[1, 1].plot([0, 50], [0, 50], linewidth=1, linestyle=\"dotted\", color=\"#aaa\") # Expected line\n",
    "# H\n",
    "sns.lineplot(data=rstats, x=\"Radius (r)\", y=\"H(r)\", ax=axes[1, 2], alpha=0, errorbar=(\"pi\", 95))\n",
    "axes[1, 2].plot([0, 50], [0, 0], linewidth=1, linestyle=\"dotted\", color=\"#aaa\") # Expected line\n",
    "\n",
    "plt.show()\n",
    "\n"
   ]
  },
  {
   "cell_type": "code",
   "execution_count": null,
   "metadata": {},
   "outputs": [],
   "source": [
    "f, axes = plt.subplots(2, 3,)\n",
    "\n",
    "## Top Row\n",
    "# K\n",
    "sns.lineplot(data=rstats_w, x=\"Radius (r)\", y=\"K(r)\", ax=axes[0, 0], hue=\"Line\")\n",
    "# L\n",
    "sns.lineplot(data=rstats_w, x=\"Radius (r)\", y=\"L(r)\", ax=axes[0, 1], hue=\"Line\")\n",
    "axes[0, 1].plot([0, 50], [0, 50], linewidth=1, linestyle=\"dotted\", color=\"#aaa\") # Expected line\n",
    "# H\n",
    "sns.lineplot(data=rstats_w, x=\"Radius (r)\", y=\"H(r)\", ax=axes[0, 2], hue=\"Line\")\n",
    "axes[0, 2].plot([0, 50], [0, 0], linewidth=1, linestyle=\"dotted\", color=\"#aaa\") # Expected line\n",
    "\n",
    "## Bottom Row\n",
    "# K\n",
    "sns.lineplot(data=rstats_w, x=\"Radius (r)\", y=\"K(r)\", ax=axes[1, 0], alpha=0, errorbar=(\"pi\", 95))\n",
    "# L\n",
    "sns.lineplot(data=rstats_w, x=\"Radius (r)\", y=\"L(r)\", ax=axes[1, 1], alpha=0, errorbar=(\"pi\", 95))\n",
    "axes[1, 1].plot([0, 50], [0, 50], linewidth=1, linestyle=\"dotted\", color=\"#aaa\") # Expected line\n",
    "# H\n",
    "sns.lineplot(data=rstats_w, x=\"Radius (r)\", y=\"H(r)\", ax=axes[1, 2], alpha=0, errorbar=(\"pi\", 95))\n",
    "axes[1, 2].plot([0, 50], [0, 0], linewidth=1, linestyle=\"dotted\", color=\"#aaa\") # Expected line\n",
    "\n",
    "plt.show()"
   ]
  },
  {
   "cell_type": "code",
   "execution_count": null,
   "metadata": {},
   "outputs": [],
   "source": [
    "%%ipytest\n",
    "\n",
    "# Tests\n",
    "def test_valid_input():\n",
    "    valid_points = [\n",
    "        np.array([[38.4002419, 38.62931512, 41.6131775], [38, 38, 41], [1, 6, 8]]),\n",
    "        np.array([[38, 38, 41], [1, 2, 3], [20, 20, 20]]),\n",
    "        [[38.4002419, 38.62931512, 41.6131775], [3.4002419, 8.62931512, 1.6131775], [8.4002419, 3.62931512, 4.6131775]],\n",
    "        [[38, 38, 41], [1, 2, 3], [4, 5, 6]],\n",
    "    ]\n",
    "    for p in valid_points:\n",
    "        ripley(p, radii=1, volume=100*100*100)\n",
    "\n",
    "def test_invalid_input():\n",
    "    invalid_points = [\n",
    "        np.array([[38.4002419, 38.62931512, 41.6131775]]),\n",
    "        np.array([[38, 38, 41], [1, 2, 3]]),\n",
    "        [[38.4002419, 38.62931512, 41.6131775]],\n",
    "        [[38, 38, 41], [1, 2, 3]],\n",
    "        \"38.4002419, 38.62931512, 41.6131775\",\n",
    "        np.array([38.4002419, 38.62931512, 41.6131775]),\n",
    "        np.array([[[38.4002419, 38.62931512, 41.6131775]]]),\n",
    "        np.array([[38.4002419, 38.62931512]]),\n",
    "        5,\n",
    "        7.8,\n",
    "        [6],\n",
    "    ]\n",
    "    for p in invalid_points:\n",
    "        with pytest.raises(ValueError):\n",
    "            ripley(p, radii=1, volume=100*100*100)\n"
   ]
  },
  {
   "cell_type": "code",
   "execution_count": null,
   "metadata": {},
   "outputs": [],
   "source": [
    "mask_path = \"D:\\\\Datasets\\\\Bone_Mets\\\\masks\\\\FV10__20190620_111343.seg.nrrd\"\n",
    "\n",
    "# Load mask from NRRD\n",
    "mask, header = nrrd.read(mask_path)\n",
    "mask = mask.T\n",
    "mask = mask[:mask.shape[0]//3, :, :]\n",
    "\n",
    "print(mask.shape)\n",
    "print(mask.dtype)\n",
    "\n"
   ]
  },
  {
   "cell_type": "code",
   "execution_count": null,
   "metadata": {},
   "outputs": [],
   "source": [
    "tumor_csv_path = \"/home/dkermany/data/Bone_Project/tumor_locations_09062022.csv\"\n",
    "# Load csv and drop rows with N/A's\n",
    "tumor_csv = pd.read_csv(tumor_csv_path).dropna()\n",
    "tumor_csv"
   ]
  },
  {
   "cell_type": "code",
   "execution_count": null,
   "metadata": {},
   "outputs": [],
   "source": []
  },
  {
   "cell_type": "code",
   "execution_count": null,
   "metadata": {},
   "outputs": [],
   "source": []
  },
  {
   "cell_type": "code",
   "execution_count": null,
   "metadata": {},
   "outputs": [],
   "source": []
  },
  {
   "cell_type": "code",
   "execution_count": null,
   "metadata": {},
   "outputs": [],
   "source": []
  },
  {
   "cell_type": "code",
   "execution_count": null,
   "metadata": {},
   "outputs": [],
   "source": [
    "\n",
    "\n"
   ]
  },
  {
   "cell_type": "code",
   "execution_count": null,
   "metadata": {},
   "outputs": [],
   "source": [
    "def calculate_ripley(radii, sample_size, d1=None, d2=None, d3=None, sample_shape='circle', boundary_correct=False, CSR_Normalise=False):\n",
    "    results = []\n",
    "    tree, dimensions = make_tree(d1=d1, d2=d2, d3=d3)\n",
    "    if type(radii) is not list:\n",
    "        radii = [radii]\n",
    "    for radius in radii:\n",
    "        \n",
    "        score_vol = (4/3) * np.pi * radius**3\n",
    "        \n",
    "        if sample_shape=='circle':\n",
    "            bound_size = (4/3) * np.pi * sample_size ** 3\n",
    "        elif sample_shape=='rectangle':\n",
    "            bound_size = sample_size[0]*sample_size[1]*sample_size[2]\n",
    "        counts = 0\n",
    "        for x, y, z in zip(d1, d2, d3):\n",
    "            if boundary_correct:\n",
    "                vol = calculate_overlap([x,y,z], sample_size, radius, sample_shape, dimensions)\n",
    "                boundary_correction = vol/score_vol\n",
    "                counts += (len(tree.query_ball_point([x,y,z], radius))-1)/boundary_correction\n",
    "            else:\n",
    "                counts += len(tree.query_ball_point([x,y,z], radius))-1\n",
    "                    \n",
    "        if CSR_Normalise:\n",
    "            results.append((bound_size*counts/len(d1)**2) - score_vol)\n",
    "        else:\n",
    "            results.append(bound_size*counts/len(d1)**2)\n",
    "    if len(results)==1:\n",
    "        return results[0]\n",
    "    else:\n",
    "        return results"
   ]
  },
  {
   "cell_type": "code",
   "execution_count": null,
   "metadata": {},
   "outputs": [],
   "source": [
    "# def draw_sphere(arr: np.ndarray, radius: int, coords: list):\n",
    "#     x_min, x_max = max(coords[0] - radius, 0), min(coords[0] + radius, arr.shape[0])\n",
    "#     y_min, y_max = max(coords[1] - radius, 0), min(coords[1] + radius, arr.shape[1])\n",
    "#     z_min, z_max = max(coords[2] - radius, 0), min(coords[2] + radius, arr.shape[2])\n",
    "#     arr_overlap = [(max(coords[i] - radius, 0), min(coords[i] + radius, arr.shape[i])) for i in range(len(coords))]\n",
    "\n",
    "#     kernel_size = (2 * radius) + 1\n",
    "#     sphere_kernel = rg.sphere(kernel_size, r).astype(np.int_)\n",
    "\n",
    "#     low_indices = [coords[i] - radius if coords[i] - radius > 0 else 0 for i in range(len(coords))]\n",
    "#     high_indices =\n",
    "\n",
    "#     idx_low = coords[0] - radius if coords[0] - radius > 0 else 0\n",
    "#     idx_high = coords[0] + radius if coords[0] + radius >= arr.shape[0] else arr.shape[0]\n",
    "\n",
    "#     if idx_low < 0:\n",
    "#         sphere_kernel = sphere_kernel[abs(idx_low):, :, :]\n",
    "#     if idx_high >= arr.shape[0]:\n",
    "#         deltaX = arr.shape[0] - idx_high\n",
    "#         assert deltaX < 0\n",
    "#         sphere_kernel = sphere_kernel[:deltaX, :, :]\n",
    "\n",
    "\n",
    "#     return arr[x_min: x_max + 1,\n",
    "#                y_min: y_max + 1,\n",
    "#                z_min: z_max + 1]\n",
    "    \n",
    "    \n",
    "# test_vol = np.zeros((10,10,10))\n",
    "# a = draw_sphere(test_vol, 1, (0,0,0))   \n",
    "# print(a.shape)\n",
    "# print(a)"
   ]
  }
 ],
 "metadata": {
  "kernelspec": {
   "display_name": "BoneSegEnv",
   "language": "python",
   "name": "bonesegenv"
  },
  "language_info": {
   "codemirror_mode": {
    "name": "ipython",
    "version": 3
   },
   "file_extension": ".py",
   "mimetype": "text/x-python",
   "name": "python",
   "nbconvert_exporter": "python",
   "pygments_lexer": "ipython3",
   "version": "3.9.13"
  },
  "vscode": {
   "interpreter": {
    "hash": "16b8ebbebbd8eef9429a70fe83ccde4952691352fef003457d81796bc4b46f60"
   }
  }
 },
 "nbformat": 4,
 "nbformat_minor": 4
}
