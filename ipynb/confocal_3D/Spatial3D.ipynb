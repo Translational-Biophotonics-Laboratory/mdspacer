{
 "cells": [
  {
   "cell_type": "code",
   "execution_count": 1,
   "metadata": {},
   "outputs": [],
   "source": [
    "%matplotlib widget\n",
    "%load_ext line_profiler\n",
    "import numpy as np\n",
    "\n",
    "import seaborn as sns\n",
    "import pandas as pd\n",
    "from scipy import spatial, stats\n",
    "from functools import reduce\n",
    "from tqdm import tqdm\n",
    "from collections import defaultdict\n",
    "import matplotlib.pyplot as plt\n",
    "import nrrd\n",
    "import pytest\n",
    "import multiprocessing as mp\n",
    "import raster_geometry as rg\n",
    "import sys\n",
    "import os\n",
    "import cv2\n",
    "sys.path.append(\"C:\\\\Users\\\\danie\\\\BoneSegmentation\")\n",
    "\n",
    "from oiffile import OifFile\n",
    "from src.OifImageViewer import OifImageViewer"
   ]
  },
  {
   "cell_type": "code",
   "execution_count": 2,
   "metadata": {},
   "outputs": [],
   "source": [
    "def euclidean_distance(point1, point2):\n",
    "    \"\"\"\n",
    "    Calculate the Euclidean distance between two points.\n",
    "\n",
    "    Args:\n",
    "    point1 (array-like): An array-like object representing the first point.\n",
    "    point2 (array-like): An array-like object representing the second point.\n",
    "\n",
    "    Returns:\n",
    "    float: The Euclidean distance between the two points.\n",
    "    \"\"\"\n",
    "    # Use NumPy's linalg.norm function to calculate the Euclidean distance\n",
    "    return np.linalg.norm(point1-point2)"
   ]
  },
  {
   "cell_type": "markdown",
   "metadata": {},
   "source": []
  },
  {
   "cell_type": "code",
   "execution_count": 3,
   "metadata": {},
   "outputs": [
    {
     "name": "stdout",
     "output_type": "stream",
     "text": [
      "[[7.80401469e+00 4.92847297e+01 1.50958832e+01]\n",
      " [5.87808786e+01 7.30933410e+01 6.32929264e+01]\n",
      " [8.50014173e+01 5.67250127e+01 5.21649768e+01]\n",
      " [1.60549761e+00 6.24868679e+01 4.93433898e+01]\n",
      " [9.24053993e+01 2.17114029e+01 1.59257234e+01]\n",
      " [7.55382991e+01 4.57186090e+01 3.81883597e+01]\n",
      " [9.97672297e+01 5.21609729e+01 7.22795429e+01]\n",
      " [5.70017714e+01 7.01937609e+01 3.74529302e+01]\n",
      " [2.18145312e+01 4.95611226e+01 1.69169191e+01]\n",
      " [5.23163610e+01 6.68875533e+01 7.88267300e+01]\n",
      " [7.30871085e+01 6.79670481e+01 9.28033535e+01]\n",
      " [5.97982745e+01 3.55091001e+01 9.73212200e+01]\n",
      " [2.96721042e+01 3.63475080e+01 7.58148983e+01]\n",
      " [7.86266671e+01 5.69896397e+01 4.72042682e+01]\n",
      " [3.46825442e+01 7.25961124e+01 5.54819483e+00]\n",
      " [1.84221365e+01 8.69759929e+01 2.84893396e+01]\n",
      " [2.61579027e+01 1.75884044e+01 6.69939014e+01]\n",
      " [4.74403943e+01 6.95211490e+01 5.64138636e+01]\n",
      " [5.55117121e+01 2.00261571e+01 9.11718289e+01]\n",
      " [2.58975760e+01 6.95921278e+01 1.29942173e+00]\n",
      " [2.22009950e-01 3.28283848e+01 7.24514309e+01]\n",
      " [3.05269829e+01 7.98737764e+01 9.15539664e+01]\n",
      " [6.62129719e+01 4.32542755e+01 2.09943770e+01]\n",
      " [2.83812024e+01 5.47950174e+01 1.59113828e+00]\n",
      " [2.83403854e+00 6.53865774e+01 2.02373333e+01]\n",
      " [2.34284141e+01 4.03997527e+01 2.25727517e+01]\n",
      " [8.49053158e+01 5.33442696e+01 6.14316456e-01]\n",
      " [3.40403965e+01 9.20023694e+01 9.55538255e+01]\n",
      " [3.56346856e+01 1.74363362e+01 1.25336851e+01]\n",
      " [9.38289777e+01 8.15221903e+01 5.00025902e+01]\n",
      " [7.75458489e-01 4.01604982e+01 8.07919960e+01]\n",
      " [4.25237460e+01 6.77273539e+01 5.12754713e+01]\n",
      " [3.54645645e-01 7.40979417e+01 9.34535454e+01]\n",
      " [2.03128220e+01 4.34924582e+00 4.22297275e+01]\n",
      " [3.41606632e+01 9.47277203e+01 7.89518496e+01]\n",
      " [5.25349156e+01 9.59725015e+01 2.10070888e+01]\n",
      " [3.03528087e+01 1.03215538e+01 7.78626759e+01]\n",
      " [9.25915313e+01 7.42158924e+00 7.72552985e-03]\n",
      " [4.90508207e+01 1.76615944e+01 5.26351483e+01]\n",
      " [6.09546376e+01 7.92390384e-01 6.53963069e+01]\n",
      " [2.19794989e+01 6.84243829e+01 9.21499719e+01]\n",
      " [6.80619910e+00 4.40830787e+00 7.11667945e-01]\n",
      " [4.03752552e+01 6.62808173e+01 2.85882429e+01]\n",
      " [6.66317164e+01 4.25051452e+01 7.36778212e+01]\n",
      " [1.90515510e+01 5.21167047e+01 1.62241446e+00]\n",
      " [8.40456224e+01 4.76512593e+01 3.13801123e+01]\n",
      " [4.26645702e+01 5.08333874e+01 4.42528919e+01]\n",
      " [2.10730680e+00 3.53326721e+01 7.64155957e+01]\n",
      " [9.72525708e+01 7.51830559e+01 2.84509197e+01]\n",
      " [5.58090298e+01 3.53871081e+00 4.86779395e+01]\n",
      " [1.68553311e+01 3.79121676e+01 1.58885981e+00]\n",
      " [4.58927371e+01 4.80901572e+01 2.77263305e+01]\n",
      " [9.02543436e+01 9.44532122e+01 6.37333045e+01]\n",
      " [9.22353445e+01 7.22010552e+01 5.99852613e+01]\n",
      " [9.50150209e+01 3.01991200e+01 7.47372853e+01]\n",
      " [6.19646324e+00 5.08749455e+01 4.35052087e+01]\n",
      " [6.45310642e+01 8.98683756e+01 7.15388314e+01]\n",
      " [1.95900371e+01 8.81424802e+01 4.64409536e+01]\n",
      " [2.72714177e+01 8.74034904e+01 2.15505355e+01]\n",
      " [8.69719011e+01 4.49305481e+01 5.75156793e+00]\n",
      " [3.32765584e+01 5.48806079e+01 7.75281509e+01]\n",
      " [5.59549014e+01 6.85879678e+01 1.72885333e+01]\n",
      " [6.66590815e+01 2.81392843e+01 3.63632365e+01]\n",
      " [3.77425869e+01 7.37508744e+01 7.00877438e+01]\n",
      " [8.55431300e+01 2.65864615e+00 9.12718554e+01]\n",
      " [2.67889557e+01 1.57429194e+01 7.61181582e+01]\n",
      " [9.96350036e+01 3.83353459e-01 8.51038251e+01]\n",
      " [8.79143817e+01 7.99245516e+01 3.29721099e+01]\n",
      " [6.99184710e+01 8.14208109e+01 2.68220434e+01]\n",
      " [5.16414403e+01 5.43119095e+01 8.17064996e+01]\n",
      " [9.44724227e+01 6.62754077e+01 6.03256598e+00]\n",
      " [3.39390351e+00 4.57579405e+01 2.43335235e+01]\n",
      " [4.60614944e+01 9.77181925e+01 5.34142774e+01]\n",
      " [2.65421294e+01 5.27916583e+01 3.00763383e+01]\n",
      " [7.30445763e+01 6.07914932e+01 7.86207478e+00]\n",
      " [2.61274184e+01 7.18539479e+01 5.50977673e+01]\n",
      " [3.89064684e+01 8.08101429e+01 6.98692413e+01]\n",
      " [8.22660462e+01 6.37025570e+01 2.65241182e+01]\n",
      " [3.37440501e+01 9.42456408e+01 8.41875666e+00]\n",
      " [8.74091651e+01 7.01847048e+01 2.05724331e+00]\n",
      " [7.24411628e+01 8.83356558e+01 8.98874220e+01]\n",
      " [6.72447398e+00 8.25870631e+01 8.36481058e+01]\n",
      " [8.22488065e+01 8.96522362e+01 4.37204349e+01]\n",
      " [9.57596298e+01 1.56593358e+01 8.95007972e+01]\n",
      " [2.56558700e+01 6.99439825e+00 9.51112209e+01]\n",
      " [6.63423357e+01 2.53909114e+01 2.68083461e+01]\n",
      " [1.12204073e+00 6.32302662e+01 1.54179521e+01]\n",
      " [8.67578362e+00 7.55572440e+01 2.33950038e+01]\n",
      " [9.31852616e+01 9.38452100e+01 3.82774318e+01]\n",
      " [6.62136759e+01 5.90613051e+01 7.94530711e+01]\n",
      " [2.22370002e+01 8.66099802e+01 7.68132349e+01]\n",
      " [7.37961064e+01 6.00483696e+01 6.47997397e+00]\n",
      " [8.25379674e+01 7.90818010e+01 3.45462840e+00]\n",
      " [7.02516078e+01 1.68449679e+01 2.03883247e+01]\n",
      " [8.36348136e+01 4.96115742e+01 8.27881040e+01]\n",
      " [5.67802424e+01 3.89965697e+01 4.27841618e+01]\n",
      " [3.48998741e+01 2.28322657e+01 8.36924829e+01]\n",
      " [3.06193171e+01 2.58000678e+00 9.85320444e+01]\n",
      " [9.92513621e+01 6.35421157e+01 5.07521007e+01]\n",
      " [6.40812325e+01 6.64667804e+01 6.73745046e+01]]\n",
      "float64\n"
     ]
    }
   ],
   "source": [
    "test_random_points = stats.uniform.rvs(0, 100, (100,3))\n",
    "print(test_random_points)\n",
    "print(test_random_points.dtype)\n",
    "# N = random_points.shape[0]\n"
   ]
  },
  {
   "cell_type": "code",
   "execution_count": 4,
   "metadata": {},
   "outputs": [
    {
     "name": "stdout",
     "output_type": "stream",
     "text": [
      "17.320508075688775\n"
     ]
    }
   ],
   "source": [
    "# Test distance function\n",
    "print(euclidean_distance(np.array((10,10,10)),np.array((0,0,0))))"
   ]
  },
  {
   "cell_type": "code",
   "execution_count": 5,
   "metadata": {
    "scrolled": true
   },
   "outputs": [],
   "source": [
    "def set_aspect_ratio_equal(ax) -> None:\n",
    "    xlim = ax.get_xlim3d()\n",
    "    ylim = ax.get_ylim3d()\n",
    "    zlim = ax.get_zlim3d()\n",
    "    ax.set_box_aspect((xlim[1]-xlim[0], ylim[1]-ylim[0], zlim[1]-zlim[0]))"
   ]
  },
  {
   "attachments": {},
   "cell_type": "markdown",
   "metadata": {},
   "source": [
    "Draw sphere in a given volume\n",
    "<a id='draw_sphere_in_volume'></a><br>\n",
    "[Go to tumor function call](#tumor_ripley)"
   ]
  },
  {
   "cell_type": "code",
   "execution_count": 6,
   "metadata": {},
   "outputs": [],
   "source": [
    "def draw_sphere_in_volume(volume: np.ndarray, radius: int, position: tuple) -> None:\n",
    "    \"\"\"\n",
    "    Draw a sphere in a given 3D NumPy array at a specified position.\n",
    "\n",
    "    Args:\n",
    "    volume (numpy.ndarray): The 3D NumPy array in which the sphere will be drawn.\n",
    "    radius (int): The radius of the sphere.\n",
    "    position (tuple): A 3-tuple containing the z, y, x coordinates of the position in the array where the sphere will be drawn.\n",
    "\n",
    "    Returns:\n",
    "    None\n",
    "    \"\"\"\n",
    "    # Create an empty 3D NumPy array with dimensions equal to twice the radius plus one\n",
    "    size = 2 * (radius + 1)\n",
    "\n",
    "    # Calculate the midpoint of the sphere unit array\n",
    "    midpoint = [size / 2] * 3\n",
    "\n",
    "    # Generate a unit sphere using the rg library's superellipsoid function\n",
    "    sphere = rg.nd_superellipsoid(size, radius, position=midpoint,\n",
    "                                  rel_sizes=False, rel_position=False).astype(np.int_)\n",
    "\n",
    "    # Extract the z, y, x coordinates of the position where the sphere will be drawn\n",
    "    z, y, x = map(round, position)\n",
    "\n",
    "    # Calculate the delta change needed to center the sphere at the specified position\n",
    "    d = (size//2)\n",
    "\n",
    "    # Calculate the minimum and maximum indices for the z, y, x axes of the volume array\n",
    "    # print(position, radius, x-d, x+d, max(x - d, 0), min(x + d, volume.shape[2]))\n",
    "    zmin, zmax = max(z - d, 0), min(z + d, volume.shape[0])\n",
    "    ymin, ymax = max(y - d, 0), min(y + d, volume.shape[1])\n",
    "    xmin, xmax = max(x - d, 0), min(x + d, volume.shape[2])\n",
    "\n",
    "    # Calculate the minimum indices for the z, y, x axes of the sphere array\n",
    "    szmin = abs(z - d) if z - d < 0 else 0\n",
    "    symin = abs(y - d) if y - d < 0 else 0\n",
    "    sxmin = abs(x - d) if x - d < 0 else 0\n",
    "\n",
    "    # Calculate the amount to cut off of the ends of the z, y, x axes of the sphere array\n",
    "    szmax = abs(volume.shape[0] - (z + d)) if z + d > volume.shape[0] else 0\n",
    "    symax = abs(volume.shape[1] - (y + d)) if y + d > volume.shape[1] else 0\n",
    "    sxmax = abs(volume.shape[2] - (x + d)) if x + d > volume.shape[2] else 0\n",
    "\n",
    "    # Trim the sphere array to fit within the trimmed volume array\n",
    "    sphere = sphere[szmin:sphere.shape[0]-szmax, symin:sphere.shape[1]-symax, sxmin:sphere.shape[2]-sxmax]\n",
    "\n",
    "    # Place the sphere within the larger volume array at the specified position\n",
    "    volume[zmin:zmax, ymin:ymax, xmin:xmax] = sphere"
   ]
  },
  {
   "cell_type": "code",
   "execution_count": 7,
   "metadata": {},
   "outputs": [],
   "source": [
    "def calculate_weight(shape, radius, center):\n",
    "    \"\"\"\n",
    "    Calculate the proportion of a sphere within a study volume.\n",
    "\n",
    "    Args:\n",
    "    shape (tuple): A 3-tuple containing the dimensions of the study volume.\n",
    "    radius (int): The radius of the sphere.\n",
    "    center (tuple): A 3-tuple containing the z, y, x coordinates of the center of the sphere.\n",
    "\n",
    "    Returns:\n",
    "    float: The proportion of the sphere within the study volume.\n",
    "    \"\"\"\n",
    "    # Ensure that the radius is greater than zero\n",
    "    assert radius > 0\n",
    "\n",
    "    # Draw the target sphere in a 3D NumPy array at the specified position\n",
    "    target = np.zeros(shape)\n",
    "    draw_sphere_in_volume(target, radius, center)\n",
    "\n",
    "    # Calculate the sum (volume) of the target and reference sphere arrays\n",
    "    target = target.sum()\n",
    "\n",
    "    # Reference is calculated instead of simulated for speed increase\n",
    "    reference = (4 / 3) * np.pi * (radius ** 3)\n",
    "\n",
    "    # Ensure that the reference sphere has a non-zero volume\n",
    "    assert reference > 0\n",
    "\n",
    "    # Return the proportion of the sphere within the study volume\n",
    "    # Since target volume is estimated whereas reference volume is calculated,\n",
    "    # there is a small but noticable margin of error when radius < 10, there\n",
    "    # we set maxiumum value of 1.0\n",
    "    return min(target / reference, 1.0)"
   ]
  },
  {
   "cell_type": "code",
   "execution_count": 8,
   "metadata": {},
   "outputs": [],
   "source": [
    "# %lprun -f calculate_weight calculate_weight((100,100,100), 30, (20,20,20))"
   ]
  },
  {
   "cell_type": "code",
   "execution_count": 9,
   "metadata": {},
   "outputs": [],
   "source": [
    "# # Test sphere drawing\n",
    "# def draw_sphere(shape, radius, center) -> np.ndarray:\n",
    "#     sphere = rg.nd_superellipsoid(shape, radius, position=center, rel_sizes=False, rel_position=False)\n",
    "#     return sphere.astype(np.int_)\n",
    "\n",
    "# container_shape = (100, 100, 100)\n",
    "# radius = 7\n",
    "# center = (2, 2, 2)\n",
    "\n",
    "# # print(calculate_weight(container_shape, radius, center))\n",
    "# test_sphere = draw_sphere(container_shape, radius, center)\n",
    "\n",
    "# from mpl_toolkits.mplot3d import Axes3D\n",
    "# z,x,y = test_sphere.nonzero()\n",
    "# fig = plt.figure()\n",
    "# ax = fig.add_subplot(111, projection='3d')\n",
    "# set_aspect_ratio_equal(ax)\n",
    "# ax.axes.set_xlim3d(left=0, right=container_shape[1]) \n",
    "# ax.axes.set_ylim3d(bottom=0, top=container_shape[2]) \n",
    "# ax.axes.set_zlim3d(bottom=0, top=container_shape[0]) \n",
    "# ax.scatter(x, y, z, zdir='z', c= 'red')\n",
    "# plt.show()"
   ]
  },
  {
   "cell_type": "code",
   "execution_count": 10,
   "metadata": {},
   "outputs": [],
   "source": [
    "x_min = 0; x_max = 100\n",
    "y_min = 0; y_max = 100\n",
    "z_min = 0; z_max = 100\n",
    "total_volume = (x_max - x_min)*(y_max - y_min)*(z_max - z_min)"
   ]
  },
  {
   "cell_type": "code",
   "execution_count": 11,
   "metadata": {},
   "outputs": [],
   "source": [
    "# Currently using x_max-x_min as maximum radius, by convention it should be sqrt(x_max-x_min/2)\n",
    "radii = np.linspace(0,x_max-x_min,50).reshape(50,1)"
   ]
  },
  {
   "cell_type": "code",
   "execution_count": 12,
   "metadata": {},
   "outputs": [
    {
     "name": "stdout",
     "output_type": "stream",
     "text": [
      "100 3 97\n"
     ]
    }
   ],
   "source": [
    "test_tree = spatial.cKDTree(test_random_points)\n",
    "idx_in = test_tree.query_ball_point((50,50,50),20)\n",
    "\n",
    "idx_out = np.ones(len(test_random_points), bool)\n",
    "idx_out[idx_in] = 0\n",
    "\n",
    "pts_inside_radius = test_random_points[idx_in]\n",
    "pts_outside_radius = test_random_points[idx_out]\n",
    "\n",
    "print(len(test_random_points), len(pts_inside_radius), len(pts_outside_radius))"
   ]
  },
  {
   "cell_type": "code",
   "execution_count": 13,
   "metadata": {},
   "outputs": [
    {
     "data": {
      "text/plain": [
       "<mpl_toolkits.mplot3d.art3d.Line3DCollection at 0x7f986c476c10>"
      ]
     },
     "execution_count": 13,
     "metadata": {},
     "output_type": "execute_result"
    },
    {
     "data": {
      "application/vnd.jupyter.widget-view+json": {
       "model_id": "e8a16035fdff4c9c82e88521a2d99bbb",
       "version_major": 2,
       "version_minor": 0
      },
      "image/png": "[encoded data removed]",
      "text/html": [
       "\n",
       "            <div style=\"display: inline-block;\">\n",
       "                <div class=\"jupyter-widgets widget-label\" style=\"text-align: center;\">\n",
       "                    Figure\n",
       "                </div>\n",
       "                <img src='data:image/png;base64,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' width=640.0/>\n",
       "            </div>\n",
       "        "
      ],
      "text/plain": [
       "Canvas(toolbar=Toolbar(toolitems=[('Home', 'Reset original view', 'home', 'home'), ('Back', 'Back to previous …"
      ]
     },
     "metadata": {},
     "output_type": "display_data"
    }
   ],
   "source": [
    "ix, ox = pts_inside_radius[:, 0], pts_outside_radius[:, 0]\n",
    "iy, oy = pts_inside_radius[:, 1], pts_outside_radius[:, 1]\n",
    "iz, oz = pts_inside_radius[:, 2], pts_outside_radius[:, 2]\n",
    "\n",
    "fig = plt.figure()\n",
    "ax = fig.add_subplot(projection='3d')\n",
    "set_aspect_ratio_equal(ax)\n",
    "ax.scatter(ix,iy,iz, color=\"b\",marker=\"o\", depthshade=0)\n",
    "ax.scatter(ox,oy,oz,color=\"r\",marker=\"o\", depthshade=1)\n",
    "\n",
    "\n",
    "scale = 20\n",
    "# draw sphere\n",
    "u, v = np.mgrid[0:2*np.pi:20j, 0:np.pi:10j]\n",
    "cx = scale*np.cos(u)*np.sin(v)+50\n",
    "cy = scale*np.sin(u)*np.sin(v)+50\n",
    "cz = scale*np.cos(v)+50\n",
    "ax.plot_wireframe(cx, cy, cz, color=\"gray\", alpha=0.3)\n"
   ]
  },
  {
   "cell_type": "code",
   "execution_count": null,
   "metadata": {},
   "outputs": [],
   "source": []
  },
  {
   "cell_type": "code",
   "execution_count": null,
   "metadata": {},
   "outputs": [],
   "source": []
  },
  {
   "cell_type": "code",
   "execution_count": 14,
   "metadata": {},
   "outputs": [
    {
     "name": "stdout",
     "output_type": "stream",
     "text": [
      "1000000\n",
      "1000000.0\n"
     ]
    }
   ],
   "source": [
    "# For this rectangular test case, volume_mask is just an array of ones\n",
    "volume = 100*100*100\n",
    "volume_mask = np.ones((100, 100, 100))\n",
    "volume_shape = volume_mask.shape\n",
    "\n",
    "print(volume)\n",
    "print(volume_mask.sum())"
   ]
  },
  {
   "cell_type": "markdown",
   "metadata": {},
   "source": [
    "Ripley's K Estimators\n",
    "\n",
    "![equation](http://www.sciweavers.org/tex2img.php?eq=%5Cwidehat%7BK%7D%28r%29%3D%20%5Cfrac%7BV%7D%7BN%28N-1%29%7D%20%5Csum_i%5EN%20%5Csum_%7Bj%20%5Cneq%20i%7D%5EN%20%20%5Cfrac%7BI%28d_%7Bi%2Cj%7D%3Cr%29%7D%7B%5Comega_%7Bi%2Cj%7D%7D%20%20%20%20%20&bc=White&fc=Black&im=jpg&fs=18&ff=arev&edit=0)\n",
    "\n",
    "![equation](http://www.sciweavers.org/tex2img.php?eq=%5Cwidehat%7BL%7D%28r%29%3D%20%20%20%5Csqrt%5B3%5D%7B%5Cfrac%7B3%20%20%5Cwidehat%7BK%7D%28r%29%7D%7B4%5Cpi%7D%7D&bc=White&fc=Black&im=jpg&fs=18&ff=arev&edit=0)\n",
    "\n",
    "![equation](http://www.sciweavers.org/tex2img.php?eq=%5Cwidehat%7BH%7D%28r%29%3D%5Cwidehat%7BL%7D%28r%29-r&bc=White&fc=Black&im=jpg&fs=12&ff=arev&edit=0)"
   ]
  },
  {
   "cell_type": "code",
   "execution_count": 15,
   "metadata": {},
   "outputs": [],
   "source": [
    "## Sequential Ripley\n",
    "def sequential_ripley(points: np.ndarray, radii: list, volume_shape: tuple, boundary_correction: bool = True) -> tuple:\n",
    "    \"\"\"\n",
    "    Calculate RipleyK spatial statistic on 3D point cloud\n",
    "\n",
    "    args:\n",
    "        points (numpy.ndarray): shape (N, 3), where N is the number of points\n",
    "        radii (list[int]): list of radii to compute\n",
    "        volume_shape (tuple[int]): shape of the entire study volume. Example: (100,100,100)\n",
    "\n",
    "    \"\"\"\n",
    "    ### Function starts with input checks\n",
    "\n",
    "    # Check if points is a list or numpy array\n",
    "    if not isinstance(points, (list, np.ndarray)):\n",
    "        e = f\"Expected {np.ndarray}, received {type(points)}\"\n",
    "        raise ValueError(e)\n",
    "\n",
    "    # Convert points to numpy array if it is a list\n",
    "    if not isinstance(points, np.ndarray):\n",
    "        points = np.array(points)\n",
    "\n",
    "    # Check if points array has two dimensions\n",
    "    if len(points.shape) != 2:\n",
    "        e = f\"Expected points array to have 2 dimensions, but got array with shape {points.shape}\"\n",
    "        raise ValueError(e)\n",
    "\n",
    "    # Check if the points array second dimension length is 3 (x, y, z)\n",
    "    if points.shape[1] != 3:\n",
    "        e = f\"Expected points array to have shape (None, 3), but got array with shape {points.shape}\"\n",
    "        raise ValueError(e)\n",
    "\n",
    "    # Check if the points array has at least 3 points\n",
    "    if points.shape[0] < 3:\n",
    "        e = f\"Expected points array to have at least 3 points\"\n",
    "        raise ValueError(e)\n",
    "\n",
    "    # Check if radii is list-like or number-like\n",
    "    if not isinstance(radii, (np.ndarray, list, int, float)):\n",
    "        e = f\"Expected {(np.ndarray, list, int, float)}, received {type(radii)}\"\n",
    "        raise ValueError(e)\n",
    "\n",
    "    # if only one radius given as int, convert to list\n",
    "    if not isinstance(radii, (np.ndarray, list)):\n",
    "        radii = [radii]\n",
    "\n",
    "    ### Compute Ripley's K Statistic \n",
    "    \n",
    "    results = {\"K\": [], \"L\": [], \"H\": []}\n",
    "    tree = spatial.cKDTree(points)\n",
    "    N = points.shape[0]\n",
    "    study_volume = reduce(lambda x, y: x * y, volume_shape)\n",
    "\n",
    "    # Loop through each radius\n",
    "    for radius in tqdm(radii):\n",
    "        # For each radius, loop through each point and count points\n",
    "        # within the radius\n",
    "        nb_count = 0\n",
    "        for z, y, x in points:\n",
    "            # TODO: doublecheck that the z,x,y ordering is correct and properly aligns with mask\n",
    "            if boundary_correction:\n",
    "                weight = calculate_weight(volume_shape, radius, (z, y, x))\n",
    "                # If weight is zero (i.e. target sphere not in mask), move on\n",
    "                if weight == 0:\n",
    "                    continue\n",
    "            else:\n",
    "                weight = 1.0\n",
    "            # query_ball_point() includes the index of the current point as well\n",
    "            # so 1 is subtracted from the count\n",
    "            \n",
    "            nb_count += (len(tree.query_ball_point([z, y, x], radius)) - 1) / weight\n",
    "\n",
    "\n",
    "        # calculating 3D Ripley's functions (K, L, H)\n",
    "        K = nb_count * study_volume / (N * (N - 1))\n",
    "        L = ((3. / 4) * (K / np.pi)) ** (1. / 3)\n",
    "        H = L - radius\n",
    "\n",
    "        # Verify K/L values positive\n",
    "        if K < 0 or L < 0:\n",
    "            raise ValueError(f\"K/L values should not be negative. nb_count: {nb_count}, volume: {volume}, N: {N}\")\n",
    "\n",
    "        results[\"K\"].append(K)\n",
    "        results[\"L\"].append(L)\n",
    "        results[\"H\"].append(H)\n",
    "    \n",
    "    return results[\"K\"], results[\"L\"], results[\"H\"]\n"
   ]
  },
  {
   "cell_type": "code",
   "execution_count": 19,
   "metadata": {},
   "outputs": [],
   "source": [
    "def calc_ripley(results, radius, points, study_volume, tree, boundary_correction):\n",
    "    # For each radius, loop through each point and count points\n",
    "    # within the radius\n",
    "    nb_count = 0\n",
    "    for z, y, x in points:\n",
    "        # TODO: doublecheck that the z,x,y ordering is correct and properly aligns with mask\n",
    "        if boundary_correction:\n",
    "            weight = calculate_weight(volume_shape, radius, (z, y, x))\n",
    "            # If weight is zero (i.e. target sphere not in mask), move on\n",
    "            if weight == 0:\n",
    "                continue\n",
    "        else:\n",
    "            weight = 1.0\n",
    "        # query_ball_point() includes the index of the current point as well\n",
    "        # so 1 is subtracted from the count\n",
    "        \n",
    "        nb_count += (len(tree.query_ball_point([z, y, x], radius)) - 1) / weight\n",
    "\n",
    "\n",
    "    # calculating 3D Ripley's functions (K, L, H)\n",
    "    N = points.shape[0]\n",
    "    K = nb_count * study_volume / (N * (N - 1))\n",
    "    L = ((3. / 4) * (K / np.pi)) ** (1. / 3)\n",
    "    H = L - radius\n",
    "    \n",
    "    # Verify K/L values positive\n",
    "    if K < 0 or L < 0:\n",
    "        raise ValueError(f\"K/L values should not be negative. nb_count: {nb_count}, volume: {volume}, N: {N}\")\n",
    "\n",
    "    # results[\"K\"][str(radius)].append(K)\n",
    "    # results[\"L\"][str(radius)].append(L)\n",
    "    # results[\"H\"][str(radius)].append(H)\n",
    "    return K, L, H\n",
    "\n",
    "def ripley(points: np.ndarray, radii: list, volume_shape: tuple, boundary_correction: bool = True) -> tuple:\n",
    "    \"\"\"\n",
    "    Calculate RipleyK spatial statistic on 3D point cloud\n",
    "\n",
    "    args:\n",
    "        points (numpy.ndarray): shape (N, 3), where N is the number of points\n",
    "        radii (list[int]): list of radii to compute\n",
    "        volume_shape (tuple[int]): shape of the entire study volume. Example: (100,100,100)\n",
    "\n",
    "    \"\"\"\n",
    "    ### Function starts with input checks\n",
    "\n",
    "    # Check if points is a list or numpy array\n",
    "    if not isinstance(points, (list, np.ndarray)):\n",
    "        e = f\"Expected {np.ndarray}, received {type(points)}\"\n",
    "        raise ValueError(e)\n",
    "\n",
    "    # Convert points to numpy array if it is a list\n",
    "    if not isinstance(points, np.ndarray):\n",
    "        points = np.array(points)\n",
    "\n",
    "    # Check if points array has two dimensions\n",
    "    if len(points.shape) != 2:\n",
    "        e = f\"Expected points array to have 2 dimensions, but got array with shape {points.shape}\"\n",
    "        raise ValueError(e)\n",
    "\n",
    "    # Check if the points array second dimension length is 3 (x, y, z)\n",
    "    if points.shape[1] != 3:\n",
    "        e = f\"Expected points array to have shape (None, 3), but got array with shape {points.shape}\"\n",
    "        raise ValueError(e)\n",
    "\n",
    "    # Check if the points array has at least 3 points\n",
    "    if points.shape[0] < 3:\n",
    "        e = f\"Expected points array to have at least 3 points\"\n",
    "        raise ValueError(e)\n",
    "\n",
    "    # Check if radii is list-like or number-like\n",
    "    if not isinstance(radii, (np.ndarray, list, int, float)):\n",
    "        e = f\"Expected {(np.ndarray, list, int, float)}, received {type(radii)}\"\n",
    "        raise ValueError(e)\n",
    "\n",
    "    # if only one radius given as int, convert to list\n",
    "    if not isinstance(radii, (np.ndarray, list)):\n",
    "        radii = [radii]\n",
    "\n",
    "    ### Compute Ripley's K Statistic \n",
    "    \n",
    "    results = {\"K\": [],\n",
    "               \"L\": [],\n",
    "               \"H\": []}\n",
    "\n",
    "    tree = spatial.cKDTree(points)\n",
    "    study_volume = reduce(lambda x, y: x * y, volume_shape)\n",
    "    \n",
    "    pool = mp.Pool(processes=32)\n",
    "\n",
    "    for radius in radii:\n",
    "        K, L, H = pool.apply(\n",
    "            calc_ripley,\n",
    "            args=(results, radius, points, study_volume, tree, boundary_correction)\n",
    "        )\n",
    "        results[\"K\"].append((radius, K))\n",
    "        results[\"L\"].append((radius, L))\n",
    "        results[\"H\"].append((radius, H))\n",
    "        \n",
    "    pool.close()\n",
    "    pool.join()\n",
    "    return results[\"K\"], results[\"L\"], results[\"H\"]\n",
    "\n",
    "\n"
   ]
  },
  {
   "cell_type": "code",
   "execution_count": null,
   "metadata": {},
   "outputs": [],
   "source": [
    "a = volume_mask.shape\n",
    "\n",
    "\n"
   ]
  },
  {
   "cell_type": "markdown",
   "metadata": {},
   "source": [
    "### Complete Spatial Randomness (CSR) Representations"
   ]
  },
  {
   "cell_type": "code",
   "execution_count": 20,
   "metadata": {},
   "outputs": [
    {
     "name": "stdout",
     "output_type": "stream",
     "text": [
      "0/5\n"
     ]
    },
    {
     "name": "stderr",
     "output_type": "stream",
     "text": [
      "100%|██████████████████████████████████████████████████████████████████████████| 20/20 [00:09<00:00,  2.02it/s]"
     ]
    },
    {
     "name": "stdout",
     "output_type": "stream",
     "text": [
      "CPU times: user 9.89 s, sys: 7.04 ms, total: 9.9 s\n",
      "Wall time: 9.9 s\n"
     ]
    },
    {
     "name": "stderr",
     "output_type": "stream",
     "text": [
      "\n"
     ]
    },
    {
     "name": "stdout",
     "output_type": "stream",
     "text": [
      "CPU times: user 41.6 ms, sys: 118 ms, total: 160 ms\n",
      "Wall time: 10.3 s\n"
     ]
    },
    {
     "data": {
      "text/html": [
       "<div>\n",
       "<style scoped>\n",
       "    .dataframe tbody tr th:only-of-type {\n",
       "        vertical-align: middle;\n",
       "    }\n",
       "\n",
       "    .dataframe tbody tr th {\n",
       "        vertical-align: top;\n",
       "    }\n",
       "\n",
       "    .dataframe thead th {\n",
       "        text-align: right;\n",
       "    }\n",
       "</style>\n",
       "<table border=\"1\" class=\"dataframe\">\n",
       "  <thead>\n",
       "    <tr style=\"text-align: right;\">\n",
       "      <th></th>\n",
       "      <th>Radius (r)</th>\n",
       "      <th>K(r)</th>\n",
       "      <th>L(r)</th>\n",
       "      <th>H(r)</th>\n",
       "      <th>Type</th>\n",
       "      <th>Line</th>\n",
       "    </tr>\n",
       "  </thead>\n",
       "  <tbody>\n",
       "  </tbody>\n",
       "</table>\n",
       "</div>"
      ],
      "text/plain": [
       "Empty DataFrame\n",
       "Columns: [Radius (r), K(r), L(r), H(r), Type, Line]\n",
       "Index: []"
      ]
     },
     "execution_count": 20,
     "metadata": {},
     "output_type": "execute_result"
    }
   ],
   "source": [
    "\n",
    "CSR_data = []\n",
    "CSR_data_w = []\n",
    "# Starting at 2 because radius of 1 causes errors at the boundaries\n",
    "# where sometimes the entire circle falls outside of study area\n",
    "# resulting in a weight of 0.0\n",
    "radii=np.arange(50, 70) \n",
    "n_samples = 5\n",
    "for i in range(n_samples):\n",
    "    print(f\"{i}/{n_samples}\")\n",
    "    np.random.seed(69420)\n",
    "    CSR_points = stats.uniform.rvs(0, 100, (100,3))\n",
    "    # K, L, H = ripley(CSR_points, radii, volume_shape, boundary_correction=False)\n",
    "    # K_w, L_w, H_w = ripley(CSR_points, radii, volume_shape, boundary_correction=True)\n",
    "    %time sequential_ripley(CSR_points, radii, volume_shape, boundary_correction=True)\n",
    "    %time ripley(CSR_points, radii, volume_shape, boundary_correction=True)\n",
    "    # print(K_w)\n",
    "    break\n",
    "    CSR_data += zip(radii, K, L, H, [\"CSR\"]*len(radii), [i]*len(radii))\n",
    "    CSR_data_w += zip(radii, K_w, L_w, H_w, [\"CSR\"]*len(radii), [i]*len(radii))\n",
    "rstats = pd.DataFrame(CSR_data, columns=[\"Radius (r)\", \"K(r)\", \"L(r)\", \"H(r)\", \"Type\", \"Line\"])\n",
    "rstats_w = pd.DataFrame(CSR_data_w, columns=[\"Radius (r)\", \"K(r)\", \"L(r)\", \"H(r)\", \"Type\", \"Line\"])\n",
    "rstats_w\n"
   ]
  },
  {
   "cell_type": "code",
   "execution_count": null,
   "metadata": {},
   "outputs": [],
   "source": []
  },
  {
   "cell_type": "code",
   "execution_count": null,
   "metadata": {},
   "outputs": [],
   "source": [
    "\n",
    "f, axes = plt.subplots(2, 3)\n",
    "\n",
    "## Top Row\n",
    "# K\n",
    "sns.lineplot(data=rstats, x=\"Radius (r)\", y=\"K(r)\", ax=axes[0, 0], hue=\"Line\")\n",
    "# L\n",
    "sns.lineplot(data=rstats, x=\"Radius (r)\", y=\"L(r)\", ax=axes[0, 1], hue=\"Line\")\n",
    "axes[0, 1].plot([0, 50], [0, 50], linewidth=1, linestyle=\"dotted\", color=\"#aaa\") # Expected line\n",
    "# H\n",
    "sns.lineplot(data=rstats, x=\"Radius (r)\", y=\"H(r)\", ax=axes[0, 2], hue=\"Line\")\n",
    "axes[0, 2].plot([0, 50], [0, 0], linewidth=1, linestyle=\"dotted\", color=\"#aaa\") # Expected line\n",
    "\n",
    "## Bottom Row\n",
    "# K\n",
    "sns.lineplot(data=rstats, x=\"Radius (r)\", y=\"K(r)\", ax=axes[1, 0], alpha=0, errorbar=(\"pi\", 95))\n",
    "# L\n",
    "sns.lineplot(data=rstats, x=\"Radius (r)\", y=\"L(r)\", ax=axes[1, 1], alpha=0, errorbar=(\"pi\", 95))\n",
    "axes[1, 1].plot([0, 50], [0, 50], linewidth=1, linestyle=\"dotted\", color=\"#aaa\") # Expected line\n",
    "# H\n",
    "sns.lineplot(data=rstats, x=\"Radius (r)\", y=\"H(r)\", ax=axes[1, 2], alpha=0, errorbar=(\"pi\", 95))\n",
    "axes[1, 2].plot([0, 50], [0, 0], linewidth=1, linestyle=\"dotted\", color=\"#aaa\") # Expected line\n",
    "\n",
    "plt.show()\n",
    "\n"
   ]
  },
  {
   "cell_type": "code",
   "execution_count": null,
   "metadata": {},
   "outputs": [],
   "source": [
    "f, axes = plt.subplots(2, 3,)\n",
    "\n",
    "## Top Row\n",
    "# K\n",
    "sns.lineplot(data=rstats_w, x=\"Radius (r)\", y=\"K(r)\", ax=axes[0, 0], hue=\"Line\")\n",
    "# L\n",
    "sns.lineplot(data=rstats_w, x=\"Radius (r)\", y=\"L(r)\", ax=axes[0, 1], hue=\"Line\")\n",
    "axes[0, 1].plot([0, 50], [0, 50], linewidth=1, linestyle=\"dotted\", color=\"#aaa\") # Expected line\n",
    "# H\n",
    "sns.lineplot(data=rstats_w, x=\"Radius (r)\", y=\"H(r)\", ax=axes[0, 2], hue=\"Line\")\n",
    "axes[0, 2].plot([0, 50], [0, 0], linewidth=1, linestyle=\"dotted\", color=\"#aaa\") # Expected line\n",
    "\n",
    "## Bottom Row\n",
    "# K\n",
    "sns.lineplot(data=rstats_w, x=\"Radius (r)\", y=\"K(r)\", ax=axes[1, 0], alpha=0, errorbar=(\"pi\", 95))\n",
    "# L\n",
    "sns.lineplot(data=rstats_w, x=\"Radius (r)\", y=\"L(r)\", ax=axes[1, 1], alpha=0, errorbar=(\"pi\", 95))\n",
    "axes[1, 1].plot([0, 50], [0, 50], linewidth=1, linestyle=\"dotted\", color=\"#aaa\") # Expected line\n",
    "# H\n",
    "sns.lineplot(data=rstats_w, x=\"Radius (r)\", y=\"H(r)\", ax=axes[1, 2], alpha=0, errorbar=(\"pi\", 95))\n",
    "axes[1, 2].plot([0, 50], [0, 0], linewidth=1, linestyle=\"dotted\", color=\"#aaa\") # Expected line\n",
    "\n",
    "plt.show()"
   ]
  },
  {
   "cell_type": "code",
   "execution_count": null,
   "metadata": {},
   "outputs": [],
   "source": [
    "import ipytest\n",
    "ipytest.autoconfig(raise_on_error=True)"
   ]
  },
  {
   "cell_type": "code",
   "execution_count": null,
   "metadata": {},
   "outputs": [],
   "source": [
    "%%ipytest -qq\n",
    "\n",
    "# Tests\n",
    "\n",
    "def test_valid_input():\n",
    "    valid_points = [\n",
    "        np.array([[38.4002419, 38.62931512, 41.6131775], [38, 38, 41], [1, 6, 8]]),\n",
    "        np.array([[38, 38, 41], [1, 2, 3], [20, 20, 20]]),\n",
    "        [[38.4002419, 38.62931512, 41.6131775], [3.4002419, 8.62931512, 1.6131775], [8.4002419, 3.62931512, 4.6131775]],\n",
    "        [[38, 38, 41], [1, 2, 3], [4, 5, 6]],\n",
    "    ]\n",
    "    for p in valid_points:\n",
    "        ripley(p, radii=1, volume_shape=(100,100,100))\n",
    "\n",
    "def test_invalid_input():\n",
    "    invalid_points = [\n",
    "        np.array([[38.4002419, 38.62931512, 41.6131775]]),\n",
    "        np.array([[38, 38, 41], [1, 2, 3]]),\n",
    "        [[38.4002419, 38.62931512, 41.6131775]],\n",
    "        [[38, 38, 41], [1, 2, 3]],\n",
    "        \"38.4002419, 38.62931512, 41.6131775\",\n",
    "        np.array([38.4002419, 38.62931512, 41.6131775]),\n",
    "        np.array([[[38.4002419, 38.62931512, 41.6131775]]]),\n",
    "        np.array([[38.4002419, 38.62931512]]),\n",
    "        5,\n",
    "        7.8,\n",
    "        [6],\n",
    "    ]\n",
    "    for p in invalid_points:\n",
    "        with pytest.raises(ValueError):\n",
    "            ripley(p, radii=1, volume_shape=(100,100,100))\n"
   ]
  },
  {
   "cell_type": "code",
   "execution_count": null,
   "metadata": {},
   "outputs": [],
   "source": [
    "path = \"/home/dkermany/data/Bone_Project/weijie_selected/main_folder/FV10__oibs/FV10__20190620_111343.oib\"\n",
    "# path = \"D:\\\\Datasets\\\\Bone_Mets\\\\FV10__oibs\\\\FV10__20190620_111343.oib\"\n",
    "filename = os.path.splitext(os.path.basename(path))[0]\n",
    "\n",
    "with OifFile(path) as oif:\n",
    "    viewer = OifImageViewer(oif)\n",
    "    x_step, y_step, z_step = map(float, (viewer.md[\"x_step\"], viewer.md[\"y_step\"], viewer.md[\"z_step\"]))\n",
    "    if viewer.md[\"z_unit\"] == \"nm\":\n",
    "        z_step /= 1000."
   ]
  },
  {
   "cell_type": "code",
   "execution_count": null,
   "metadata": {},
   "outputs": [],
   "source": [
    "#mask_path = \"D:\\\\Datasets\\\\Bone_Mets\\\\masks\\\\FV10__20190620_111343.seg.nrrd\"\n",
    "mask_path = \"/home/dkermany/data/Bone_Project/masks/FV10__20190620_111343.seg.nrrd\"\n",
    "\n",
    "# Load mask from NRRD\n",
    "mask, header = nrrd.read(mask_path)\n",
    "mask = mask.T\n",
    "mask = mask[:mask.shape[0]//3, :, :]\n",
    "\n",
    "print(mask.shape)\n",
    "print(mask.dtype)\n",
    "print(\"Axes: ZYX\")\n",
    "\n"
   ]
  },
  {
   "cell_type": "code",
   "execution_count": null,
   "metadata": {},
   "outputs": [],
   "source": [
    "# tumor_csv_path = \"D:\\\\Datasets\\\\Bone_Mets\\\\tumor_locations.csv\"\n",
    "tumor_csv_path = \"/home/dkermany/data/Bone_Project/tumor_locations_09062022.csv\"\n",
    "# Load csv and drop rows with N/A's\n",
    "tumor_csv = pd.read_csv(tumor_csv_path).dropna()\n",
    "tumor_csv"
   ]
  },
  {
   "cell_type": "code",
   "execution_count": null,
   "metadata": {},
   "outputs": [],
   "source": [
    "tumor_dict = tumor_csv.to_dict(\"index\")\n",
    "tumor_dict"
   ]
  },
  {
   "cell_type": "code",
   "execution_count": null,
   "metadata": {},
   "outputs": [],
   "source": [
    "import math\n",
    "tumor_points = []\n",
    "for idx, tumor_info in tumor_dict.items():\n",
    "    x_um, y_um, z_slice = map(int, (tumor_info[\"x (um)\"], tumor_info[\"y (um)\"], tumor_info[\"z (slice)\"]))\n",
    "    x, y, z = map(int, (x_um / x_step, y_um / y_step, z_slice-1))\n",
    "    tumor_points.append([z, y, x])\n",
    "\n",
    "tumor_points = np.array(tumor_points, dtype=np.float64)"
   ]
  },
  {
   "cell_type": "code",
   "execution_count": null,
   "metadata": {},
   "outputs": [],
   "source": [
    "tumor_points\n"
   ]
  },
  {
   "attachments": {},
   "cell_type": "markdown",
   "metadata": {},
   "source": [
    "Tumor Ripley Call\n",
    "<a id=\"tumor_ripley\"></a><br>\n",
    "[Draw Sphere Function](#draw_sphere_in_volume)\n"
   ]
  },
  {
   "cell_type": "code",
   "execution_count": null,
   "metadata": {},
   "outputs": [],
   "source": [
    "bone_data = []\n",
    "bone_data_w = []\n",
    "\n",
    "# Max ripley search sphere size. Typically 1/3 or 1/2 of smallest dimension\n",
    "# max_search_radius = min(mask.shape) // 3\n",
    "radii = np.arange(100, 800)\n",
    "\n",
    "K, L, H = ripley(tumor_points, radii, mask.shape, boundary_correction=False)\n",
    "# K_w, L_w, H_w = ripley(tumor_points, radii, mask.shape, boundary_correction=True)\n",
    "bone_data += zip(radii, K, L, H, [\"Bone\"]*len(radii))\n",
    "# bone_data_w += zip(radii, K_w, L_w, H_w, [\"Bone\"]*len(radii))\n"
   ]
  },
  {
   "cell_type": "code",
   "execution_count": null,
   "metadata": {},
   "outputs": [],
   "source": [
    "print(mask.shape)\n",
    "%lprun -f draw_sphere_in_volume ripley(tumor_points, radii, mask.shape, boundary_correction=True)"
   ]
  },
  {
   "cell_type": "code",
   "execution_count": null,
   "metadata": {},
   "outputs": [],
   "source": [
    "tumor_rstats = pd.DataFrame(bone_data, columns=[\"Radius (r)\", \"K(r)\", \"L(r)\", \"H(r)\", \"Type\"])\n",
    "# tumor_rstats_w = pd.DataFrame(bone_data_w, columns=[\"Radius (r)\", \"K(r)\", \"L(r)\", \"H(r)\", \"Type\"])\n",
    "# tumor_rstats_w"
   ]
  },
  {
   "cell_type": "code",
   "execution_count": null,
   "metadata": {},
   "outputs": [],
   "source": [
    "f, axes = plt.subplots(2, 3,)\n",
    "\n",
    "## Top Row\n",
    "# K\n",
    "sns.lineplot(data=tumor_rstats, x=\"Radius (r)\", y=\"K(r)\", ax=axes[0, 0])\n",
    "# L\n",
    "sns.lineplot(data=tumor_rstats, x=\"Radius (r)\", y=\"L(r)\", ax=axes[0, 1])\n",
    "axes[0, 1].plot([0, 50], [0, 50], linewidth=1, linestyle=\"dotted\", color=\"#aaa\") # Expected line\n",
    "# H\n",
    "sns.lineplot(data=tumor_rstats, x=\"Radius (r)\", y=\"H(r)\", ax=axes[0, 2])\n",
    "axes[0, 2].plot([0, 50], [0, 0], linewidth=1, linestyle=\"dotted\", color=\"#aaa\") # Expected line\n",
    "\n",
    "## Bottom Row\n",
    "# K\n",
    "# sns.lineplot(data=tumor_rstats_w, x=\"Radius (r)\", y=\"K(r)\", ax=axes[1, 0], alpha=0, errorbar=(\"pi\", 95))\n",
    "# # L\n",
    "# sns.lineplot(data=tumor_rstats_w, x=\"Radius (r)\", y=\"L(r)\", ax=axes[1, 1], alpha=0, errorbar=(\"pi\", 95))\n",
    "# axes[1, 1].plot([0, 50], [0, 50], linewidth=1, linestyle=\"dotted\", color=\"#aaa\") # Expected line\n",
    "# # H\n",
    "# sns.lineplot(data=tumor_rstats_w, x=\"Radius (r)\", y=\"H(r)\", ax=axes[1, 2], alpha=0, errorbar=(\"pi\", 95))\n",
    "# axes[1, 2].plot([0, 50], [0, 0], linewidth=1, linestyle=\"dotted\", color=\"#aaa\") # Expected line\n",
    "\n",
    "plt.show()"
   ]
  },
  {
   "cell_type": "code",
   "execution_count": null,
   "metadata": {},
   "outputs": [],
   "source": [
    "f, axes = plt.subplots(2, 3,)\n",
    "\n",
    "## Top Row\n",
    "# K\n",
    "sns.lineplot(data=tumor_rstats_w, x=\"Radius (r)\", y=\"K(r)\", ax=axes[0, 0], hue=\"Line\")\n",
    "# L\n",
    "sns.lineplot(data=tumor_rstats_w, x=\"Radius (r)\", y=\"L(r)\", ax=axes[0, 1], hue=\"Line\")\n",
    "axes[0, 1].plot([0, 50], [0, 50], linewidth=1, linestyle=\"dotted\", color=\"#aaa\") # Expected line\n",
    "# H\n",
    "sns.lineplot(data=tumor_rstats_w, x=\"Radius (r)\", y=\"H(r)\", ax=axes[0, 2], hue=\"Line\")\n",
    "axes[0, 2].plot([0, 50], [0, 0], linewidth=1, linestyle=\"dotted\", color=\"#aaa\") # Expected line\n",
    "\n",
    "## Bottom Row\n",
    "# K\n",
    "sns.lineplot(data=tumor_rstats_w, x=\"Radius (r)\", y=\"K(r)\", ax=axes[1, 0], alpha=0, errorbar=(\"pi\", 95))\n",
    "# L\n",
    "sns.lineplot(data=tumor_rstats_w, x=\"Radius (r)\", y=\"L(r)\", ax=axes[1, 1], alpha=0, errorbar=(\"pi\", 95))\n",
    "axes[1, 1].plot([0, 50], [0, 50], linewidth=1, linestyle=\"dotted\", color=\"#aaa\") # Expected line\n",
    "# H\n",
    "sns.lineplot(data=tumor_rstats_w, x=\"Radius (r)\", y=\"H(r)\", ax=axes[1, 2], alpha=0, errorbar=(\"pi\", 95))\n",
    "axes[1, 2].plot([0, 50], [0, 0], linewidth=1, linestyle=\"dotted\", color=\"#aaa\") # Expected line\n",
    "\n",
    "plt.show()\n",
    "\n"
   ]
  },
  {
   "cell_type": "code",
   "execution_count": null,
   "metadata": {},
   "outputs": [],
   "source": [
    "def calculate_ripley(radii, sample_size, d1=None, d2=None, d3=None, sample_shape='circle', boundary_correct=False, CSR_Normalise=False):\n",
    "    results = []\n",
    "    tree, dimensions = make_tree(d1=d1, d2=d2, d3=d3)\n",
    "    if type(radii) is not list:\n",
    "        radii = [radii]\n",
    "    for radius in radii:\n",
    "        \n",
    "        score_vol = (4/3) * np.pi * radius**3\n",
    "        \n",
    "        if sample_shape=='circle':\n",
    "            bound_size = (4/3) * np.pi * sample_size ** 3\n",
    "        elif sample_shape=='rectangle':\n",
    "            bound_size = sample_size[0]*sample_size[1]*sample_size[2]\n",
    "        counts = 0\n",
    "        for x, y, z in zip(d1, d2, d3):\n",
    "            if boundary_correct:\n",
    "                vol = calculate_overlap([x,y,z], sample_size, radius, sample_shape, dimensions)\n",
    "                boundary_correction = vol/score_vol\n",
    "                counts += (len(tree.query_ball_point([x,y,z], radius))-1)/boundary_correction\n",
    "            else:\n",
    "                counts += len(tree.query_ball_point([x,y,z], radius))-1\n",
    "                    \n",
    "        if CSR_Normalise:\n",
    "            results.append((bound_size*counts/len(d1)**2) - score_vol)\n",
    "        else:\n",
    "            results.append(bound_size*counts/len(d1)**2)\n",
    "    if len(results)==1:\n",
    "        return results[0]\n",
    "    else:\n",
    "        return results"
   ]
  },
  {
   "cell_type": "code",
   "execution_count": null,
   "metadata": {},
   "outputs": [],
   "source": []
  },
  {
   "cell_type": "code",
   "execution_count": null,
   "metadata": {},
   "outputs": [],
   "source": [
    "# def draw_sphere(arr: np.ndarray, radius: int, coords: list):\n",
    "#     x_min, x_max = max(coords[0] - radius, 0), min(coords[0] + radius, arr.shape[0])\n",
    "#     y_min, y_max = max(coords[1] - radius, 0), min(coords[1] + radius, arr.shape[1])\n",
    "#     z_min, z_max = max(coords[2] - radius, 0), min(coords[2] + radius, arr.shape[2])\n",
    "#     arr_overlap = [(max(coords[i] - radius, 0), min(coords[i] + radius, arr.shape[i])) for i in range(len(coords))]\n",
    "\n",
    "#     kernel_size = (2 * radius) + 1\n",
    "#     sphere_kernel = rg.sphere(kernel_size, r).astype(np.int_)\n",
    "\n",
    "#     low_indices = [coords[i] - radius if coords[i] - radius > 0 else 0 for i in range(len(coords))]\n",
    "#     high_indices =\n",
    "\n",
    "#     idx_low = coords[0] - radius if coords[0] - radius > 0 else 0\n",
    "#     idx_high = coords[0] + radius if coords[0] + radius >= arr.shape[0] else arr.shape[0]\n",
    "\n",
    "#     if idx_low < 0:\n",
    "#         sphere_kernel = sphere_kernel[abs(idx_low):, :, :]\n",
    "#     if idx_high >= arr.shape[0]:\n",
    "#         deltaX = arr.shape[0] - idx_high\n",
    "#         assert deltaX < 0\n",
    "#         sphere_kernel = sphere_kernel[:deltaX, :, :]\n",
    "\n",
    "\n",
    "#     return arr[x_min: x_max + 1,\n",
    "#                y_min: y_max + 1,\n",
    "#                z_min: z_max + 1]\n",
    "    \n",
    "    \n",
    "# test_vol = np.zeros((10,10,10))\n",
    "# a = draw_sphere(test_vol, 1, (0,0,0))   \n",
    "# print(a.shape)\n",
    "# print(a)"
   ]
  }
 ],
 "metadata": {
  "kernelspec": {
   "display_name": "BoneSegEnv",
   "language": "python",
   "name": "bonesegenv"
  },
  "language_info": {
   "codemirror_mode": {
    "name": "ipython",
    "version": 3
   },
   "file_extension": ".py",
   "mimetype": "text/x-python",
   "name": "python",
   "nbconvert_exporter": "python",
   "pygments_lexer": "ipython3",
   "version": "3.9.13"
  },
  "vscode": {
   "interpreter": {
    "hash": "1482b54e7ef8a9ae06d7bb840ea00fdcee1ee527315f93ddc67dd1bbd1d981ef"
   }
  }
 },
 "nbformat": 4,
 "nbformat_minor": 4
}
