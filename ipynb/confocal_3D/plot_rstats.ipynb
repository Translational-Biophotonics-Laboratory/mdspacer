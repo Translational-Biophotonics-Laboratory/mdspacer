{
 "cells": [
  {
   "cell_type": "code",
   "execution_count": 1,
   "metadata": {},
   "outputs": [],
   "source": [
    "%matplotlib widget\n",
    "import numpy as np\n",
    "import seaborn as sns\n",
    "import pandas as pd\n",
    "from functools import reduce\n",
    "from tqdm import tqdm\n",
    "from collections import defaultdict\n",
    "import matplotlib.pyplot as plt\n",
    "import sys\n",
    "import os\n"
   ]
  },
  {
   "cell_type": "code",
   "execution_count": 2,
   "metadata": {},
   "outputs": [],
   "source": [
    "def load_csv(path):\n",
    "    return pd.read_csv(path)"
   ]
  },
  {
   "cell_type": "code",
   "execution_count": 4,
   "metadata": {},
   "outputs": [],
   "source": [
    "rstats_path = \"\"\n",
    "rand_rstats_path = \"\""
   ]
  },
  {
   "cell_type": "code",
   "execution_count": null,
   "metadata": {},
   "outputs": [],
   "source": [
    "rstats = load_csv(rstats_path)\n",
    "rand_rstats = load_csv(rand_rstats_path)\n",
    "\n",
    "## Uncomment to restrict maximum radius in the plots\n",
    "# rstats = rstats[rstats[\"Radius (r)\"] <= 102]\n",
    "# rand_rstats = rand_rstats[rand_rstats[\"Radius (r)\"] <= 102]"
   ]
  },
  {
   "cell_type": "code",
   "execution_count": null,
   "metadata": {},
   "outputs": [],
   "source": [
    "f, axes = plt.subplots(3)\n",
    "\n",
    "# K\n",
    "sns.lineplot(data=rstats, x=\"Radius (r)\", y=\"K(r)\", ax=axes[1, 0])\n",
    "sns.lineplot(data=rand_rstats, x=\"Radius (r)\", y=\"K(r)\", ax=axes[1, 0], alpha=0, errorbar=(\"pi\", 95))\n",
    "# L\n",
    "sns.lineplot(data=rstats, x=\"Radius (r)\", y=\"L(r)\", ax=axes[1, 1])\n",
    "sns.lineplot(data=rand_rstats, x=\"Radius (r)\", y=\"L(r)\", ax=axes[1, 1], alpha=0, errorbar=(\"pi\", 95))\n",
    "axes[1, 1].plot([0, 400], [0, 400], linewidth=1, linestyle=\"dotted\", color=\"#aaa\") # Expected line\n",
    "# H\n",
    "sns.lineplot(data=rstats, x=\"Radius (r)\", y=\"H(r)\", ax=axes[1, 2])\n",
    "sns.lineplot(data=rand_rstats, x=\"Radius (r)\", y=\"H(r)\", ax=axes[1, 2], alpha=0, errorbar=(\"pi\", 95))\n",
    "axes[1, 2].plot([0, 400], [0, 0], linewidth=1, linestyle=\"dotted\", color=\"#aaa\") # Expected line\n",
    "\n",
    "plt.show()"
   ]
  }
 ],
 "metadata": {
  "kernelspec": {
   "display_name": "BoneSegmentation-dpCXn3BL",
   "language": "python",
   "name": "python3"
  },
  "language_info": {
   "codemirror_mode": {
    "name": "ipython",
    "version": 3
   },
   "file_extension": ".py",
   "mimetype": "text/x-python",
   "name": "python",
   "nbconvert_exporter": "python",
   "pygments_lexer": "ipython3",
   "version": "3.8.10"
  },
  "orig_nbformat": 4
 },
 "nbformat": 4,
 "nbformat_minor": 2
}
