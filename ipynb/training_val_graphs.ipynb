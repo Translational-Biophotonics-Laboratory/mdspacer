{
 "cells": [
  {
   "cell_type": "code",
   "execution_count": 1,
   "id": "9c6006b0",
   "metadata": {},
   "outputs": [],
   "source": [
    "%matplotlib inline\n",
    "import matplotlib.pyplot as plt\n",
    "import seaborn as sns\n",
    "import pandas as pd"
   ]
  },
  {
   "cell_type": "code",
   "execution_count": 2,
   "id": "764619be",
   "metadata": {},
   "outputs": [],
   "source": [
    "x = [i for i in range(20)]\n",
    "y = [5/(i+1) for i in range(200)]\n",
    "z = [i%2 for i in range(200)]\n",
    "df = pd.DataFrame(list(zip(x, y, z)), columns=[\"Batch\", \"Loss\", \"Type\"])"
   ]
  },
  {
   "cell_type": "code",
   "execution_count": 3,
   "id": "bcfdb513",
   "metadata": {},
   "outputs": [
    {
     "name": "stdout",
     "output_type": "stream",
     "text": [
      "[(0, 5.0, 0), (1, 2.5, 1), (2, 1.6666666666666667, 0), (3, 1.25, 1), (4, 1.0, 0), (5, 0.8333333333333334, 1), (6, 0.7142857142857143, 0), (7, 0.625, 1), (8, 0.5555555555555556, 0), (9, 0.5, 1), (10, 0.45454545454545453, 0), (11, 0.4166666666666667, 1), (12, 0.38461538461538464, 0), (13, 0.35714285714285715, 1), (14, 0.3333333333333333, 0), (15, 0.3125, 1), (16, 0.29411764705882354, 0), (17, 0.2777777777777778, 1), (18, 0.2631578947368421, 0), (19, 0.25, 1)]\n"
     ]
    }
   ],
   "source": [
    "print(list(zip(x, y, z)))"
   ]
  },
  {
   "cell_type": "code",
   "execution_count": 4,
   "id": "cdbcce18",
   "metadata": {},
   "outputs": [
    {
     "data": {
      "text/plain": [
       "<AxesSubplot:xlabel='Batch', ylabel='Loss'>"
      ]
     },
     "execution_count": 4,
     "metadata": {},
     "output_type": "execute_result"
    },
    {
     "data": {
      "image/png": "[encoded data removed]",
      "text/plain": [
       "<Figure size 432x288 with 1 Axes>"
      ]
     },
     "metadata": {
      "needs_background": "light"
     },
     "output_type": "display_data"
    }
   ],
   "source": [
    "sns.lineplot(x=\"Batch\", y=\"Loss\", hue=\"Type\", data=df)"
   ]
  },
  {
   "cell_type": "code",
   "execution_count": 5,
   "id": "7bd8ea92",
   "metadata": {},
   "outputs": [
    {
     "name": "stderr",
     "output_type": "stream",
     "text": [
      "/home/dkermany/.local/share/virtualenvs/BoneSegmentation-C6QGg7XR/lib/python3.8/site-packages/tqdm/auto.py:22: TqdmWarning: IProgress not found. Please update jupyter and ipywidgets. See https://ipywidgets.readthedocs.io/en/stable/user_install.html\n",
      "  from .autonotebook import tqdm as notebook_tqdm\n"
     ]
    },
    {
     "name": "stdout",
     "output_type": "stream",
     "text": [
      "manual accuracy: tensor(0.0125, device='cuda:0')\n",
      "Done in 0.0023720264434814453s\n",
      "torchmetrics accuracy: tensor(0.0125, device='cuda:0')\n",
      "Done in 0.1241753101348877s\n"
     ]
    }
   ],
   "source": [
    "import torch\n",
    "import torchmetrics\n",
    "from time import time\n",
    "\n",
    "a = torch.randint(0,80,(100,256,256)).cuda()\n",
    "b = torch.randint(0,80,(100,256,256)).cuda()\n",
    "\n",
    "start = time()\n",
    "print(\"manual accuracy:\", (a == b).sum()/torch.numel(a))\n",
    "end = time() - start\n",
    "print(f\"Done in {end}s\")\n",
    "\n",
    "start = time()\n",
    "print(\"torchmetrics accuracy:\" ,torchmetrics.functional.accuracy(torch.flatten(b), torch.flatten(a)))\n",
    "end = time() - start\n",
    "print(f\"Done in {end}s\")\n"
   ]
  },
  {
   "cell_type": "code",
   "execution_count": 6,
   "id": "b4c5fd53",
   "metadata": {},
   "outputs": [
    {
     "name": "stdout",
     "output_type": "stream",
     "text": [
      "manual IOU: tensor(0.9753, device='cuda:0')\n",
      "Done in 0.013720035552978516s\n",
      "torchmetric IOU: tensor(0.0063, device='cuda:0')\n",
      "Done in 0.12473893165588379s\n"
     ]
    }
   ],
   "source": [
    "one_hot_a = torch.nn.functional.one_hot(\n",
    "    a.long(),\n",
    "    num_classes=81,\n",
    ").permute(0,3,1,2)\n",
    "one_hot_b = torch.nn.functional.one_hot(\n",
    "    b.long(),\n",
    "    num_classes=81,\n",
    ").permute(0,3,1,2)\n",
    "\n",
    "start = time()\n",
    "print(\"manual IOU:\" ,torch.logical_and(a,b).sum()/torch.logical_or(a,b).sum())\n",
    "end = time() - start\n",
    "print(f\"Done in {end}s\")\n",
    "\n",
    "start = time()\n",
    "print(\"torchmetric IOU:\" ,torchmetrics.functional.jaccard_index(\n",
    "    a,\n",
    "    b,\n",
    "    num_classes=81,\n",
    "    ignore_index=0,\n",
    "    average=\"micro\",\n",
    "))\n",
    "end = time() - start\n",
    "print(f\"Done in {end}s\")"
   ]
  },
  {
   "cell_type": "code",
   "execution_count": 9,
   "id": "e4ee5a14",
   "metadata": {},
   "outputs": [],
   "source": [
    "def iou(pred, y_true):\n",
    "    return (torch.logical_and(pred, y_true) + .1).sum() / (torch.logical_or(pred, y_true) + .1).sum()"
   ]
  },
  {
   "cell_type": "code",
   "execution_count": 11,
   "id": "94a4873b",
   "metadata": {},
   "outputs": [
    {
     "name": "stdout",
     "output_type": "stream",
     "text": [
      "tensor(0.8047, device='cuda:0')\n"
     ]
    }
   ],
   "source": [
    "miou = 0.\n",
    "for n in range(81):\n",
    "    miou += iou(torch.flatten(one_hot_a[:,n,:,:]), torch.flatten(one_hot_b[:,n,:,:]))\n",
    "miou /= 81\n",
    "print(miou)"
   ]
  },
  {
   "cell_type": "code",
   "execution_count": 15,
   "id": "db2875fe",
   "metadata": {},
   "outputs": [],
   "source": [
    "a = [\n",
    "    (1,2,3),\n",
    "    (1,2,3),\n",
    "    (1,2,3),\n",
    "    (1,2,3),\n",
    "    (1,2,3),\n",
    "]\n",
    "df = pd.DataFrame(a, columns=[\"batch\", \"loss\", \"mode\"])\n",
    "df.to_csv(\"test.csv\")"
   ]
  }
 ],
 "metadata": {
  "kernelspec": {
   "display_name": "Python 3 (ipykernel)",
   "language": "python",
   "name": "python3"
  },
  "language_info": {
   "codemirror_mode": {
    "name": "ipython",
    "version": 3
   },
   "file_extension": ".py",
   "mimetype": "text/x-python",
   "name": "python",
   "nbconvert_exporter": "python",
   "pygments_lexer": "ipython3",
   "version": "3.8.10"
  }
 },
 "nbformat": 4,
 "nbformat_minor": 5
}
