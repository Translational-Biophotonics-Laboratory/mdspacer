{
 "cells": [
  {
   "cell_type": "code",
   "execution_count": 15,
   "metadata": {},
   "outputs": [],
   "source": [
    "import numpy as np\n",
    "from spacer3d.Ripley import load_OIB, load_mask, load_tumor_locations, run_ripley, monte_carlo"
   ]
  },
  {
   "cell_type": "code",
   "execution_count": 16,
   "metadata": {},
   "outputs": [],
   "source": [
    "### Loading Confocal Image (.OIB)\n",
    "\n",
    "path = \"/data/dkermany_data/Bone_Project/weijie_selected/main_folder/FV10__oibs/FV10__20190620_111343.oib\"\n",
    "# path = \"D:\\\\Datasets\\\\Bone_Mets\\\\FV10__oibs\\\\FV10__20190620_111343\\\\FV10__20190620_111343.oib\"\n",
    "\n",
    "filename, viewer, steps = load_OIB(path)\n"
   ]
  },
  {
   "cell_type": "code",
   "execution_count": 37,
   "metadata": {},
   "outputs": [
    {
     "ename": "KeyboardInterrupt",
     "evalue": "",
     "output_type": "error",
     "traceback": [
      "\u001b[0;31m---------------------------------------------------------------------------\u001b[0m",
      "\u001b[0;31mKeyboardInterrupt\u001b[0m                         Traceback (most recent call last)",
      "Cell \u001b[0;32mIn[37], line 4\u001b[0m\n\u001b[1;32m      2\u001b[0m path \u001b[38;5;241m=\u001b[39m \u001b[38;5;124m\"\u001b[39m\u001b[38;5;124m/data/dkermany_data/Bone_Project/weijie_selected/main_folder/FV10__oibs/*.oib\u001b[39m\u001b[38;5;124m\"\u001b[39m\n\u001b[1;32m      3\u001b[0m \u001b[38;5;28;01mfor\u001b[39;00m f \u001b[38;5;129;01min\u001b[39;00m glob(path):\n\u001b[0;32m----> 4\u001b[0m     \u001b[43mload_OIB\u001b[49m\u001b[43m(\u001b[49m\u001b[43mf\u001b[49m\u001b[43m)\u001b[49m\n",
      "File \u001b[0;32m~/BoneSegmentation/spacer3d/Ripley.py:673\u001b[0m, in \u001b[0;36mload_OIB\u001b[0;34m(path)\u001b[0m\n\u001b[1;32m    671\u001b[0m filename \u001b[38;5;241m=\u001b[39m os\u001b[38;5;241m.\u001b[39mpath\u001b[38;5;241m.\u001b[39msplitext(os\u001b[38;5;241m.\u001b[39mpath\u001b[38;5;241m.\u001b[39mbasename(path))[\u001b[38;5;241m0\u001b[39m]\n\u001b[1;32m    672\u001b[0m \u001b[38;5;28;01mwith\u001b[39;00m OifFile(path) \u001b[38;5;28;01mas\u001b[39;00m oif:\n\u001b[0;32m--> 673\u001b[0m     viewer \u001b[38;5;241m=\u001b[39m \u001b[43mOifImageViewer\u001b[49m\u001b[43m(\u001b[49m\u001b[43moif\u001b[49m\u001b[43m)\u001b[49m\n\u001b[1;32m    674\u001b[0m     x_step, y_step, z_step \u001b[38;5;241m=\u001b[39m \u001b[38;5;28mmap\u001b[39m(\u001b[38;5;28mfloat\u001b[39m, (viewer\u001b[38;5;241m.\u001b[39mmd[\u001b[38;5;124m\"\u001b[39m\u001b[38;5;124mx_step\u001b[39m\u001b[38;5;124m\"\u001b[39m], viewer\u001b[38;5;241m.\u001b[39mmd[\u001b[38;5;124m\"\u001b[39m\u001b[38;5;124my_step\u001b[39m\u001b[38;5;124m\"\u001b[39m], viewer\u001b[38;5;241m.\u001b[39mmd[\u001b[38;5;124m\"\u001b[39m\u001b[38;5;124mz_step\u001b[39m\u001b[38;5;124m\"\u001b[39m]))\n\u001b[1;32m    675\u001b[0m     \u001b[38;5;28;01mif\u001b[39;00m viewer\u001b[38;5;241m.\u001b[39mmd[\u001b[38;5;124m\"\u001b[39m\u001b[38;5;124mz_unit\u001b[39m\u001b[38;5;124m\"\u001b[39m] \u001b[38;5;241m==\u001b[39m \u001b[38;5;124m\"\u001b[39m\u001b[38;5;124mnm\u001b[39m\u001b[38;5;124m\"\u001b[39m:\n",
      "File \u001b[0;32m~/BoneSegmentation/spacer3d/OifImageViewer.py:13\u001b[0m, in \u001b[0;36mOifImageViewer.__init__\u001b[0;34m(self, oif)\u001b[0m\n\u001b[1;32m     12\u001b[0m \u001b[38;5;28;01mdef\u001b[39;00m \u001b[38;5;21m__init__\u001b[39m(\u001b[38;5;28mself\u001b[39m, oif: OifFile) \u001b[38;5;241m-\u001b[39m\u001b[38;5;241m>\u001b[39m \u001b[38;5;28;01mNone\u001b[39;00m:\n\u001b[0;32m---> 13\u001b[0m     \u001b[38;5;28mself\u001b[39m\u001b[38;5;241m.\u001b[39m_arr \u001b[38;5;241m=\u001b[39m \u001b[43moif\u001b[49m\u001b[38;5;241;43m.\u001b[39;49m\u001b[43masarray\u001b[49m\u001b[43m(\u001b[49m\u001b[43m)\u001b[49m\n\u001b[1;32m     14\u001b[0m     \u001b[38;5;28mself\u001b[39m\u001b[38;5;241m.\u001b[39mfigsize \u001b[38;5;241m=\u001b[39m (\u001b[38;5;241m25\u001b[39m,\u001b[38;5;241m25\u001b[39m)\n\u001b[1;32m     15\u001b[0m     \u001b[38;5;28mself\u001b[39m\u001b[38;5;241m.\u001b[39mmd \u001b[38;5;241m=\u001b[39m {\n\u001b[1;32m     16\u001b[0m         \u001b[38;5;124m\"\u001b[39m\u001b[38;5;124mx_step\u001b[39m\u001b[38;5;124m\"\u001b[39m: \u001b[38;5;28mfloat\u001b[39m(oif\u001b[38;5;241m.\u001b[39mmainfile[\u001b[38;5;124m\"\u001b[39m\u001b[38;5;124mReference Image Parameter\u001b[39m\u001b[38;5;124m\"\u001b[39m][\u001b[38;5;124m\"\u001b[39m\u001b[38;5;124mWidthConvertValue\u001b[39m\u001b[38;5;124m\"\u001b[39m]),\n\u001b[1;32m     17\u001b[0m         \u001b[38;5;124m\"\u001b[39m\u001b[38;5;124my_step\u001b[39m\u001b[38;5;124m\"\u001b[39m: \u001b[38;5;28mfloat\u001b[39m(oif\u001b[38;5;241m.\u001b[39mmainfile[\u001b[38;5;124m\"\u001b[39m\u001b[38;5;124mReference Image Parameter\u001b[39m\u001b[38;5;124m\"\u001b[39m][\u001b[38;5;124m\"\u001b[39m\u001b[38;5;124mHeightConvertValue\u001b[39m\u001b[38;5;124m\"\u001b[39m]),\n\u001b[0;32m   (...)\u001b[0m\n\u001b[1;32m     21\u001b[0m         \u001b[38;5;124m\"\u001b[39m\u001b[38;5;124mz_unit\u001b[39m\u001b[38;5;124m\"\u001b[39m: oif\u001b[38;5;241m.\u001b[39mmainfile[\u001b[38;5;124m\"\u001b[39m\u001b[38;5;124mAxis 3 Parameters Common\u001b[39m\u001b[38;5;124m\"\u001b[39m][\u001b[38;5;124m\"\u001b[39m\u001b[38;5;124mPixUnit\u001b[39m\u001b[38;5;124m\"\u001b[39m],\n\u001b[1;32m     22\u001b[0m     }\n",
      "File \u001b[0;32m~/.local/share/virtualenvs/BoneSegmentation-C6QGg7XR/lib/python3.9/site-packages/oiffile/oiffile.py:405\u001b[0m, in \u001b[0;36mOifFile.asarray\u001b[0;34m(self, series, **kwargs)\u001b[0m\n\u001b[1;32m    394\u001b[0m \u001b[38;5;250m\u001b[39m\u001b[38;5;124;03m\"\"\"Return image data from TIFF file(s) as numpy array.\u001b[39;00m\n\u001b[1;32m    395\u001b[0m \n\u001b[1;32m    396\u001b[0m \u001b[38;5;124;03mParameters:\u001b[39;00m\n\u001b[0;32m   (...)\u001b[0m\n\u001b[1;32m    402\u001b[0m \n\u001b[1;32m    403\u001b[0m \u001b[38;5;124;03m\"\"\"\u001b[39;00m\n\u001b[1;32m    404\u001b[0m \u001b[38;5;28;01mif\u001b[39;00m \u001b[38;5;28misinstance\u001b[39m(series, \u001b[38;5;28mint\u001b[39m):\n\u001b[0;32m--> 405\u001b[0m     \u001b[38;5;28;01mreturn\u001b[39;00m \u001b[38;5;28;43mself\u001b[39;49m\u001b[38;5;241;43m.\u001b[39;49m\u001b[43mseries\u001b[49m\u001b[43m[\u001b[49m\u001b[43mseries\u001b[49m\u001b[43m]\u001b[49m\u001b[38;5;241;43m.\u001b[39;49m\u001b[43masarray\u001b[49m\u001b[43m(\u001b[49m\u001b[38;5;241;43m*\u001b[39;49m\u001b[38;5;241;43m*\u001b[39;49m\u001b[43mkwargs\u001b[49m\u001b[43m)\u001b[49m\n\u001b[1;32m    406\u001b[0m fh \u001b[38;5;241m=\u001b[39m \u001b[38;5;28mself\u001b[39m\u001b[38;5;241m.\u001b[39mopen_file(series)\n\u001b[1;32m    407\u001b[0m \u001b[38;5;28;01mtry\u001b[39;00m:\n",
      "File \u001b[0;32m~/.local/share/virtualenvs/BoneSegmentation-C6QGg7XR/lib/python3.9/site-packages/tifffile/tifffile.py:14068\u001b[0m, in \u001b[0;36mFileSequence.asarray\u001b[0;34m(***failed resolving arguments***)\u001b[0m\n\u001b[1;32m  14066\u001b[0m \u001b[38;5;28;01mif\u001b[39;00m ioworkers \u001b[38;5;241m<\u001b[39m \u001b[38;5;241m2\u001b[39m:\n\u001b[1;32m  14067\u001b[0m     \u001b[38;5;28;01mfor\u001b[39;00m index, fname \u001b[38;5;129;01min\u001b[39;00m \u001b[38;5;28mzip\u001b[39m(\u001b[38;5;28mself\u001b[39m\u001b[38;5;241m.\u001b[39mindices, \u001b[38;5;28mself\u001b[39m\u001b[38;5;241m.\u001b[39mfiles):\n\u001b[0;32m> 14068\u001b[0m         \u001b[43mfunc\u001b[49m\u001b[43m(\u001b[49m\u001b[43mindex\u001b[49m\u001b[43m,\u001b[49m\u001b[43m \u001b[49m\u001b[43mfname\u001b[49m\u001b[43m)\u001b[49m\n\u001b[1;32m  14069\u001b[0m \u001b[38;5;28;01melse\u001b[39;00m:\n\u001b[1;32m  14070\u001b[0m     \u001b[38;5;28;01mwith\u001b[39;00m ThreadPoolExecutor(ioworkers) \u001b[38;5;28;01mas\u001b[39;00m executor:\n",
      "File \u001b[0;32m~/.local/share/virtualenvs/BoneSegmentation-C6QGg7XR/lib/python3.9/site-packages/tifffile/tifffile.py:14062\u001b[0m, in \u001b[0;36mFileSequence.asarray.<locals>.func\u001b[0;34m(index, fname)\u001b[0m\n\u001b[1;32m  14060\u001b[0m     \u001b[38;5;28mself\u001b[39m\u001b[38;5;241m.\u001b[39mimread(fname, out\u001b[38;5;241m=\u001b[39mresult[index_], \u001b[38;5;241m*\u001b[39m\u001b[38;5;241m*\u001b[39mkwargs)\n\u001b[1;32m  14061\u001b[0m \u001b[38;5;28;01melse\u001b[39;00m:\n\u001b[0;32m> 14062\u001b[0m     im \u001b[38;5;241m=\u001b[39m \u001b[38;5;28;43mself\u001b[39;49m\u001b[38;5;241;43m.\u001b[39;49m\u001b[43mimread\u001b[49m\u001b[43m(\u001b[49m\u001b[43mfname\u001b[49m\u001b[43m,\u001b[49m\u001b[43m \u001b[49m\u001b[38;5;241;43m*\u001b[39;49m\u001b[38;5;241;43m*\u001b[39;49m\u001b[43mkwargs\u001b[49m\u001b[43m)\u001b[49m\n\u001b[1;32m  14063\u001b[0m     result[index_] \u001b[38;5;241m=\u001b[39m im\n\u001b[1;32m  14064\u001b[0m     \u001b[38;5;28;01mdel\u001b[39;00m im\n",
      "File \u001b[0;32m~/.local/share/virtualenvs/BoneSegmentation-C6QGg7XR/lib/python3.9/site-packages/oiffile/oiffile.py:411\u001b[0m, in \u001b[0;36mOifFile.asarray\u001b[0;34m(self, series, **kwargs)\u001b[0m\n\u001b[1;32m    409\u001b[0m         result \u001b[38;5;241m=\u001b[39m tif\u001b[38;5;241m.\u001b[39masarray(\u001b[38;5;241m*\u001b[39m\u001b[38;5;241m*\u001b[39mkwargs)\n\u001b[1;32m    410\u001b[0m \u001b[38;5;28;01mfinally\u001b[39;00m:\n\u001b[0;32m--> 411\u001b[0m     \u001b[43mfh\u001b[49m\u001b[38;5;241;43m.\u001b[39;49m\u001b[43mclose\u001b[49m\u001b[43m(\u001b[49m\u001b[43m)\u001b[49m\n\u001b[1;32m    412\u001b[0m \u001b[38;5;28;01mreturn\u001b[39;00m result\n",
      "\u001b[0;31mKeyboardInterrupt\u001b[0m: "
     ]
    }
   ],
   "source": [
    "from glob import glob\n",
    "path = \"/data/dkermany_data/Bone_Project/weijie_selected/main_folder/FV10__oibs/*.oib\"\n",
    "for f in glob(path):\n",
    "    load_OIB(f)"
   ]
  },
  {
   "cell_type": "code",
   "execution_count": 17,
   "metadata": {},
   "outputs": [
    {
     "name": "stdout",
     "output_type": "stream",
     "text": [
      "(228, 2404, 3376)\n",
      "uint8\n",
      "Axes: ZYX\n"
     ]
    }
   ],
   "source": [
    "### Loading 3D Binary Mask (.SEG.NRRD)\n",
    "\n",
    "mask_path = f\"/data/dkermany_data/Bone_Project/masks/{filename}.seg.nrrd\"\n",
    "# mask_path = f\"D:\\\\Datasets\\\\Bone_Mets\\\\masks\\\\{filename}.seg.nrrd\"\n",
    "\n",
    "mask = load_mask(mask_path)\n"
   ]
  },
  {
   "cell_type": "markdown",
   "metadata": {},
   "source": [
    "### Loading real data pointsets for comparison"
   ]
  },
  {
   "cell_type": "code",
   "execution_count": 18,
   "metadata": {},
   "outputs": [],
   "source": [
    "### Loading Tumor Cell Locations (.CSV)\n",
    "tumor_csv_path = \"/data/dkermany_data/Bone_Project/tumor_locations_02_08_2023.csv\"\n",
    "# tumor_csv_path = \"D:\\\\Datasets\\\\Bone_Mets\\\\tumor_locations\\\\tumor_locations_02_08_2023.csv\"\n",
    "\n",
    "tumor_points = load_tumor_locations(tumor_csv_path, filename, steps)"
   ]
  },
  {
   "cell_type": "code",
   "execution_count": null,
   "metadata": {},
   "outputs": [],
   "source": [
    "branch_points_path = f\"/data/dkermany_data/Bone_Project/branch_points/{filename}_branch_points.npy\"\n",
    "ng2_points_path = f\"/data/dkermany_data/Bone_Project/NG2_Centroids/{filename}_NG2_centroids.npy\"\n",
    "tvc_points_path = f\"/data/dkermany_data/Bone_Project/tortuous_segment_centroids/{filename}_tortuous_segment_centroid.npy\"\n",
    "_"
   ]
  },
  {
   "cell_type": "code",
   "execution_count": null,
   "metadata": {},
   "outputs": [],
   "source": [
    " \n",
    "ng2_points = np.flip(np.load(ng2_points_path).T, axis=1) # put points into Z,Y,X format (N, 3)\n",
    "branch_points = np.load(branch_points_path).T # branch points do not need to be flipped to be formatted correctly\n",
    "tvc_points = np.rint(np.flip(np.load(tvc_points_path).T, axis=1)).astype(int) # put points into Z,Y,X format (N, 3)"
   ]
  },
  {
   "cell_type": "code",
   "execution_count": 19,
   "metadata": {},
   "outputs": [
    {
     "name": "stdout",
     "output_type": "stream",
     "text": [
      "(35, 3)\n",
      "[[  75. 1417. 2404.]\n",
      " [  75. 1413. 2395.]\n",
      " [  75. 1380. 2377.]\n",
      " [  75. 1352. 2479.]\n",
      " [  75. 1080. 2266.]\n",
      " [  75.  989.  730.]\n",
      " [  75.  704. 2427.]\n",
      " [  75.  693. 2432.]\n",
      " [  75.  732. 2459.]\n",
      " [  75.  840. 2633.]\n",
      " [  75.  600. 2675.]\n",
      " [  75.  595. 2771.]\n",
      " [  66. 1432. 2315.]\n",
      " [  64.  710. 2384.]\n",
      " [  62.  721. 2351.]\n",
      " [  61.  747. 2518.]\n",
      " [  59. 1119. 2344.]\n",
      " [  58. 1399. 2301.]\n",
      " [  53.  647. 1892.]\n",
      " [  53.  647. 1892.]\n",
      " [  51. 1417. 2336.]\n",
      " [  51. 1423. 2351.]\n",
      " [  48.  592. 2799.]\n",
      " [  43. 1393. 2367.]\n",
      " [  42.  685. 1942.]\n",
      " [  36. 1130. 2411.]\n",
      " [  35.  668. 1928.]\n",
      " [  26. 1294. 2030.]\n",
      " [  26. 1243. 1731.]\n",
      " [  13.  752.  823.]\n",
      " [   4. 1226. 1690.]\n",
      " [   0. 1351. 2243.]\n",
      " [   0. 1356. 2159.]\n",
      " [   0. 1338. 2159.]\n",
      " [   0. 1475. 2531.]]\n"
     ]
    }
   ],
   "source": [
    "print(tumor_points.shape)\n",
    "print(tumor_points)"
   ]
  },
  {
   "cell_type": "markdown",
   "metadata": {},
   "source": [
    "<!-- Ripley's K Estimators\n",
    "\n",
    "![RipleyK](/img/ripleyK.png)\n",
    "\n",
    "![RipleyL](/img/ripleyL.png)\n",
    "\n",
    "![RipleyH](/img/ripleyH.png) -->"
   ]
  },
  {
   "cell_type": "markdown",
   "metadata": {},
   "source": [
    "### Run all univariate and bivariate comparisons"
   ]
  },
  {
   "cell_type": "code",
   "execution_count": null,
   "metadata": {},
   "outputs": [],
   "source": [
    "all_points = {\n",
    "    \"tumor\": tumor_points,\n",
    "    \"ng2\": ng2_points,\n",
    "    \"branch\": branch_points,\n",
    "    \"tvc\": tvc_points\n",
    "}\n",
    "\n",
    "output_dir = \"./ripley_results\"\n",
    "\n",
    "# Starting at 2 because radius of 1 causes errors at the boundaries\n",
    "# where sometimes the entire circle falls outside of study area\n",
    "# resulting division by zero errors in some instances\n",
    "radii = np.arange(2, 100) \n",
    "\n",
    "# # Run univariate comparisons\n",
    "# for name, points in all_points.items():\n",
    "#     print(f\"Running univariate analyses on: {name} points\")\n",
    "#     CSR_rstats = monte_carlo(points, mask, radii, n_samples=100, n_processes=55, boundary_correction=False)\n",
    "#     u_results = run_ripley(points, points, mask, radii, n_processes=55, boundary_correction=False)\n",
    "\n",
    "#     # Uncomment to save rstats to csv\n",
    "\n",
    "#     CSR_rstats.to_csv(f\"/home/dkermany/ripley_results/{filename}_random_univariate_{name}_rstats.csv\")\n",
    "#     u_rstats.to_csv(os.path.join(output_dir, f\"{filename}_univariate_{name}_rstats.csv\"))"
   ]
  },
  {
   "cell_type": "code",
   "execution_count": null,
   "metadata": {},
   "outputs": [],
   "source": [
    "# # Run multivariate comparisons with tumor\n",
    "# for name, points in all_points.items():\n",
    "#     if name != \"tumor\":\n",
    "#         print(f\"Running multivariate analyses between tumor and {name} points\")\n",
    "#         rstats = monte_carlo(tumor_points, mask, radii, points, n_samples=100, n_processes=55, boundary_correction=False)\n",
    "#         m_results = run_ripley(tumor_points, points, mask, radii, n_processes=55, boundary_correction=False)\n",
    "\n",
    "#         # Uncomment to save rstats to csv\n",
    "#         CSR_rstats.to_csv(f\"/home/dkermany/ripley_results/{filename}_random_multivariate_{name}_rstats.csv\")\n",
    "#         m_rstats.to_csv(os.path.join(output_dir, f\"{filename}_multivariate_{name}_rstats.csv\"))"
   ]
  }
 ],
 "metadata": {
  "kernelspec": {
   "display_name": "BoneSegEnv",
   "language": "python",
   "name": "bonesegenv"
  },
  "language_info": {
   "codemirror_mode": {
    "name": "ipython",
    "version": 3
   },
   "file_extension": ".py",
   "mimetype": "text/x-python",
   "name": "python",
   "nbconvert_exporter": "python",
   "pygments_lexer": "ipython3",
   "version": "3.9.13"
  }
 },
 "nbformat": 4,
 "nbformat_minor": 4
}
