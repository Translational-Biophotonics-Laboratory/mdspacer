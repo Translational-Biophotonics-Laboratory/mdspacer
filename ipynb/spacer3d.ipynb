{
 "cells": [
  {
   "cell_type": "code",
   "execution_count": 1,
   "metadata": {},
   "outputs": [],
   "source": [
    "import numpy as np\n",
    "import os\n",
    "from spacer3d.Ripley import load_OIB, load_mask, load_tumor_locations, run_ripley, monte_carlo"
   ]
  },
  {
   "cell_type": "code",
   "execution_count": 2,
   "metadata": {},
   "outputs": [],
   "source": [
    "### Loading Confocal Image (.OIB)\n",
    "path = \"/data/dkermany_data/Bone_Project/FV10__oibs/FV10__20190620_111343.oib\"\n",
    "filename = os.path.splitext(os.path.basename(path))[0]\n",
    "\n",
    "# step sizes to convert tumor micron locations to pixel\n",
    "steps = (0.621, 0.621, 3.14) if filename==\"FV10__20210112_164055\" else (1.242, 1.242, 2.66)\n",
    "\n",
    "# filename, viewer, steps = load_OIB(path)"
   ]
  },
  {
   "cell_type": "code",
   "execution_count": 3,
   "metadata": {},
   "outputs": [
    {
     "name": "stdout",
     "output_type": "stream",
     "text": [
      "(228, 2404, 3376)\n",
      "uint8\n",
      "Axes: ZYX\n"
     ]
    }
   ],
   "source": [
    "### Loading 3D Binary Mask (.SEG.NRRD)\n",
    "# Mask and points should be loaded with coordinates in shape (z, y, x)\n",
    "mask_path = f\"./lib/masks/{filename}.seg.nrrd\"\n",
    "mask = load_mask(mask_path)\n"
   ]
  },
  {
   "cell_type": "markdown",
   "metadata": {},
   "source": [
    "### Loading real data pointsets for comparison"
   ]
  },
  {
   "cell_type": "code",
   "execution_count": 4,
   "metadata": {},
   "outputs": [],
   "source": [
    "### Loading Tumor Cell Locations (.CSV)\n",
    "tumor_csv_path = \"./lib/tumor_locations.csv\"\n",
    "tumor_points = load_tumor_locations(tumor_csv_path, filename, steps)"
   ]
  },
  {
   "cell_type": "code",
   "execution_count": 5,
   "metadata": {},
   "outputs": [],
   "source": [
    "branch_points_path = f\"./lib/branch_points/{filename}_branch_points.npy\"\n",
    "ng2_points_path = f\"./lib/NG2_centroids/{filename}_NG2_centroids.npy\"\n",
    "tvc_points_path = f\"./lib/tortuous_segment_centroids/{filename}_tortuous_segment_centroid.npy\""
   ]
  },
  {
   "cell_type": "code",
   "execution_count": 6,
   "metadata": {},
   "outputs": [],
   "source": [
    "ng2_points = np.flip(np.load(ng2_points_path).T, axis=1) # put points into Z,Y,X format (N, 3)\n",
    "branch_points = np.load(branch_points_path).T # branch points do not need to be flipped to be formatted correctly\n",
    "tvc_points = np.rint(np.flip(np.load(tvc_points_path).T, axis=1)).astype(int) # put points into Z,Y,X format (N, 3)"
   ]
  },
  {
   "cell_type": "markdown",
   "metadata": {},
   "source": [
    "### Run all univariate and bivariate comparisons"
   ]
  },
  {
   "cell_type": "code",
   "execution_count": 7,
   "metadata": {},
   "outputs": [
    {
     "name": "stdout",
     "output_type": "stream",
     "text": [
      "Running univariate analyses on: tumor points\n"
     ]
    },
    {
     "name": "stderr",
     "output_type": "stream",
     "text": [
      "  0%|                                                                                                                                                                                                                                                     | 0/100 [00:00<?, ?it/s]"
     ]
    },
    {
     "name": "stdout",
     "output_type": "stream",
     "text": [
      "Simulation: 0/100\n"
     ]
    },
    {
     "name": "stderr",
     "output_type": "stream",
     "text": [
      "  1%|██▎                                                                                                                                                                                                                                          | 1/100 [00:01<02:58,  1.80s/it]"
     ]
    },
    {
     "name": "stdout",
     "output_type": "stream",
     "text": [
      "Simulation: 1/100\n"
     ]
    },
    {
     "name": "stderr",
     "output_type": "stream",
     "text": [
      "  2%|████▋                                                                                                                                                                                                                                        | 2/100 [00:03<03:05,  1.90s/it]"
     ]
    },
    {
     "name": "stdout",
     "output_type": "stream",
     "text": [
      "Simulation: 2/100\n"
     ]
    },
    {
     "name": "stderr",
     "output_type": "stream",
     "text": [
      "  3%|███████                                                                                                                                                                                                                                      | 3/100 [00:05<03:04,  1.90s/it]"
     ]
    },
    {
     "name": "stdout",
     "output_type": "stream",
     "text": [
      "Simulation: 3/100\n"
     ]
    },
    {
     "name": "stderr",
     "output_type": "stream",
     "text": [
      "  4%|█████████▍                                                                                                                                                                                                                                   | 4/100 [00:07<03:03,  1.91s/it]"
     ]
    },
    {
     "name": "stdout",
     "output_type": "stream",
     "text": [
      "Simulation: 4/100\n"
     ]
    },
    {
     "name": "stderr",
     "output_type": "stream",
     "text": [
      "  5%|███████████▊                                                                                                                                                                                                                                 | 5/100 [00:09<03:03,  1.93s/it]"
     ]
    },
    {
     "name": "stdout",
     "output_type": "stream",
     "text": [
      "Simulation: 5/100\n"
     ]
    },
    {
     "name": "stderr",
     "output_type": "stream",
     "text": [
      "  6%|██████████████▏                                                                                                                                                                                                                              | 6/100 [00:11<03:03,  1.95s/it]"
     ]
    },
    {
     "name": "stdout",
     "output_type": "stream",
     "text": [
      "Simulation: 6/100\n"
     ]
    },
    {
     "name": "stderr",
     "output_type": "stream",
     "text": [
      "Process Process-332:\n",
      "Process Process-331:\n",
      "Exception ignored in: <function _releaseLock at 0x7f77941e39d0>\n",
      "Traceback (most recent call last):\n",
      "  File \"/home/dkermany/.pyenv/versions/3.9.13/lib/python3.9/logging/__init__.py\", line 227, in _releaseLock\n",
      "    def _releaseLock():\n",
      "KeyboardInterrupt: \n",
      "Traceback (most recent call last):\n",
      "  File \"/home/dkermany/.pyenv/versions/3.9.13/lib/python3.9/multiprocessing/process.py\", line 315, in _bootstrap\n",
      "    self.run()\n",
      "Traceback (most recent call last):\n",
      "  File \"/home/dkermany/.pyenv/versions/3.9.13/lib/python3.9/multiprocessing/process.py\", line 315, in _bootstrap\n",
      "    self.run()\n",
      "  File \"/home/dkermany/.pyenv/versions/3.9.13/lib/python3.9/multiprocessing/process.py\", line 108, in run\n",
      "    self._target(*self._args, **self._kwargs)\n",
      "  File \"/home/dkermany/.pyenv/versions/3.9.13/lib/python3.9/multiprocessing/process.py\", line 108, in run\n",
      "    self._target(*self._args, **self._kwargs)\n",
      "  File \"/home/dkermany/BoneSegmentation/spacer3d/Ripley.py\", line 145, in worker\n",
      "    task = task_queue.get()\n",
      "  File \"/home/dkermany/BoneSegmentation/spacer3d/Ripley.py\", line 145, in worker\n",
      "    task = task_queue.get()\n",
      "  File \"/home/dkermany/.pyenv/versions/3.9.13/lib/python3.9/multiprocessing/queues.py\", line 102, in get\n",
      "    with self._rlock:\n",
      "  File \"/home/dkermany/.pyenv/versions/3.9.13/lib/python3.9/multiprocessing/queues.py\", line 103, in get\n",
      "    res = self._recv_bytes()\n",
      "  File \"/home/dkermany/.pyenv/versions/3.9.13/lib/python3.9/multiprocessing/synchronize.py\", line 95, in __enter__\n",
      "    return self._semlock.__enter__()\n",
      "  File \"/home/dkermany/.pyenv/versions/3.9.13/lib/python3.9/multiprocessing/connection.py\", line 221, in recv_bytes\n",
      "    buf = self._recv_bytes(maxlength)\n",
      "  File \"/home/dkermany/.pyenv/versions/3.9.13/lib/python3.9/multiprocessing/connection.py\", line 419, in _recv_bytes\n",
      "    buf = self._recv(4)\n",
      "KeyboardInterrupt\n",
      "  File \"/home/dkermany/.pyenv/versions/3.9.13/lib/python3.9/multiprocessing/connection.py\", line 384, in _recv\n",
      "    chunk = read(handle, remaining)\n",
      "KeyboardInterrupt\n",
      "  7%|████████████████▌                                                                                                                                                                                                                            | 7/100 [00:13<03:00,  1.94s/it]"
     ]
    },
    {
     "name": "stdout",
     "output_type": "stream",
     "text": [
      "Simulation: 7/100\n"
     ]
    },
    {
     "name": "stderr",
     "output_type": "stream",
     "text": [
      "  8%|██████████████████▉                                                                                                                                                                                                                          | 8/100 [00:15<02:57,  1.93s/it]"
     ]
    },
    {
     "name": "stdout",
     "output_type": "stream",
     "text": [
      "Simulation: 8/100\n"
     ]
    },
    {
     "name": "stderr",
     "output_type": "stream",
     "text": [
      "  9%|█████████████████████▎                                                                                                                                                                                                                       | 9/100 [00:17<02:53,  1.91s/it]"
     ]
    },
    {
     "name": "stdout",
     "output_type": "stream",
     "text": [
      "Simulation: 9/100\n"
     ]
    },
    {
     "name": "stderr",
     "output_type": "stream",
     "text": [
      " 10%|███████████████████████▌                                                                                                                                                                                                                    | 10/100 [00:19<02:50,  1.90s/it]"
     ]
    },
    {
     "name": "stdout",
     "output_type": "stream",
     "text": [
      "Simulation: 10/100\n"
     ]
    },
    {
     "name": "stderr",
     "output_type": "stream",
     "text": [
      " 11%|█████████████████████████▉                                                                                                                                                                                                                  | 11/100 [00:21<02:49,  1.90s/it]"
     ]
    },
    {
     "name": "stdout",
     "output_type": "stream",
     "text": [
      "Simulation: 11/100\n"
     ]
    },
    {
     "name": "stderr",
     "output_type": "stream",
     "text": [
      " 12%|████████████████████████████▎                                                                                                                                                                                                               | 12/100 [00:22<02:48,  1.92s/it]"
     ]
    },
    {
     "name": "stdout",
     "output_type": "stream",
     "text": [
      "Simulation: 12/100\n"
     ]
    },
    {
     "name": "stderr",
     "output_type": "stream",
     "text": [
      "Process Process-661:\n",
      "Process Process-662:\n",
      "Exception ignored in: <function _releaseLock at 0x7f77941e39d0>\n",
      "Traceback (most recent call last):\n",
      "  File \"/home/dkermany/.pyenv/versions/3.9.13/lib/python3.9/logging/__init__.py\", line 227, in _releaseLock\n",
      "    def _releaseLock():\n",
      "KeyboardInterrupt: \n",
      "Traceback (most recent call last):\n",
      "Traceback (most recent call last):\n",
      "  File \"/home/dkermany/.pyenv/versions/3.9.13/lib/python3.9/multiprocessing/process.py\", line 315, in _bootstrap\n",
      "    self.run()\n",
      "  File \"/home/dkermany/.pyenv/versions/3.9.13/lib/python3.9/multiprocessing/process.py\", line 315, in _bootstrap\n",
      "    self.run()\n",
      "  File \"/home/dkermany/.pyenv/versions/3.9.13/lib/python3.9/multiprocessing/process.py\", line 108, in run\n",
      "    self._target(*self._args, **self._kwargs)\n",
      "  File \"/home/dkermany/.pyenv/versions/3.9.13/lib/python3.9/multiprocessing/process.py\", line 108, in run\n",
      "    self._target(*self._args, **self._kwargs)\n",
      "  File \"/home/dkermany/BoneSegmentation/spacer3d/Ripley.py\", line 145, in worker\n",
      "    task = task_queue.get()\n",
      "  File \"/home/dkermany/BoneSegmentation/spacer3d/Ripley.py\", line 145, in worker\n",
      "    task = task_queue.get()\n",
      "  File \"/home/dkermany/.pyenv/versions/3.9.13/lib/python3.9/multiprocessing/queues.py\", line 103, in get\n",
      "    res = self._recv_bytes()\n",
      "  File \"/home/dkermany/.pyenv/versions/3.9.13/lib/python3.9/multiprocessing/queues.py\", line 102, in get\n",
      "    with self._rlock:\n",
      "  File \"/home/dkermany/.pyenv/versions/3.9.13/lib/python3.9/multiprocessing/connection.py\", line 221, in recv_bytes\n",
      "    buf = self._recv_bytes(maxlength)\n",
      "  File \"/home/dkermany/.pyenv/versions/3.9.13/lib/python3.9/multiprocessing/synchronize.py\", line 95, in __enter__\n",
      "    return self._semlock.__enter__()\n",
      "  File \"/home/dkermany/.pyenv/versions/3.9.13/lib/python3.9/multiprocessing/connection.py\", line 419, in _recv_bytes\n",
      "    buf = self._recv(4)\n",
      "KeyboardInterrupt\n",
      "  File \"/home/dkermany/.pyenv/versions/3.9.13/lib/python3.9/multiprocessing/connection.py\", line 384, in _recv\n",
      "    chunk = read(handle, remaining)\n",
      "KeyboardInterrupt\n",
      " 13%|██████████████████████████████▋                                                                                                                                                                                                             | 13/100 [00:24<02:47,  1.92s/it]"
     ]
    },
    {
     "name": "stdout",
     "output_type": "stream",
     "text": [
      "Simulation: 13/100\n"
     ]
    }
   ],
   "source": [
    "all_points = {\n",
    "    \"tumor\": tumor_points,\n",
    "    \"ng2\": ng2_points,\n",
    "    \"branch\": branch_points,\n",
    "    \"tvc\": tvc_points\n",
    "}\n",
    "\n",
    "output_dir = \"./ripley_results\"\n",
    "\n",
    "# Starting at 2 because radius of 1 causes errors at the boundaries\n",
    "# where sometimes the entire circle falls outside of study area\n",
    "# resulting division by zero errors in some instances\n",
    "radii = np.arange(2, 100) \n",
    "\n",
    "# # Run univariate comparisons\n",
    "for name, points in all_points.items():\n",
    "    print(f\"Running univariate analyses on: {name} points\")\n",
    "    print(\"Running Monte Carlo simulations\")\n",
    "    CSR_rstats = monte_carlo(points, mask, radii, n_samples=100, n_processes=55, boundary_correction=False)\n",
    "    print(\"Running Ripley Analysis\")\n",
    "    u_results = run_ripley(points, points, mask, radii, n_processes=55, boundary_correction=False)\n",
    "\n",
    "    # Uncomment to save rstats to csv\n",
    "    # CSR_rstats.to_csv(f\"{output_dir}/{filename}_random_univariate_{name}_rstats.csv\")\n",
    "    # u_rstats.to_csv(f\"{output_dir}/{filename}_univariate_{name}_rstats.csv\")"
   ]
  },
  {
   "cell_type": "code",
   "execution_count": null,
   "metadata": {},
   "outputs": [],
   "source": [
    "# # Run multivariate comparisons with tumor\n",
    "for name, points in all_points.items():\n",
    "    if name != \"tumor\":\n",
    "        print(f\"Running multivariate analyses between tumor and {name} points\")\n",
    "        rstats = monte_carlo(tumor_points, mask, radii, points, n_samples=100, n_processes=55, boundary_correction=False)\n",
    "        m_results = run_ripley(tumor_points, points, mask, radii, n_processes=55, boundary_correction=False)\n",
    "\n",
    "#         # Uncomment to save rstats to csv\n",
    "#         CSR_rstats.to_csv(f\"/home/dkermany/ripley_results/{filename}_random_multivariate_{name}_rstats.csv\")\n",
    "#         m_rstats.to_csv(os.path.join(output_dir, f\"{filename}_multivariate_{name}_rstats.csv\"))"
   ]
  }
 ],
 "metadata": {
  "kernelspec": {
   "display_name": "BoneSegEnv",
   "language": "python",
   "name": "bonesegenv"
  },
  "language_info": {
   "codemirror_mode": {
    "name": "ipython",
    "version": 3
   },
   "file_extension": ".py",
   "mimetype": "text/x-python",
   "name": "python",
   "nbconvert_exporter": "python",
   "pygments_lexer": "ipython3",
   "version": "3.9.13"
  }
 },
 "nbformat": 4,
 "nbformat_minor": 4
}
