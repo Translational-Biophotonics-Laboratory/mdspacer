{
 "cells": [
  {
   "cell_type": "code",
   "execution_count": 1,
   "metadata": {},
   "outputs": [],
   "source": [
    "import numpy as np\n",
    "import os\n",
    "from spacer3d.Ripley import load_OIB, load_mask, load_tumor_locations, run_ripley, monte_carlo"
   ]
  },
  {
   "cell_type": "code",
   "execution_count": null,
   "metadata": {},
   "outputs": [],
   "source": [
    "### Loading Confocal Image (.OIB)\n",
    "path = \"/data/dkermany_data/Bone_Project/FV10__oibs/FV10__20190620_111343.oib\"\n",
    "filename = os.path.splitext(os.path.basename(path))[0]\n",
    "\n",
    "# step sizes to convert tumor micron locations to pixel\n",
    "steps = (0.621, 0.621, 3.14) if filename==\"FV10__20210112_164055\" else (1.242, 1.242, 2.66)\n",
    "\n",
    "# filename, viewer, steps = load_OIB(path)"
   ]
  },
  {
   "cell_type": "code",
   "execution_count": null,
   "metadata": {},
   "outputs": [],
   "source": [
    "### Loading 3D Binary Mask (.SEG.NRRD)\n",
    "# Mask and points should be loaded with coordinates in shape (z, y, x)\n",
    "mask_path = f\"./lib/masks/{filename}.seg.nrrd\"\n",
    "mask = load_mask(mask_path)"
   ]
  },
  {
   "cell_type": "markdown",
   "metadata": {},
   "source": [
    "### Loading real data pointsets for comparison"
   ]
  },
  {
   "cell_type": "code",
   "execution_count": null,
   "metadata": {},
   "outputs": [],
   "source": [
    "### Loading Tumor Cell Locations (.CSV)\n",
    "tumor_csv_path = \"./lib/tumor_locations.csv\"\n",
    "tumor_points = load_tumor_locations(tumor_csv_path, filename, steps)"
   ]
  },
  {
   "cell_type": "code",
   "execution_count": null,
   "metadata": {},
   "outputs": [],
   "source": [
    "branch_points_path = f\"./lib/branch_points/{filename}_branch_points.npy\"\n",
    "ng2_points_path = f\"./lib/NG2_centroids/{filename}_NG2_centroids.npy\"\n",
    "tvc_points_path = f\"./lib/tortuous_segment_centroids/{filename}_tortuous_segment_centroid.npy\""
   ]
  },
  {
   "cell_type": "code",
   "execution_count": null,
   "metadata": {},
   "outputs": [],
   "source": [
    "ng2_points = np.flip(np.load(ng2_points_path).T, axis=1) # put points into Z,Y,X format (N, 3)\n",
    "branch_points = np.load(branch_points_path).T # branch points do not need to be flipped to be formatted correctly\n",
    "tvc_points = np.rint(np.flip(np.load(tvc_points_path).T, axis=1)).astype(int) # put points into Z,Y,X format (N, 3)"
   ]
  },
  {
   "cell_type": "markdown",
   "metadata": {},
   "source": [
    "### Run all univariate and bivariate comparisons"
   ]
  },
  {
   "cell_type": "code",
   "execution_count": 7,
   "metadata": {},
   "outputs": [],
   "source": [
    "all_points = {\n",
    "    \"tumor\": tumor_points,\n",
    "    \"ng2\": ng2_points,\n",
    "    \"branch\": branch_points,\n",
    "    \"tvc\": tvc_points\n",
    "}\n",
    "\n",
    "output_dir = \"./ripley_results\"\n",
    "\n",
    "# Starting at 2 because radius of 1 causes errors at the boundaries\n",
    "# where sometimes the entire circle falls outside of study area\n",
    "# resulting division by zero errors in some instances\n",
    "radii = np.arange(2, 100) \n",
    "\n",
    "# # Run univariate comparisons\n",
    "for name, points in all_points.items():\n",
    "    print(f\"Running univariate analyses on: {name} points\")\n",
    "    CSR_results = monte_carlo(points, mask, radii, n_samples=100, n_processes=55, boundary_correction=False)\n",
    "    u_results = run_ripley(points, points, mask, radii, n_processes=55, boundary_correction=False)\n",
    "\n",
    "    # Uncomment to save ripley results to csv to load into plots\n",
    "    # CSR_results.to_csv(f\"{output_dir}/{filename}_random_univariate_{name}_rstats.csv\")\n",
    "    # u_results.to_csv(f\"{output_dir}/{filename}_univariate_{name}_rstats.csv\")"
   ]
  },
  {
   "cell_type": "code",
   "execution_count": null,
   "metadata": {},
   "outputs": [],
   "source": [
    "# # Run multivariate comparisons with tumor\n",
    "for name, points in all_points.items():\n",
    "    if name != \"tumor\":\n",
    "        print(f\"Running multivariate analyses between tumor and {name} points\")\n",
    "        results = monte_carlo(tumor_points, mask, radii, points, n_samples=100, n_processes=55, boundary_correction=False)\n",
    "        m_results = run_ripley(tumor_points, points, mask, radii, n_processes=55, boundary_correction=False)\n",
    "\n",
    "#         Uncomment to save ripley results to csv to load into plots\n",
    "#         CSR_results.to_csv(f\"/home/dkermany/ripley_results/{filename}_random_multivariate_{name}_rstats.csv\")\n",
    "#         m_results.to_csv(os.path.join(output_dir, f\"{filename}_multivariate_{name}_rstats.csv\"))"
   ]
  }
 ],
 "metadata": {
  "kernelspec": {
   "display_name": "BoneSegEnv",
   "language": "python",
   "name": "bonesegenv"
  }
 },
 "nbformat": 4,
 "nbformat_minor": 4
}
