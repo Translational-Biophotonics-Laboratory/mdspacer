{
 "cells": [
  {
   "cell_type": "code",
   "execution_count": 1,
   "id": "420b0395",
   "metadata": {},
   "outputs": [
    {
     "name": "stderr",
     "output_type": "stream",
     "text": [
      "C:\\Users\\danie\\.virtualenvs\\BoneSegmentation-dpCXn3BL\\lib\\site-packages\\tqdm\\auto.py:22: TqdmWarning: IProgress not found. Please update jupyter and ipywidgets. See https://ipywidgets.readthedocs.io/en/stable/user_install.html\n",
      "  from .autonotebook import tqdm as notebook_tqdm\n"
     ]
    },
    {
     "name": "stdout",
     "output_type": "stream",
     "text": [
      "DEVICE: cuda:0\n"
     ]
    }
   ],
   "source": [
    "%matplotlib inline\n",
    "\n",
    "import sys\n",
    "import os\n",
    "import torch\n",
    "import torch.nn as nn\n",
    "import torch.optim as optim\n",
    "import albumentations as A\n",
    "import argparse\n",
    "import matplotlib.pyplot as plt\n",
    "import numpy as np\n",
    "import cv2\n",
    "from torch.utils.data import DataLoader\n",
    "from albumentations.pytorch import ToTensorV2\n",
    "from os.path import abspath, join, dirname\n",
    "from tqdm import tqdm\n",
    "import sklearn\n",
    "\n",
    "sys.path.append(os.path.abspath(os.path.join(\"..\", \"unet\")))\n",
    "from dataset import COCODataset\n",
    "\n",
    "WIDTH = 256\n",
    "HEIGHT = 256\n",
    "BATCH_SIZE = 4\n",
    "\n",
    "device = torch.device(\"cuda:0\" if torch.cuda.is_available() else \"cpu\")\n",
    "print(f\"DEVICE: {device}\")"
   ]
  },
  {
   "cell_type": "code",
   "execution_count": 2,
   "id": "db8d35dd",
   "metadata": {},
   "outputs": [
    {
     "name": "stdout",
     "output_type": "stream",
     "text": [
      "4.6.0\n",
      "1.2.0\n"
     ]
    }
   ],
   "source": [
    "print(cv2.__version__)\n",
    "print(A.__version__)"
   ]
  },
  {
   "cell_type": "code",
   "execution_count": 3,
   "id": "862964ed",
   "metadata": {},
   "outputs": [],
   "source": [
    "image_path = \"D:\\\\Datasets\\\\Segmentation\\\\COCO\\\\images\\\\train2017\"\n",
    "mask_path = \"D:\\\\Datasets\\\\Segmentation\\\\COCO\\\\masks\\\\train2017\"\n",
    "\n",
    "params = {\n",
    "    \"batch_size\": BATCH_SIZE,\n",
    "    \"shuffle\": True,\n",
    "    \"num_workers\": 0\n",
    "}"
   ]
  },
  {
   "cell_type": "code",
   "execution_count": 4,
   "id": "a1054d21",
   "metadata": {},
   "outputs": [],
   "source": [
    "transform = A.Compose(\n",
    "    [\n",
    "#         A.Resize(height=HEIGHT, width=WIDTH),\n",
    "        A.Resize(height=int(HEIGHT*1.13), width=int(WIDTH*1.13)),\n",
    "        A.RandomCrop(height=HEIGHT, width=WIDTH),\n",
    "        A.Rotate(limit=90, p=0.9),\n",
    "        A.HorizontalFlip(p=0.5),\n",
    "        A.VerticalFlip(p=0.1),\n",
    "        A.CLAHE(clip_limit=3.0, p=0.25),\n",
    "        A.ColorJitter(p=0.1),\n",
    "        A.GaussNoise(p=0.25),\n",
    "#         A.Normalize(\n",
    "#             mean=[0.4690, 0.4456, 0.4062],\n",
    "#             std=[0.2752, 0.2701, 0.2847],\n",
    "#             max_pixel_value=255.0\n",
    "#         ),\n",
    "        ToTensorV2()\n",
    "    ]\n",
    ")\n",
    "\n",
    "cocodata = COCODataset(image_path, mask_path, transform=transform)\n",
    "cocoloader = DataLoader(cocodata, **params) \n",
    "# Mean: tensor([0.4690, 0.4456, 0.4062]), Std: tensor([0.2752, 0.2701, 0.2847])\n",
    "# mean, std = cocodata.get_dataset_mean_and_std(cocoloader)\n",
    "# print(f\"Mean: {mean}, Std: {std}\")\n",
    "\n",
    "# class_weights = cocodata.get_class_weights(cocoloader)\n",
    "# print(class_weights)"
   ]
  },
  {
   "cell_type": "code",
   "execution_count": 9,
   "id": "79420c1a",
   "metadata": {
    "code_folding": []
   },
   "outputs": [
    {
     "name": "stdout",
     "output_type": "stream",
     "text": [
      "Targets Shape:  torch.Size([4, 256, 256]) torch.uint8\n",
      "Data Shape:  torch.Size([4, 3, 256, 256])\n",
      "one_hot:  torch.Size([4, 256, 256, 80])\n"
     ]
    }
   ],
   "source": [
    "# data (n_batch, 3, height, width), target (n_batch, height, width)\n",
    "data, targets = next(iter(cocoloader))\n",
    "\n",
    "print(\"Targets Shape: \", targets.shape, targets.dtype)\n",
    "print(\"Data Shape: \", data.shape)\n",
    "\n",
    "\n",
    "# def binarize_labels(image, n_classes=80):\n",
    "#     one_hot = np.zeros((image.shape[0], n_classes, image.shape[1], image.shape[2]))\n",
    "#     print(one_hot.shape)\n",
    "#     for unique_val in np.unique(image):\n",
    "#         one_hot[:, unique_val, :, :][image == unique_val] = 1\n",
    "#     return one_hot\n",
    "\n",
    "# print(binarize_labels(targets).shape)\n",
    "\n",
    "# ax_size = BATCH_SIZE**0.5\n",
    "# assert ax_size.is_integer() # make sure batch size perfect square\n",
    "# ax_size = int(ax_size)\n",
    "\n",
    "# f, axarr = plt.subplots(ax_size, ax_size, figsize=(25,25))\n",
    "# count = 0\n",
    "# for i in range(ax_size):\n",
    "#     for j in range(ax_size):\n",
    "#         image = data[count]\n",
    "#         print(image.shape)\n",
    "#         fig_img = torch.moveaxis(image, 0, -1)\n",
    "#         axarr[i,j].imshow(fig_img)\n",
    "#         plt.axis(\"off\")\n",
    "# #         print(\n",
    "# #             f\"\"\"\\nimage shape: {image.dtype},\n",
    "# #             \\n\\tmean: {torch.mean(image, dim=[1,2])},\n",
    "# #             \\n\\tstd: {torch.std(image, dim=[1,2])}\"\"\"\n",
    "# #         )\n",
    "#         count += 1\n",
    "        \n"
   ]
  },
  {
   "cell_type": "code",
   "execution_count": 16,
   "id": "ce5c77fa",
   "metadata": {},
   "outputs": [
    {
     "name": "stdout",
     "output_type": "stream",
     "text": [
      "one_hot:  torch.Size([4, 80, 256, 256])\n"
     ]
    }
   ],
   "source": [
    "one_hot = nn.functional.one_hot(targets.long(), num_classes=80)\n",
    "print(\"one_hot: \", one_hot.permute(0,3,1,2).shape)"
   ]
  }
 ],
 "metadata": {
  "kernelspec": {
   "display_name": "BoneSegmentationEnv",
   "language": "python",
   "name": "bonesegmentationenv"
  },
  "language_info": {
   "codemirror_mode": {
    "name": "ipython",
    "version": 3
   },
   "file_extension": ".py",
   "mimetype": "text/x-python",
   "name": "python",
   "nbconvert_exporter": "python",
   "pygments_lexer": "ipython3",
   "version": "3.8.10"
  }
 },
 "nbformat": 4,
 "nbformat_minor": 5
}
