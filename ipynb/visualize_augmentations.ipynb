{
 "cells": [
  {
   "cell_type": "code",
   "execution_count": 1,
   "id": "420b0395",
   "metadata": {},
   "outputs": [
    {
     "name": "stderr",
     "output_type": "stream",
     "text": [
      "C:\\Users\\danie\\.virtualenvs\\BoneSegmentation-dpCXn3BL\\lib\\site-packages\\tqdm\\auto.py:22: TqdmWarning: IProgress not found. Please update jupyter and ipywidgets. See https://ipywidgets.readthedocs.io/en/stable/user_install.html\n",
      "  from .autonotebook import tqdm as notebook_tqdm\n"
     ]
    },
    {
     "name": "stdout",
     "output_type": "stream",
     "text": [
      "DEVICE: cuda:0\n"
     ]
    }
   ],
   "source": [
    "%matplotlib inline\n",
    "\n",
    "import sys\n",
    "import os\n",
    "import torch\n",
    "import torch.nn as nn\n",
    "import torch.optim as optim\n",
    "import albumentations as A\n",
    "import argparse\n",
    "import matplotlib.pyplot as plt\n",
    "import numpy as np\n",
    "import cv2\n",
    "from torch.utils.data import DataLoader\n",
    "from albumentations.pytorch import ToTensorV2\n",
    "from os.path import abspath, join, dirname\n",
    "from tqdm import tqdm\n",
    "\n",
    "sys.path.append(os.path.abspath(os.path.join(\"..\", \"unet\")))\n",
    "from dataset import COCODataset\n",
    "\n",
    "WIDTH = 256\n",
    "HEIGHT = 256\n",
    "BATCH_SIZE = 1\n",
    "\n",
    "device = torch.device(\"cuda:0\" if torch.cuda.is_available() else \"cpu\")\n",
    "print(f\"DEVICE: {device}\")"
   ]
  },
  {
   "cell_type": "code",
   "execution_count": 2,
   "id": "862964ed",
   "metadata": {},
   "outputs": [],
   "source": [
    "image_path = \"D:\\\\Datasets\\\\Segmentation\\\\COCO\\\\val2017\"\n",
    "mask_path = \"D:\\\\Datasets\\\\Segmentation\\\\COCO\\\\masks\\\\val2017\"\n",
    "\n",
    "params = {\n",
    "    \"batch_size\": BATCH_SIZE,\n",
    "    \"shuffle\": True,\n",
    "    \"num_workers\": 0\n",
    "}"
   ]
  },
  {
   "cell_type": "code",
   "execution_count": 3,
   "id": "a1054d21",
   "metadata": {},
   "outputs": [],
   "source": [
    "transform = A.Compose(\n",
    "    [\n",
    "        A.Resize(height=int(HEIGHT*1.13), width=int(WIDTH*1.13)),\n",
    "        A.RandomCrop(height=HEIGHT, width=WIDTH),\n",
    "        A.Rotate(limit=90, p=0.9),\n",
    "        A.HorizontalFlip(p=0.5),\n",
    "        A.VerticalFlip(p=0.1),\n",
    "        A.CLAHE(clip_limit=4.0, p=0.35),\n",
    "        A.ColorJitter(p=0.3),\n",
    "        A.GaussNoise(p=0.3),\n",
    "#         A.Normalize(\n",
    "#             mean=[103.6788, 113.7296, 119.6984],\n",
    "#             std=[72.6042, 68.8787, 70.1635],\n",
    "#             max_pixel_value=255.0\n",
    "#         ),\n",
    "        ToTensorV2()\n",
    "    ]\n",
    ")\n",
    "\n",
    "test_transform = A.Compose(\n",
    "    [\n",
    "        A.Resize(height=int(HEIGHT*1.13), width=int(WIDTH*1.13)),\n",
    "        A.RandomCrop(height=HEIGHT, width=WIDTH),\n",
    "        A.Rotate(limit=90, p=0.9),\n",
    "        A.HorizontalFlip(p=0.5),\n",
    "        A.VerticalFlip(p=0.1),\n",
    "        A.CLAHE(clip_limit=4.0, p=0.35),\n",
    "        A.ColorJitter(p=0.3),\n",
    "        A.GaussNoise(p=0.3),\n",
    "#         A.Normalize(\n",
    "#             mean=[103.6788, 113.7296, 119.6984],\n",
    "#             std=[72.6042, 68.8787, 70.1635],\n",
    "#             max_pixel_value=255.0\n",
    "#         ),\n",
    "        ToTensorV2()\n",
    "    ]\n",
    ")\n",
    "\n",
    "cocodata = COCODataset(image_path, mask_path, transform=transform)\n",
    "cocoloader = DataLoader(cocodata, **params)\n",
    "\n",
    "# Mean: tensor([103.6788, 113.7296, 119.6984]), Std: tensor([72.6042, 68.8787, 70.1635])\n",
    "# mean, std = cocodata.get_dataset_mean_and_std(cocoloader)\n",
    "# print(f\"Mean: {mean}, Std: {std}\")"
   ]
  },
  {
   "cell_type": "code",
   "execution_count": 4,
   "id": "79420c1a",
   "metadata": {
    "code_folding": []
   },
   "outputs": [
    {
     "name": "stdout",
     "output_type": "stream",
     "text": [
      "Mask shape: (426, 640)\n",
      "Image shape: (426, 640, 3)\n",
      "Mask shape: torch.Size([256, 256])\n",
      "Image shape: torch.Size([3, 256, 256])\n"
     ]
    }
   ],
   "source": [
    "data, targets = next(iter(cocoloader))\n",
    "\n",
    "# print(\"Targets Shape: \", targets.shape)\n",
    "# print(\"Data Shape: \", data.shape)\n",
    "\n",
    "# ax_size = BATCH_SIZE**0.5\n",
    "# assert ax_size.is_integer() # make sure batch size perfect square\n",
    "# ax_size = int(ax_size)\n",
    "\n",
    "# f, axarr = plt.subplots(ax_size, ax_size, figsize=(25,25))\n",
    "# count = 0\n",
    "# for i in range(ax_size):\n",
    "#     for j in range(ax_size):\n",
    "#         fig_img = torch.moveaxis(data[count], 0, -1).int()\n",
    "#         axarr[i,j].imshow(fig_img)\n",
    "#         plt.axis(\"off\")\n",
    "#         count += 1\n"
   ]
  }
 ],
 "metadata": {
  "kernelspec": {
   "display_name": "BoneSegmentationEnv",
   "language": "python",
   "name": "bonesegmentationenv"
  },
  "language_info": {
   "codemirror_mode": {
    "name": "ipython",
    "version": 3
   },
   "file_extension": ".py",
   "mimetype": "text/x-python",
   "name": "python",
   "nbconvert_exporter": "python",
   "pygments_lexer": "ipython3",
   "version": "3.8.10"
  }
 },
 "nbformat": 4,
 "nbformat_minor": 5
}
