{
 "cells": [
  {
   "cell_type": "code",
   "execution_count": null,
   "metadata": {},
   "outputs": [],
   "source": [
    "### Test sphere drawing\n",
    "\n",
    "def draw_sphere(shape, radius, center) -> np.ndarray:\n",
    "    sphere = rg.nd_superellipsoid(shape, radius, position=center, rel_sizes=False, rel_position=False)\n",
    "    return sphere.astype(np.int_)\n",
    "\n",
    "container_shape = (100, 100, 100)\n",
    "radius = 15\n",
    "center = (50, 50, 50)\n",
    "\n",
    "# print(calculate_weight(container_shape, radius, center))\n",
    "test_sphere = draw_sphere(container_shape, radius, center)\n",
    "\n",
    "z,x,y = test_sphere.nonzero()\n",
    "fig = plt.figure()\n",
    "ax = fig.add_subplot(111, projection='3d') \n",
    "set_aspect_ratio_equal(ax)\n",
    "ax.axes.set_xlim3d(left=0, right=container_shape[1]) \n",
    "ax.axes.set_ylim3d(bottom=0, top=container_shape[2]) \n",
    "ax.axes.set_zlim3d(bottom=0, top=container_shape[0]) \n",
    "ax.scatter(x, y, z, zdir='z', c= 'red')\n",
    "plt.show()"
   ]
  },
  {
   "cell_type": "code",
   "execution_count": null,
   "metadata": {},
   "outputs": [],
   "source": [
    "\n"
   ]
  },
  {
   "cell_type": "code",
   "execution_count": null,
   "metadata": {},
   "outputs": [],
   "source": [
    "# # Test speed\n",
    "# %time rg.nd_superellipsoid(2*80+1, 80, position=[40,40,40], rel_sizes=False, rel_position=False).astype(np.int_)\n",
    "# %time i = cle.draw_sphere(test_vol, 320, 640, 20, 80, 80, 80, 1)\n",
    "# %lprun -f draw_sphere_in_volume draw_sphere_in_volume(test_vol, 50, position=[50,50,50])\n",
    "# %timeit draw_sphere_in_volume(mask, 50, position=[50,50,50])\n",
    "# plt.figure()\n",
    "# cle.imshow(i)"
   ]
  },
  {
   "cell_type": "code",
   "execution_count": null,
   "metadata": {},
   "outputs": [],
   "source": [
    "# ### Test draw sphere function\n",
    "# import pyclesperanto_prototype as cle\n",
    "\n",
    "# test_vol = np.zeros(mask.shape, dtype=np.uint8)\n",
    "# draw_sphere_in_volume(test_vol, 80, (20, 640, 320))\n",
    "# print(test_vol.dtype, mask.dtype)\n",
    "\n",
    "# plt.figure()\n",
    "# cle.imshow(test_vol)\n",
    "# plt.figure()\n",
    "# cle.imshow(mask)\n",
    "# plt.figure()\n",
    "# cle.imshow(test_vol & mask)"
   ]
  }
 ],
 "metadata": {
  "language_info": {
   "name": "python"
  }
 },
 "nbformat": 4,
 "nbformat_minor": 2
}
