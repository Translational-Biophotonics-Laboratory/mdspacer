{
 "cells": [
  {
   "cell_type": "code",
   "execution_count": 1,
   "id": "5adb8877",
   "metadata": {},
   "outputs": [],
   "source": [
    "%matplotlib inline\n",
    "\n",
    "import os\n",
    "import cv2\n",
    "import sys\n",
    "import matplotlib.pyplot as plt\n",
    "import numpy as np\n",
    "\n",
    "sys.path.append(os.path.abspath(os.path.join(\"..\", \"tools\")))\n",
    "from utils import BGR2RGB"
   ]
  },
  {
   "cell_type": "code",
   "execution_count": 2,
   "id": "8d22bb9a",
   "metadata": {},
   "outputs": [],
   "source": [
    "image_path = \"D:\\\\Datasets\\\\Segmentation\\\\BoneMets\\\\images\\\\452-Ves-Vessels.png\"\n",
    "mask_path = \"D:\\\\Datasets\\\\Segmentation\\\\BoneMets\\\\labels\\\\manual_masks\\\\452-Ves-Vessels.png\"\n",
    "prediction_path = \"D:\\Datasets\\\\Segmentation\\\\BoneMets\\\\labels\\\\manual_masks\\\\452-Ves-Vessels.png\""
   ]
  },
  {
   "cell_type": "code",
   "execution_count": 3,
   "id": "6559cbbf",
   "metadata": {},
   "outputs": [],
   "source": [
    "# Load images\n",
    "image = cv2.imread(image_path)\n",
    "mask = cv2.imread(mask_path, 0)\n",
    "prediction = cv2.imread(prediction_path, 0)"
   ]
  },
  {
   "cell_type": "code",
   "execution_count": 4,
   "id": "e799f132",
   "metadata": {},
   "outputs": [
    {
     "data": {
      "text/plain": [
       "1.0"
      ]
     },
     "execution_count": 4,
     "metadata": {},
     "output_type": "execute_result"
    }
   ],
   "source": [
    "# Intersection over Union (IoU), also known as Jaccard's Coefficient\n",
    "def IoU(p, y):\n",
    "    intersection = np.logical_and(p, y)\n",
    "    union = np.logical_or(p, y)\n",
    "    return np.sum(intersection) / np.sum(union)\n",
    "\n",
    "IoU(prediction, mask)"
   ]
  }
 ],
 "metadata": {
  "kernelspec": {
   "display_name": "BoneSegmentationEnv",
   "language": "python",
   "name": "bonesegmentationenv"
  },
  "language_info": {
   "codemirror_mode": {
    "name": "ipython",
    "version": 3
   },
   "file_extension": ".py",
   "mimetype": "text/x-python",
   "name": "python",
   "nbconvert_exporter": "python",
   "pygments_lexer": "ipython3",
   "version": "3.8.10"
  }
 },
 "nbformat": 4,
 "nbformat_minor": 5
}
