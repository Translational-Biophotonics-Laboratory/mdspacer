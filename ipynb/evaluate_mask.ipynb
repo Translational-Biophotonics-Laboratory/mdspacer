{
 "cells": [
  {
   "cell_type": "code",
   "execution_count": null,
   "id": "5adb8877",
   "metadata": {},
   "outputs": [],
   "source": [
    "import os\n",
    "import cv2"
   ]
  },
  {
   "cell_type": "code",
   "execution_count": null,
   "id": "8d22bb9a",
   "metadata": {},
   "outputs": [],
   "source": [
    "image_path = \"D:\\Datasets\\Segmentation\\BoneMets\\images\\452-Ves-Vessels\"\n",
    "mask_path = \"D:\\Datasets\\Segmentation\\BoneMets\\labels\\manual_masks\\452-Ves-Vessels.png\"\n",
    "prediction_path = \"\""
   ]
  }
 ],
 "metadata": {
  "kernelspec": {
   "display_name": "BoneSegmentationEnv",
   "language": "python",
   "name": "bonesegmentationenv"
  },
  "language_info": {
   "codemirror_mode": {
    "name": "ipython",
    "version": 3
   },
   "file_extension": ".py",
   "mimetype": "text/x-python",
   "name": "python",
   "nbconvert_exporter": "python",
   "pygments_lexer": "ipython3",
   "version": "3.8.10"
  }
 },
 "nbformat": 4,
 "nbformat_minor": 5
}
