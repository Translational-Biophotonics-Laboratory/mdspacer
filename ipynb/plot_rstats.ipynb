{
 "cells": [
  {
   "cell_type": "code",
   "execution_count": null,
   "metadata": {},
   "outputs": [],
   "source": [
    "%matplotlib widget\n",
    "from spacer3d.utils import plot_process, plot_individuals, plot_combined_univariate, plot_combined_multivariate"
   ]
  },
  {
   "cell_type": "code",
   "execution_count": null,
   "metadata": {},
   "outputs": [],
   "source": [
    "path = \"./ripley_results/\""
   ]
  },
  {
   "cell_type": "code",
   "execution_count": null,
   "metadata": {},
   "outputs": [],
   "source": [
    "# Currently only supports univariate plots, will ignore multivariate rstats csv files\n",
    "plot_process(path, save=False, output_folder=\"./ripley_results/\")"
   ]
  },
  {
   "cell_type": "code",
   "execution_count": null,
   "metadata": {},
   "outputs": [],
   "source": [
    "# Warning: This will work for BoneMets data currently, but it is not yet made for outside datasets\n",
    "# Currently only supports univariate plots, will ignore multivariate rstats csv files\n",
    "plot_individuals(path, save=False, output_folder=\"./ripley_results/\")"
   ]
  },
  {
   "cell_type": "code",
   "execution_count": null,
   "metadata": {},
   "outputs": [],
   "source": [
    "# Warning: This will work for BoneMets data currently, but it is not yet generalized for outside datasets\n",
    "plot_combined_univariate(path)"
   ]
  },
  {
   "cell_type": "code",
   "execution_count": null,
   "metadata": {},
   "outputs": [],
   "source": [
    "# Warning: This will work for BoneMets data currently, but it is not yet generalized for outside datasets\n",
    "plot_combined_multivariate(path)"
   ]
  }
 ],
 "metadata": {
  "kernelspec": {
   "display_name": "BoneSegEnv",
   "language": "python",
   "name": "bonesegenv"
  },
  "language_info": {
   "codemirror_mode": {
    "name": "ipython",
    "version": 3
   },
   "file_extension": ".py",
   "mimetype": "text/x-python",
   "name": "python",
   "nbconvert_exporter": "python",
   "pygments_lexer": "ipython3",
   "version": "3.9.13"
  }
 },
 "nbformat": 4,
 "nbformat_minor": 4
}
