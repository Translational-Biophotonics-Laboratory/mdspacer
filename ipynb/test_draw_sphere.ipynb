{
 "cells": [
  {
   "cell_type": "code",
   "execution_count": 26,
   "metadata": {},
   "outputs": [],
   "source": [
    "import numpy as np\n",
    "import pyclesperanto_prototype as cle\n",
    "from numba import njit\n",
    "import raster_geometry as rg"
   ]
  },
  {
   "cell_type": "code",
   "execution_count": 27,
   "metadata": {},
   "outputs": [],
   "source": [
    "def meshgrid_method():\n",
    "    # create a 3D grid of points\n",
    "    z, y, x = np.meshgrid(np.arange(-256, 256), np.arange(-256, 256), np.arange(-256, 256))\n",
    "\n",
    "    # calculate the distance from each point to the center\n",
    "    distance = np.sqrt(x**2 + y**2 + z**2)\n",
    "\n",
    "    # create a numpy array with the same shape as distance\n",
    "    sphere = np.zeros(distance.shape)\n",
    "\n",
    "    # set points inside the sphere to 1\n",
    "    sphere[distance < 256] = 1\n",
    "\n",
    "    # display the result\n",
    "    # print(np.unique(sphere))\n",
    "    # print(sphere[50])\n",
    "    # cle.imshow(sphere)"
   ]
  },
  {
   "cell_type": "code",
   "execution_count": 28,
   "metadata": {},
   "outputs": [],
   "source": [
    "def fromfunction_method():\n",
    "    def sphere_func(center, radius):\n",
    "        def func(i, j, k):\n",
    "            x, y, z = i - center[0], j - center[1], k - center[2]\n",
    "            dist = np.sqrt(x**2 + y**2 + z**2)\n",
    "            return dist <= radius\n",
    "        return func\n",
    "\n",
    "    # create a numpy array with the desired shape\n",
    "    shape = (512, 512, 512)\n",
    "    center = np.array(shape) // 2\n",
    "    radius = 256\n",
    "\n",
    "    # create the numpy array using np.fromfunction() and the sphere_func() function\n",
    "    arr = np.fromfunction(sphere_func(center, radius), shape, dtype=np.int_)\n",
    "\n",
    "    # display the result\n",
    "    # print(np.unique(sphere))\n",
    "    # print(sphere[50])\n",
    "    # cle.imshow(sphere)\n",
    "# fromfunction_method()"
   ]
  },
  {
   "cell_type": "code",
   "execution_count": 37,
   "metadata": {},
   "outputs": [],
   "source": [
    "def numba_method():\n",
    "    @njit()\n",
    "    def sphere_func(center, radius, shape):\n",
    "        arr = np.zeros(shape, dtype=np.uint8)\n",
    "        for i in range(shape[0]):\n",
    "            for j in range(shape[1]):\n",
    "                for k in range(shape[2]):\n",
    "                    x, y, z = i - center[0], j - center[1], k - center[2]\n",
    "                    dist = np.sqrt(x**2 + y**2 + z**2)\n",
    "                    if dist <= radius:\n",
    "                        arr[i,j,k] = 1\n",
    "        return arr\n",
    "\n",
    "    # create a numpy array with the desired shape\n",
    "    shape = (400, 400, 400)\n",
    "    center = np.array(shape) // 2\n",
    "    radius = 200\n",
    "\n",
    "    # create the numpy array using numba-accelerated sphere_func() function\n",
    "    arr = sphere_func(center, radius, shape)\n",
    "    # cle.imshow(arr)\n",
    "\n",
    "numba_method()"
   ]
  },
  {
   "cell_type": "code",
   "execution_count": 34,
   "metadata": {},
   "outputs": [],
   "source": [
    "def rastergeometry_method():\n",
    "    radius = 50\n",
    "    # Create an empty 3D NumPy array with dimensions equal to twice the radius plus one\n",
    "    size = 2 * (radius + 1)\n",
    "\n",
    "    # Calculate the midpoint of the sphere unit array\n",
    "    midpoint = [size / 2] * 3\n",
    "\n",
    "    # Generate a unit sphere using the rg library's superellipsoid function\n",
    "    sphere = rg.nd_superellipsoid(size, radius, position=midpoint,\n",
    "                                  rel_sizes=False, rel_position=False).astype(np.int_)\n",
    "    \n",
    "    # cle.imshow(sphere)\n",
    "# rastergeometry_method()"
   ]
  },
  {
   "cell_type": "code",
   "execution_count": 35,
   "metadata": {},
   "outputs": [
    {
     "name": "stdout",
     "output_type": "stream",
     "text": [
      "numba_method\n",
      "CPU times: user 369 ms, sys: 16.3 ms, total: 386 ms\n",
      "Wall time: 384 ms\n",
      "rastergeometry_method\n",
      "CPU times: user 1.79 ms, sys: 291 µs, total: 2.09 ms\n",
      "Wall time: 2.09 ms\n"
     ]
    }
   ],
   "source": [
    "## Tests\n",
    "# print(\"meshgrid_method\")\n",
    "# %timeit meshgrid_method()\n",
    "# print(\"fromfunction_method\")\n",
    "# %timeit fromfunction_method()\n",
    "print(\"numba_method\")\n",
    "%time numba_method()\n",
    "print(\"rastergeometry_method\")\n",
    "%time rastergeometry_method()\n"
   ]
  }
 ],
 "metadata": {
  "kernelspec": {
   "display_name": "BoneSegEnv",
   "language": "python",
   "name": "bonesegenv"
  },
  "orig_nbformat": 4
 },
 "nbformat": 4,
 "nbformat_minor": 2
}
